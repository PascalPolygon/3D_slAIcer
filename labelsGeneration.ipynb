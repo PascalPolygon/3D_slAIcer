{
 "cells": [
  {
   "cell_type": "code",
   "execution_count": 1,
   "metadata": {},
   "outputs": [],
   "source": [
    "import cv2\n",
    "from mpl_toolkits import mplot3d\n",
    "import meshcut\n",
    "import matplotlib.pyplot as plt\n",
    "from objSlicer import *\n",
    "from obj2verts import *\n",
    "from tqdm import tqdm\n",
    "import os\n",
    "import numpy as np\n",
    "import random\n",
    "%matplotlib inline\n"
   ]
  },
  {
   "cell_type": "code",
   "execution_count": 8,
   "metadata": {},
   "outputs": [],
   "source": [
    "def isObj(filename):\n",
    "    return filename.endswith('.obj')\n",
    "\n",
    "\n",
    "osl = ObjSlicer()"
   ]
  },
  {
   "cell_type": "code",
   "execution_count": 33,
   "metadata": {},
   "outputs": [
    {
     "name": "stderr",
     "output_type": "stream",
     "text": [
      "Calculating slices for coseg_aliens:   1%|          | 1/171 [00:00<00:18,  9.37it/s]"
     ]
    },
    {
     "name": "stdout",
     "output_type": "stream",
     "text": [
      "--------------------------------------------\n",
      "coseg_aliens\n",
      "--------------------------------------------\n"
     ]
    },
    {
     "name": "stderr",
     "output_type": "stream",
     "text": [
      "Calculating slices for coseg_aliens: 100%|██████████| 171/171 [00:13<00:00, 12.79it/s]\n",
      "Calculating slices for coseg_chairs:   1%|          | 2/337 [00:00<00:18, 17.96it/s]"
     ]
    },
    {
     "name": "stdout",
     "output_type": "stream",
     "text": [
      "--------------------------------------------\n",
      "coseg_chairs\n",
      "--------------------------------------------\n"
     ]
    },
    {
     "name": "stderr",
     "output_type": "stream",
     "text": [
      "Calculating slices for coseg_chairs: 100%|██████████| 337/337 [00:14<00:00, 22.73it/s]\n",
      "Calculating slices for coseg_vases:   1%|          | 3/252 [00:00<00:08, 27.88it/s]"
     ]
    },
    {
     "name": "stdout",
     "output_type": "stream",
     "text": [
      "--------------------------------------------\n",
      "coseg_vases\n",
      "--------------------------------------------\n"
     ]
    },
    {
     "name": "stderr",
     "output_type": "stream",
     "text": [
      "Calculating slices for coseg_vases: 100%|██████████| 252/252 [00:10<00:00, 23.20it/s]\n"
     ]
    }
   ],
   "source": [
    "aliensTrainDir = os.path.join(\n",
    "    os.getcwd(), 'data', 'coseg', 'coseg_aliens', 'train')\n",
    "chairsTrainDir = os.path.join(\n",
    "    os.getcwd(), 'data', 'coseg', 'coseg_chairs', 'train')\n",
    "vasesTrainDir = os.path.join(\n",
    "    os.getcwd(), 'data', 'coseg', 'coseg_vases', 'train')\n",
    "\n",
    "\n",
    "aliensSlicesDir = os.path.join(\n",
    "    os.getcwd(), 'data', 'coseg', 'coseg_aliens', 'slices')\n",
    "chairsSlicesDir = os.path.join(\n",
    "    os.getcwd(), 'data', 'coseg', 'coseg_chairs', 'slices')\n",
    "vasesSlicesDir = os.path.join(\n",
    "    os.getcwd(), 'data', 'coseg', 'coseg_vases', 'slices')\n",
    "\n",
    "trainDirs = [aliensTrainDir, chairsTrainDir, vasesTrainDir]\n",
    "sliceDirs = [aliensSlicesDir, chairsSlicesDir, vasesSlicesDir]\n",
    "\n",
    "for directory in trainDirs:\n",
    "    dataset = directory.split('/')[6]\n",
    "    print('--------------------------------------------')\n",
    "    print(dataset)\n",
    "    print('--------------------------------------------')\n",
    "    for i in tqdm(range(len(os.listdir(directory))), desc=f'Calculating slices for {dataset}'):\n",
    "        filename = os.listdir(directory)[i]\n",
    "        if isObj(filename):\n",
    "            # print(filename)\n",
    "            fileId = filename.split('.')[0]\n",
    "            filePath = os.path.join(directory, filename)\n",
    "         #Slice mesh and save as label\n",
    "            cutting_plane_norm = (0, 0, 1)\n",
    "            P = osl.singleSlice(filePath, cutting_plane_norm)\n",
    "            if len(P) > 0: #Avoid empty slices\n",
    "                # print(P[0].shape)\n",
    "                Parr = np.zeros((len(P), P[0].shape[0], P[0].shape[1]))\n",
    "                # Parr = np.zeros((len(P), 1, 2))\n",
    "                # print(f'len P: {len(P)}')\n",
    "                myPoints = []\n",
    "                for i in range(len(P)):\n",
    "                    for j in range(P[i].shape[0]):\n",
    "                        myPoints.append(P[i][j])\n",
    "                # print(len(myPoints))\n",
    "                p = np.array(myPoints)\n",
    "                # print(p.shape)\n",
    "                labelFile = os.path.join(os.getcwd(), 'data', 'coseg', dataset, 'slices', f'{fileId}.npy')\n",
    "                np.save(labelFile, p)\n",
    "\n",
    "            # plt.plot(p[:,0], p[:,1])\n",
    "            # plt.show()\n",
    "            # plt.plot(P[0][:,0], P[0][:,1])\n",
    "            # plt.show()\n"
   ]
  }
 ],
 "metadata": {
  "interpreter": {
   "hash": "31f2aee4e71d21fbe5cf8b01ff0e069b9275f58929596ceb00d14d90e3e16cd6"
  },
  "kernelspec": {
   "display_name": "Python 3.8.10 64-bit",
   "language": "python",
   "name": "python3"
  },
  "language_info": {
   "codemirror_mode": {
    "name": "ipython",
    "version": 3
   },
   "file_extension": ".py",
   "mimetype": "text/x-python",
   "name": "python",
   "nbconvert_exporter": "python",
   "pygments_lexer": "ipython3",
   "version": "3.8.10"
  },
  "orig_nbformat": 4
 },
 "nbformat": 4,
 "nbformat_minor": 2
}
