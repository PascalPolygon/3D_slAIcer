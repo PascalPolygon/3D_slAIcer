{
 "cells": [
  {
   "cell_type": "markdown",
   "metadata": {},
   "source": [
    "MTH4320 Poject 1: 3D_slAIcer\n",
    "\n",
    "Mawaba Pascal Dao\n",
    "Dr. White\n",
    "Florida Institute of Technology\n",
    "10/13/2021"
   ]
  },
  {
   "cell_type": "code",
   "execution_count": 2,
   "metadata": {},
   "outputs": [
    {
     "data": {
      "text/plain": [
       "'/home/pascal/3D_slAIcer/data/coseg/coseg_aliens/train/1.obj'"
      ]
     },
     "execution_count": 2,
     "metadata": {},
     "output_type": "execute_result"
    }
   ],
   "source": [
    "import cv2\n",
    "from mpl_toolkits import mplot3d\n",
    "import meshcut\n",
    "import matplotlib.pyplot as plt\n",
    "from objSlicer import *\n",
    "from obj2verts import *\n",
    "from tqdm import tqdm\n",
    "import os\n",
    "import numpy as np\n",
    "%matplotlib inline\n",
    "# import itertools\n"
   ]
  },
  {
   "cell_type": "markdown",
   "metadata": {},
   "source": [
    "# Slices (labels)"
   ]
  },
  {
   "cell_type": "code",
   "execution_count": 61,
   "metadata": {},
   "outputs": [
    {
     "data": {
      "image/png": "[encoded data removed]",
      "text/plain": [
       "<Figure size 432x288 with 1 Axes>"
      ]
     },
     "metadata": {
      "needs_background": "light"
     },
     "output_type": "display_data"
    }
   ],
   "source": [
    "\n",
    "plotSlice(p_)"
   ]
  },
  {
   "cell_type": "markdown",
   "metadata": {},
   "source": [
    "# Data Generation\n",
    "\n",
    "\n",
    "## Input Features\n",
    "The data for this project are edge features from OBJ CAD files. The OBJ files are from The Shape COSEG dataset: http://irc.cs.sdu.edu.cn/~yunhai/public_html/ssl/ssd.htm. I implemented classes to read the vertices and faces on an OBJ file and calculate edge features on which my model trains. \n",
    "\n",
    "<img src=\"doc/example_alient.png\" width=200 height=200 />\n",
    "\n",
    "Figure 1: Sample obj file from coseg dataset\n",
    "\n",
    "We first read in a triangle mesh as list of faces and edges. This is done using the _readFile_ method from the Obj2verts class (obj2verts.py). \n",
    "Given a triangle mesh, we loop through all faces and the vertices that form those faces. An edge can be defined by 2 common edges of 2 adjascent triangles. This is done by the _findEdges_ method of Obj2verts. \n",
    "\n",
    "Once the edges are available, we must calculate the features of this edge. These are the features that will be used to train the model. Hanocka, et al [1] have implemented a meshCNN for the task of 3D mesh classification. meshCNN also learns on edge features. In [1] they define the following edge features:\n",
    "\n",
    "<img src=\"doc/edge_features.png\" width=200 height=200 />\n",
    "\n",
    "Figure 2: The 5 edge features fron meshCNN [1]\n",
    "\n",
    "* Dihedral angle: The Angle between the 2 adjascent faces that form the edge\n",
    "* 2 Inner angles: The angles opposite to the edge\n",
    "* 2 Edge-length ratios: The ratios of the length of the endge to the height of of the triangles\n",
    "\n",
    "In meshCNN, each 2 face-based feature in sorted to avoid ordering ambiguity and ensure invariance.\n",
    "\n",
    "In 3D_slAIcer we calculate the same features using the methods in obj2verts.py.\n",
    "\n",
    "* Dihedral angle:\n",
    "\n",
    "Given 2 faces, their normals are calculated using the cross product of 2 vectors on a face. Then, using the dot product formula\n",
    " $a.b = |a||b|cos(\\theta)$ where a and b are the normal vectors. We solve for $\\theta$ which gives us the dihedral angle\n",
    "\n",
    " * Inner angles: The inner angles are calculated using the dot product formula on the 2 edges of each face that are not shared with the adjascent face.\n",
    "\n",
    " * Edge-lenth ratio: To find the lenght of the base we just calculate the lenth of the vector between the 2 vertices that define an edge. Then to find the height of each triangle, we first use Heron's formula for the area of a triangle: $A = \\sqrt{s(s-a)*s(s-b)*s(s-c)}$ where $s = (a+b+c)/2$ and $a, b, c$ are the length of each edge of the triangle. Then knowing the area and base length we calculate the height using $h = A*2/base$\n",
    "\n",
    " Therefore, the dimensionality of the inputs is $nx5$ where n is the number of edges in a mesh. To make this input size uniform for all meshes, we implement an edge pooling when processing the data before feeding it to the network. We first define an edge resolution of 450.  The 450 \"strongest\" edges (edges with the hihgest l2 norm), that is 1 edge per batch of $nEdges/resolution$ over all the edges in a mesh.\n",
    "\n",
    "## Labels\n",
    "\n",
    "The labels for each mesh is a single slice calculated by intersecting a cutting place with the mesh. The normal of the cutting plane points in the postive z direction and its origin is at the first vertex of the mesh. \n",
    "\n",
    "<img src=\"doc/2.obj.png\" width=200 height=200 />\n",
    "\n",
    "Figure 3: Example input triangle mesh\n",
    "\n",
    "<img src=\"doc/2obj_slice.png\" width=200 height=200 />\n",
    "\n",
    "Figure 4: Example ground truth slice\n",
    "\n",
    "The ground truth labels were generated using using the ObjSlicer class which calls the *cross_section_cut* method from meshcut.py[2].\n",
    "\n",
    "[2] https://github.com/julienr/meshcut/blob/master/meshcut.py\n",
    "\n",
    "<!-- ## Obj2MeshVerts in obj2verts.py:\n",
    "\n",
    "Methods:\n",
    "\n",
    "*  **readFile**:\n",
    "    Takes in a file path and returns a geometry object containing a list of the vertices and triangles of the obj file\n",
    " \n",
    " ## ObjGeometry in obj2verts.py:\n",
    "\n",
    " Methods:\n",
    "\n",
    " * **calculateFeatures**:  -->"
   ]
  },
  {
   "cell_type": "code",
   "execution_count": 78,
   "metadata": {},
   "outputs": [
    {
     "name": "stderr",
     "output_type": "stream",
     "text": [
      "Finding Edges...:   0%|          | 5/1000 [00:00<00:21, 45.78it/s]"
     ]
    },
    {
     "name": "stdout",
     "output_type": "stream",
     "text": [
      "--------------------------------------------\n",
      "Generating Train Data\n",
      "--------------------------------------------\n",
      "--------------------------------------------\n",
      "coseg_chairs\n",
      "--------------------------------------------\n",
      "0127.obj\n"
     ]
    },
    {
     "name": "stderr",
     "output_type": "stream",
     "text": [
      "Finding Edges...: 100%|██████████| 1000/1000 [00:20<00:00, 47.89it/s]\n",
      "Calculating Features...: 100%|██████████| 3000/3000 [00:00<00:00, 4067.10it/s]\n",
      "Finding Edges...:   0%|          | 5/1000 [00:00<00:23, 42.09it/s]"
     ]
    },
    {
     "name": "stdout",
     "output_type": "stream",
     "text": [
      "downsampled to (200, 3)\n",
      "0212.obj\n"
     ]
    },
    {
     "name": "stderr",
     "output_type": "stream",
     "text": [
      "Finding Edges...: 100%|██████████| 1000/1000 [00:21<00:00, 46.20it/s]\n",
      "Calculating Features...: 100%|██████████| 3000/3000 [00:00<00:00, 3289.99it/s]\n",
      "Finding Edges...:   0%|          | 4/1000 [00:00<00:25, 39.43it/s]"
     ]
    },
    {
     "name": "stdout",
     "output_type": "stream",
     "text": [
      "downsampled to (200, 3)\n",
      "0220.obj\n"
     ]
    },
    {
     "name": "stderr",
     "output_type": "stream",
     "text": [
      "Finding Edges...: 100%|██████████| 1000/1000 [00:22<00:00, 44.50it/s]\n",
      "Calculating Features...: 100%|██████████| 3000/3000 [00:00<00:00, 3377.82it/s]\n",
      "Finding Edges...:   0%|          | 4/1000 [00:00<00:31, 31.79it/s]"
     ]
    },
    {
     "name": "stdout",
     "output_type": "stream",
     "text": [
      "downsampled to (200, 3)\n",
      "0305.obj\n"
     ]
    },
    {
     "name": "stderr",
     "output_type": "stream",
     "text": [
      "Finding Edges...: 100%|██████████| 1000/1000 [00:23<00:00, 43.20it/s]\n",
      "Calculating Features...: 100%|██████████| 3000/3000 [00:00<00:00, 3870.89it/s]\n",
      "Finding Edges...:   0%|          | 5/1000 [00:00<00:22, 43.67it/s]"
     ]
    },
    {
     "name": "stdout",
     "output_type": "stream",
     "text": [
      "downsampled to (200, 3)\n",
      "0300.obj\n"
     ]
    },
    {
     "name": "stderr",
     "output_type": "stream",
     "text": [
      "Finding Edges...: 100%|██████████| 1000/1000 [00:20<00:00, 47.68it/s]\n",
      "Calculating Features...: 100%|██████████| 3000/3000 [00:00<00:00, 3783.19it/s]\n",
      "Finding Edges...:   0%|          | 5/1000 [00:00<00:22, 43.59it/s]"
     ]
    },
    {
     "name": "stdout",
     "output_type": "stream",
     "text": [
      "downsampled to (200, 3)\n",
      "0218.obj\n"
     ]
    },
    {
     "name": "stderr",
     "output_type": "stream",
     "text": [
      "Finding Edges...: 100%|██████████| 1000/1000 [00:19<00:00, 51.14it/s]\n",
      "Calculating Features...: 100%|██████████| 3000/3000 [00:00<00:00, 3879.78it/s]\n",
      "Finding Edges...:   0%|          | 5/1000 [00:00<00:22, 43.65it/s]"
     ]
    },
    {
     "name": "stdout",
     "output_type": "stream",
     "text": [
      "downsampled to (200, 3)\n",
      "0283.obj\n"
     ]
    },
    {
     "name": "stderr",
     "output_type": "stream",
     "text": [
      "Finding Edges...: 100%|██████████| 1000/1000 [00:19<00:00, 50.15it/s]\n",
      "Calculating Features...: 100%|██████████| 3000/3000 [00:00<00:00, 3924.65it/s]\n",
      "Finding Edges...:   0%|          | 5/1000 [00:00<00:22, 44.74it/s]"
     ]
    },
    {
     "name": "stdout",
     "output_type": "stream",
     "text": [
      "downsampled to (200, 3)\n",
      "0342.obj\n"
     ]
    },
    {
     "name": "stderr",
     "output_type": "stream",
     "text": [
      "Finding Edges...: 100%|██████████| 1000/1000 [00:20<00:00, 48.36it/s]\n",
      "Calculating Features...: 100%|██████████| 3000/3000 [00:00<00:00, 4094.77it/s]\n",
      "Finding Edges...:   0%|          | 5/1000 [00:00<00:23, 42.95it/s]"
     ]
    },
    {
     "name": "stdout",
     "output_type": "stream",
     "text": [
      "downsampled to (200, 3)\n",
      "0281.obj\n"
     ]
    },
    {
     "name": "stderr",
     "output_type": "stream",
     "text": [
      "Finding Edges...: 100%|██████████| 1000/1000 [00:20<00:00, 49.44it/s]\n",
      "Calculating Features...: 100%|██████████| 3000/3000 [00:00<00:00, 3966.37it/s]\n",
      "Finding Edges...:   0%|          | 5/1000 [00:00<00:20, 47.70it/s]"
     ]
    },
    {
     "name": "stdout",
     "output_type": "stream",
     "text": [
      "downsampled to (200, 3)\n",
      "0165.obj\n"
     ]
    },
    {
     "name": "stderr",
     "output_type": "stream",
     "text": [
      "Finding Edges...: 100%|██████████| 1000/1000 [00:20<00:00, 49.78it/s]\n",
      "Calculating Features...: 100%|██████████| 3000/3000 [00:00<00:00, 3969.44it/s]\n",
      "Finding Edges...:   0%|          | 5/1000 [00:00<00:21, 46.09it/s]"
     ]
    },
    {
     "name": "stdout",
     "output_type": "stream",
     "text": [
      "downsampled to (200, 3)\n",
      "0064.obj\n"
     ]
    },
    {
     "name": "stderr",
     "output_type": "stream",
     "text": [
      "Finding Edges...: 100%|██████████| 1000/1000 [00:20<00:00, 49.31it/s]\n",
      "Calculating Features...: 100%|██████████| 3000/3000 [00:00<00:00, 3854.91it/s]\n",
      "Finding Edges...:   0%|          | 5/1000 [00:00<00:21, 46.89it/s]"
     ]
    },
    {
     "name": "stdout",
     "output_type": "stream",
     "text": [
      "downsampled to (200, 3)\n",
      "0182.obj\n"
     ]
    },
    {
     "name": "stderr",
     "output_type": "stream",
     "text": [
      "Finding Edges...: 100%|██████████| 1000/1000 [00:19<00:00, 50.56it/s]\n",
      "Calculating Features...: 100%|██████████| 3000/3000 [00:00<00:00, 3882.66it/s]\n",
      "Finding Edges...:   0%|          | 5/1000 [00:00<00:21, 46.87it/s]"
     ]
    },
    {
     "name": "stdout",
     "output_type": "stream",
     "text": [
      "downsampled to (200, 3)\n",
      "0128.obj\n"
     ]
    },
    {
     "name": "stderr",
     "output_type": "stream",
     "text": [
      "Finding Edges...: 100%|██████████| 1000/1000 [00:20<00:00, 48.95it/s]\n",
      "Calculating Features...: 100%|██████████| 3000/3000 [00:00<00:00, 4018.03it/s]\n",
      "Finding Edges...:   0%|          | 5/1000 [00:00<00:22, 43.37it/s]"
     ]
    },
    {
     "name": "stdout",
     "output_type": "stream",
     "text": [
      "downsampled to (200, 3)\n",
      "0209.obj\n"
     ]
    },
    {
     "name": "stderr",
     "output_type": "stream",
     "text": [
      "Finding Edges...: 100%|██████████| 1000/1000 [00:19<00:00, 50.41it/s]\n",
      "Calculating Features...: 100%|██████████| 3000/3000 [00:00<00:00, 4017.77it/s]\n",
      "Finding Edges...:   0%|          | 5/1000 [00:00<00:21, 45.89it/s]"
     ]
    },
    {
     "name": "stdout",
     "output_type": "stream",
     "text": [
      "downsampled to (200, 3)\n",
      "0037.obj\n"
     ]
    },
    {
     "name": "stderr",
     "output_type": "stream",
     "text": [
      "Finding Edges...: 100%|██████████| 1000/1000 [00:20<00:00, 49.72it/s]\n",
      "Calculating Features...: 100%|██████████| 3000/3000 [00:00<00:00, 3562.80it/s]\n",
      "Finding Edges...:   0%|          | 5/1000 [00:00<00:21, 45.81it/s]"
     ]
    },
    {
     "name": "stdout",
     "output_type": "stream",
     "text": [
      "downsampled to (200, 3)\n",
      "0279.obj\n"
     ]
    },
    {
     "name": "stderr",
     "output_type": "stream",
     "text": [
      "Finding Edges...: 100%|██████████| 1000/1000 [00:19<00:00, 50.80it/s]\n",
      "Calculating Features...: 100%|██████████| 3000/3000 [00:00<00:00, 3910.85it/s]\n",
      "Finding Edges...:   0%|          | 5/1000 [00:00<00:22, 45.03it/s]"
     ]
    },
    {
     "name": "stdout",
     "output_type": "stream",
     "text": [
      "downsampled to (200, 3)\n",
      "0309.obj\n"
     ]
    },
    {
     "name": "stderr",
     "output_type": "stream",
     "text": [
      "Finding Edges...: 100%|██████████| 1000/1000 [00:20<00:00, 49.10it/s]\n",
      "Calculating Features...: 100%|██████████| 3000/3000 [00:00<00:00, 4014.68it/s]\n",
      "Finding Edges...:   0%|          | 5/1000 [00:00<00:23, 43.12it/s]"
     ]
    },
    {
     "name": "stdout",
     "output_type": "stream",
     "text": [
      "downsampled to (200, 3)\n",
      "0333.obj\n"
     ]
    },
    {
     "name": "stderr",
     "output_type": "stream",
     "text": [
      "Finding Edges...: 100%|██████████| 1000/1000 [00:19<00:00, 50.16it/s]\n",
      "Calculating Features...: 100%|██████████| 3000/3000 [00:00<00:00, 3762.52it/s]\n",
      "Finding Edges...:   0%|          | 5/1000 [00:00<00:22, 44.48it/s]"
     ]
    },
    {
     "name": "stdout",
     "output_type": "stream",
     "text": [
      "downsampled to (200, 3)\n",
      "0382.obj\n"
     ]
    },
    {
     "name": "stderr",
     "output_type": "stream",
     "text": [
      "Finding Edges...: 100%|██████████| 1000/1000 [00:20<00:00, 49.18it/s]\n",
      "Calculating Features...: 100%|██████████| 3000/3000 [00:00<00:00, 4065.72it/s]\n",
      "Finding Edges...:   0%|          | 5/1000 [00:00<00:24, 41.42it/s]"
     ]
    },
    {
     "name": "stdout",
     "output_type": "stream",
     "text": [
      "downsampled to (200, 3)\n",
      "0025.obj\n"
     ]
    },
    {
     "name": "stderr",
     "output_type": "stream",
     "text": [
      "Finding Edges...: 100%|██████████| 1000/1000 [00:19<00:00, 50.32it/s]\n",
      "Calculating Features...: 100%|██████████| 3000/3000 [00:00<00:00, 3940.78it/s]\n",
      "Finding Edges...:   0%|          | 5/1000 [00:00<00:22, 44.36it/s]"
     ]
    },
    {
     "name": "stdout",
     "output_type": "stream",
     "text": [
      "downsampled to (200, 3)\n",
      "0130.obj\n"
     ]
    },
    {
     "name": "stderr",
     "output_type": "stream",
     "text": [
      "Finding Edges...: 100%|██████████| 1000/1000 [00:20<00:00, 49.05it/s]\n",
      "Calculating Features...: 100%|██████████| 3000/3000 [00:00<00:00, 3932.31it/s]\n",
      "Finding Edges...:   0%|          | 5/1000 [00:00<00:22, 44.29it/s]"
     ]
    },
    {
     "name": "stdout",
     "output_type": "stream",
     "text": [
      "downsampled to (200, 3)\n",
      "0079.obj\n"
     ]
    },
    {
     "name": "stderr",
     "output_type": "stream",
     "text": [
      "Finding Edges...: 100%|██████████| 1000/1000 [00:20<00:00, 49.84it/s]\n",
      "Calculating Features...: 100%|██████████| 3000/3000 [00:00<00:00, 3814.05it/s]\n",
      "Finding Edges...:   0%|          | 5/1000 [00:00<00:21, 45.24it/s]"
     ]
    },
    {
     "name": "stdout",
     "output_type": "stream",
     "text": [
      "downsampled to (200, 3)\n",
      "0388.obj\n"
     ]
    },
    {
     "name": "stderr",
     "output_type": "stream",
     "text": [
      "Finding Edges...: 100%|██████████| 1000/1000 [00:20<00:00, 48.02it/s]\n",
      "Calculating Features...: 100%|██████████| 3000/3000 [00:00<00:00, 3871.81it/s]\n",
      "Finding Edges...:   0%|          | 5/1000 [00:00<00:22, 44.87it/s]"
     ]
    },
    {
     "name": "stdout",
     "output_type": "stream",
     "text": [
      "downsampled to (200, 3)\n",
      "0210.obj\n"
     ]
    },
    {
     "name": "stderr",
     "output_type": "stream",
     "text": [
      "Finding Edges...: 100%|██████████| 1000/1000 [00:20<00:00, 49.05it/s]\n",
      "Calculating Features...: 100%|██████████| 3000/3000 [00:00<00:00, 3861.97it/s]\n",
      "Finding Edges...:   0%|          | 5/1000 [00:00<00:21, 47.17it/s]"
     ]
    },
    {
     "name": "stdout",
     "output_type": "stream",
     "text": [
      "downsampled to (200, 3)\n",
      "0397.obj\n"
     ]
    },
    {
     "name": "stderr",
     "output_type": "stream",
     "text": [
      "Finding Edges...: 100%|██████████| 1000/1000 [00:22<00:00, 44.28it/s]\n",
      "Calculating Features...: 100%|██████████| 3000/3000 [00:00<00:00, 3703.71it/s]\n",
      "Finding Edges...:   0%|          | 4/996 [00:00<00:27, 36.02it/s]"
     ]
    },
    {
     "name": "stdout",
     "output_type": "stream",
     "text": [
      "downsampled to (200, 3)\n",
      "0081.obj\n"
     ]
    },
    {
     "name": "stderr",
     "output_type": "stream",
     "text": [
      "Finding Edges...: 100%|██████████| 996/996 [00:22<00:00, 45.02it/s]\n",
      "Calculating Features...: 100%|██████████| 2988/2988 [00:00<00:00, 3979.92it/s]\n",
      "Finding Edges...:   0%|          | 5/1000 [00:00<00:22, 45.14it/s]"
     ]
    },
    {
     "name": "stdout",
     "output_type": "stream",
     "text": [
      "downsampled to (200, 3)\n",
      "0262.obj\n"
     ]
    },
    {
     "name": "stderr",
     "output_type": "stream",
     "text": [
      "Finding Edges...: 100%|██████████| 1000/1000 [00:23<00:00, 42.89it/s]\n",
      "Calculating Features...: 100%|██████████| 3000/3000 [00:00<00:00, 3838.03it/s]\n",
      "Finding Edges...:   0%|          | 5/1000 [00:00<00:23, 43.17it/s]"
     ]
    },
    {
     "name": "stdout",
     "output_type": "stream",
     "text": [
      "downsampled to (200, 3)\n",
      "0126.obj\n"
     ]
    },
    {
     "name": "stderr",
     "output_type": "stream",
     "text": [
      "Finding Edges...: 100%|██████████| 1000/1000 [00:20<00:00, 48.51it/s]\n",
      "Calculating Features...: 100%|██████████| 3000/3000 [00:00<00:00, 3905.37it/s]\n",
      "Finding Edges...:   0%|          | 5/1000 [00:00<00:22, 44.60it/s]"
     ]
    },
    {
     "name": "stdout",
     "output_type": "stream",
     "text": [
      "downsampled to (200, 3)\n",
      "0357.obj\n"
     ]
    },
    {
     "name": "stderr",
     "output_type": "stream",
     "text": [
      "Finding Edges...: 100%|██████████| 1000/1000 [00:21<00:00, 47.54it/s]\n",
      "Calculating Features...: 100%|██████████| 3000/3000 [00:00<00:00, 3892.43it/s]\n",
      "Finding Edges...:   0%|          | 5/1000 [00:00<00:21, 45.78it/s]"
     ]
    },
    {
     "name": "stdout",
     "output_type": "stream",
     "text": [
      "downsampled to (200, 3)\n",
      "0175.obj\n"
     ]
    },
    {
     "name": "stderr",
     "output_type": "stream",
     "text": [
      "Finding Edges...: 100%|██████████| 1000/1000 [00:20<00:00, 49.39it/s]\n",
      "Calculating Features...: 100%|██████████| 3000/3000 [00:00<00:00, 3864.23it/s]\n",
      "Finding Edges...:   0%|          | 5/1000 [00:00<00:23, 42.44it/s]"
     ]
    },
    {
     "name": "stdout",
     "output_type": "stream",
     "text": [
      "downsampled to (200, 3)\n",
      "0263.obj\n"
     ]
    },
    {
     "name": "stderr",
     "output_type": "stream",
     "text": [
      "Finding Edges...: 100%|██████████| 1000/1000 [00:20<00:00, 48.49it/s]\n",
      "Calculating Features...: 100%|██████████| 3000/3000 [00:00<00:00, 3979.05it/s]\n",
      "Finding Edges...:   0%|          | 3/1000 [00:00<00:34, 28.83it/s]"
     ]
    },
    {
     "name": "stdout",
     "output_type": "stream",
     "text": [
      "downsampled to (200, 3)\n",
      "0325.obj\n"
     ]
    },
    {
     "name": "stderr",
     "output_type": "stream",
     "text": [
      "Finding Edges...: 100%|██████████| 1000/1000 [00:20<00:00, 49.14it/s]\n",
      "Calculating Features...: 100%|██████████| 3000/3000 [00:00<00:00, 3779.61it/s]\n",
      "Finding Edges...:   0%|          | 5/1000 [00:00<00:23, 41.66it/s]"
     ]
    },
    {
     "name": "stdout",
     "output_type": "stream",
     "text": [
      "downsampled to (200, 3)\n",
      "0206.obj\n"
     ]
    },
    {
     "name": "stderr",
     "output_type": "stream",
     "text": [
      "Finding Edges...: 100%|██████████| 1000/1000 [00:20<00:00, 48.44it/s]\n",
      "Calculating Features...: 100%|██████████| 3000/3000 [00:00<00:00, 3636.14it/s]\n",
      "Finding Edges...:   0%|          | 5/1000 [00:00<00:21, 46.57it/s]"
     ]
    },
    {
     "name": "stdout",
     "output_type": "stream",
     "text": [
      "downsampled to (200, 3)\n",
      "0160.obj\n"
     ]
    },
    {
     "name": "stderr",
     "output_type": "stream",
     "text": [
      "Finding Edges...: 100%|██████████| 1000/1000 [00:20<00:00, 48.84it/s]\n",
      "Calculating Features...: 100%|██████████| 3000/3000 [00:00<00:00, 3889.27it/s]\n",
      "Finding Edges...:   0%|          | 5/1000 [00:00<00:21, 45.45it/s]"
     ]
    },
    {
     "name": "stdout",
     "output_type": "stream",
     "text": [
      "downsampled to (200, 3)\n",
      "0290.obj\n"
     ]
    },
    {
     "name": "stderr",
     "output_type": "stream",
     "text": [
      "Finding Edges...: 100%|██████████| 1000/1000 [00:20<00:00, 48.13it/s]\n",
      "Calculating Features...: 100%|██████████| 3000/3000 [00:00<00:00, 3832.08it/s]\n",
      "Finding Edges...:   0%|          | 5/1000 [00:00<00:21, 45.80it/s]"
     ]
    },
    {
     "name": "stdout",
     "output_type": "stream",
     "text": [
      "downsampled to (200, 3)\n",
      "0091.obj\n"
     ]
    },
    {
     "name": "stderr",
     "output_type": "stream",
     "text": [
      "Finding Edges...: 100%|██████████| 1000/1000 [00:20<00:00, 48.89it/s]\n",
      "Calculating Features...: 100%|██████████| 3000/3000 [00:00<00:00, 3837.57it/s]\n",
      "Finding Edges...:   0%|          | 5/1000 [00:00<00:22, 43.85it/s]"
     ]
    },
    {
     "name": "stdout",
     "output_type": "stream",
     "text": [
      "downsampled to (200, 3)\n",
      "0070.obj\n"
     ]
    },
    {
     "name": "stderr",
     "output_type": "stream",
     "text": [
      "Finding Edges...: 100%|██████████| 1000/1000 [00:20<00:00, 47.67it/s]\n",
      "Calculating Features...: 100%|██████████| 3000/3000 [00:00<00:00, 3728.81it/s]\n",
      "Finding Edges...:   0%|          | 5/1000 [00:00<00:23, 43.03it/s]"
     ]
    },
    {
     "name": "stdout",
     "output_type": "stream",
     "text": [
      "downsampled to (200, 3)\n",
      "0065.obj\n"
     ]
    },
    {
     "name": "stderr",
     "output_type": "stream",
     "text": [
      "Finding Edges...: 100%|██████████| 1000/1000 [00:20<00:00, 48.11it/s]\n",
      "Calculating Features...: 100%|██████████| 3000/3000 [00:00<00:00, 3828.05it/s]\n",
      "Finding Edges...:   0%|          | 5/1000 [00:00<00:23, 42.88it/s]"
     ]
    },
    {
     "name": "stdout",
     "output_type": "stream",
     "text": [
      "downsampled to (200, 3)\n",
      "0228.obj\n"
     ]
    },
    {
     "name": "stderr",
     "output_type": "stream",
     "text": [
      "Finding Edges...: 100%|██████████| 1000/1000 [00:21<00:00, 47.44it/s]\n",
      "Calculating Features...: 100%|██████████| 3000/3000 [00:00<00:00, 3751.68it/s]\n",
      "Finding Edges...:   0%|          | 5/1000 [00:00<00:21, 46.16it/s]"
     ]
    },
    {
     "name": "stdout",
     "output_type": "stream",
     "text": [
      "downsampled to (200, 3)\n",
      "0257.obj\n"
     ]
    },
    {
     "name": "stderr",
     "output_type": "stream",
     "text": [
      "Finding Edges...: 100%|██████████| 1000/1000 [00:20<00:00, 48.15it/s]\n",
      "Calculating Features...: 100%|██████████| 3000/3000 [00:00<00:00, 3841.91it/s]\n",
      "Finding Edges...:   0%|          | 5/1000 [00:00<00:21, 46.15it/s]"
     ]
    },
    {
     "name": "stdout",
     "output_type": "stream",
     "text": [
      "downsampled to (200, 3)\n",
      "0335.obj\n"
     ]
    },
    {
     "name": "stderr",
     "output_type": "stream",
     "text": [
      "Finding Edges...: 100%|██████████| 1000/1000 [00:21<00:00, 47.36it/s]\n",
      "Calculating Features...: 100%|██████████| 3000/3000 [00:00<00:00, 3927.24it/s]\n",
      "Finding Edges...:   0%|          | 5/1000 [00:00<00:22, 44.36it/s]"
     ]
    },
    {
     "name": "stdout",
     "output_type": "stream",
     "text": [
      "downsampled to (200, 3)\n",
      "0033.obj\n"
     ]
    },
    {
     "name": "stderr",
     "output_type": "stream",
     "text": [
      "Finding Edges...: 100%|██████████| 1000/1000 [00:20<00:00, 48.72it/s]\n",
      "Calculating Features...: 100%|██████████| 3000/3000 [00:00<00:00, 3765.01it/s]\n",
      "Finding Edges...:   0%|          | 5/1000 [00:00<00:22, 43.93it/s]"
     ]
    },
    {
     "name": "stdout",
     "output_type": "stream",
     "text": [
      "downsampled to (200, 3)\n",
      "0085.obj\n"
     ]
    },
    {
     "name": "stderr",
     "output_type": "stream",
     "text": [
      "Finding Edges...: 100%|██████████| 1000/1000 [00:21<00:00, 47.40it/s]\n",
      "Calculating Features...: 100%|██████████| 3000/3000 [00:00<00:00, 3765.25it/s]\n",
      "Finding Edges...:   0%|          | 5/1000 [00:00<00:21, 45.59it/s]"
     ]
    },
    {
     "name": "stdout",
     "output_type": "stream",
     "text": [
      "downsampled to (200, 3)\n",
      "0354.obj\n"
     ]
    },
    {
     "name": "stderr",
     "output_type": "stream",
     "text": [
      "Finding Edges...: 100%|██████████| 1000/1000 [00:20<00:00, 48.02it/s]\n",
      "Calculating Features...: 100%|██████████| 3000/3000 [00:00<00:00, 3923.02it/s]\n",
      "Finding Edges...:   0%|          | 5/1000 [00:00<00:23, 42.49it/s]"
     ]
    },
    {
     "name": "stdout",
     "output_type": "stream",
     "text": [
      "downsampled to (200, 3)\n",
      "0298.obj\n"
     ]
    },
    {
     "name": "stderr",
     "output_type": "stream",
     "text": [
      "Finding Edges...: 100%|██████████| 1000/1000 [00:20<00:00, 47.66it/s]\n",
      "Calculating Features...: 100%|██████████| 3000/3000 [00:00<00:00, 3803.18it/s]\n",
      "Finding Edges...:   0%|          | 5/1000 [00:00<00:21, 45.69it/s]"
     ]
    },
    {
     "name": "stdout",
     "output_type": "stream",
     "text": [
      "downsampled to (200, 3)\n",
      "0052.obj\n"
     ]
    },
    {
     "name": "stderr",
     "output_type": "stream",
     "text": [
      "Finding Edges...: 100%|██████████| 1000/1000 [00:21<00:00, 46.14it/s]\n",
      "Calculating Features...: 100%|██████████| 3000/3000 [00:00<00:00, 3824.59it/s]\n",
      "Finding Edges...:   0%|          | 5/1000 [00:00<00:21, 45.69it/s]"
     ]
    },
    {
     "name": "stdout",
     "output_type": "stream",
     "text": [
      "downsampled to (200, 3)\n",
      "0058.obj\n"
     ]
    },
    {
     "name": "stderr",
     "output_type": "stream",
     "text": [
      "Finding Edges...: 100%|██████████| 1000/1000 [00:21<00:00, 47.14it/s]\n",
      "Calculating Features...: 100%|██████████| 3000/3000 [00:00<00:00, 3944.12it/s]\n",
      "Finding Edges...:   0%|          | 5/1000 [00:00<00:21, 45.56it/s]"
     ]
    },
    {
     "name": "stdout",
     "output_type": "stream",
     "text": [
      "downsampled to (200, 3)\n",
      "0299.obj\n"
     ]
    },
    {
     "name": "stderr",
     "output_type": "stream",
     "text": [
      "Finding Edges...: 100%|██████████| 1000/1000 [00:20<00:00, 48.56it/s]\n",
      "Calculating Features...: 100%|██████████| 3000/3000 [00:00<00:00, 3995.67it/s]\n",
      "Finding Edges...:   0%|          | 5/1000 [00:00<00:22, 44.25it/s]"
     ]
    },
    {
     "name": "stdout",
     "output_type": "stream",
     "text": [
      "downsampled to (200, 3)\n",
      "0367.obj\n"
     ]
    },
    {
     "name": "stderr",
     "output_type": "stream",
     "text": [
      "Finding Edges...: 100%|██████████| 1000/1000 [00:21<00:00, 47.34it/s]\n",
      "Calculating Features...: 100%|██████████| 3000/3000 [00:00<00:00, 3843.32it/s]\n",
      "Finding Edges...:   0%|          | 5/1000 [00:00<00:21, 45.33it/s]"
     ]
    },
    {
     "name": "stdout",
     "output_type": "stream",
     "text": [
      "downsampled to (200, 3)\n",
      "0107.obj\n"
     ]
    },
    {
     "name": "stderr",
     "output_type": "stream",
     "text": [
      "Finding Edges...: 100%|██████████| 1000/1000 [00:20<00:00, 47.73it/s]\n",
      "Calculating Features...: 100%|██████████| 3000/3000 [00:00<00:00, 3859.67it/s]\n",
      "Finding Edges...:   0%|          | 4/1000 [00:00<00:30, 32.76it/s]"
     ]
    },
    {
     "name": "stdout",
     "output_type": "stream",
     "text": [
      "downsampled to (200, 3)\n",
      "0264.obj\n"
     ]
    },
    {
     "name": "stderr",
     "output_type": "stream",
     "text": [
      "Finding Edges...: 100%|██████████| 1000/1000 [00:22<00:00, 45.28it/s]\n",
      "Calculating Features...: 100%|██████████| 3000/3000 [00:00<00:00, 3920.06it/s]\n",
      "Finding Edges...:   0%|          | 5/1000 [00:00<00:21, 45.40it/s]"
     ]
    },
    {
     "name": "stdout",
     "output_type": "stream",
     "text": [
      "downsampled to (200, 3)\n",
      "0353.obj\n"
     ]
    },
    {
     "name": "stderr",
     "output_type": "stream",
     "text": [
      "Finding Edges...: 100%|██████████| 1000/1000 [00:20<00:00, 47.74it/s]\n",
      "Calculating Features...: 100%|██████████| 3000/3000 [00:00<00:00, 3536.86it/s]\n",
      "Finding Edges...:   0%|          | 5/1000 [00:00<00:23, 43.11it/s]"
     ]
    },
    {
     "name": "stdout",
     "output_type": "stream",
     "text": [
      "downsampled to (200, 3)\n",
      "0166.obj\n"
     ]
    },
    {
     "name": "stderr",
     "output_type": "stream",
     "text": [
      "Finding Edges...: 100%|██████████| 1000/1000 [00:22<00:00, 44.92it/s]\n",
      "Calculating Features...: 100%|██████████| 3000/3000 [00:00<00:00, 3865.61it/s]\n",
      "Finding Edges...:   0%|          | 5/1000 [00:00<00:24, 41.39it/s]"
     ]
    },
    {
     "name": "stdout",
     "output_type": "stream",
     "text": [
      "downsampled to (200, 3)\n",
      "0192.obj\n"
     ]
    },
    {
     "name": "stderr",
     "output_type": "stream",
     "text": [
      "Finding Edges...: 100%|██████████| 1000/1000 [00:21<00:00, 47.35it/s]\n",
      "Calculating Features...: 100%|██████████| 3000/3000 [00:00<00:00, 3936.67it/s]\n",
      "Finding Edges...:   0%|          | 5/1000 [00:00<00:21, 45.99it/s]"
     ]
    },
    {
     "name": "stdout",
     "output_type": "stream",
     "text": [
      "downsampled to (200, 3)\n",
      "0360.obj\n"
     ]
    },
    {
     "name": "stderr",
     "output_type": "stream",
     "text": [
      "Finding Edges...: 100%|██████████| 1000/1000 [00:21<00:00, 46.46it/s]\n",
      "Calculating Features...: 100%|██████████| 3000/3000 [00:00<00:00, 3613.26it/s]\n",
      "Finding Edges...:   0%|          | 5/1000 [00:00<00:20, 48.81it/s]"
     ]
    },
    {
     "name": "stdout",
     "output_type": "stream",
     "text": [
      "downsampled to (200, 3)\n",
      "0099.obj\n"
     ]
    },
    {
     "name": "stderr",
     "output_type": "stream",
     "text": [
      "Finding Edges...: 100%|██████████| 1000/1000 [00:20<00:00, 47.83it/s]\n",
      "Calculating Features...: 100%|██████████| 3000/3000 [00:00<00:00, 3868.69it/s]\n",
      "Finding Edges...:   0%|          | 5/1000 [00:00<00:20, 48.04it/s]"
     ]
    },
    {
     "name": "stdout",
     "output_type": "stream",
     "text": [
      "downsampled to (200, 3)\n",
      "0306.obj\n"
     ]
    },
    {
     "name": "stderr",
     "output_type": "stream",
     "text": [
      "Finding Edges...: 100%|██████████| 1000/1000 [00:21<00:00, 47.18it/s]\n",
      "Calculating Features...: 100%|██████████| 3000/3000 [00:00<00:00, 3818.78it/s]\n",
      "Finding Edges...:   0%|          | 5/1000 [00:00<00:22, 44.20it/s]"
     ]
    },
    {
     "name": "stdout",
     "output_type": "stream",
     "text": [
      "downsampled to (200, 3)\n",
      "0005.obj\n"
     ]
    },
    {
     "name": "stderr",
     "output_type": "stream",
     "text": [
      "Finding Edges...: 100%|██████████| 1000/1000 [00:20<00:00, 47.98it/s]\n",
      "Calculating Features...: 100%|██████████| 3000/3000 [00:00<00:00, 3704.69it/s]\n",
      "Finding Edges...:   0%|          | 5/1000 [00:00<00:23, 42.65it/s]"
     ]
    },
    {
     "name": "stdout",
     "output_type": "stream",
     "text": [
      "downsampled to (200, 3)\n",
      "0074.obj\n"
     ]
    },
    {
     "name": "stderr",
     "output_type": "stream",
     "text": [
      "Finding Edges...: 100%|██████████| 1000/1000 [00:21<00:00, 47.48it/s]\n",
      "Calculating Features...: 100%|██████████| 3000/3000 [00:00<00:00, 3662.40it/s]\n",
      "Finding Edges...:   0%|          | 5/1000 [00:00<00:20, 49.50it/s]"
     ]
    },
    {
     "name": "stdout",
     "output_type": "stream",
     "text": [
      "0251.obj\n"
     ]
    },
    {
     "name": "stderr",
     "output_type": "stream",
     "text": [
      "Finding Edges...: 100%|██████████| 1000/1000 [00:20<00:00, 47.64it/s]\n",
      "Calculating Features...: 100%|██████████| 3000/3000 [00:00<00:00, 3753.96it/s]\n",
      "Finding Edges...:   0%|          | 5/1000 [00:00<00:23, 41.64it/s]"
     ]
    },
    {
     "name": "stdout",
     "output_type": "stream",
     "text": [
      "downsampled to (200, 3)\n",
      "0199.obj\n"
     ]
    },
    {
     "name": "stderr",
     "output_type": "stream",
     "text": [
      "Finding Edges...: 100%|██████████| 1000/1000 [00:21<00:00, 47.20it/s]\n",
      "Calculating Features...: 100%|██████████| 3000/3000 [00:00<00:00, 3715.77it/s]\n",
      "Finding Edges...:   0%|          | 4/1000 [00:00<00:27, 36.76it/s]"
     ]
    },
    {
     "name": "stdout",
     "output_type": "stream",
     "text": [
      "downsampled to (200, 3)\n",
      "0067.obj\n"
     ]
    },
    {
     "name": "stderr",
     "output_type": "stream",
     "text": [
      "Finding Edges...: 100%|██████████| 1000/1000 [00:21<00:00, 47.56it/s]\n",
      "Calculating Features...: 100%|██████████| 3000/3000 [00:00<00:00, 3811.39it/s]\n",
      "Finding Edges...:   0%|          | 5/1000 [00:00<00:22, 43.34it/s]"
     ]
    },
    {
     "name": "stdout",
     "output_type": "stream",
     "text": [
      "downsampled to (200, 3)\n",
      "0282.obj\n"
     ]
    },
    {
     "name": "stderr",
     "output_type": "stream",
     "text": [
      "Finding Edges...: 100%|██████████| 1000/1000 [00:21<00:00, 46.91it/s]\n",
      "Calculating Features...: 100%|██████████| 3000/3000 [00:00<00:00, 3735.47it/s]\n",
      "Finding Edges...:   0%|          | 5/1000 [00:00<00:21, 45.86it/s]"
     ]
    },
    {
     "name": "stdout",
     "output_type": "stream",
     "text": [
      "downsampled to (200, 3)\n",
      "0075.obj\n"
     ]
    },
    {
     "name": "stderr",
     "output_type": "stream",
     "text": [
      "Finding Edges...: 100%|██████████| 1000/1000 [00:20<00:00, 47.78it/s]\n",
      "Calculating Features...: 100%|██████████| 3000/3000 [00:00<00:00, 3931.18it/s]\n",
      "Finding Edges...:   0%|          | 5/1000 [00:00<00:21, 47.02it/s]"
     ]
    },
    {
     "name": "stdout",
     "output_type": "stream",
     "text": [
      "downsampled to (200, 3)\n",
      "0242.obj\n"
     ]
    },
    {
     "name": "stderr",
     "output_type": "stream",
     "text": [
      "Finding Edges...: 100%|██████████| 1000/1000 [00:21<00:00, 47.44it/s]\n",
      "Calculating Features...: 100%|██████████| 3000/3000 [00:00<00:00, 3789.49it/s]\n",
      "Finding Edges...:   0%|          | 5/1000 [00:00<00:21, 46.24it/s]"
     ]
    },
    {
     "name": "stdout",
     "output_type": "stream",
     "text": [
      "downsampled to (200, 3)\n",
      "0188.obj\n"
     ]
    },
    {
     "name": "stderr",
     "output_type": "stream",
     "text": [
      "Finding Edges...: 100%|██████████| 1000/1000 [00:21<00:00, 47.50it/s]\n",
      "Calculating Features...: 100%|██████████| 3000/3000 [00:00<00:00, 3885.48it/s]\n",
      "Finding Edges...:   0%|          | 5/1000 [00:00<00:21, 46.01it/s]"
     ]
    },
    {
     "name": "stdout",
     "output_type": "stream",
     "text": [
      "downsampled to (200, 3)\n",
      "0159.obj\n"
     ]
    },
    {
     "name": "stderr",
     "output_type": "stream",
     "text": [
      "Finding Edges...: 100%|██████████| 1000/1000 [00:21<00:00, 46.62it/s]\n",
      "Calculating Features...: 100%|██████████| 3000/3000 [00:00<00:00, 3605.58it/s]\n",
      "Finding Edges...:   0%|          | 5/1000 [00:00<00:22, 43.88it/s]"
     ]
    },
    {
     "name": "stdout",
     "output_type": "stream",
     "text": [
      "downsampled to (200, 3)\n",
      "0113.obj\n"
     ]
    },
    {
     "name": "stderr",
     "output_type": "stream",
     "text": [
      "Finding Edges...: 100%|██████████| 1000/1000 [00:21<00:00, 46.74it/s]\n",
      "Calculating Features...: 100%|██████████| 3000/3000 [00:00<00:00, 3817.02it/s]\n",
      "Finding Edges...:   0%|          | 5/1000 [00:00<00:21, 45.85it/s]"
     ]
    },
    {
     "name": "stdout",
     "output_type": "stream",
     "text": [
      "downsampled to (200, 3)\n",
      "0031.obj\n"
     ]
    },
    {
     "name": "stderr",
     "output_type": "stream",
     "text": [
      "Finding Edges...: 100%|██████████| 1000/1000 [00:21<00:00, 46.90it/s]\n",
      "Calculating Features...: 100%|██████████| 3000/3000 [00:00<00:00, 3714.17it/s]\n",
      "Finding Edges...:   0%|          | 5/1000 [00:00<00:22, 45.17it/s]"
     ]
    },
    {
     "name": "stdout",
     "output_type": "stream",
     "text": [
      "downsampled to (200, 3)\n",
      "0322.obj\n"
     ]
    },
    {
     "name": "stderr",
     "output_type": "stream",
     "text": [
      "Finding Edges...: 100%|██████████| 1000/1000 [00:21<00:00, 47.22it/s]\n",
      "Calculating Features...: 100%|██████████| 3000/3000 [00:00<00:00, 3910.13it/s]\n",
      "Finding Edges...:   0%|          | 5/1000 [00:00<00:22, 43.99it/s]"
     ]
    },
    {
     "name": "stdout",
     "output_type": "stream",
     "text": [
      "downsampled to (200, 3)\n",
      "0094.obj\n"
     ]
    },
    {
     "name": "stderr",
     "output_type": "stream",
     "text": [
      "Finding Edges...: 100%|██████████| 1000/1000 [00:21<00:00, 47.55it/s]\n",
      "Calculating Features...: 100%|██████████| 3000/3000 [00:00<00:00, 3994.15it/s]\n",
      "Finding Edges...:   0%|          | 5/1000 [00:00<00:21, 45.72it/s]"
     ]
    },
    {
     "name": "stdout",
     "output_type": "stream",
     "text": [
      "downsampled to (200, 3)\n",
      "0392.obj\n"
     ]
    },
    {
     "name": "stderr",
     "output_type": "stream",
     "text": [
      "Finding Edges...: 100%|██████████| 1000/1000 [00:20<00:00, 47.81it/s]\n",
      "Calculating Features...: 100%|██████████| 3000/3000 [00:00<00:00, 3703.05it/s]\n",
      "Finding Edges...:   0%|          | 5/1000 [00:00<00:20, 47.79it/s]"
     ]
    },
    {
     "name": "stdout",
     "output_type": "stream",
     "text": [
      "downsampled to (200, 3)\n",
      "0122.obj\n"
     ]
    },
    {
     "name": "stderr",
     "output_type": "stream",
     "text": [
      "Finding Edges...: 100%|██████████| 1000/1000 [00:21<00:00, 46.73it/s]\n",
      "Calculating Features...: 100%|██████████| 3000/3000 [00:00<00:00, 3797.62it/s]\n",
      "Finding Edges...:   1%|          | 5/996 [00:00<00:21, 46.28it/s]"
     ]
    },
    {
     "name": "stdout",
     "output_type": "stream",
     "text": [
      "downsampled to (200, 3)\n",
      "0066.obj\n"
     ]
    },
    {
     "name": "stderr",
     "output_type": "stream",
     "text": [
      "Finding Edges...: 100%|██████████| 996/996 [00:21<00:00, 47.35it/s]\n",
      "Calculating Features...: 100%|██████████| 2988/2988 [00:00<00:00, 3812.89it/s]\n",
      "Finding Edges...:   0%|          | 4/1000 [00:00<00:26, 37.66it/s]"
     ]
    },
    {
     "name": "stdout",
     "output_type": "stream",
     "text": [
      "downsampled to (200, 3)\n",
      "0155.obj\n"
     ]
    },
    {
     "name": "stderr",
     "output_type": "stream",
     "text": [
      "Finding Edges...: 100%|██████████| 1000/1000 [00:21<00:00, 46.74it/s]\n",
      "Calculating Features...: 100%|██████████| 3000/3000 [00:00<00:00, 3889.15it/s]\n",
      "Finding Edges...:   0%|          | 5/1000 [00:00<00:22, 44.25it/s]"
     ]
    },
    {
     "name": "stdout",
     "output_type": "stream",
     "text": [
      "downsampled to (200, 3)\n",
      "0098.obj\n"
     ]
    },
    {
     "name": "stderr",
     "output_type": "stream",
     "text": [
      "Finding Edges...: 100%|██████████| 1000/1000 [00:21<00:00, 47.05it/s]\n",
      "Calculating Features...: 100%|██████████| 3000/3000 [00:00<00:00, 3953.30it/s]\n",
      "Finding Edges...:   0%|          | 5/1000 [00:00<00:22, 44.88it/s]"
     ]
    },
    {
     "name": "stdout",
     "output_type": "stream",
     "text": [
      "downsampled to (200, 3)\n",
      "0118.obj\n"
     ]
    },
    {
     "name": "stderr",
     "output_type": "stream",
     "text": [
      "Finding Edges...: 100%|██████████| 1000/1000 [00:21<00:00, 46.95it/s]\n",
      "Calculating Features...: 100%|██████████| 3000/3000 [00:00<00:00, 3788.53it/s]\n",
      "Finding Edges...:   0%|          | 5/1000 [00:00<00:21, 45.60it/s]"
     ]
    },
    {
     "name": "stdout",
     "output_type": "stream",
     "text": [
      "downsampled to (200, 3)\n",
      "0369.obj\n"
     ]
    },
    {
     "name": "stderr",
     "output_type": "stream",
     "text": [
      "Finding Edges...: 100%|██████████| 1000/1000 [00:21<00:00, 46.17it/s]\n",
      "Calculating Features...: 100%|██████████| 3000/3000 [00:00<00:00, 3359.43it/s]\n",
      "Finding Edges...:   0%|          | 5/1000 [00:00<00:23, 42.73it/s]"
     ]
    },
    {
     "name": "stdout",
     "output_type": "stream",
     "text": [
      "downsampled to (200, 3)\n",
      "0082.obj\n"
     ]
    },
    {
     "name": "stderr",
     "output_type": "stream",
     "text": [
      "Finding Edges...: 100%|██████████| 1000/1000 [00:21<00:00, 46.87it/s]\n",
      "Calculating Features...: 100%|██████████| 3000/3000 [00:00<00:00, 3768.11it/s]\n",
      "Finding Edges...:   0%|          | 5/1000 [00:00<00:20, 47.63it/s]"
     ]
    },
    {
     "name": "stdout",
     "output_type": "stream",
     "text": [
      "downsampled to (200, 3)\n",
      "0356.obj\n"
     ]
    },
    {
     "name": "stderr",
     "output_type": "stream",
     "text": [
      "Finding Edges...: 100%|██████████| 1000/1000 [00:20<00:00, 48.29it/s]\n",
      "Calculating Features...: 100%|██████████| 3000/3000 [00:00<00:00, 3949.05it/s]\n",
      "Finding Edges...:   0%|          | 5/1000 [00:00<00:23, 42.07it/s]"
     ]
    },
    {
     "name": "stdout",
     "output_type": "stream",
     "text": [
      "downsampled to (200, 3)\n",
      "0396.obj\n"
     ]
    },
    {
     "name": "stderr",
     "output_type": "stream",
     "text": [
      "Finding Edges...: 100%|██████████| 1000/1000 [00:21<00:00, 46.52it/s]\n",
      "Calculating Features...: 100%|██████████| 3000/3000 [00:00<00:00, 3918.30it/s]\n",
      "Finding Edges...:   0%|          | 5/1000 [00:00<00:23, 42.10it/s]"
     ]
    },
    {
     "name": "stdout",
     "output_type": "stream",
     "text": [
      "downsampled to (200, 3)\n",
      "0371.obj\n"
     ]
    },
    {
     "name": "stderr",
     "output_type": "stream",
     "text": [
      "Finding Edges...: 100%|██████████| 1000/1000 [00:20<00:00, 48.00it/s]\n",
      "Calculating Features...: 100%|██████████| 3000/3000 [00:00<00:00, 3863.84it/s]\n",
      "Finding Edges...:   0%|          | 4/1000 [00:00<00:24, 39.93it/s]"
     ]
    },
    {
     "name": "stdout",
     "output_type": "stream",
     "text": [
      "downsampled to (200, 3)\n",
      "0261.obj\n"
     ]
    },
    {
     "name": "stderr",
     "output_type": "stream",
     "text": [
      "Finding Edges...: 100%|██████████| 1000/1000 [00:21<00:00, 46.73it/s]\n",
      "Calculating Features...: 100%|██████████| 3000/3000 [00:00<00:00, 3905.94it/s]\n",
      "Finding Edges...:   0%|          | 5/1000 [00:00<00:21, 45.94it/s]"
     ]
    },
    {
     "name": "stdout",
     "output_type": "stream",
     "text": [
      "downsampled to (200, 3)\n",
      "0314.obj\n"
     ]
    },
    {
     "name": "stderr",
     "output_type": "stream",
     "text": [
      "Finding Edges...: 100%|██████████| 1000/1000 [00:21<00:00, 45.60it/s]\n",
      "Calculating Features...: 100%|██████████| 3000/3000 [00:00<00:00, 3539.89it/s]\n",
      "Finding Edges...:   0%|          | 5/1000 [00:00<00:22, 43.86it/s]"
     ]
    },
    {
     "name": "stdout",
     "output_type": "stream",
     "text": [
      "downsampled to (200, 3)\n",
      "0201.obj\n"
     ]
    },
    {
     "name": "stderr",
     "output_type": "stream",
     "text": [
      "Finding Edges...: 100%|██████████| 1000/1000 [00:21<00:00, 46.92it/s]\n",
      "Calculating Features...: 100%|██████████| 3000/3000 [00:00<00:00, 3812.36it/s]\n",
      "Finding Edges...:   0%|          | 5/1000 [00:00<00:22, 44.31it/s]"
     ]
    },
    {
     "name": "stdout",
     "output_type": "stream",
     "text": [
      "downsampled to (200, 3)\n",
      "0215.obj\n"
     ]
    },
    {
     "name": "stderr",
     "output_type": "stream",
     "text": [
      "Finding Edges...: 100%|██████████| 1000/1000 [00:21<00:00, 47.56it/s]\n",
      "Calculating Features...: 100%|██████████| 3000/3000 [00:00<00:00, 3856.39it/s]\n",
      "Finding Edges...:   0%|          | 5/1000 [00:00<00:22, 44.27it/s]"
     ]
    },
    {
     "name": "stdout",
     "output_type": "stream",
     "text": [
      "downsampled to (200, 3)\n",
      "0231.obj\n"
     ]
    },
    {
     "name": "stderr",
     "output_type": "stream",
     "text": [
      "Finding Edges...: 100%|██████████| 1000/1000 [00:21<00:00, 46.92it/s]\n",
      "Calculating Features...: 100%|██████████| 3000/3000 [00:00<00:00, 3879.49it/s]\n",
      "Finding Edges...:   0%|          | 5/1000 [00:00<00:23, 42.16it/s]"
     ]
    },
    {
     "name": "stdout",
     "output_type": "stream",
     "text": [
      "downsampled to (200, 3)\n",
      "0377.obj\n"
     ]
    },
    {
     "name": "stderr",
     "output_type": "stream",
     "text": [
      "Finding Edges...: 100%|██████████| 1000/1000 [00:20<00:00, 47.87it/s]\n",
      "Calculating Features...: 100%|██████████| 3000/3000 [00:00<00:00, 3635.74it/s]\n",
      "Finding Edges...:   0%|          | 5/1000 [00:00<00:23, 41.80it/s]"
     ]
    },
    {
     "name": "stdout",
     "output_type": "stream",
     "text": [
      "downsampled to (200, 3)\n",
      "0023.obj\n"
     ]
    },
    {
     "name": "stderr",
     "output_type": "stream",
     "text": [
      "Finding Edges...: 100%|██████████| 1000/1000 [00:21<00:00, 46.77it/s]\n",
      "Calculating Features...: 100%|██████████| 3000/3000 [00:00<00:00, 3737.68it/s]\n",
      "Finding Edges...:   0%|          | 5/1000 [00:00<00:22, 44.40it/s]"
     ]
    },
    {
     "name": "stdout",
     "output_type": "stream",
     "text": [
      "downsampled to (200, 3)\n",
      "0172.obj\n"
     ]
    },
    {
     "name": "stderr",
     "output_type": "stream",
     "text": [
      "Finding Edges...: 100%|██████████| 1000/1000 [00:20<00:00, 47.93it/s]\n",
      "Calculating Features...: 100%|██████████| 3000/3000 [00:00<00:00, 3835.26it/s]\n",
      "Finding Edges...:   0%|          | 5/1000 [00:00<00:23, 42.46it/s]"
     ]
    },
    {
     "name": "stdout",
     "output_type": "stream",
     "text": [
      "downsampled to (200, 3)\n",
      "0288.obj\n"
     ]
    },
    {
     "name": "stderr",
     "output_type": "stream",
     "text": [
      "Finding Edges...: 100%|██████████| 1000/1000 [00:21<00:00, 47.49it/s]\n",
      "Calculating Features...: 100%|██████████| 3000/3000 [00:00<00:00, 3855.07it/s]\n",
      "Finding Edges...:   0%|          | 5/1000 [00:00<00:23, 43.03it/s]"
     ]
    },
    {
     "name": "stdout",
     "output_type": "stream",
     "text": [
      "downsampled to (200, 3)\n",
      "0044.obj\n"
     ]
    },
    {
     "name": "stderr",
     "output_type": "stream",
     "text": [
      "Finding Edges...: 100%|██████████| 1000/1000 [00:20<00:00, 47.87it/s]\n",
      "Calculating Features...: 100%|██████████| 3000/3000 [00:00<00:00, 3889.61it/s]\n",
      "Finding Edges...:   0%|          | 5/1000 [00:00<00:22, 44.94it/s]"
     ]
    },
    {
     "name": "stdout",
     "output_type": "stream",
     "text": [
      "downsampled to (200, 3)\n",
      "0181.obj\n"
     ]
    },
    {
     "name": "stderr",
     "output_type": "stream",
     "text": [
      "Finding Edges...: 100%|██████████| 1000/1000 [00:21<00:00, 46.92it/s]\n",
      "Calculating Features...: 100%|██████████| 3000/3000 [00:00<00:00, 3922.53it/s]\n",
      "Finding Edges...:   0%|          | 5/1000 [00:00<00:21, 45.39it/s]"
     ]
    },
    {
     "name": "stdout",
     "output_type": "stream",
     "text": [
      "downsampled to (200, 3)\n",
      "0351.obj\n"
     ]
    },
    {
     "name": "stderr",
     "output_type": "stream",
     "text": [
      "Finding Edges...: 100%|██████████| 1000/1000 [00:21<00:00, 47.39it/s]\n",
      "Calculating Features...: 100%|██████████| 3000/3000 [00:00<00:00, 3810.62it/s]\n",
      "Finding Edges...:   0%|          | 5/1000 [00:00<00:21, 45.28it/s]"
     ]
    },
    {
     "name": "stdout",
     "output_type": "stream",
     "text": [
      "downsampled to (200, 3)\n",
      "0041.obj\n"
     ]
    },
    {
     "name": "stderr",
     "output_type": "stream",
     "text": [
      "Finding Edges...: 100%|██████████| 1000/1000 [00:21<00:00, 46.76it/s]\n",
      "Calculating Features...: 100%|██████████| 3000/3000 [00:00<00:00, 3784.46it/s]\n",
      "Finding Edges...:   0%|          | 5/1000 [00:00<00:21, 46.49it/s]"
     ]
    },
    {
     "name": "stdout",
     "output_type": "stream",
     "text": [
      "downsampled to (200, 3)\n",
      "0376.obj\n"
     ]
    },
    {
     "name": "stderr",
     "output_type": "stream",
     "text": [
      "Finding Edges...: 100%|██████████| 1000/1000 [00:20<00:00, 47.69it/s]\n",
      "Calculating Features...: 100%|██████████| 3000/3000 [00:00<00:00, 3609.87it/s]\n",
      "Finding Edges...:   0%|          | 5/1000 [00:00<00:24, 40.26it/s]"
     ]
    },
    {
     "name": "stdout",
     "output_type": "stream",
     "text": [
      "downsampled to (200, 3)\n",
      "0077.obj\n"
     ]
    },
    {
     "name": "stderr",
     "output_type": "stream",
     "text": [
      "Finding Edges...: 100%|██████████| 1000/1000 [00:21<00:00, 47.04it/s]\n",
      "Calculating Features...: 100%|██████████| 3000/3000 [00:00<00:00, 3707.72it/s]\n",
      "Finding Edges...:   0%|          | 5/1000 [00:00<00:21, 47.31it/s]"
     ]
    },
    {
     "name": "stdout",
     "output_type": "stream",
     "text": [
      "downsampled to (200, 3)\n",
      "0119.obj\n"
     ]
    },
    {
     "name": "stderr",
     "output_type": "stream",
     "text": [
      "Finding Edges...: 100%|██████████| 1000/1000 [00:20<00:00, 47.72it/s]\n",
      "Calculating Features...: 100%|██████████| 3000/3000 [00:00<00:00, 3968.07it/s]\n",
      "Finding Edges...:   0%|          | 5/1000 [00:00<00:22, 44.02it/s]"
     ]
    },
    {
     "name": "stdout",
     "output_type": "stream",
     "text": [
      "downsampled to (200, 3)\n",
      "0111.obj\n"
     ]
    },
    {
     "name": "stderr",
     "output_type": "stream",
     "text": [
      "Finding Edges...: 100%|██████████| 1000/1000 [00:21<00:00, 47.04it/s]\n",
      "Calculating Features...: 100%|██████████| 3000/3000 [00:00<00:00, 3883.75it/s]\n",
      "Finding Edges...:   0%|          | 5/1000 [00:00<00:22, 44.83it/s]"
     ]
    },
    {
     "name": "stdout",
     "output_type": "stream",
     "text": [
      "downsampled to (200, 3)\n",
      "0383.obj\n"
     ]
    },
    {
     "name": "stderr",
     "output_type": "stream",
     "text": [
      "Finding Edges...: 100%|██████████| 1000/1000 [00:21<00:00, 47.43it/s]\n",
      "Calculating Features...: 100%|██████████| 3000/3000 [00:00<00:00, 3865.85it/s]\n",
      "Finding Edges...:   0%|          | 4/1000 [00:00<00:25, 39.55it/s]"
     ]
    },
    {
     "name": "stdout",
     "output_type": "stream",
     "text": [
      "downsampled to (200, 3)\n",
      "0054.obj\n"
     ]
    },
    {
     "name": "stderr",
     "output_type": "stream",
     "text": [
      "Finding Edges...: 100%|██████████| 1000/1000 [00:21<00:00, 47.13it/s]\n",
      "Calculating Features...: 100%|██████████| 3000/3000 [00:00<00:00, 3743.01it/s]\n",
      "Finding Edges...:   0%|          | 5/1000 [00:00<00:22, 44.63it/s]"
     ]
    },
    {
     "name": "stdout",
     "output_type": "stream",
     "text": [
      "downsampled to (200, 3)\n",
      "0092.obj\n"
     ]
    },
    {
     "name": "stderr",
     "output_type": "stream",
     "text": [
      "Finding Edges...: 100%|██████████| 1000/1000 [00:21<00:00, 47.35it/s]\n",
      "Calculating Features...: 100%|██████████| 3000/3000 [00:00<00:00, 3796.41it/s]\n",
      "Finding Edges...:   0%|          | 5/1000 [00:00<00:22, 44.83it/s]"
     ]
    },
    {
     "name": "stdout",
     "output_type": "stream",
     "text": [
      "downsampled to (200, 3)\n",
      "0180.obj\n"
     ]
    },
    {
     "name": "stderr",
     "output_type": "stream",
     "text": [
      "Finding Edges...: 100%|██████████| 1000/1000 [00:21<00:00, 47.22it/s]\n",
      "Calculating Features...: 100%|██████████| 3000/3000 [00:00<00:00, 3740.12it/s]\n",
      "Finding Edges...:   0%|          | 5/1000 [00:00<00:21, 46.15it/s]"
     ]
    },
    {
     "name": "stdout",
     "output_type": "stream",
     "text": [
      "downsampled to (200, 3)\n",
      "0195.obj\n"
     ]
    },
    {
     "name": "stderr",
     "output_type": "stream",
     "text": [
      "Finding Edges...: 100%|██████████| 1000/1000 [00:21<00:00, 47.49it/s]\n",
      "Calculating Features...: 100%|██████████| 3000/3000 [00:00<00:00, 3750.90it/s]\n",
      "Finding Edges...:   0%|          | 5/1000 [00:00<00:23, 42.19it/s]"
     ]
    },
    {
     "name": "stdout",
     "output_type": "stream",
     "text": [
      "downsampled to (200, 3)\n",
      "0038.obj\n"
     ]
    },
    {
     "name": "stderr",
     "output_type": "stream",
     "text": [
      "Finding Edges...: 100%|██████████| 1000/1000 [00:21<00:00, 47.10it/s]\n",
      "Calculating Features...: 100%|██████████| 3000/3000 [00:00<00:00, 3810.37it/s]\n",
      "Finding Edges...:   0%|          | 5/1000 [00:00<00:22, 43.99it/s]"
     ]
    },
    {
     "name": "stdout",
     "output_type": "stream",
     "text": [
      "downsampled to (200, 3)\n",
      "0170.obj\n"
     ]
    },
    {
     "name": "stderr",
     "output_type": "stream",
     "text": [
      "Finding Edges...: 100%|██████████| 1000/1000 [00:21<00:00, 47.58it/s]\n",
      "Calculating Features...: 100%|██████████| 3000/3000 [00:00<00:00, 3887.53it/s]\n",
      "Finding Edges...:   0%|          | 5/1000 [00:00<00:22, 44.84it/s]"
     ]
    },
    {
     "name": "stdout",
     "output_type": "stream",
     "text": [
      "downsampled to (200, 3)\n",
      "0173.obj\n"
     ]
    },
    {
     "name": "stderr",
     "output_type": "stream",
     "text": [
      "Finding Edges...: 100%|██████████| 1000/1000 [00:21<00:00, 46.95it/s]\n",
      "Calculating Features...: 100%|██████████| 3000/3000 [00:00<00:00, 3960.96it/s]\n",
      "Finding Edges...:   0%|          | 5/1000 [00:00<00:21, 46.57it/s]"
     ]
    },
    {
     "name": "stdout",
     "output_type": "stream",
     "text": [
      "downsampled to (200, 3)\n",
      "0174.obj\n"
     ]
    },
    {
     "name": "stderr",
     "output_type": "stream",
     "text": [
      "Finding Edges...: 100%|██████████| 1000/1000 [00:21<00:00, 46.61it/s]\n",
      "Calculating Features...: 100%|██████████| 3000/3000 [00:00<00:00, 3820.88it/s]\n",
      "Finding Edges...:   0%|          | 5/1000 [00:00<00:21, 46.49it/s]"
     ]
    },
    {
     "name": "stdout",
     "output_type": "stream",
     "text": [
      "downsampled to (200, 3)\n",
      "0312.obj\n"
     ]
    },
    {
     "name": "stderr",
     "output_type": "stream",
     "text": [
      "Finding Edges...: 100%|██████████| 1000/1000 [00:21<00:00, 46.55it/s]\n",
      "Calculating Features...: 100%|██████████| 3000/3000 [00:00<00:00, 3782.61it/s]\n",
      "Finding Edges...:   0%|          | 5/1000 [00:00<00:23, 42.27it/s]"
     ]
    },
    {
     "name": "stdout",
     "output_type": "stream",
     "text": [
      "downsampled to (200, 3)\n",
      "0103.obj\n"
     ]
    },
    {
     "name": "stderr",
     "output_type": "stream",
     "text": [
      "Finding Edges...: 100%|██████████| 1000/1000 [00:21<00:00, 47.28it/s]\n",
      "Calculating Features...: 100%|██████████| 3000/3000 [00:00<00:00, 3699.28it/s]\n",
      "Finding Edges...:   0%|          | 5/1000 [00:00<00:22, 44.21it/s]"
     ]
    },
    {
     "name": "stdout",
     "output_type": "stream",
     "text": [
      "downsampled to (200, 3)\n",
      "0109.obj\n"
     ]
    },
    {
     "name": "stderr",
     "output_type": "stream",
     "text": [
      "Finding Edges...: 100%|██████████| 1000/1000 [00:21<00:00, 46.51it/s]\n",
      "Calculating Features...: 100%|██████████| 3000/3000 [00:00<00:00, 3886.22it/s]\n",
      "Finding Edges...:   0%|          | 5/1000 [00:00<00:22, 45.09it/s]"
     ]
    },
    {
     "name": "stdout",
     "output_type": "stream",
     "text": [
      "downsampled to (200, 3)\n",
      "0008.obj\n"
     ]
    },
    {
     "name": "stderr",
     "output_type": "stream",
     "text": [
      "Finding Edges...: 100%|██████████| 1000/1000 [00:21<00:00, 47.30it/s]\n",
      "Calculating Features...: 100%|██████████| 3000/3000 [00:00<00:00, 3914.29it/s]\n",
      "Finding Edges...:   0%|          | 5/1000 [00:00<00:21, 46.70it/s]"
     ]
    },
    {
     "name": "stdout",
     "output_type": "stream",
     "text": [
      "downsampled to (200, 3)\n",
      "0095.obj\n"
     ]
    },
    {
     "name": "stderr",
     "output_type": "stream",
     "text": [
      "Finding Edges...: 100%|██████████| 1000/1000 [00:21<00:00, 46.54it/s]\n",
      "Calculating Features...: 100%|██████████| 3000/3000 [00:00<00:00, 3646.87it/s]\n",
      "Finding Edges...:   0%|          | 4/1000 [00:00<00:26, 37.81it/s]"
     ]
    },
    {
     "name": "stdout",
     "output_type": "stream",
     "text": [
      "downsampled to (200, 3)\n",
      "0200.obj\n"
     ]
    },
    {
     "name": "stderr",
     "output_type": "stream",
     "text": [
      "Finding Edges...: 100%|██████████| 1000/1000 [00:20<00:00, 47.70it/s]\n",
      "Calculating Features...: 100%|██████████| 3000/3000 [00:00<00:00, 3889.57it/s]\n",
      "Finding Edges...:   0%|          | 4/1000 [00:00<00:28, 34.85it/s]"
     ]
    },
    {
     "name": "stdout",
     "output_type": "stream",
     "text": [
      "downsampled to (200, 3)\n",
      "0030.obj\n"
     ]
    },
    {
     "name": "stderr",
     "output_type": "stream",
     "text": [
      "Finding Edges...: 100%|██████████| 1000/1000 [00:21<00:00, 46.52it/s]\n",
      "Calculating Features...: 100%|██████████| 3000/3000 [00:00<00:00, 3579.82it/s]\n",
      "Finding Edges...:   0%|          | 5/1000 [00:00<00:23, 41.91it/s]"
     ]
    },
    {
     "name": "stdout",
     "output_type": "stream",
     "text": [
      "downsampled to (200, 3)\n",
      "0144.obj\n"
     ]
    },
    {
     "name": "stderr",
     "output_type": "stream",
     "text": [
      "Finding Edges...: 100%|██████████| 1000/1000 [00:21<00:00, 47.40it/s]\n",
      "Calculating Features...: 100%|██████████| 3000/3000 [00:00<00:00, 3830.76it/s]\n",
      "Finding Edges...:   0%|          | 5/1000 [00:00<00:22, 43.80it/s]"
     ]
    },
    {
     "name": "stdout",
     "output_type": "stream",
     "text": [
      "downsampled to (200, 3)\n",
      "0147.obj\n"
     ]
    },
    {
     "name": "stderr",
     "output_type": "stream",
     "text": [
      "Finding Edges...: 100%|██████████| 1000/1000 [00:21<00:00, 46.66it/s]\n",
      "Calculating Features...: 100%|██████████| 3000/3000 [00:00<00:00, 3877.71it/s]\n",
      "Finding Edges...:   0%|          | 5/1000 [00:00<00:22, 45.12it/s]"
     ]
    },
    {
     "name": "stdout",
     "output_type": "stream",
     "text": [
      "downsampled to (200, 3)\n",
      "0381.obj\n"
     ]
    },
    {
     "name": "stderr",
     "output_type": "stream",
     "text": [
      "Finding Edges...: 100%|██████████| 1000/1000 [00:21<00:00, 47.50it/s]\n",
      "Calculating Features...: 100%|██████████| 3000/3000 [00:00<00:00, 3723.30it/s]\n",
      "Finding Edges...:   0%|          | 5/1000 [00:00<00:22, 43.90it/s]"
     ]
    },
    {
     "name": "stdout",
     "output_type": "stream",
     "text": [
      "downsampled to (200, 3)\n",
      "0252.obj\n"
     ]
    },
    {
     "name": "stderr",
     "output_type": "stream",
     "text": [
      "Finding Edges...: 100%|██████████| 1000/1000 [00:21<00:00, 46.66it/s]\n",
      "Calculating Features...: 100%|██████████| 3000/3000 [00:00<00:00, 3622.91it/s]\n",
      "Finding Edges...:   0%|          | 5/1000 [00:00<00:21, 45.93it/s]"
     ]
    },
    {
     "name": "stdout",
     "output_type": "stream",
     "text": [
      "downsampled to (200, 3)\n",
      "0225.obj\n"
     ]
    },
    {
     "name": "stderr",
     "output_type": "stream",
     "text": [
      "Finding Edges...: 100%|██████████| 1000/1000 [00:21<00:00, 46.80it/s]\n",
      "Calculating Features...: 100%|██████████| 3000/3000 [00:00<00:00, 3797.87it/s]\n",
      "Finding Edges...:   0%|          | 4/1000 [00:00<00:28, 34.80it/s]"
     ]
    },
    {
     "name": "stdout",
     "output_type": "stream",
     "text": [
      "downsampled to (200, 3)\n",
      "0076.obj\n"
     ]
    },
    {
     "name": "stderr",
     "output_type": "stream",
     "text": [
      "Finding Edges...: 100%|██████████| 1000/1000 [00:21<00:00, 46.31it/s]\n",
      "Calculating Features...: 100%|██████████| 3000/3000 [00:00<00:00, 3725.02it/s]\n",
      "Finding Edges...:   0%|          | 5/1000 [00:00<00:24, 40.97it/s]"
     ]
    },
    {
     "name": "stdout",
     "output_type": "stream",
     "text": [
      "downsampled to (200, 3)\n",
      "0061.obj\n"
     ]
    },
    {
     "name": "stderr",
     "output_type": "stream",
     "text": [
      "Finding Edges...: 100%|██████████| 1000/1000 [00:21<00:00, 47.19it/s]\n",
      "Calculating Features...: 100%|██████████| 3000/3000 [00:00<00:00, 3785.80it/s]\n",
      "Finding Edges...:   0%|          | 4/1000 [00:00<00:25, 39.18it/s]"
     ]
    },
    {
     "name": "stdout",
     "output_type": "stream",
     "text": [
      "downsampled to (200, 3)\n",
      "0334.obj\n"
     ]
    },
    {
     "name": "stderr",
     "output_type": "stream",
     "text": [
      "Finding Edges...: 100%|██████████| 1000/1000 [00:21<00:00, 46.47it/s]\n",
      "Calculating Features...: 100%|██████████| 3000/3000 [00:00<00:00, 3787.94it/s]\n",
      "Finding Edges...:   0%|          | 4/1000 [00:00<00:26, 37.56it/s]"
     ]
    },
    {
     "name": "stdout",
     "output_type": "stream",
     "text": [
      "downsampled to (200, 3)\n",
      "0250.obj\n"
     ]
    },
    {
     "name": "stderr",
     "output_type": "stream",
     "text": [
      "Finding Edges...: 100%|██████████| 1000/1000 [00:23<00:00, 42.99it/s]\n",
      "Calculating Features...: 100%|██████████| 3000/3000 [00:00<00:00, 3759.83it/s]\n",
      "Finding Edges...:   0%|          | 5/1000 [00:00<00:24, 40.78it/s]"
     ]
    },
    {
     "name": "stdout",
     "output_type": "stream",
     "text": [
      "downsampled to (200, 3)\n",
      "0063.obj\n"
     ]
    },
    {
     "name": "stderr",
     "output_type": "stream",
     "text": [
      "Finding Edges...: 100%|██████████| 1000/1000 [00:21<00:00, 46.41it/s]\n",
      "Calculating Features...: 100%|██████████| 3000/3000 [00:00<00:00, 3836.60it/s]\n",
      "Finding Edges...:   0%|          | 5/1000 [00:00<00:21, 45.95it/s]"
     ]
    },
    {
     "name": "stdout",
     "output_type": "stream",
     "text": [
      "downsampled to (200, 3)\n",
      "0238.obj\n"
     ]
    },
    {
     "name": "stderr",
     "output_type": "stream",
     "text": [
      "Finding Edges...: 100%|██████████| 1000/1000 [00:21<00:00, 46.94it/s]\n",
      "Calculating Features...: 100%|██████████| 3000/3000 [00:00<00:00, 3765.40it/s]\n",
      "Finding Edges...:   0%|          | 4/1000 [00:00<00:28, 34.86it/s]"
     ]
    },
    {
     "name": "stdout",
     "output_type": "stream",
     "text": [
      "downsampled to (200, 3)\n",
      "0304.obj\n"
     ]
    },
    {
     "name": "stderr",
     "output_type": "stream",
     "text": [
      "Finding Edges...: 100%|██████████| 1000/1000 [00:21<00:00, 46.79it/s]\n",
      "Calculating Features...: 100%|██████████| 3000/3000 [00:00<00:00, 3467.56it/s]\n",
      "Finding Edges...:   0%|          | 5/1000 [00:00<00:23, 42.58it/s]"
     ]
    },
    {
     "name": "stdout",
     "output_type": "stream",
     "text": [
      "downsampled to (200, 3)\n",
      "0017.obj\n"
     ]
    },
    {
     "name": "stderr",
     "output_type": "stream",
     "text": [
      "Finding Edges...: 100%|██████████| 1000/1000 [00:21<00:00, 46.80it/s]\n",
      "Calculating Features...: 100%|██████████| 3000/3000 [00:00<00:00, 3810.07it/s]\n",
      "Finding Edges...:   0%|          | 4/1000 [00:00<00:26, 38.25it/s]"
     ]
    },
    {
     "name": "stdout",
     "output_type": "stream",
     "text": [
      "downsampled to (200, 3)\n",
      "0010.obj\n"
     ]
    },
    {
     "name": "stderr",
     "output_type": "stream",
     "text": [
      "Finding Edges...: 100%|██████████| 1000/1000 [00:21<00:00, 46.29it/s]\n",
      "Calculating Features...: 100%|██████████| 3000/3000 [00:00<00:00, 3811.97it/s]\n",
      "Finding Edges...:   0%|          | 4/1000 [00:00<00:27, 36.63it/s]"
     ]
    },
    {
     "name": "stdout",
     "output_type": "stream",
     "text": [
      "downsampled to (200, 3)\n",
      "0002.obj\n"
     ]
    },
    {
     "name": "stderr",
     "output_type": "stream",
     "text": [
      "Finding Edges...: 100%|██████████| 1000/1000 [00:21<00:00, 46.90it/s]\n",
      "Calculating Features...: 100%|██████████| 3000/3000 [00:00<00:00, 3689.33it/s]\n",
      "Finding Edges...:   0%|          | 4/1000 [00:00<00:29, 34.02it/s]"
     ]
    },
    {
     "name": "stdout",
     "output_type": "stream",
     "text": [
      "downsampled to (200, 3)\n",
      "0069.obj\n"
     ]
    },
    {
     "name": "stderr",
     "output_type": "stream",
     "text": [
      "Finding Edges...: 100%|██████████| 1000/1000 [00:21<00:00, 46.51it/s]\n",
      "Calculating Features...: 100%|██████████| 3000/3000 [00:00<00:00, 3806.04it/s]\n",
      "Finding Edges...:   0%|          | 5/1000 [00:00<00:21, 46.12it/s]"
     ]
    },
    {
     "name": "stdout",
     "output_type": "stream",
     "text": [
      "0040.obj\n"
     ]
    },
    {
     "name": "stderr",
     "output_type": "stream",
     "text": [
      "Finding Edges...: 100%|██████████| 1000/1000 [00:21<00:00, 47.12it/s]\n",
      "Calculating Features...: 100%|██████████| 3000/3000 [00:00<00:00, 3834.77it/s]\n",
      "Finding Edges...:   0%|          | 4/1000 [00:00<00:25, 38.36it/s]"
     ]
    },
    {
     "name": "stdout",
     "output_type": "stream",
     "text": [
      "downsampled to (200, 3)\n",
      "0056.obj\n"
     ]
    },
    {
     "name": "stderr",
     "output_type": "stream",
     "text": [
      "Finding Edges...: 100%|██████████| 1000/1000 [00:21<00:00, 46.21it/s]\n",
      "Calculating Features...: 100%|██████████| 3000/3000 [00:00<00:00, 3859.54it/s]\n",
      "Finding Edges...:   0%|          | 4/1000 [00:00<00:26, 38.10it/s]"
     ]
    },
    {
     "name": "stdout",
     "output_type": "stream",
     "text": [
      "downsampled to (200, 3)\n",
      "0302.obj\n"
     ]
    },
    {
     "name": "stderr",
     "output_type": "stream",
     "text": [
      "Finding Edges...: 100%|██████████| 1000/1000 [00:21<00:00, 46.60it/s]\n",
      "Calculating Features...: 100%|██████████| 3000/3000 [00:00<00:00, 3645.47it/s]\n",
      "Finding Edges...:   0%|          | 5/1000 [00:00<00:22, 44.43it/s]"
     ]
    },
    {
     "name": "stdout",
     "output_type": "stream",
     "text": [
      "downsampled to (200, 3)\n",
      "0274.obj\n"
     ]
    },
    {
     "name": "stderr",
     "output_type": "stream",
     "text": [
      "Finding Edges...: 100%|██████████| 1000/1000 [00:21<00:00, 45.88it/s]\n",
      "Calculating Features...: 100%|██████████| 3000/3000 [00:00<00:00, 3772.61it/s]\n",
      "Finding Edges...:   0%|          | 4/1000 [00:00<00:25, 39.76it/s]"
     ]
    },
    {
     "name": "stdout",
     "output_type": "stream",
     "text": [
      "downsampled to (200, 3)\n",
      "0234.obj\n"
     ]
    },
    {
     "name": "stderr",
     "output_type": "stream",
     "text": [
      "Finding Edges...: 100%|██████████| 1000/1000 [00:21<00:00, 46.47it/s]\n",
      "Calculating Features...: 100%|██████████| 3000/3000 [00:00<00:00, 3785.69it/s]\n",
      "Finding Edges...:   0%|          | 4/1000 [00:00<00:25, 38.72it/s]"
     ]
    },
    {
     "name": "stdout",
     "output_type": "stream",
     "text": [
      "downsampled to (200, 3)\n",
      "0139.obj\n"
     ]
    },
    {
     "name": "stderr",
     "output_type": "stream",
     "text": [
      "Finding Edges...: 100%|██████████| 1000/1000 [00:21<00:00, 45.97it/s]\n",
      "Calculating Features...: 100%|██████████| 3000/3000 [00:00<00:00, 3739.11it/s]\n",
      "Finding Edges...:   0%|          | 4/1000 [00:00<00:28, 35.28it/s]"
     ]
    },
    {
     "name": "stdout",
     "output_type": "stream",
     "text": [
      "downsampled to (200, 3)\n",
      "0112.obj\n"
     ]
    },
    {
     "name": "stderr",
     "output_type": "stream",
     "text": [
      "Finding Edges...: 100%|██████████| 1000/1000 [00:21<00:00, 46.09it/s]\n",
      "Calculating Features...: 100%|██████████| 3000/3000 [00:00<00:00, 3792.43it/s]\n",
      "Finding Edges...:   0%|          | 4/1000 [00:00<00:26, 37.61it/s]"
     ]
    },
    {
     "name": "stdout",
     "output_type": "stream",
     "text": [
      "downsampled to (200, 3)\n",
      "0027.obj\n"
     ]
    },
    {
     "name": "stderr",
     "output_type": "stream",
     "text": [
      "Finding Edges...: 100%|██████████| 1000/1000 [00:21<00:00, 45.83it/s]\n",
      "Calculating Features...: 100%|██████████| 3000/3000 [00:00<00:00, 3767.36it/s]\n",
      "Finding Edges...:   0%|          | 4/1000 [00:00<00:29, 34.04it/s]"
     ]
    },
    {
     "name": "stdout",
     "output_type": "stream",
     "text": [
      "downsampled to (200, 3)\n",
      "0150.obj\n"
     ]
    },
    {
     "name": "stderr",
     "output_type": "stream",
     "text": [
      "Finding Edges...: 100%|██████████| 1000/1000 [00:21<00:00, 46.53it/s]\n",
      "Calculating Features...: 100%|██████████| 3000/3000 [00:00<00:00, 3669.92it/s]\n",
      "Finding Edges...:   0%|          | 4/1000 [00:00<00:26, 37.10it/s]"
     ]
    },
    {
     "name": "stdout",
     "output_type": "stream",
     "text": [
      "downsampled to (200, 3)\n",
      "0202.obj\n"
     ]
    },
    {
     "name": "stderr",
     "output_type": "stream",
     "text": [
      "Finding Edges...: 100%|██████████| 1000/1000 [00:21<00:00, 46.15it/s]\n",
      "Calculating Features...: 100%|██████████| 3000/3000 [00:00<00:00, 3142.02it/s]\n",
      "Finding Edges...:   0%|          | 4/1000 [00:00<00:25, 39.48it/s]"
     ]
    },
    {
     "name": "stdout",
     "output_type": "stream",
     "text": [
      "downsampled to (200, 3)\n",
      "0062.obj\n"
     ]
    },
    {
     "name": "stderr",
     "output_type": "stream",
     "text": [
      "Finding Edges...: 100%|██████████| 1000/1000 [00:21<00:00, 46.84it/s]\n",
      "Calculating Features...: 100%|██████████| 3000/3000 [00:00<00:00, 3861.39it/s]\n",
      "Finding Edges...:   0%|          | 5/1000 [00:00<00:22, 43.78it/s]"
     ]
    },
    {
     "name": "stdout",
     "output_type": "stream",
     "text": [
      "0276.obj\n"
     ]
    },
    {
     "name": "stderr",
     "output_type": "stream",
     "text": [
      "Finding Edges...: 100%|██████████| 1000/1000 [00:21<00:00, 46.20it/s]\n",
      "Calculating Features...: 100%|██████████| 3000/3000 [00:00<00:00, 3766.28it/s]\n",
      "Finding Edges...:   0%|          | 5/1000 [00:00<00:23, 41.48it/s]"
     ]
    },
    {
     "name": "stdout",
     "output_type": "stream",
     "text": [
      "downsampled to (200, 3)\n",
      "0267.obj\n"
     ]
    },
    {
     "name": "stderr",
     "output_type": "stream",
     "text": [
      "Finding Edges...: 100%|██████████| 1000/1000 [00:21<00:00, 46.67it/s]\n",
      "Calculating Features...: 100%|██████████| 3000/3000 [00:00<00:00, 3714.55it/s]\n",
      "Finding Edges...:   0%|          | 4/1000 [00:00<00:26, 37.52it/s]"
     ]
    },
    {
     "name": "stdout",
     "output_type": "stream",
     "text": [
      "downsampled to (200, 3)\n",
      "0194.obj\n"
     ]
    },
    {
     "name": "stderr",
     "output_type": "stream",
     "text": [
      "Finding Edges...: 100%|██████████| 1000/1000 [00:21<00:00, 45.94it/s]\n",
      "Calculating Features...: 100%|██████████| 3000/3000 [00:00<00:00, 3780.93it/s]\n",
      "Finding Edges...:   0%|          | 5/1000 [00:00<00:23, 42.41it/s]"
     ]
    },
    {
     "name": "stdout",
     "output_type": "stream",
     "text": [
      "downsampled to (200, 3)\n",
      "0326.obj\n"
     ]
    },
    {
     "name": "stderr",
     "output_type": "stream",
     "text": [
      "Finding Edges...: 100%|██████████| 1000/1000 [00:21<00:00, 46.92it/s]\n",
      "Calculating Features...: 100%|██████████| 3000/3000 [00:00<00:00, 3717.74it/s]\n",
      "Finding Edges...:   0%|          | 4/1000 [00:00<00:26, 37.41it/s]"
     ]
    },
    {
     "name": "stdout",
     "output_type": "stream",
     "text": [
      "downsampled to (200, 3)\n",
      "0015.obj\n"
     ]
    },
    {
     "name": "stderr",
     "output_type": "stream",
     "text": [
      "Finding Edges...: 100%|██████████| 1000/1000 [00:21<00:00, 46.03it/s]\n",
      "Calculating Features...: 100%|██████████| 3000/3000 [00:00<00:00, 3727.48it/s]\n",
      "Finding Edges...:   0%|          | 4/1000 [00:00<00:26, 37.02it/s]"
     ]
    },
    {
     "name": "stdout",
     "output_type": "stream",
     "text": [
      "downsampled to (200, 3)\n",
      "0260.obj\n"
     ]
    },
    {
     "name": "stderr",
     "output_type": "stream",
     "text": [
      "Finding Edges...: 100%|██████████| 1000/1000 [00:21<00:00, 45.57it/s]\n",
      "Calculating Features...: 100%|██████████| 3000/3000 [00:00<00:00, 3664.01it/s]\n",
      "Finding Edges...:   0%|          | 4/1000 [00:00<00:26, 37.49it/s]"
     ]
    },
    {
     "name": "stdout",
     "output_type": "stream",
     "text": [
      "downsampled to (200, 3)\n",
      "0232.obj\n"
     ]
    },
    {
     "name": "stderr",
     "output_type": "stream",
     "text": [
      "Finding Edges...: 100%|██████████| 1000/1000 [00:27<00:00, 36.58it/s]\n",
      "Calculating Features...: 100%|██████████| 3000/3000 [00:01<00:00, 2915.53it/s]\n",
      "Finding Edges...:   0%|          | 3/1000 [00:00<00:41, 23.89it/s]"
     ]
    },
    {
     "name": "stdout",
     "output_type": "stream",
     "text": [
      "downsampled to (200, 3)\n",
      "0084.obj\n"
     ]
    },
    {
     "name": "stderr",
     "output_type": "stream",
     "text": [
      "Finding Edges...: 100%|██████████| 1000/1000 [00:25<00:00, 39.91it/s]\n",
      "Calculating Features...: 100%|██████████| 3000/3000 [00:00<00:00, 3739.99it/s]\n",
      "Finding Edges...:   0%|          | 4/1000 [00:00<00:26, 37.43it/s]"
     ]
    },
    {
     "name": "stdout",
     "output_type": "stream",
     "text": [
      "downsampled to (200, 3)\n",
      "0362.obj\n"
     ]
    },
    {
     "name": "stderr",
     "output_type": "stream",
     "text": [
      "Finding Edges...: 100%|██████████| 1000/1000 [00:22<00:00, 43.86it/s]\n",
      "Calculating Features...: 100%|██████████| 3000/3000 [00:00<00:00, 3086.10it/s]\n",
      "Finding Edges...:   0%|          | 3/1000 [00:00<00:40, 24.39it/s]"
     ]
    },
    {
     "name": "stdout",
     "output_type": "stream",
     "text": [
      "downsampled to (200, 3)\n",
      "0183.obj\n"
     ]
    },
    {
     "name": "stderr",
     "output_type": "stream",
     "text": [
      "Finding Edges...: 100%|██████████| 1000/1000 [00:27<00:00, 35.77it/s]\n",
      "Calculating Features...: 100%|██████████| 3000/3000 [00:00<00:00, 3168.08it/s]\n",
      "Finding Edges...:   0%|          | 4/1000 [00:00<00:27, 35.80it/s]"
     ]
    },
    {
     "name": "stdout",
     "output_type": "stream",
     "text": [
      "downsampled to (200, 3)\n",
      "0137.obj\n"
     ]
    },
    {
     "name": "stderr",
     "output_type": "stream",
     "text": [
      "Finding Edges...: 100%|██████████| 1000/1000 [00:22<00:00, 45.03it/s]\n",
      "Calculating Features...: 100%|██████████| 3000/3000 [00:00<00:00, 3864.11it/s]\n",
      "Finding Edges...:   0%|          | 5/1000 [00:00<00:21, 47.19it/s]"
     ]
    },
    {
     "name": "stdout",
     "output_type": "stream",
     "text": [
      "downsampled to (200, 3)\n",
      "0133.obj\n"
     ]
    },
    {
     "name": "stderr",
     "output_type": "stream",
     "text": [
      "Finding Edges...: 100%|██████████| 1000/1000 [00:20<00:00, 49.77it/s]\n",
      "Calculating Features...: 100%|██████████| 3000/3000 [00:00<00:00, 4041.21it/s]\n",
      "Finding Edges...:   0%|          | 5/1000 [00:00<00:21, 46.07it/s]"
     ]
    },
    {
     "name": "stdout",
     "output_type": "stream",
     "text": [
      "downsampled to (200, 3)\n",
      "0154.obj\n"
     ]
    },
    {
     "name": "stderr",
     "output_type": "stream",
     "text": [
      "Finding Edges...: 100%|██████████| 1000/1000 [00:20<00:00, 49.12it/s]\n",
      "Calculating Features...: 100%|██████████| 3000/3000 [00:00<00:00, 3965.69it/s]\n",
      "Finding Edges...:   0%|          | 5/1000 [00:00<00:22, 43.27it/s]"
     ]
    },
    {
     "name": "stdout",
     "output_type": "stream",
     "text": [
      "downsampled to (200, 3)\n",
      "0161.obj\n"
     ]
    },
    {
     "name": "stderr",
     "output_type": "stream",
     "text": [
      "Finding Edges...: 100%|██████████| 1000/1000 [00:19<00:00, 50.08it/s]\n",
      "Calculating Features...: 100%|██████████| 3000/3000 [00:00<00:00, 4056.98it/s]\n",
      "Finding Edges...:   0%|          | 5/1000 [00:00<00:20, 48.30it/s]"
     ]
    },
    {
     "name": "stdout",
     "output_type": "stream",
     "text": [
      "downsampled to (200, 3)\n",
      "0034.obj\n"
     ]
    },
    {
     "name": "stderr",
     "output_type": "stream",
     "text": [
      "Finding Edges...: 100%|██████████| 1000/1000 [00:20<00:00, 47.66it/s]\n",
      "Calculating Features...: 100%|██████████| 3000/3000 [00:00<00:00, 3897.61it/s]\n",
      "Finding Edges...:   0%|          | 5/1000 [00:00<00:22, 45.11it/s]"
     ]
    },
    {
     "name": "stdout",
     "output_type": "stream",
     "text": [
      "downsampled to (200, 3)\n",
      "0328.obj\n"
     ]
    },
    {
     "name": "stderr",
     "output_type": "stream",
     "text": [
      "Finding Edges...: 100%|██████████| 1000/1000 [00:21<00:00, 47.24it/s]\n",
      "Calculating Features...: 100%|██████████| 3000/3000 [00:00<00:00, 4155.08it/s]\n",
      "Finding Edges...:   0%|          | 5/1000 [00:00<00:21, 47.20it/s]"
     ]
    },
    {
     "name": "stdout",
     "output_type": "stream",
     "text": [
      "downsampled to (200, 3)\n",
      "0068.obj\n"
     ]
    },
    {
     "name": "stderr",
     "output_type": "stream",
     "text": [
      "Finding Edges...: 100%|██████████| 1000/1000 [00:26<00:00, 38.31it/s]\n",
      "Calculating Features...: 100%|██████████| 3000/3000 [00:00<00:00, 3949.65it/s]\n",
      "Finding Edges...:   0%|          | 5/1000 [00:00<00:23, 42.43it/s]"
     ]
    },
    {
     "name": "stdout",
     "output_type": "stream",
     "text": [
      "downsampled to (200, 3)\n",
      "0018.obj\n"
     ]
    },
    {
     "name": "stderr",
     "output_type": "stream",
     "text": [
      "Finding Edges...: 100%|██████████| 1000/1000 [00:22<00:00, 44.69it/s]\n",
      "Calculating Features...: 100%|██████████| 3000/3000 [00:00<00:00, 3891.83it/s]\n",
      "Finding Edges...:   0%|          | 5/1000 [00:00<00:22, 43.90it/s]"
     ]
    },
    {
     "name": "stdout",
     "output_type": "stream",
     "text": [
      "downsampled to (200, 3)\n",
      "0233.obj\n"
     ]
    },
    {
     "name": "stderr",
     "output_type": "stream",
     "text": [
      "Finding Edges...: 100%|██████████| 1000/1000 [00:24<00:00, 41.18it/s]\n",
      "Calculating Features...: 100%|██████████| 3000/3000 [00:00<00:00, 3888.21it/s]\n",
      "Finding Edges...:   0%|          | 5/1000 [00:00<00:20, 47.47it/s]"
     ]
    },
    {
     "name": "stdout",
     "output_type": "stream",
     "text": [
      "downsampled to (200, 3)\n",
      "0045.obj\n"
     ]
    },
    {
     "name": "stderr",
     "output_type": "stream",
     "text": [
      "Finding Edges...: 100%|██████████| 1000/1000 [00:20<00:00, 49.25it/s]\n",
      "Calculating Features...: 100%|██████████| 3000/3000 [00:00<00:00, 3994.49it/s]\n",
      "Finding Edges...:   0%|          | 5/1000 [00:00<00:22, 43.59it/s]"
     ]
    },
    {
     "name": "stdout",
     "output_type": "stream",
     "text": [
      "downsampled to (200, 3)\n",
      "0373.obj\n"
     ]
    },
    {
     "name": "stderr",
     "output_type": "stream",
     "text": [
      "Finding Edges...: 100%|██████████| 1000/1000 [00:23<00:00, 41.98it/s]\n",
      "Calculating Features...: 100%|██████████| 3000/3000 [00:00<00:00, 3857.15it/s]\n",
      "Finding Edges...:   0%|          | 5/1000 [00:00<00:25, 39.74it/s]"
     ]
    },
    {
     "name": "stdout",
     "output_type": "stream",
     "text": [
      "downsampled to (200, 3)\n",
      "0116.obj\n"
     ]
    },
    {
     "name": "stderr",
     "output_type": "stream",
     "text": [
      "Finding Edges...: 100%|██████████| 1000/1000 [00:23<00:00, 42.86it/s]\n",
      "Calculating Features...: 100%|██████████| 3000/3000 [00:00<00:00, 4085.96it/s]\n",
      "Finding Edges...:   0%|          | 5/1000 [00:00<00:20, 48.69it/s]"
     ]
    },
    {
     "name": "stdout",
     "output_type": "stream",
     "text": [
      "downsampled to (200, 3)\n",
      "0287.obj\n"
     ]
    },
    {
     "name": "stderr",
     "output_type": "stream",
     "text": [
      "Finding Edges...: 100%|██████████| 1000/1000 [00:20<00:00, 48.41it/s]\n",
      "Calculating Features...: 100%|██████████| 3000/3000 [00:00<00:00, 3545.30it/s]\n",
      "Finding Edges...:   0%|          | 5/1000 [00:00<00:22, 43.97it/s]"
     ]
    },
    {
     "name": "stdout",
     "output_type": "stream",
     "text": [
      "downsampled to (200, 3)\n",
      "0293.obj\n"
     ]
    },
    {
     "name": "stderr",
     "output_type": "stream",
     "text": [
      "Finding Edges...: 100%|██████████| 1000/1000 [00:21<00:00, 47.59it/s]\n",
      "Calculating Features...: 100%|██████████| 3000/3000 [00:00<00:00, 3813.80it/s]\n",
      "Finding Edges...:   0%|          | 5/1000 [00:00<00:23, 43.12it/s]"
     ]
    },
    {
     "name": "stdout",
     "output_type": "stream",
     "text": [
      "downsampled to (200, 3)\n",
      "0086.obj\n"
     ]
    },
    {
     "name": "stderr",
     "output_type": "stream",
     "text": [
      "Finding Edges...: 100%|██████████| 1000/1000 [00:21<00:00, 46.04it/s]\n",
      "Calculating Features...: 100%|██████████| 3000/3000 [00:00<00:00, 3827.96it/s]\n",
      "Finding Edges...:   0%|          | 5/1000 [00:00<00:22, 44.32it/s]"
     ]
    },
    {
     "name": "stdout",
     "output_type": "stream",
     "text": [
      "downsampled to (200, 3)\n",
      "0311.obj\n"
     ]
    },
    {
     "name": "stderr",
     "output_type": "stream",
     "text": [
      "Finding Edges...: 100%|██████████| 1000/1000 [00:22<00:00, 43.75it/s]\n",
      "Calculating Features...: 100%|██████████| 3000/3000 [00:00<00:00, 3397.20it/s]\n",
      "Finding Edges...:   0%|          | 4/1000 [00:00<00:29, 34.30it/s]"
     ]
    },
    {
     "name": "stdout",
     "output_type": "stream",
     "text": [
      "downsampled to (200, 3)\n",
      "0016.obj\n"
     ]
    },
    {
     "name": "stderr",
     "output_type": "stream",
     "text": [
      "Finding Edges...: 100%|██████████| 1000/1000 [00:25<00:00, 38.75it/s]\n",
      "Calculating Features...: 100%|██████████| 3000/3000 [00:01<00:00, 2045.50it/s]\n",
      "Finding Edges...:   0%|          | 3/1000 [00:00<00:39, 25.54it/s]"
     ]
    },
    {
     "name": "stdout",
     "output_type": "stream",
     "text": [
      "downsampled to (200, 3)\n",
      "0235.obj\n"
     ]
    },
    {
     "name": "stderr",
     "output_type": "stream",
     "text": [
      "Finding Edges...: 100%|██████████| 1000/1000 [00:22<00:00, 44.19it/s]\n",
      "Calculating Features...: 100%|██████████| 3000/3000 [00:00<00:00, 3679.63it/s]\n",
      "Finding Edges...:   0%|          | 5/1000 [00:00<00:23, 42.24it/s]"
     ]
    },
    {
     "name": "stdout",
     "output_type": "stream",
     "text": [
      "downsampled to (200, 3)\n",
      "0230.obj\n"
     ]
    },
    {
     "name": "stderr",
     "output_type": "stream",
     "text": [
      "Finding Edges...: 100%|██████████| 1000/1000 [00:20<00:00, 47.74it/s]\n",
      "Calculating Features...: 100%|██████████| 3000/3000 [00:00<00:00, 4066.68it/s]\n",
      "Finding Edges...:   0%|          | 5/1000 [00:00<00:21, 46.10it/s]"
     ]
    },
    {
     "name": "stdout",
     "output_type": "stream",
     "text": [
      "downsampled to (200, 3)\n",
      "0004.obj\n"
     ]
    },
    {
     "name": "stderr",
     "output_type": "stream",
     "text": [
      "Finding Edges...: 100%|██████████| 1000/1000 [00:20<00:00, 48.74it/s]\n",
      "Calculating Features...: 100%|██████████| 3000/3000 [00:00<00:00, 4024.97it/s]\n",
      "Finding Edges...:   0%|          | 5/1000 [00:00<00:21, 46.01it/s]"
     ]
    },
    {
     "name": "stdout",
     "output_type": "stream",
     "text": [
      "downsampled to (200, 3)\n",
      "0320.obj\n"
     ]
    },
    {
     "name": "stderr",
     "output_type": "stream",
     "text": [
      "Finding Edges...: 100%|██████████| 1000/1000 [00:20<00:00, 47.94it/s]\n",
      "Calculating Features...: 100%|██████████| 3000/3000 [00:00<00:00, 3851.84it/s]\n",
      "Finding Edges...:   0%|          | 4/1000 [00:00<00:25, 39.00it/s]"
     ]
    },
    {
     "name": "stdout",
     "output_type": "stream",
     "text": [
      "downsampled to (200, 3)\n",
      "0313.obj\n"
     ]
    },
    {
     "name": "stderr",
     "output_type": "stream",
     "text": [
      "Finding Edges...: 100%|██████████| 1000/1000 [00:20<00:00, 48.17it/s]\n",
      "Calculating Features...: 100%|██████████| 3000/3000 [00:00<00:00, 3825.71it/s]\n",
      "Finding Edges...:   0%|          | 5/1000 [00:00<00:23, 42.57it/s]"
     ]
    },
    {
     "name": "stdout",
     "output_type": "stream",
     "text": [
      "downsampled to (200, 3)\n",
      "0078.obj\n"
     ]
    },
    {
     "name": "stderr",
     "output_type": "stream",
     "text": [
      "Finding Edges...: 100%|██████████| 1000/1000 [00:20<00:00, 47.90it/s]\n",
      "Calculating Features...: 100%|██████████| 3000/3000 [00:00<00:00, 3924.34it/s]\n",
      "Finding Edges...:   0%|          | 5/1000 [00:00<00:21, 46.07it/s]"
     ]
    },
    {
     "name": "stdout",
     "output_type": "stream",
     "text": [
      "downsampled to (200, 3)\n",
      "0340.obj\n"
     ]
    },
    {
     "name": "stderr",
     "output_type": "stream",
     "text": [
      "Finding Edges...: 100%|██████████| 1000/1000 [00:20<00:00, 48.90it/s]\n",
      "Calculating Features...: 100%|██████████| 3000/3000 [00:00<00:00, 4039.84it/s]\n",
      "Finding Edges...:   0%|          | 5/1000 [00:00<00:21, 46.47it/s]"
     ]
    },
    {
     "name": "stdout",
     "output_type": "stream",
     "text": [
      "downsampled to (200, 3)\n",
      "0364.obj\n"
     ]
    },
    {
     "name": "stderr",
     "output_type": "stream",
     "text": [
      "Finding Edges...: 100%|██████████| 1000/1000 [00:23<00:00, 42.57it/s]\n",
      "Calculating Features...: 100%|██████████| 3000/3000 [00:00<00:00, 3541.70it/s]\n",
      "Finding Edges...:   0%|          | 5/1000 [00:00<00:23, 43.19it/s]"
     ]
    },
    {
     "name": "stdout",
     "output_type": "stream",
     "text": [
      "downsampled to (200, 3)\n",
      "0007.obj\n"
     ]
    },
    {
     "name": "stderr",
     "output_type": "stream",
     "text": [
      "Finding Edges...: 100%|██████████| 1000/1000 [00:22<00:00, 44.28it/s]\n",
      "Calculating Features...: 100%|██████████| 3000/3000 [00:00<00:00, 3951.70it/s]\n",
      "Finding Edges...:   0%|          | 3/1000 [00:00<00:40, 24.61it/s]"
     ]
    },
    {
     "name": "stdout",
     "output_type": "stream",
     "text": [
      "downsampled to (200, 3)\n",
      "0003.obj\n"
     ]
    },
    {
     "name": "stderr",
     "output_type": "stream",
     "text": [
      "Finding Edges...: 100%|██████████| 1000/1000 [00:24<00:00, 41.29it/s]\n",
      "Calculating Features...: 100%|██████████| 3000/3000 [00:00<00:00, 3626.88it/s]\n",
      "Finding Edges...:   0%|          | 3/1000 [00:00<00:44, 22.26it/s]"
     ]
    },
    {
     "name": "stdout",
     "output_type": "stream",
     "text": [
      "downsampled to (200, 3)\n",
      "0319.obj\n"
     ]
    },
    {
     "name": "stderr",
     "output_type": "stream",
     "text": [
      "Finding Edges...: 100%|██████████| 1000/1000 [00:25<00:00, 39.21it/s]\n",
      "Calculating Features...: 100%|██████████| 3000/3000 [00:00<00:00, 3654.95it/s]\n",
      "Finding Edges...:   0%|          | 4/1000 [00:00<00:27, 36.47it/s]"
     ]
    },
    {
     "name": "stdout",
     "output_type": "stream",
     "text": [
      "downsampled to (200, 3)\n",
      "0327.obj\n"
     ]
    },
    {
     "name": "stderr",
     "output_type": "stream",
     "text": [
      "Finding Edges...: 100%|██████████| 1000/1000 [00:24<00:00, 40.56it/s]\n",
      "Calculating Features...: 100%|██████████| 3000/3000 [00:00<00:00, 3810.03it/s]\n",
      "Finding Edges...:   0%|          | 5/1000 [00:00<00:22, 44.22it/s]"
     ]
    },
    {
     "name": "stdout",
     "output_type": "stream",
     "text": [
      "downsampled to (200, 3)\n",
      "0198.obj\n"
     ]
    },
    {
     "name": "stderr",
     "output_type": "stream",
     "text": [
      "Finding Edges...: 100%|██████████| 1000/1000 [00:23<00:00, 43.30it/s]\n",
      "Calculating Features...: 100%|██████████| 3000/3000 [00:01<00:00, 2388.34it/s]\n",
      "Finding Edges...:   0%|          | 4/1000 [00:00<00:27, 36.57it/s]"
     ]
    },
    {
     "name": "stdout",
     "output_type": "stream",
     "text": [
      "downsampled to (200, 3)\n",
      "0186.obj\n"
     ]
    },
    {
     "name": "stderr",
     "output_type": "stream",
     "text": [
      "Finding Edges...: 100%|██████████| 1000/1000 [00:22<00:00, 45.43it/s]\n",
      "Calculating Features...: 100%|██████████| 3000/3000 [00:00<00:00, 4027.78it/s]\n",
      "Finding Edges...:   0%|          | 5/1000 [00:00<00:20, 47.97it/s]"
     ]
    },
    {
     "name": "stdout",
     "output_type": "stream",
     "text": [
      "downsampled to (200, 3)\n",
      "0032.obj\n"
     ]
    },
    {
     "name": "stderr",
     "output_type": "stream",
     "text": [
      "Finding Edges...: 100%|██████████| 1000/1000 [00:21<00:00, 46.61it/s]\n",
      "Calculating Features...: 100%|██████████| 3000/3000 [00:00<00:00, 3945.90it/s]\n",
      "Finding Edges...:   0%|          | 5/1000 [00:00<00:21, 47.29it/s]"
     ]
    },
    {
     "name": "stdout",
     "output_type": "stream",
     "text": [
      "downsampled to (200, 3)\n",
      "0141.obj\n"
     ]
    },
    {
     "name": "stderr",
     "output_type": "stream",
     "text": [
      "Finding Edges...: 100%|██████████| 1000/1000 [00:20<00:00, 48.33it/s]\n",
      "Calculating Features...: 100%|██████████| 3000/3000 [00:00<00:00, 3368.66it/s]\n",
      "Finding Edges...:   0%|          | 5/1000 [00:00<00:21, 46.99it/s]"
     ]
    },
    {
     "name": "stdout",
     "output_type": "stream",
     "text": [
      "downsampled to (200, 3)\n",
      "0318.obj\n"
     ]
    },
    {
     "name": "stderr",
     "output_type": "stream",
     "text": [
      "Finding Edges...: 100%|██████████| 1000/1000 [00:20<00:00, 48.01it/s]\n",
      "Calculating Features...: 100%|██████████| 3000/3000 [00:00<00:00, 4033.13it/s]\n",
      "Finding Edges...:   0%|          | 5/1000 [00:00<00:21, 45.28it/s]"
     ]
    },
    {
     "name": "stdout",
     "output_type": "stream",
     "text": [
      "downsampled to (200, 3)\n",
      "0285.obj\n"
     ]
    },
    {
     "name": "stderr",
     "output_type": "stream",
     "text": [
      "Finding Edges...: 100%|██████████| 1000/1000 [00:20<00:00, 47.70it/s]\n",
      "Calculating Features...: 100%|██████████| 3000/3000 [00:00<00:00, 3954.27it/s]\n",
      "Finding Edges...:   0%|          | 5/1000 [00:00<00:20, 48.55it/s]"
     ]
    },
    {
     "name": "stdout",
     "output_type": "stream",
     "text": [
      "downsampled to (200, 3)\n",
      "0366.obj\n"
     ]
    },
    {
     "name": "stderr",
     "output_type": "stream",
     "text": [
      "Finding Edges...: 100%|██████████| 1000/1000 [00:20<00:00, 48.57it/s]\n",
      "Calculating Features...: 100%|██████████| 3000/3000 [00:00<00:00, 4027.04it/s]\n",
      "Finding Edges...:   0%|          | 4/1000 [00:00<00:26, 38.10it/s]"
     ]
    },
    {
     "name": "stdout",
     "output_type": "stream",
     "text": [
      "downsampled to (200, 3)\n",
      "0246.obj\n"
     ]
    },
    {
     "name": "stderr",
     "output_type": "stream",
     "text": [
      "Finding Edges...: 100%|██████████| 1000/1000 [00:21<00:00, 47.42it/s]\n",
      "Calculating Features...: 100%|██████████| 3000/3000 [00:00<00:00, 4072.50it/s]\n",
      "Finding Edges...:   0%|          | 5/1000 [00:00<00:21, 45.72it/s]"
     ]
    },
    {
     "name": "stdout",
     "output_type": "stream",
     "text": [
      "downsampled to (200, 3)\n",
      "0196.obj\n"
     ]
    },
    {
     "name": "stderr",
     "output_type": "stream",
     "text": [
      "Finding Edges...: 100%|██████████| 1000/1000 [00:20<00:00, 48.55it/s]\n",
      "Calculating Features...: 100%|██████████| 3000/3000 [00:00<00:00, 4050.02it/s]\n",
      "Finding Edges...:   0%|          | 5/1000 [00:00<00:22, 44.84it/s]"
     ]
    },
    {
     "name": "stdout",
     "output_type": "stream",
     "text": [
      "downsampled to (200, 3)\n",
      "0121.obj\n"
     ]
    },
    {
     "name": "stderr",
     "output_type": "stream",
     "text": [
      "Finding Edges...: 100%|██████████| 1000/1000 [00:20<00:00, 48.03it/s]\n",
      "Calculating Features...: 100%|██████████| 3000/3000 [00:00<00:00, 3704.73it/s]\n",
      "Finding Edges...:   0%|          | 5/1000 [00:00<00:21, 45.46it/s]"
     ]
    },
    {
     "name": "stdout",
     "output_type": "stream",
     "text": [
      "downsampled to (200, 3)\n",
      "0134.obj\n"
     ]
    },
    {
     "name": "stderr",
     "output_type": "stream",
     "text": [
      "Finding Edges...: 100%|██████████| 1000/1000 [00:20<00:00, 48.51it/s]\n",
      "Calculating Features...: 100%|██████████| 3000/3000 [00:00<00:00, 3886.75it/s]\n",
      "Finding Edges...:   0%|          | 5/1000 [00:00<00:21, 46.77it/s]"
     ]
    },
    {
     "name": "stdout",
     "output_type": "stream",
     "text": [
      "downsampled to (200, 3)\n",
      "0343.obj\n"
     ]
    },
    {
     "name": "stderr",
     "output_type": "stream",
     "text": [
      "Finding Edges...: 100%|██████████| 1000/1000 [00:21<00:00, 47.41it/s]\n",
      "Calculating Features...: 100%|██████████| 3000/3000 [00:00<00:00, 3780.99it/s]\n",
      "Finding Edges...:   0%|          | 4/1000 [00:00<00:25, 39.51it/s]"
     ]
    },
    {
     "name": "stdout",
     "output_type": "stream",
     "text": [
      "downsampled to (200, 3)\n",
      "0013.obj\n"
     ]
    },
    {
     "name": "stderr",
     "output_type": "stream",
     "text": [
      "Finding Edges...: 100%|██████████| 1000/1000 [00:20<00:00, 47.71it/s]\n",
      "Calculating Features...: 100%|██████████| 3000/3000 [00:00<00:00, 3901.13it/s]\n",
      "Finding Edges...:   0%|          | 4/1000 [00:00<00:30, 32.88it/s]"
     ]
    },
    {
     "name": "stdout",
     "output_type": "stream",
     "text": [
      "downsampled to (200, 3)\n",
      "0289.obj\n"
     ]
    },
    {
     "name": "stderr",
     "output_type": "stream",
     "text": [
      "Finding Edges...: 100%|██████████| 1000/1000 [00:20<00:00, 47.72it/s]\n",
      "Calculating Features...: 100%|██████████| 3000/3000 [00:00<00:00, 3491.99it/s]\n",
      "Finding Edges...:   0%|          | 5/1000 [00:00<00:21, 47.18it/s]"
     ]
    },
    {
     "name": "stdout",
     "output_type": "stream",
     "text": [
      "downsampled to (200, 3)\n",
      "0241.obj\n"
     ]
    },
    {
     "name": "stderr",
     "output_type": "stream",
     "text": [
      "Finding Edges...: 100%|██████████| 1000/1000 [00:20<00:00, 48.14it/s]\n",
      "Calculating Features...: 100%|██████████| 3000/3000 [00:00<00:00, 3904.20it/s]\n",
      "Finding Edges...:   0%|          | 4/1000 [00:00<00:26, 38.02it/s]"
     ]
    },
    {
     "name": "stdout",
     "output_type": "stream",
     "text": [
      "downsampled to (200, 3)\n",
      "0026.obj\n"
     ]
    },
    {
     "name": "stderr",
     "output_type": "stream",
     "text": [
      "Finding Edges...: 100%|██████████| 1000/1000 [00:20<00:00, 47.96it/s]\n",
      "Calculating Features...: 100%|██████████| 3000/3000 [00:00<00:00, 3846.08it/s]\n",
      "Finding Edges...:   0%|          | 5/1000 [00:00<00:21, 46.07it/s]"
     ]
    },
    {
     "name": "stdout",
     "output_type": "stream",
     "text": [
      "downsampled to (200, 3)\n",
      "0060.obj\n"
     ]
    },
    {
     "name": "stderr",
     "output_type": "stream",
     "text": [
      "Finding Edges...: 100%|██████████| 1000/1000 [00:20<00:00, 48.58it/s]\n",
      "Calculating Features...: 100%|██████████| 3000/3000 [00:00<00:00, 3886.36it/s]\n",
      "Finding Edges...:   0%|          | 4/1000 [00:00<00:28, 35.24it/s]"
     ]
    },
    {
     "name": "stdout",
     "output_type": "stream",
     "text": [
      "downsampled to (200, 3)\n",
      "0387.obj\n"
     ]
    },
    {
     "name": "stderr",
     "output_type": "stream",
     "text": [
      "Finding Edges...: 100%|██████████| 1000/1000 [00:20<00:00, 47.68it/s]\n",
      "Calculating Features...: 100%|██████████| 3000/3000 [00:00<00:00, 3791.67it/s]\n",
      "Finding Edges...:   0%|          | 5/1000 [00:00<00:20, 48.61it/s]"
     ]
    },
    {
     "name": "stdout",
     "output_type": "stream",
     "text": [
      "downsampled to (200, 3)\n",
      "0047.obj\n"
     ]
    },
    {
     "name": "stderr",
     "output_type": "stream",
     "text": [
      "Finding Edges...: 100%|██████████| 1000/1000 [00:20<00:00, 48.44it/s]\n",
      "Calculating Features...: 100%|██████████| 3000/3000 [00:00<00:00, 3932.86it/s]\n",
      "Finding Edges...:   0%|          | 5/1000 [00:00<00:22, 45.14it/s]"
     ]
    },
    {
     "name": "stdout",
     "output_type": "stream",
     "text": [
      "downsampled to (200, 3)\n",
      "0135.obj\n"
     ]
    },
    {
     "name": "stderr",
     "output_type": "stream",
     "text": [
      "Finding Edges...: 100%|██████████| 1000/1000 [00:20<00:00, 47.75it/s]\n",
      "Calculating Features...: 100%|██████████| 3000/3000 [00:00<00:00, 3770.74it/s]\n",
      "Finding Edges...:   0%|          | 5/1000 [00:00<00:20, 49.19it/s]"
     ]
    },
    {
     "name": "stdout",
     "output_type": "stream",
     "text": [
      "downsampled to (200, 3)\n",
      "0185.obj\n"
     ]
    },
    {
     "name": "stderr",
     "output_type": "stream",
     "text": [
      "Finding Edges...: 100%|██████████| 1000/1000 [00:20<00:00, 48.35it/s]\n",
      "Calculating Features...: 100%|██████████| 3000/3000 [00:00<00:00, 4065.66it/s]\n",
      "Finding Edges...:   0%|          | 5/1000 [00:00<00:23, 42.49it/s]"
     ]
    },
    {
     "name": "stdout",
     "output_type": "stream",
     "text": [
      "downsampled to (200, 3)\n",
      "0157.obj\n"
     ]
    },
    {
     "name": "stderr",
     "output_type": "stream",
     "text": [
      "Finding Edges...: 100%|██████████| 1000/1000 [00:20<00:00, 48.14it/s]\n",
      "Calculating Features...: 100%|██████████| 3000/3000 [00:00<00:00, 3918.96it/s]\n",
      "Finding Edges...:   0%|          | 5/1000 [00:00<00:20, 47.63it/s]"
     ]
    },
    {
     "name": "stdout",
     "output_type": "stream",
     "text": [
      "downsampled to (200, 3)\n",
      "0125.obj\n"
     ]
    },
    {
     "name": "stderr",
     "output_type": "stream",
     "text": [
      "Finding Edges...: 100%|██████████| 1000/1000 [00:20<00:00, 48.58it/s]\n",
      "Calculating Features...: 100%|██████████| 3000/3000 [00:00<00:00, 3960.56it/s]\n",
      "Finding Edges...:   0%|          | 5/1000 [00:00<00:23, 41.80it/s]"
     ]
    },
    {
     "name": "stdout",
     "output_type": "stream",
     "text": [
      "downsampled to (200, 3)\n",
      "0393.obj\n"
     ]
    },
    {
     "name": "stderr",
     "output_type": "stream",
     "text": [
      "Finding Edges...: 100%|██████████| 1000/1000 [00:20<00:00, 48.49it/s]\n",
      "Calculating Features...: 100%|██████████| 3000/3000 [00:00<00:00, 3960.91it/s]\n",
      "Finding Edges...:   0%|          | 5/1000 [00:00<00:21, 45.37it/s]"
     ]
    },
    {
     "name": "stdout",
     "output_type": "stream",
     "text": [
      "downsampled to (200, 3)\n",
      "0301.obj\n"
     ]
    },
    {
     "name": "stderr",
     "output_type": "stream",
     "text": [
      "Finding Edges...: 100%|██████████| 1000/1000 [00:20<00:00, 48.29it/s]\n",
      "Calculating Features...: 100%|██████████| 3000/3000 [00:00<00:00, 3970.19it/s]\n",
      "Finding Edges...:   0%|          | 4/1000 [00:00<00:26, 37.98it/s]"
     ]
    },
    {
     "name": "stdout",
     "output_type": "stream",
     "text": [
      "downsampled to (200, 3)\n",
      "0363.obj\n"
     ]
    },
    {
     "name": "stderr",
     "output_type": "stream",
     "text": [
      "Finding Edges...: 100%|██████████| 1000/1000 [00:20<00:00, 48.01it/s]\n",
      "Calculating Features...: 100%|██████████| 3000/3000 [00:00<00:00, 3908.16it/s]\n",
      "Finding Edges...:   0%|          | 5/1000 [00:00<00:22, 44.76it/s]"
     ]
    },
    {
     "name": "stdout",
     "output_type": "stream",
     "text": [
      "downsampled to (200, 3)\n",
      "0213.obj\n"
     ]
    },
    {
     "name": "stderr",
     "output_type": "stream",
     "text": [
      "Finding Edges...: 100%|██████████| 1000/1000 [00:20<00:00, 48.68it/s]\n",
      "Calculating Features...: 100%|██████████| 3000/3000 [00:00<00:00, 3931.86it/s]\n",
      "Finding Edges...:   0%|          | 4/1000 [00:00<00:29, 33.72it/s]"
     ]
    },
    {
     "name": "stdout",
     "output_type": "stream",
     "text": [
      "downsampled to (200, 3)\n",
      "0253.obj\n"
     ]
    },
    {
     "name": "stderr",
     "output_type": "stream",
     "text": [
      "Finding Edges...: 100%|██████████| 1000/1000 [00:21<00:00, 47.04it/s]\n",
      "Calculating Features...: 100%|██████████| 3000/3000 [00:00<00:00, 3967.34it/s]\n",
      "Finding Edges...:   0%|          | 5/1000 [00:00<00:21, 46.52it/s]"
     ]
    },
    {
     "name": "stdout",
     "output_type": "stream",
     "text": [
      "downsampled to (200, 3)\n",
      "0386.obj\n"
     ]
    },
    {
     "name": "stderr",
     "output_type": "stream",
     "text": [
      "Finding Edges...: 100%|██████████| 1000/1000 [00:20<00:00, 47.76it/s]\n",
      "Calculating Features...: 100%|██████████| 3000/3000 [00:00<00:00, 3982.97it/s]\n",
      "Finding Edges...:   0%|          | 5/1000 [00:00<00:22, 44.91it/s]"
     ]
    },
    {
     "name": "stdout",
     "output_type": "stream",
     "text": [
      "downsampled to (200, 3)\n",
      "0375.obj\n"
     ]
    },
    {
     "name": "stderr",
     "output_type": "stream",
     "text": [
      "Finding Edges...: 100%|██████████| 1000/1000 [00:20<00:00, 47.92it/s]\n",
      "Calculating Features...: 100%|██████████| 3000/3000 [00:00<00:00, 3901.70it/s]\n",
      "Finding Edges...:   0%|          | 4/1000 [00:00<00:24, 39.92it/s]"
     ]
    },
    {
     "name": "stdout",
     "output_type": "stream",
     "text": [
      "downsampled to (200, 3)\n",
      "0080.obj\n"
     ]
    },
    {
     "name": "stderr",
     "output_type": "stream",
     "text": [
      "Finding Edges...: 100%|██████████| 1000/1000 [00:21<00:00, 47.42it/s]\n",
      "Calculating Features...: 100%|██████████| 3000/3000 [00:00<00:00, 3992.32it/s]\n",
      "Finding Edges...:   0%|          | 5/1000 [00:00<00:22, 43.54it/s]"
     ]
    },
    {
     "name": "stdout",
     "output_type": "stream",
     "text": [
      "downsampled to (200, 3)\n",
      "0105.obj\n"
     ]
    },
    {
     "name": "stderr",
     "output_type": "stream",
     "text": [
      "Finding Edges...: 100%|██████████| 1000/1000 [00:20<00:00, 47.65it/s]\n",
      "Calculating Features...: 100%|██████████| 3000/3000 [00:00<00:00, 4034.69it/s]\n",
      "Finding Edges...:   0%|          | 5/1000 [00:00<00:22, 44.26it/s]"
     ]
    },
    {
     "name": "stdout",
     "output_type": "stream",
     "text": [
      "downsampled to (200, 3)\n",
      "0380.obj\n"
     ]
    },
    {
     "name": "stderr",
     "output_type": "stream",
     "text": [
      "Finding Edges...: 100%|██████████| 1000/1000 [00:20<00:00, 48.28it/s]\n",
      "Calculating Features...: 100%|██████████| 3000/3000 [00:00<00:00, 3824.93it/s]\n",
      "Finding Edges...:   0%|          | 5/1000 [00:00<00:23, 42.26it/s]"
     ]
    },
    {
     "name": "stdout",
     "output_type": "stream",
     "text": [
      "downsampled to (200, 3)\n",
      "0229.obj\n"
     ]
    },
    {
     "name": "stderr",
     "output_type": "stream",
     "text": [
      "Finding Edges...: 100%|██████████| 1000/1000 [00:21<00:00, 47.38it/s]\n",
      "Calculating Features...: 100%|██████████| 3000/3000 [00:00<00:00, 4025.30it/s]\n",
      "Finding Edges...:   0%|          | 5/1000 [00:00<00:22, 44.38it/s]"
     ]
    },
    {
     "name": "stdout",
     "output_type": "stream",
     "text": [
      "downsampled to (200, 3)\n",
      "0117.obj\n"
     ]
    },
    {
     "name": "stderr",
     "output_type": "stream",
     "text": [
      "Finding Edges...: 100%|██████████| 1000/1000 [00:20<00:00, 47.75it/s]\n",
      "Calculating Features...: 100%|██████████| 3000/3000 [00:00<00:00, 3944.04it/s]\n",
      "Finding Edges...:   0%|          | 5/1000 [00:00<00:20, 48.03it/s]"
     ]
    },
    {
     "name": "stdout",
     "output_type": "stream",
     "text": [
      "downsampled to (200, 3)\n",
      "0073.obj\n"
     ]
    },
    {
     "name": "stderr",
     "output_type": "stream",
     "text": [
      "Finding Edges...: 100%|██████████| 1000/1000 [00:20<00:00, 48.25it/s]\n",
      "Calculating Features...: 100%|██████████| 3000/3000 [00:00<00:00, 3837.60it/s]\n",
      "Finding Edges...:   0%|          | 5/1000 [00:00<00:24, 41.23it/s]"
     ]
    },
    {
     "name": "stdout",
     "output_type": "stream",
     "text": [
      "downsampled to (200, 3)\n",
      "0043.obj\n"
     ]
    },
    {
     "name": "stderr",
     "output_type": "stream",
     "text": [
      "Finding Edges...: 100%|██████████| 1000/1000 [00:20<00:00, 48.35it/s]\n",
      "Calculating Features...: 100%|██████████| 3000/3000 [00:00<00:00, 3624.03it/s]\n",
      "Finding Edges...:   0%|          | 5/1000 [00:00<00:21, 46.58it/s]"
     ]
    },
    {
     "name": "stdout",
     "output_type": "stream",
     "text": [
      "downsampled to (200, 3)\n",
      "0046.obj\n"
     ]
    },
    {
     "name": "stderr",
     "output_type": "stream",
     "text": [
      "Finding Edges...: 100%|██████████| 1000/1000 [00:20<00:00, 48.32it/s]\n",
      "Calculating Features...: 100%|██████████| 3000/3000 [00:00<00:00, 3978.50it/s]\n",
      "Finding Edges...:   0%|          | 5/1000 [00:00<00:20, 47.98it/s]"
     ]
    },
    {
     "name": "stdout",
     "output_type": "stream",
     "text": [
      "downsampled to (200, 3)\n",
      "0296.obj\n"
     ]
    },
    {
     "name": "stderr",
     "output_type": "stream",
     "text": [
      "Finding Edges...: 100%|██████████| 1000/1000 [00:20<00:00, 48.23it/s]\n",
      "Calculating Features...: 100%|██████████| 3000/3000 [00:00<00:00, 3825.08it/s]\n",
      "Finding Edges...:   0%|          | 5/1000 [00:00<00:21, 46.17it/s]"
     ]
    },
    {
     "name": "stdout",
     "output_type": "stream",
     "text": [
      "downsampled to (200, 3)\n",
      "0255.obj\n"
     ]
    },
    {
     "name": "stderr",
     "output_type": "stream",
     "text": [
      "Finding Edges...: 100%|██████████| 1000/1000 [00:20<00:00, 47.95it/s]\n",
      "Calculating Features...: 100%|██████████| 3000/3000 [00:00<00:00, 3839.27it/s]\n",
      "Finding Edges...:   0%|          | 4/1000 [00:00<00:30, 33.15it/s]"
     ]
    },
    {
     "name": "stdout",
     "output_type": "stream",
     "text": [
      "downsampled to (200, 3)\n",
      "0395.obj\n"
     ]
    },
    {
     "name": "stderr",
     "output_type": "stream",
     "text": [
      "Finding Edges...: 100%|██████████| 1000/1000 [00:20<00:00, 48.15it/s]\n",
      "Calculating Features...: 100%|██████████| 3000/3000 [00:00<00:00, 3802.76it/s]\n",
      "Finding Edges...:   0%|          | 4/1000 [00:00<00:25, 39.34it/s]"
     ]
    },
    {
     "name": "stdout",
     "output_type": "stream",
     "text": [
      "downsampled to (200, 3)\n",
      "0097.obj\n"
     ]
    },
    {
     "name": "stderr",
     "output_type": "stream",
     "text": [
      "Finding Edges...: 100%|██████████| 1000/1000 [00:21<00:00, 47.39it/s]\n",
      "Calculating Features...: 100%|██████████| 3000/3000 [00:00<00:00, 4000.11it/s]\n",
      "Finding Edges...:   0%|          | 5/1000 [00:00<00:24, 40.76it/s]"
     ]
    },
    {
     "name": "stdout",
     "output_type": "stream",
     "text": [
      "downsampled to (200, 3)\n",
      "0131.obj\n"
     ]
    },
    {
     "name": "stderr",
     "output_type": "stream",
     "text": [
      "Finding Edges...: 100%|██████████| 1000/1000 [00:20<00:00, 48.31it/s]\n",
      "Calculating Features...: 100%|██████████| 3000/3000 [00:00<00:00, 3937.47it/s]\n",
      "Finding Edges...:   0%|          | 5/1000 [00:00<00:20, 47.90it/s]"
     ]
    },
    {
     "name": "stdout",
     "output_type": "stream",
     "text": [
      "downsampled to (200, 3)\n",
      "0143.obj\n"
     ]
    },
    {
     "name": "stderr",
     "output_type": "stream",
     "text": [
      "Finding Edges...: 100%|██████████| 1000/1000 [00:20<00:00, 48.37it/s]\n",
      "Calculating Features...: 100%|██████████| 3000/3000 [00:00<00:00, 3985.28it/s]\n",
      "Finding Edges...:   0%|          | 5/1000 [00:00<00:21, 45.71it/s]"
     ]
    },
    {
     "name": "stdout",
     "output_type": "stream",
     "text": [
      "downsampled to (200, 3)\n",
      "0163.obj\n"
     ]
    },
    {
     "name": "stderr",
     "output_type": "stream",
     "text": [
      "Finding Edges...: 100%|██████████| 1000/1000 [00:20<00:00, 48.43it/s]\n",
      "Calculating Features...: 100%|██████████| 3000/3000 [00:00<00:00, 4030.94it/s]\n",
      "Finding Edges...:   0%|          | 5/1000 [00:00<00:23, 43.21it/s]"
     ]
    },
    {
     "name": "stdout",
     "output_type": "stream",
     "text": [
      "downsampled to (200, 3)\n",
      "0087.obj\n"
     ]
    },
    {
     "name": "stderr",
     "output_type": "stream",
     "text": [
      "Finding Edges...: 100%|██████████| 1000/1000 [00:20<00:00, 48.00it/s]\n",
      "Calculating Features...: 100%|██████████| 3000/3000 [00:00<00:00, 3914.49it/s]\n",
      "Finding Edges...:   0%|          | 5/1000 [00:00<00:23, 42.63it/s]"
     ]
    },
    {
     "name": "stdout",
     "output_type": "stream",
     "text": [
      "downsampled to (200, 3)\n",
      "0269.obj\n"
     ]
    },
    {
     "name": "stderr",
     "output_type": "stream",
     "text": [
      "Finding Edges...: 100%|██████████| 1000/1000 [00:20<00:00, 48.17it/s]\n",
      "Calculating Features...: 100%|██████████| 3000/3000 [00:00<00:00, 4116.51it/s]\n",
      "Finding Edges...:   0%|          | 4/1000 [00:00<00:31, 31.83it/s]"
     ]
    },
    {
     "name": "stdout",
     "output_type": "stream",
     "text": [
      "downsampled to (200, 3)\n",
      "0219.obj\n"
     ]
    },
    {
     "name": "stderr",
     "output_type": "stream",
     "text": [
      "Finding Edges...: 100%|██████████| 1000/1000 [00:20<00:00, 47.65it/s]\n",
      "Calculating Features...: 100%|██████████| 3000/3000 [00:00<00:00, 3877.19it/s]\n",
      "Finding Edges...:   0%|          | 5/1000 [00:00<00:22, 45.07it/s]"
     ]
    },
    {
     "name": "stdout",
     "output_type": "stream",
     "text": [
      "downsampled to (200, 3)\n",
      "0020.obj\n"
     ]
    },
    {
     "name": "stderr",
     "output_type": "stream",
     "text": [
      "Finding Edges...: 100%|██████████| 1000/1000 [00:20<00:00, 48.81it/s]\n",
      "Calculating Features...: 100%|██████████| 3000/3000 [00:00<00:00, 3809.61it/s]\n",
      "Finding Edges...:   0%|          | 5/1000 [00:00<00:22, 43.94it/s]"
     ]
    },
    {
     "name": "stdout",
     "output_type": "stream",
     "text": [
      "downsampled to (200, 3)\n",
      "0169.obj\n"
     ]
    },
    {
     "name": "stderr",
     "output_type": "stream",
     "text": [
      "Finding Edges...: 100%|██████████| 1000/1000 [00:20<00:00, 47.90it/s]\n",
      "Calculating Features...: 100%|██████████| 3000/3000 [00:00<00:00, 3835.66it/s]\n",
      "Finding Edges...:   0%|          | 5/1000 [00:00<00:21, 46.56it/s]"
     ]
    },
    {
     "name": "stdout",
     "output_type": "stream",
     "text": [
      "downsampled to (200, 3)\n",
      "0385.obj\n"
     ]
    },
    {
     "name": "stderr",
     "output_type": "stream",
     "text": [
      "Finding Edges...: 100%|██████████| 1000/1000 [00:21<00:00, 47.58it/s]\n",
      "Calculating Features...: 100%|██████████| 3000/3000 [00:00<00:00, 3949.39it/s]\n",
      "Finding Edges...:   0%|          | 5/1000 [00:00<00:23, 42.80it/s]"
     ]
    },
    {
     "name": "stdout",
     "output_type": "stream",
     "text": [
      "downsampled to (200, 3)\n",
      "0339.obj\n"
     ]
    },
    {
     "name": "stderr",
     "output_type": "stream",
     "text": [
      "Finding Edges...: 100%|██████████| 1000/1000 [00:20<00:00, 48.13it/s]\n",
      "Calculating Features...: 100%|██████████| 3000/3000 [00:00<00:00, 3847.17it/s]\n",
      "Finding Edges...:   0%|          | 5/1000 [00:00<00:21, 45.39it/s]"
     ]
    },
    {
     "name": "stdout",
     "output_type": "stream",
     "text": [
      "downsampled to (200, 3)\n",
      "0303.obj\n"
     ]
    },
    {
     "name": "stderr",
     "output_type": "stream",
     "text": [
      "Finding Edges...: 100%|██████████| 1000/1000 [00:20<00:00, 48.04it/s]\n",
      "Calculating Features...: 100%|██████████| 3000/3000 [00:00<00:00, 3815.53it/s]\n",
      "Finding Edges...:   0%|          | 5/1000 [00:00<00:21, 45.56it/s]"
     ]
    },
    {
     "name": "stdout",
     "output_type": "stream",
     "text": [
      "downsampled to (200, 3)\n",
      "0221.obj\n"
     ]
    },
    {
     "name": "stderr",
     "output_type": "stream",
     "text": [
      "Finding Edges...: 100%|██████████| 1000/1000 [00:20<00:00, 47.89it/s]\n",
      "Calculating Features...: 100%|██████████| 3000/3000 [00:00<00:00, 3930.64it/s]\n",
      "Finding Edges...:   0%|          | 5/1000 [00:00<00:22, 44.86it/s]"
     ]
    },
    {
     "name": "stdout",
     "output_type": "stream",
     "text": [
      "downsampled to (200, 3)\n",
      "0114.obj\n"
     ]
    },
    {
     "name": "stderr",
     "output_type": "stream",
     "text": [
      "Finding Edges...: 100%|██████████| 1000/1000 [00:20<00:00, 48.67it/s]\n",
      "Calculating Features...: 100%|██████████| 3000/3000 [00:00<00:00, 3854.23it/s]\n",
      "Finding Edges...:   0%|          | 5/1000 [00:00<00:22, 44.01it/s]"
     ]
    },
    {
     "name": "stdout",
     "output_type": "stream",
     "text": [
      "downsampled to (200, 3)\n",
      "0365.obj\n"
     ]
    },
    {
     "name": "stderr",
     "output_type": "stream",
     "text": [
      "Finding Edges...: 100%|██████████| 1000/1000 [00:20<00:00, 47.64it/s]\n",
      "Calculating Features...: 100%|██████████| 3000/3000 [00:00<00:00, 3990.50it/s]\n",
      "Finding Edges...:   0%|          | 5/1000 [00:00<00:21, 45.83it/s]"
     ]
    },
    {
     "name": "stdout",
     "output_type": "stream",
     "text": [
      "downsampled to (200, 3)\n",
      "0071.obj\n"
     ]
    },
    {
     "name": "stderr",
     "output_type": "stream",
     "text": [
      "Finding Edges...: 100%|██████████| 1000/1000 [00:21<00:00, 47.33it/s]\n",
      "Calculating Features...: 100%|██████████| 3000/3000 [00:00<00:00, 3975.90it/s]\n",
      "Finding Edges...:   0%|          | 5/1000 [00:00<00:23, 42.49it/s]"
     ]
    },
    {
     "name": "stdout",
     "output_type": "stream",
     "text": [
      "downsampled to (200, 3)\n",
      "0106.obj\n"
     ]
    },
    {
     "name": "stderr",
     "output_type": "stream",
     "text": [
      "Finding Edges...: 100%|██████████| 1000/1000 [00:21<00:00, 46.95it/s]\n",
      "Calculating Features...: 100%|██████████| 3000/3000 [00:00<00:00, 3351.09it/s]\n",
      "Finding Edges...:   0%|          | 5/1000 [00:00<00:23, 42.36it/s]"
     ]
    },
    {
     "name": "stdout",
     "output_type": "stream",
     "text": [
      "downsampled to (200, 3)\n",
      "0352.obj\n"
     ]
    },
    {
     "name": "stderr",
     "output_type": "stream",
     "text": [
      "Finding Edges...: 100%|██████████| 1000/1000 [00:20<00:00, 48.30it/s]\n",
      "Calculating Features...: 100%|██████████| 3000/3000 [00:00<00:00, 3838.54it/s]\n",
      "Finding Edges...:   0%|          | 5/1000 [00:00<00:21, 45.29it/s]"
     ]
    },
    {
     "name": "stdout",
     "output_type": "stream",
     "text": [
      "downsampled to (200, 3)\n",
      "0009.obj\n"
     ]
    },
    {
     "name": "stderr",
     "output_type": "stream",
     "text": [
      "Finding Edges...: 100%|██████████| 1000/1000 [00:20<00:00, 47.71it/s]\n",
      "Calculating Features...: 100%|██████████| 3000/3000 [00:00<00:00, 3889.25it/s]\n",
      "Finding Edges...:   0%|          | 5/1000 [00:00<00:21, 46.18it/s]"
     ]
    },
    {
     "name": "stdout",
     "output_type": "stream",
     "text": [
      "downsampled to (200, 3)\n",
      "0256.obj\n"
     ]
    },
    {
     "name": "stderr",
     "output_type": "stream",
     "text": [
      "Finding Edges...: 100%|██████████| 1000/1000 [00:20<00:00, 48.61it/s]\n",
      "Calculating Features...: 100%|██████████| 3000/3000 [00:00<00:00, 3743.59it/s]\n",
      "Finding Edges...:   0%|          | 4/1000 [00:00<00:28, 34.94it/s]"
     ]
    },
    {
     "name": "stdout",
     "output_type": "stream",
     "text": [
      "downsampled to (200, 3)\n",
      "0129.obj\n"
     ]
    },
    {
     "name": "stderr",
     "output_type": "stream",
     "text": [
      "Finding Edges...: 100%|██████████| 1000/1000 [00:20<00:00, 47.92it/s]\n",
      "Calculating Features...: 100%|██████████| 3000/3000 [00:00<00:00, 3883.56it/s]\n",
      "Finding Edges...:   0%|          | 5/1000 [00:00<00:22, 44.11it/s]"
     ]
    },
    {
     "name": "stdout",
     "output_type": "stream",
     "text": [
      "downsampled to (200, 3)\n",
      "0336.obj\n"
     ]
    },
    {
     "name": "stderr",
     "output_type": "stream",
     "text": [
      "Finding Edges...: 100%|██████████| 1000/1000 [00:21<00:00, 47.47it/s]\n",
      "Calculating Features...: 100%|██████████| 3000/3000 [00:00<00:00, 4045.39it/s]\n",
      "Finding Edges...:   0%|          | 5/1000 [00:00<00:21, 45.90it/s]"
     ]
    },
    {
     "name": "stdout",
     "output_type": "stream",
     "text": [
      "downsampled to (200, 3)\n",
      "0217.obj\n"
     ]
    },
    {
     "name": "stderr",
     "output_type": "stream",
     "text": [
      "Finding Edges...: 100%|██████████| 1000/1000 [00:21<00:00, 47.25it/s]\n",
      "Calculating Features...: 100%|██████████| 3000/3000 [00:00<00:00, 3868.30it/s]\n",
      "Finding Edges...:   0%|          | 5/1000 [00:00<00:22, 43.33it/s]"
     ]
    },
    {
     "name": "stdout",
     "output_type": "stream",
     "text": [
      "downsampled to (200, 3)\n",
      "0036.obj\n"
     ]
    },
    {
     "name": "stderr",
     "output_type": "stream",
     "text": [
      "Finding Edges...: 100%|██████████| 1000/1000 [00:20<00:00, 48.34it/s]\n",
      "Calculating Features...: 100%|██████████| 3000/3000 [00:00<00:00, 4004.91it/s]\n",
      "Finding Edges...:   0%|          | 5/1000 [00:00<00:21, 47.17it/s]"
     ]
    },
    {
     "name": "stdout",
     "output_type": "stream",
     "text": [
      "downsampled to (200, 3)\n",
      "0096.obj\n"
     ]
    },
    {
     "name": "stderr",
     "output_type": "stream",
     "text": [
      "Finding Edges...: 100%|██████████| 1000/1000 [00:21<00:00, 47.24it/s]\n",
      "Calculating Features...: 100%|██████████| 3000/3000 [00:00<00:00, 4020.71it/s]\n",
      "Finding Edges...:   0%|          | 5/1000 [00:00<00:21, 45.98it/s]"
     ]
    },
    {
     "name": "stdout",
     "output_type": "stream",
     "text": [
      "downsampled to (200, 3)\n",
      "0349.obj\n"
     ]
    },
    {
     "name": "stderr",
     "output_type": "stream",
     "text": [
      "Finding Edges...: 100%|██████████| 1000/1000 [00:20<00:00, 47.94it/s]\n",
      "Calculating Features...: 100%|██████████| 3000/3000 [00:00<00:00, 3707.21it/s]\n",
      "Finding Edges...:   0%|          | 5/1000 [00:00<00:21, 45.44it/s]"
     ]
    },
    {
     "name": "stdout",
     "output_type": "stream",
     "text": [
      "downsampled to (200, 3)\n",
      "0227.obj\n"
     ]
    },
    {
     "name": "stderr",
     "output_type": "stream",
     "text": [
      "Finding Edges...: 100%|██████████| 1000/1000 [00:20<00:00, 48.10it/s]\n",
      "Calculating Features...: 100%|██████████| 3000/3000 [00:00<00:00, 3957.97it/s]\n",
      "Finding Edges...:   0%|          | 5/1000 [00:00<00:23, 41.79it/s]"
     ]
    },
    {
     "name": "stdout",
     "output_type": "stream",
     "text": [
      "downsampled to (200, 3)\n",
      "0177.obj\n"
     ]
    },
    {
     "name": "stderr",
     "output_type": "stream",
     "text": [
      "Finding Edges...: 100%|██████████| 1000/1000 [00:20<00:00, 49.01it/s]\n",
      "Calculating Features...: 100%|██████████| 3000/3000 [00:00<00:00, 3819.41it/s]\n",
      "Finding Edges...:   0%|          | 5/1000 [00:00<00:21, 46.67it/s]"
     ]
    },
    {
     "name": "stdout",
     "output_type": "stream",
     "text": [
      "downsampled to (200, 3)\n",
      "0286.obj\n"
     ]
    },
    {
     "name": "stderr",
     "output_type": "stream",
     "text": [
      "Finding Edges...: 100%|██████████| 1000/1000 [00:21<00:00, 46.65it/s]\n",
      "Calculating Features...: 100%|██████████| 3000/3000 [00:00<00:00, 3983.25it/s]\n",
      "Finding Edges...:   0%|          | 5/1000 [00:00<00:23, 43.24it/s]"
     ]
    },
    {
     "name": "stdout",
     "output_type": "stream",
     "text": [
      "downsampled to (200, 3)\n",
      "0140.obj\n"
     ]
    },
    {
     "name": "stderr",
     "output_type": "stream",
     "text": [
      "Finding Edges...: 100%|██████████| 1000/1000 [00:20<00:00, 48.19it/s]\n",
      "Calculating Features...: 100%|██████████| 3000/3000 [00:00<00:00, 4074.17it/s]\n",
      "Finding Edges...:   0%|          | 5/1000 [00:00<00:21, 47.23it/s]"
     ]
    },
    {
     "name": "stdout",
     "output_type": "stream",
     "text": [
      "downsampled to (200, 3)\n",
      "0291.obj\n"
     ]
    },
    {
     "name": "stderr",
     "output_type": "stream",
     "text": [
      "Finding Edges...: 100%|██████████| 1000/1000 [00:21<00:00, 47.61it/s]\n",
      "Calculating Features...: 100%|██████████| 3000/3000 [00:00<00:00, 3916.56it/s]\n",
      "Finding Edges...:   0%|          | 5/1000 [00:00<00:20, 48.18it/s]"
     ]
    },
    {
     "name": "stdout",
     "output_type": "stream",
     "text": [
      "downsampled to (200, 3)\n",
      "0187.obj\n"
     ]
    },
    {
     "name": "stderr",
     "output_type": "stream",
     "text": [
      "Finding Edges...: 100%|██████████| 1000/1000 [00:20<00:00, 48.25it/s]\n",
      "Calculating Features...: 100%|██████████| 3000/3000 [00:00<00:00, 3734.71it/s]\n",
      "Finding Edges...:   0%|          | 5/1000 [00:00<00:21, 46.87it/s]"
     ]
    },
    {
     "name": "stdout",
     "output_type": "stream",
     "text": [
      "downsampled to (200, 3)\n",
      "0370.obj\n"
     ]
    },
    {
     "name": "stderr",
     "output_type": "stream",
     "text": [
      "Finding Edges...: 100%|██████████| 1000/1000 [00:19<00:00, 50.36it/s]\n",
      "Calculating Features...: 100%|██████████| 3000/3000 [00:00<00:00, 3963.76it/s]\n",
      "Finding Edges...:   0%|          | 5/1000 [00:00<00:19, 49.96it/s]"
     ]
    },
    {
     "name": "stdout",
     "output_type": "stream",
     "text": [
      "downsampled to (200, 3)\n",
      "0197.obj\n"
     ]
    },
    {
     "name": "stderr",
     "output_type": "stream",
     "text": [
      "Finding Edges...: 100%|██████████| 1000/1000 [00:19<00:00, 51.21it/s]\n",
      "Calculating Features...: 100%|██████████| 3000/3000 [00:00<00:00, 4309.86it/s]\n",
      "Finding Edges...:   0%|          | 5/1000 [00:00<00:20, 49.71it/s]"
     ]
    },
    {
     "name": "stdout",
     "output_type": "stream",
     "text": [
      "downsampled to (200, 3)\n",
      "0222.obj\n"
     ]
    },
    {
     "name": "stderr",
     "output_type": "stream",
     "text": [
      "Finding Edges...: 100%|██████████| 1000/1000 [00:19<00:00, 51.46it/s]\n",
      "Calculating Features...: 100%|██████████| 3000/3000 [00:00<00:00, 4225.31it/s]\n",
      "Finding Edges...:   0%|          | 5/1000 [00:00<00:20, 48.16it/s]"
     ]
    },
    {
     "name": "stdout",
     "output_type": "stream",
     "text": [
      "downsampled to (200, 3)\n",
      "0399.obj\n"
     ]
    },
    {
     "name": "stderr",
     "output_type": "stream",
     "text": [
      "Finding Edges...: 100%|██████████| 1000/1000 [00:19<00:00, 51.85it/s]\n",
      "Calculating Features...: 100%|██████████| 3000/3000 [00:00<00:00, 4099.04it/s]\n",
      "Finding Edges...:   0%|          | 5/1000 [00:00<00:20, 49.56it/s]"
     ]
    },
    {
     "name": "stdout",
     "output_type": "stream",
     "text": [
      "downsampled to (200, 3)\n",
      "0011.obj\n"
     ]
    },
    {
     "name": "stderr",
     "output_type": "stream",
     "text": [
      "Finding Edges...: 100%|██████████| 1000/1000 [00:19<00:00, 51.47it/s]\n",
      "Calculating Features...: 100%|██████████| 3000/3000 [00:00<00:00, 4167.55it/s]\n",
      "Finding Edges...:   0%|          | 5/1000 [00:00<00:19, 49.98it/s]"
     ]
    },
    {
     "name": "stdout",
     "output_type": "stream",
     "text": [
      "downsampled to (200, 3)\n",
      "0271.obj\n"
     ]
    },
    {
     "name": "stderr",
     "output_type": "stream",
     "text": [
      "Finding Edges...: 100%|██████████| 1000/1000 [00:19<00:00, 52.13it/s]\n",
      "Calculating Features...: 100%|██████████| 3000/3000 [00:00<00:00, 4376.17it/s]\n",
      "Finding Edges...:   0%|          | 5/1000 [00:00<00:21, 45.45it/s]"
     ]
    },
    {
     "name": "stdout",
     "output_type": "stream",
     "text": [
      "downsampled to (200, 3)\n",
      "0359.obj\n"
     ]
    },
    {
     "name": "stderr",
     "output_type": "stream",
     "text": [
      "Finding Edges...: 100%|██████████| 1000/1000 [00:19<00:00, 51.16it/s]\n",
      "Calculating Features...: 100%|██████████| 3000/3000 [00:00<00:00, 4137.33it/s]\n",
      "Finding Edges...:   0%|          | 5/1000 [00:00<00:20, 49.73it/s]"
     ]
    },
    {
     "name": "stdout",
     "output_type": "stream",
     "text": [
      "downsampled to (200, 3)\n",
      "0348.obj\n"
     ]
    },
    {
     "name": "stderr",
     "output_type": "stream",
     "text": [
      "Finding Edges...: 100%|██████████| 1000/1000 [00:19<00:00, 51.36it/s]\n",
      "Calculating Features...: 100%|██████████| 3000/3000 [00:00<00:00, 4217.62it/s]\n",
      "Finding Edges...:   0%|          | 5/1000 [00:00<00:20, 47.52it/s]"
     ]
    },
    {
     "name": "stdout",
     "output_type": "stream",
     "text": [
      "downsampled to (200, 3)\n",
      "0389.obj\n"
     ]
    },
    {
     "name": "stderr",
     "output_type": "stream",
     "text": [
      "Finding Edges...: 100%|██████████| 1000/1000 [00:19<00:00, 50.58it/s]\n",
      "Calculating Features...: 100%|██████████| 3000/3000 [00:00<00:00, 4175.44it/s]\n",
      "Finding Edges...:   0%|          | 5/1000 [00:00<00:23, 43.24it/s]"
     ]
    },
    {
     "name": "stdout",
     "output_type": "stream",
     "text": [
      "downsampled to (200, 3)\n",
      "0142.obj\n"
     ]
    },
    {
     "name": "stderr",
     "output_type": "stream",
     "text": [
      "Finding Edges...: 100%|██████████| 1000/1000 [00:19<00:00, 50.22it/s]\n",
      "Calculating Features...: 100%|██████████| 3000/3000 [00:00<00:00, 4189.18it/s]\n",
      "Finding Edges...:   0%|          | 5/1000 [00:00<00:23, 43.08it/s]"
     ]
    },
    {
     "name": "stdout",
     "output_type": "stream",
     "text": [
      "downsampled to (200, 3)\n",
      "0273.obj\n"
     ]
    },
    {
     "name": "stderr",
     "output_type": "stream",
     "text": [
      "Finding Edges...: 100%|██████████| 1000/1000 [00:19<00:00, 50.23it/s]\n",
      "Calculating Features...: 100%|██████████| 3000/3000 [00:00<00:00, 4165.23it/s]\n",
      "Finding Edges...:   0%|          | 5/1000 [00:00<00:22, 44.98it/s]"
     ]
    },
    {
     "name": "stdout",
     "output_type": "stream",
     "text": [
      "downsampled to (200, 3)\n",
      "0324.obj\n"
     ]
    },
    {
     "name": "stderr",
     "output_type": "stream",
     "text": [
      "Finding Edges...: 100%|██████████| 1000/1000 [00:19<00:00, 51.17it/s]\n",
      "Calculating Features...: 100%|██████████| 3000/3000 [00:00<00:00, 4067.52it/s]\n",
      "Finding Edges...:   0%|          | 5/1000 [00:00<00:21, 45.57it/s]"
     ]
    },
    {
     "name": "stdout",
     "output_type": "stream",
     "text": [
      "downsampled to (200, 3)\n",
      "0006.obj\n"
     ]
    },
    {
     "name": "stderr",
     "output_type": "stream",
     "text": [
      "Finding Edges...: 100%|██████████| 1000/1000 [00:20<00:00, 49.54it/s]\n",
      "Calculating Features...: 100%|██████████| 3000/3000 [00:00<00:00, 4089.37it/s]\n",
      "Finding Edges...:   0%|          | 5/1000 [00:00<00:21, 46.25it/s]"
     ]
    },
    {
     "name": "stdout",
     "output_type": "stream",
     "text": [
      "downsampled to (200, 3)\n",
      "0024.obj\n"
     ]
    },
    {
     "name": "stderr",
     "output_type": "stream",
     "text": [
      "Finding Edges...: 100%|██████████| 1000/1000 [00:19<00:00, 50.33it/s]\n",
      "Calculating Features...: 100%|██████████| 3000/3000 [00:00<00:00, 4225.28it/s]\n",
      "Finding Edges...:   0%|          | 5/1000 [00:00<00:23, 42.35it/s]"
     ]
    },
    {
     "name": "stdout",
     "output_type": "stream",
     "text": [
      "downsampled to (200, 3)\n",
      "0158.obj\n"
     ]
    },
    {
     "name": "stderr",
     "output_type": "stream",
     "text": [
      "Finding Edges...: 100%|██████████| 1000/1000 [00:19<00:00, 50.39it/s]\n",
      "Calculating Features...: 100%|██████████| 3000/3000 [00:00<00:00, 4052.75it/s]\n",
      "Finding Edges...:   0%|          | 5/1000 [00:00<00:20, 48.44it/s]"
     ]
    },
    {
     "name": "stdout",
     "output_type": "stream",
     "text": [
      "downsampled to (200, 3)\n",
      "0368.obj\n"
     ]
    },
    {
     "name": "stderr",
     "output_type": "stream",
     "text": [
      "Finding Edges...: 100%|██████████| 1000/1000 [00:19<00:00, 51.49it/s]\n",
      "Calculating Features...: 100%|██████████| 3000/3000 [00:00<00:00, 4307.74it/s]\n",
      "Finding Edges...:   0%|          | 5/1000 [00:00<00:21, 46.38it/s]"
     ]
    },
    {
     "name": "stdout",
     "output_type": "stream",
     "text": [
      "downsampled to (200, 3)\n",
      "0100.obj\n"
     ]
    },
    {
     "name": "stderr",
     "output_type": "stream",
     "text": [
      "Finding Edges...: 100%|██████████| 1000/1000 [00:19<00:00, 50.02it/s]\n",
      "Calculating Features...: 100%|██████████| 3000/3000 [00:00<00:00, 3421.49it/s]\n",
      "Finding Edges...:   0%|          | 5/1000 [00:00<00:20, 48.57it/s]"
     ]
    },
    {
     "name": "stdout",
     "output_type": "stream",
     "text": [
      "downsampled to (200, 3)\n",
      "0204.obj\n"
     ]
    },
    {
     "name": "stderr",
     "output_type": "stream",
     "text": [
      "Finding Edges...: 100%|██████████| 1000/1000 [00:19<00:00, 51.59it/s]\n",
      "Calculating Features...: 100%|██████████| 3000/3000 [00:00<00:00, 4260.07it/s]\n",
      "Finding Edges...:   0%|          | 5/1000 [00:00<00:20, 47.94it/s]"
     ]
    },
    {
     "name": "stdout",
     "output_type": "stream",
     "text": [
      "downsampled to (200, 3)\n",
      "0012.obj\n"
     ]
    },
    {
     "name": "stderr",
     "output_type": "stream",
     "text": [
      "Finding Edges...: 100%|██████████| 1000/1000 [00:19<00:00, 50.56it/s]\n",
      "Calculating Features...: 100%|██████████| 3000/3000 [00:00<00:00, 4072.56it/s]\n",
      "Finding Edges...:   0%|          | 5/1000 [00:00<00:21, 46.88it/s]"
     ]
    },
    {
     "name": "stdout",
     "output_type": "stream",
     "text": [
      "downsampled to (200, 3)\n",
      "0323.obj\n"
     ]
    },
    {
     "name": "stderr",
     "output_type": "stream",
     "text": [
      "Finding Edges...: 100%|██████████| 1000/1000 [00:19<00:00, 51.44it/s]\n",
      "Calculating Features...: 100%|██████████| 3000/3000 [00:00<00:00, 3885.67it/s]\n",
      "Finding Edges...:   0%|          | 4/1000 [00:00<00:25, 39.43it/s]"
     ]
    },
    {
     "name": "stdout",
     "output_type": "stream",
     "text": [
      "downsampled to (200, 3)\n",
      "0029.obj\n"
     ]
    },
    {
     "name": "stderr",
     "output_type": "stream",
     "text": [
      "Finding Edges...: 100%|██████████| 1000/1000 [00:19<00:00, 50.70it/s]\n",
      "Calculating Features...: 100%|██████████| 3000/3000 [00:00<00:00, 4126.06it/s]\n",
      "Finding Edges...:   0%|          | 5/1000 [00:00<00:22, 44.99it/s]"
     ]
    },
    {
     "name": "stdout",
     "output_type": "stream",
     "text": [
      "downsampled to (200, 3)\n",
      "0270.obj\n"
     ]
    },
    {
     "name": "stderr",
     "output_type": "stream",
     "text": [
      "Finding Edges...: 100%|██████████| 1000/1000 [00:19<00:00, 50.72it/s]\n",
      "Calculating Features...: 100%|██████████| 3000/3000 [00:00<00:00, 4226.50it/s]\n",
      "Finding Edges...:   0%|          | 5/1000 [00:00<00:22, 44.71it/s]"
     ]
    },
    {
     "name": "stdout",
     "output_type": "stream",
     "text": [
      "downsampled to (200, 3)\n",
      "0249.obj\n"
     ]
    },
    {
     "name": "stderr",
     "output_type": "stream",
     "text": [
      "Finding Edges...: 100%|██████████| 1000/1000 [00:19<00:00, 50.49it/s]\n",
      "Calculating Features...: 100%|██████████| 3000/3000 [00:00<00:00, 4110.86it/s]\n",
      "Finding Edges...:   0%|          | 5/1000 [00:00<00:22, 45.05it/s]"
     ]
    },
    {
     "name": "stdout",
     "output_type": "stream",
     "text": [
      "downsampled to (200, 3)\n",
      "0152.obj\n"
     ]
    },
    {
     "name": "stderr",
     "output_type": "stream",
     "text": [
      "Finding Edges...: 100%|██████████| 1000/1000 [00:19<00:00, 50.74it/s]\n",
      "Calculating Features...: 100%|██████████| 3000/3000 [00:00<00:00, 4287.70it/s]\n",
      "Finding Edges...:   0%|          | 5/1000 [00:00<00:22, 44.59it/s]"
     ]
    },
    {
     "name": "stdout",
     "output_type": "stream",
     "text": [
      "downsampled to (200, 3)\n",
      "0057.obj\n"
     ]
    },
    {
     "name": "stderr",
     "output_type": "stream",
     "text": [
      "Finding Edges...: 100%|██████████| 1000/1000 [00:19<00:00, 50.96it/s]\n",
      "Calculating Features...: 100%|██████████| 3000/3000 [00:00<00:00, 4066.61it/s]\n",
      "Finding Edges...:   0%|          | 5/1000 [00:00<00:20, 49.59it/s]"
     ]
    },
    {
     "name": "stdout",
     "output_type": "stream",
     "text": [
      "downsampled to (200, 3)\n",
      "0316.obj\n"
     ]
    },
    {
     "name": "stderr",
     "output_type": "stream",
     "text": [
      "Finding Edges...: 100%|██████████| 1000/1000 [00:19<00:00, 50.75it/s]\n",
      "Calculating Features...: 100%|██████████| 3000/3000 [00:00<00:00, 4196.59it/s]\n",
      "Finding Edges...:   0%|          | 5/1000 [00:00<00:20, 48.68it/s]"
     ]
    },
    {
     "name": "stdout",
     "output_type": "stream",
     "text": [
      "downsampled to (200, 3)\n",
      "0355.obj\n"
     ]
    },
    {
     "name": "stderr",
     "output_type": "stream",
     "text": [
      "Finding Edges...: 100%|██████████| 1000/1000 [00:19<00:00, 51.46it/s]\n",
      "Calculating Features...: 100%|██████████| 3000/3000 [00:00<00:00, 4174.53it/s]\n",
      "Finding Edges...:   0%|          | 5/1000 [00:00<00:22, 44.17it/s]"
     ]
    },
    {
     "name": "stdout",
     "output_type": "stream",
     "text": [
      "downsampled to (200, 3)\n",
      "0178.obj\n"
     ]
    },
    {
     "name": "stderr",
     "output_type": "stream",
     "text": [
      "Finding Edges...: 100%|██████████| 1000/1000 [00:19<00:00, 51.24it/s]\n",
      "Calculating Features...: 100%|██████████| 3000/3000 [00:00<00:00, 4283.89it/s]\n",
      "Finding Edges...:   0%|          | 5/1000 [00:00<00:22, 44.33it/s]"
     ]
    },
    {
     "name": "stdout",
     "output_type": "stream",
     "text": [
      "downsampled to (200, 3)\n",
      "0145.obj\n"
     ]
    },
    {
     "name": "stderr",
     "output_type": "stream",
     "text": [
      "Finding Edges...: 100%|██████████| 1000/1000 [00:19<00:00, 51.30it/s]\n",
      "Calculating Features...: 100%|██████████| 3000/3000 [00:00<00:00, 4181.47it/s]\n",
      "Finding Edges...:   0%|          | 5/1000 [00:00<00:22, 45.16it/s]"
     ]
    },
    {
     "name": "stdout",
     "output_type": "stream",
     "text": [
      "downsampled to (200, 3)\n",
      "0120.obj\n"
     ]
    },
    {
     "name": "stderr",
     "output_type": "stream",
     "text": [
      "Finding Edges...: 100%|██████████| 1000/1000 [00:19<00:00, 51.05it/s]\n",
      "Calculating Features...: 100%|██████████| 3000/3000 [00:00<00:00, 4176.74it/s]\n",
      "Finding Edges...:   0%|          | 4/1000 [00:00<00:26, 38.00it/s]"
     ]
    },
    {
     "name": "stdout",
     "output_type": "stream",
     "text": [
      "downsampled to (200, 3)\n",
      "0156.obj\n"
     ]
    },
    {
     "name": "stderr",
     "output_type": "stream",
     "text": [
      "Finding Edges...: 100%|██████████| 1000/1000 [00:19<00:00, 50.37it/s]\n",
      "Calculating Features...: 100%|██████████| 3000/3000 [00:00<00:00, 4170.48it/s]\n",
      "Finding Edges...:   0%|          | 5/1000 [00:00<00:22, 44.53it/s]"
     ]
    },
    {
     "name": "stdout",
     "output_type": "stream",
     "text": [
      "downsampled to (200, 3)\n",
      "0102.obj\n"
     ]
    },
    {
     "name": "stderr",
     "output_type": "stream",
     "text": [
      "Finding Edges...: 100%|██████████| 1000/1000 [00:19<00:00, 50.78it/s]\n",
      "Calculating Features...: 100%|██████████| 3000/3000 [00:00<00:00, 4254.44it/s]\n",
      "Finding Edges...:   0%|          | 5/1000 [00:00<00:24, 40.79it/s]"
     ]
    },
    {
     "name": "stdout",
     "output_type": "stream",
     "text": [
      "downsampled to (200, 3)\n",
      "0223.obj\n"
     ]
    },
    {
     "name": "stderr",
     "output_type": "stream",
     "text": [
      "Finding Edges...: 100%|██████████| 1000/1000 [00:19<00:00, 51.05it/s]\n",
      "Calculating Features...: 100%|██████████| 3000/3000 [00:00<00:00, 4200.67it/s]\n",
      "Finding Edges...:   0%|          | 5/1000 [00:00<00:22, 43.76it/s]"
     ]
    },
    {
     "name": "stdout",
     "output_type": "stream",
     "text": [
      "downsampled to (200, 3)\n",
      "0138.obj\n"
     ]
    },
    {
     "name": "stderr",
     "output_type": "stream",
     "text": [
      "Finding Edges...: 100%|██████████| 1000/1000 [00:19<00:00, 50.77it/s]\n",
      "Calculating Features...: 100%|██████████| 3000/3000 [00:00<00:00, 3953.74it/s]\n",
      "Finding Edges...:   0%|          | 5/1000 [00:00<00:22, 44.57it/s]"
     ]
    },
    {
     "name": "stdout",
     "output_type": "stream",
     "text": [
      "downsampled to (200, 3)\n",
      "0048.obj\n"
     ]
    },
    {
     "name": "stderr",
     "output_type": "stream",
     "text": [
      "Finding Edges...: 100%|██████████| 1000/1000 [00:19<00:00, 50.90it/s]\n",
      "Calculating Features...: 100%|██████████| 3000/3000 [00:00<00:00, 4044.40it/s]\n",
      "Finding Edges...:   0%|          | 4/1000 [00:00<00:27, 36.86it/s]"
     ]
    },
    {
     "name": "stdout",
     "output_type": "stream",
     "text": [
      "downsampled to (200, 3)\n",
      "0203.obj\n"
     ]
    },
    {
     "name": "stderr",
     "output_type": "stream",
     "text": [
      "Finding Edges...: 100%|██████████| 1000/1000 [00:19<00:00, 50.42it/s]\n",
      "Calculating Features...: 100%|██████████| 3000/3000 [00:00<00:00, 4054.89it/s]\n",
      "Finding Edges...:   0%|          | 5/1000 [00:00<00:21, 46.57it/s]"
     ]
    },
    {
     "name": "stdout",
     "output_type": "stream",
     "text": [
      "downsampled to (200, 3)\n",
      "0390.obj\n"
     ]
    },
    {
     "name": "stderr",
     "output_type": "stream",
     "text": [
      "Finding Edges...: 100%|██████████| 1000/1000 [00:19<00:00, 50.67it/s]\n",
      "Calculating Features...: 100%|██████████| 3000/3000 [00:00<00:00, 4143.05it/s]\n",
      "Finding Edges...:   0%|          | 5/1000 [00:00<00:22, 44.30it/s]"
     ]
    },
    {
     "name": "stdout",
     "output_type": "stream",
     "text": [
      "downsampled to (200, 3)\n",
      "0379.obj\n"
     ]
    },
    {
     "name": "stderr",
     "output_type": "stream",
     "text": [
      "Finding Edges...: 100%|██████████| 1000/1000 [00:19<00:00, 50.28it/s]\n",
      "Calculating Features...: 100%|██████████| 3000/3000 [00:00<00:00, 4152.18it/s]\n",
      "Finding Edges...:   0%|          | 5/1000 [00:00<00:22, 43.43it/s]"
     ]
    },
    {
     "name": "stdout",
     "output_type": "stream",
     "text": [
      "downsampled to (200, 3)\n",
      "0297.obj\n"
     ]
    },
    {
     "name": "stderr",
     "output_type": "stream",
     "text": [
      "Finding Edges...: 100%|██████████| 1000/1000 [00:19<00:00, 50.37it/s]\n",
      "Calculating Features...: 100%|██████████| 3000/3000 [00:00<00:00, 4133.19it/s]\n",
      "Finding Edges...:   0%|          | 5/1000 [00:00<00:22, 43.52it/s]"
     ]
    },
    {
     "name": "stdout",
     "output_type": "stream",
     "text": [
      "downsampled to (200, 3)\n",
      "0378.obj\n"
     ]
    },
    {
     "name": "stderr",
     "output_type": "stream",
     "text": [
      "Finding Edges...: 100%|██████████| 1000/1000 [00:19<00:00, 50.35it/s]\n",
      "Calculating Features...: 100%|██████████| 3000/3000 [00:00<00:00, 4084.02it/s]\n",
      "Finding Edges...:   0%|          | 5/1000 [00:00<00:20, 49.33it/s]"
     ]
    },
    {
     "name": "stdout",
     "output_type": "stream",
     "text": [
      "downsampled to (200, 3)\n",
      "0110.obj\n"
     ]
    },
    {
     "name": "stderr",
     "output_type": "stream",
     "text": [
      "Finding Edges...: 100%|██████████| 1000/1000 [00:19<00:00, 51.19it/s]\n",
      "Calculating Features...: 100%|██████████| 3000/3000 [00:00<00:00, 4056.37it/s]\n",
      "Finding Edges...:   0%|          | 5/1000 [00:00<00:21, 45.65it/s]"
     ]
    },
    {
     "name": "stdout",
     "output_type": "stream",
     "text": [
      "downsampled to (200, 3)\n",
      "0148.obj\n"
     ]
    },
    {
     "name": "stderr",
     "output_type": "stream",
     "text": [
      "Finding Edges...: 100%|██████████| 1000/1000 [00:19<00:00, 50.99it/s]\n",
      "Calculating Features...: 100%|██████████| 3000/3000 [00:00<00:00, 4160.96it/s]\n",
      "Finding Edges...:   0%|          | 5/1000 [00:00<00:21, 45.66it/s]"
     ]
    },
    {
     "name": "stdout",
     "output_type": "stream",
     "text": [
      "downsampled to (200, 3)\n",
      "0244.obj\n"
     ]
    },
    {
     "name": "stderr",
     "output_type": "stream",
     "text": [
      "Finding Edges...: 100%|██████████| 1000/1000 [00:19<00:00, 50.85it/s]\n",
      "Calculating Features...: 100%|██████████| 3000/3000 [00:00<00:00, 4316.03it/s]\n",
      "Finding Edges...:   0%|          | 5/1000 [00:00<00:21, 45.46it/s]"
     ]
    },
    {
     "name": "stdout",
     "output_type": "stream",
     "text": [
      "downsampled to (200, 3)\n",
      "0149.obj\n"
     ]
    },
    {
     "name": "stderr",
     "output_type": "stream",
     "text": [
      "Finding Edges...: 100%|██████████| 1000/1000 [00:19<00:00, 50.59it/s]\n",
      "Calculating Features...: 100%|██████████| 3000/3000 [00:00<00:00, 4152.43it/s]\n",
      "Finding Edges...:   0%|          | 5/1000 [00:00<00:22, 44.90it/s]"
     ]
    },
    {
     "name": "stdout",
     "output_type": "stream",
     "text": [
      "downsampled to (200, 3)\n",
      "0115.obj\n"
     ]
    },
    {
     "name": "stderr",
     "output_type": "stream",
     "text": [
      "Finding Edges...: 100%|██████████| 1000/1000 [00:19<00:00, 51.03it/s]\n",
      "Calculating Features...: 100%|██████████| 3000/3000 [00:00<00:00, 4206.38it/s]\n",
      "Finding Edges...:   0%|          | 4/1000 [00:00<00:24, 39.84it/s]"
     ]
    },
    {
     "name": "stdout",
     "output_type": "stream",
     "text": [
      "downsampled to (200, 3)\n",
      "0329.obj\n"
     ]
    },
    {
     "name": "stderr",
     "output_type": "stream",
     "text": [
      "Finding Edges...: 100%|██████████| 1000/1000 [00:19<00:00, 50.47it/s]\n",
      "Calculating Features...: 100%|██████████| 3000/3000 [00:00<00:00, 4011.23it/s]\n",
      "Finding Edges...:   0%|          | 5/1000 [00:00<00:21, 46.94it/s]"
     ]
    },
    {
     "name": "stdout",
     "output_type": "stream",
     "text": [
      "downsampled to (200, 3)\n",
      "0284.obj\n"
     ]
    },
    {
     "name": "stderr",
     "output_type": "stream",
     "text": [
      "Finding Edges...: 100%|██████████| 1000/1000 [00:19<00:00, 50.98it/s]\n",
      "Calculating Features...: 100%|██████████| 3000/3000 [00:00<00:00, 4003.16it/s]\n",
      "Finding Edges...:   0%|          | 5/1000 [00:00<00:22, 45.06it/s]"
     ]
    },
    {
     "name": "stdout",
     "output_type": "stream",
     "text": [
      "downsampled to (200, 3)\n",
      "0042.obj\n"
     ]
    },
    {
     "name": "stderr",
     "output_type": "stream",
     "text": [
      "Finding Edges...: 100%|██████████| 1000/1000 [00:19<00:00, 50.70it/s]\n",
      "Calculating Features...: 100%|██████████| 3000/3000 [00:00<00:00, 3692.58it/s]\n",
      "Finding Edges...:   0%|          | 5/1000 [00:00<00:21, 46.55it/s]"
     ]
    },
    {
     "name": "stdout",
     "output_type": "stream",
     "text": [
      "downsampled to (200, 3)\n",
      "0211.obj\n"
     ]
    },
    {
     "name": "stderr",
     "output_type": "stream",
     "text": [
      "Finding Edges...: 100%|██████████| 1000/1000 [00:19<00:00, 51.15it/s]\n",
      "Calculating Features...: 100%|██████████| 3000/3000 [00:00<00:00, 4148.97it/s]\n",
      "Finding Edges...:   0%|          | 5/1000 [00:00<00:21, 45.86it/s]"
     ]
    },
    {
     "name": "stdout",
     "output_type": "stream",
     "text": [
      "downsampled to (200, 3)\n",
      "0146.obj\n"
     ]
    },
    {
     "name": "stderr",
     "output_type": "stream",
     "text": [
      "Finding Edges...: 100%|██████████| 1000/1000 [00:19<00:00, 50.22it/s]\n",
      "Calculating Features...: 100%|██████████| 3000/3000 [00:00<00:00, 4060.54it/s]\n",
      "Finding Edges...:   0%|          | 5/1000 [00:00<00:21, 46.59it/s]"
     ]
    },
    {
     "name": "stdout",
     "output_type": "stream",
     "text": [
      "downsampled to (200, 3)\n",
      "0277.obj\n"
     ]
    },
    {
     "name": "stderr",
     "output_type": "stream",
     "text": [
      "Finding Edges...: 100%|██████████| 1000/1000 [00:19<00:00, 50.83it/s]\n",
      "Calculating Features...: 100%|██████████| 3000/3000 [00:00<00:00, 4234.27it/s]\n",
      "Finding Edges...:   0%|          | 5/1000 [00:00<00:21, 45.44it/s]"
     ]
    },
    {
     "name": "stdout",
     "output_type": "stream",
     "text": [
      "downsampled to (200, 3)\n",
      "0050.obj\n"
     ]
    },
    {
     "name": "stderr",
     "output_type": "stream",
     "text": [
      "Finding Edges...: 100%|██████████| 1000/1000 [00:20<00:00, 49.96it/s]\n",
      "Calculating Features...: 100%|██████████| 3000/3000 [00:00<00:00, 4008.18it/s]\n",
      "Finding Edges...:   0%|          | 5/1000 [00:00<00:20, 48.86it/s]"
     ]
    },
    {
     "name": "stdout",
     "output_type": "stream",
     "text": [
      "downsampled to (200, 3)\n",
      "0358.obj\n"
     ]
    },
    {
     "name": "stderr",
     "output_type": "stream",
     "text": [
      "Finding Edges...: 100%|██████████| 1000/1000 [00:19<00:00, 50.04it/s]\n",
      "Calculating Features...: 100%|██████████| 3000/3000 [00:00<00:00, 4137.40it/s]\n",
      "Finding Edges...:   0%|          | 5/1000 [00:00<00:22, 44.80it/s]"
     ]
    },
    {
     "name": "stdout",
     "output_type": "stream",
     "text": [
      "downsampled to (200, 3)\n",
      "0372.obj\n"
     ]
    },
    {
     "name": "stderr",
     "output_type": "stream",
     "text": [
      "Finding Edges...: 100%|██████████| 1000/1000 [00:19<00:00, 50.45it/s]\n",
      "Calculating Features...: 100%|██████████| 3000/3000 [00:00<00:00, 4045.36it/s]\n",
      "Finding Edges...:   0%|          | 5/1000 [00:00<00:22, 43.67it/s]"
     ]
    },
    {
     "name": "stdout",
     "output_type": "stream",
     "text": [
      "downsampled to (200, 3)\n",
      "0179.obj\n"
     ]
    },
    {
     "name": "stderr",
     "output_type": "stream",
     "text": [
      "Finding Edges...: 100%|██████████| 1000/1000 [00:19<00:00, 51.31it/s]\n",
      "Calculating Features...: 100%|██████████| 3000/3000 [00:00<00:00, 4247.64it/s]\n",
      "Finding Edges...:   0%|          | 4/1000 [00:00<00:24, 39.89it/s]"
     ]
    },
    {
     "name": "stdout",
     "output_type": "stream",
     "text": [
      "downsampled to (200, 3)\n",
      "0205.obj\n"
     ]
    },
    {
     "name": "stderr",
     "output_type": "stream",
     "text": [
      "Finding Edges...: 100%|██████████| 1000/1000 [00:19<00:00, 50.67it/s]\n",
      "Calculating Features...: 100%|██████████| 3000/3000 [00:00<00:00, 4240.28it/s]\n",
      "Finding Edges...:   0%|          | 5/1000 [00:00<00:22, 44.85it/s]"
     ]
    },
    {
     "name": "stdout",
     "output_type": "stream",
     "text": [
      "downsampled to (200, 3)\n",
      "0239.obj\n"
     ]
    },
    {
     "name": "stderr",
     "output_type": "stream",
     "text": [
      "Finding Edges...: 100%|██████████| 1000/1000 [00:19<00:00, 51.09it/s]\n",
      "Calculating Features...: 100%|██████████| 3000/3000 [00:00<00:00, 3981.88it/s]\n",
      "Finding Edges...:   0%|          | 5/1000 [00:00<00:20, 48.63it/s]"
     ]
    },
    {
     "name": "stdout",
     "output_type": "stream",
     "text": [
      "downsampled to (200, 3)\n",
      "0292.obj\n"
     ]
    },
    {
     "name": "stderr",
     "output_type": "stream",
     "text": [
      "Finding Edges...: 100%|██████████| 1000/1000 [00:19<00:00, 50.51it/s]\n",
      "Calculating Features...: 100%|██████████| 3000/3000 [00:00<00:00, 4183.86it/s]\n",
      "Finding Edges...:   0%|          | 5/1000 [00:00<00:22, 43.79it/s]"
     ]
    },
    {
     "name": "stdout",
     "output_type": "stream",
     "text": [
      "downsampled to (200, 3)\n",
      "0331.obj\n"
     ]
    },
    {
     "name": "stderr",
     "output_type": "stream",
     "text": [
      "Finding Edges...: 100%|██████████| 1000/1000 [00:19<00:00, 50.89it/s]\n",
      "Calculating Features...: 100%|██████████| 3000/3000 [00:00<00:00, 4227.78it/s]\n",
      "Finding Edges...:   0%|          | 4/1000 [00:00<00:25, 39.64it/s]"
     ]
    },
    {
     "name": "stdout",
     "output_type": "stream",
     "text": [
      "downsampled to (200, 3)\n",
      "0001.obj\n"
     ]
    },
    {
     "name": "stderr",
     "output_type": "stream",
     "text": [
      "Finding Edges...: 100%|██████████| 1000/1000 [00:19<00:00, 50.59it/s]\n",
      "Calculating Features...: 100%|██████████| 3000/3000 [00:00<00:00, 3934.31it/s]\n",
      "Finding Edges...:   0%|          | 5/1000 [00:00<00:22, 45.14it/s]"
     ]
    },
    {
     "name": "stdout",
     "output_type": "stream",
     "text": [
      "downsampled to (200, 3)\n",
      "0344.obj\n"
     ]
    },
    {
     "name": "stderr",
     "output_type": "stream",
     "text": [
      "Finding Edges...: 100%|██████████| 1000/1000 [00:19<00:00, 50.86it/s]\n",
      "Calculating Features...: 100%|██████████| 3000/3000 [00:00<00:00, 4211.45it/s]\n",
      "Finding Edges...:   0%|          | 5/1000 [00:00<00:21, 45.94it/s]"
     ]
    },
    {
     "name": "stdout",
     "output_type": "stream",
     "text": [
      "downsampled to (200, 3)\n",
      "0019.obj\n"
     ]
    },
    {
     "name": "stderr",
     "output_type": "stream",
     "text": [
      "Finding Edges...: 100%|██████████| 1000/1000 [00:19<00:00, 50.45it/s]\n",
      "Calculating Features...: 100%|██████████| 3000/3000 [00:00<00:00, 4103.45it/s]\n",
      "Finding Edges...:   0%|          | 5/1000 [00:00<00:23, 42.03it/s]"
     ]
    },
    {
     "name": "stdout",
     "output_type": "stream",
     "text": [
      "downsampled to (200, 3)\n",
      "0088.obj\n"
     ]
    },
    {
     "name": "stderr",
     "output_type": "stream",
     "text": [
      "Finding Edges...: 100%|██████████| 1000/1000 [00:19<00:00, 50.40it/s]\n",
      "Calculating Features...: 100%|██████████| 3000/3000 [00:00<00:00, 3994.00it/s]\n",
      "Finding Edges...:   0%|          | 4/1000 [00:00<00:25, 39.06it/s]"
     ]
    },
    {
     "name": "stdout",
     "output_type": "stream",
     "text": [
      "downsampled to (200, 3)\n",
      "0240.obj\n"
     ]
    },
    {
     "name": "stderr",
     "output_type": "stream",
     "text": [
      "Finding Edges...: 100%|██████████| 1000/1000 [00:20<00:00, 49.36it/s]\n",
      "Calculating Features...: 100%|██████████| 3000/3000 [00:00<00:00, 4168.08it/s]\n",
      "Finding Edges...:   0%|          | 5/1000 [00:00<00:21, 45.84it/s]"
     ]
    },
    {
     "name": "stdout",
     "output_type": "stream",
     "text": [
      "downsampled to (200, 3)\n",
      "0248.obj\n"
     ]
    },
    {
     "name": "stderr",
     "output_type": "stream",
     "text": [
      "Finding Edges...: 100%|██████████| 1000/1000 [00:19<00:00, 50.28it/s]\n",
      "Calculating Features...: 100%|██████████| 3000/3000 [00:00<00:00, 4271.37it/s]\n",
      "Finding Edges...:   0%|          | 5/1000 [00:00<00:22, 44.14it/s]"
     ]
    },
    {
     "name": "stdout",
     "output_type": "stream",
     "text": [
      "downsampled to (200, 3)\n",
      "0208.obj\n"
     ]
    },
    {
     "name": "stderr",
     "output_type": "stream",
     "text": [
      "Finding Edges...: 100%|██████████| 1000/1000 [00:19<00:00, 50.05it/s]\n",
      "Calculating Features...: 100%|██████████| 3000/3000 [00:00<00:00, 4119.80it/s]\n",
      "Finding Edges...:   0%|          | 5/1000 [00:00<00:20, 48.64it/s]"
     ]
    },
    {
     "name": "stdout",
     "output_type": "stream",
     "text": [
      "downsampled to (200, 3)\n",
      "0226.obj\n"
     ]
    },
    {
     "name": "stderr",
     "output_type": "stream",
     "text": [
      "Finding Edges...: 100%|██████████| 1000/1000 [00:19<00:00, 51.27it/s]\n",
      "Calculating Features...: 100%|██████████| 3000/3000 [00:00<00:00, 4164.55it/s]\n",
      "Finding Edges...:   0%|          | 5/1000 [00:00<00:22, 43.45it/s]"
     ]
    },
    {
     "name": "stdout",
     "output_type": "stream",
     "text": [
      "downsampled to (200, 3)\n",
      "0268.obj\n"
     ]
    },
    {
     "name": "stderr",
     "output_type": "stream",
     "text": [
      "Finding Edges...: 100%|██████████| 1000/1000 [00:19<00:00, 50.49it/s]\n",
      "Calculating Features...: 100%|██████████| 3000/3000 [00:00<00:00, 4279.49it/s]\n",
      "Finding Edges...:   0%|          | 4/1000 [00:00<00:26, 36.92it/s]"
     ]
    },
    {
     "name": "stdout",
     "output_type": "stream",
     "text": [
      "downsampled to (200, 3)\n",
      "0224.obj\n"
     ]
    },
    {
     "name": "stderr",
     "output_type": "stream",
     "text": [
      "Finding Edges...: 100%|██████████| 1000/1000 [00:19<00:00, 51.00it/s]\n",
      "Calculating Features...: 100%|██████████| 3000/3000 [00:00<00:00, 4083.24it/s]\n",
      "Finding Edges...:   0%|          | 5/1000 [00:00<00:21, 45.71it/s]"
     ]
    },
    {
     "name": "stdout",
     "output_type": "stream",
     "text": [
      "downsampled to (200, 3)\n",
      "0258.obj\n"
     ]
    },
    {
     "name": "stderr",
     "output_type": "stream",
     "text": [
      "Finding Edges...: 100%|██████████| 1000/1000 [00:19<00:00, 50.69it/s]\n",
      "Calculating Features...: 100%|██████████| 3000/3000 [00:00<00:00, 4143.15it/s]\n",
      "Finding Edges...:   0%|          | 5/1000 [00:00<00:21, 45.94it/s]"
     ]
    },
    {
     "name": "stdout",
     "output_type": "stream",
     "text": [
      "downsampled to (200, 3)\n",
      "0028.obj\n"
     ]
    },
    {
     "name": "stderr",
     "output_type": "stream",
     "text": [
      "Finding Edges...: 100%|██████████| 1000/1000 [00:19<00:00, 51.53it/s]\n",
      "Calculating Features...: 100%|██████████| 3000/3000 [00:00<00:00, 4153.70it/s]\n",
      "Finding Edges...:   0%|          | 4/1000 [00:00<00:26, 37.40it/s]"
     ]
    },
    {
     "name": "stdout",
     "output_type": "stream",
     "text": [
      "downsampled to (200, 3)\n",
      "0124.obj\n"
     ]
    },
    {
     "name": "stderr",
     "output_type": "stream",
     "text": [
      "Finding Edges...: 100%|██████████| 1000/1000 [00:19<00:00, 50.68it/s]\n",
      "Calculating Features...: 100%|██████████| 3000/3000 [00:00<00:00, 4044.52it/s]\n",
      "Finding Edges...:   0%|          | 5/1000 [00:00<00:20, 47.53it/s]"
     ]
    },
    {
     "name": "stdout",
     "output_type": "stream",
     "text": [
      "downsampled to (200, 3)\n",
      "0337.obj\n"
     ]
    },
    {
     "name": "stderr",
     "output_type": "stream",
     "text": [
      "Finding Edges...: 100%|██████████| 1000/1000 [00:19<00:00, 51.25it/s]\n",
      "Calculating Features...: 100%|██████████| 3000/3000 [00:00<00:00, 4032.78it/s]\n",
      "Finding Edges...:   0%|          | 5/1000 [00:00<00:21, 46.78it/s]"
     ]
    },
    {
     "name": "stdout",
     "output_type": "stream",
     "text": [
      "downsampled to (200, 3)\n",
      "0391.obj\n"
     ]
    },
    {
     "name": "stderr",
     "output_type": "stream",
     "text": [
      "Finding Edges...: 100%|██████████| 1000/1000 [00:19<00:00, 50.59it/s]\n",
      "Calculating Features...: 100%|██████████| 3000/3000 [00:00<00:00, 4281.39it/s]\n",
      "Finding Edges...:   0%|          | 5/1000 [00:00<00:22, 44.27it/s]"
     ]
    },
    {
     "name": "stdout",
     "output_type": "stream",
     "text": [
      "downsampled to (200, 3)\n",
      "0167.obj\n"
     ]
    },
    {
     "name": "stderr",
     "output_type": "stream",
     "text": [
      "Finding Edges...: 100%|██████████| 1000/1000 [00:19<00:00, 51.04it/s]\n",
      "Calculating Features...: 100%|██████████| 3000/3000 [00:00<00:00, 4116.48it/s]\n",
      "Finding Edges...:   0%|          | 5/1000 [00:00<00:23, 41.93it/s]"
     ]
    },
    {
     "name": "stdout",
     "output_type": "stream",
     "text": [
      "downsampled to (200, 3)\n",
      "0338.obj\n"
     ]
    },
    {
     "name": "stderr",
     "output_type": "stream",
     "text": [
      "Finding Edges...: 100%|██████████| 1000/1000 [00:19<00:00, 50.11it/s]\n",
      "Calculating Features...: 100%|██████████| 3000/3000 [00:00<00:00, 4094.46it/s]\n",
      "Finding Edges...:   0%|          | 5/1000 [00:00<00:22, 44.66it/s]"
     ]
    },
    {
     "name": "stdout",
     "output_type": "stream",
     "text": [
      "downsampled to (200, 3)\n",
      "0247.obj\n"
     ]
    },
    {
     "name": "stderr",
     "output_type": "stream",
     "text": [
      "Finding Edges...: 100%|██████████| 1000/1000 [00:19<00:00, 51.47it/s]\n",
      "Calculating Features...: 100%|██████████| 3000/3000 [00:00<00:00, 4113.10it/s]\n",
      "Finding Edges...:   0%|          | 5/1000 [00:00<00:22, 45.19it/s]"
     ]
    },
    {
     "name": "stdout",
     "output_type": "stream",
     "text": [
      "downsampled to (200, 3)\n",
      "0236.obj\n"
     ]
    },
    {
     "name": "stderr",
     "output_type": "stream",
     "text": [
      "Finding Edges...: 100%|██████████| 1000/1000 [00:20<00:00, 49.96it/s]\n",
      "Calculating Features...: 100%|██████████| 3000/3000 [00:00<00:00, 4176.22it/s]\n",
      "Finding Edges...:   0%|          | 5/1000 [00:00<00:21, 46.73it/s]"
     ]
    },
    {
     "name": "stdout",
     "output_type": "stream",
     "text": [
      "downsampled to (200, 3)\n",
      "0214.obj\n"
     ]
    },
    {
     "name": "stderr",
     "output_type": "stream",
     "text": [
      "Finding Edges...: 100%|██████████| 1000/1000 [00:19<00:00, 51.03it/s]\n",
      "Calculating Features...: 100%|██████████| 3000/3000 [00:00<00:00, 4091.06it/s]\n",
      "Finding Edges...:   0%|          | 5/1000 [00:00<00:24, 41.31it/s]"
     ]
    },
    {
     "name": "stdout",
     "output_type": "stream",
     "text": [
      "downsampled to (200, 3)\n",
      "0164.obj\n"
     ]
    },
    {
     "name": "stderr",
     "output_type": "stream",
     "text": [
      "Finding Edges...: 100%|██████████| 1000/1000 [00:19<00:00, 50.73it/s]\n",
      "Calculating Features...: 100%|██████████| 3000/3000 [00:00<00:00, 4227.92it/s]\n",
      "Finding Edges...:   0%|          | 5/1000 [00:00<00:20, 48.54it/s]"
     ]
    },
    {
     "name": "stdout",
     "output_type": "stream",
     "text": [
      "downsampled to (200, 3)\n",
      "0294.obj\n"
     ]
    },
    {
     "name": "stderr",
     "output_type": "stream",
     "text": [
      "Finding Edges...: 100%|██████████| 1000/1000 [00:19<00:00, 51.24it/s]\n",
      "Calculating Features...: 100%|██████████| 3000/3000 [00:00<00:00, 4182.80it/s]\n",
      "Finding Edges...:   0%|          | 4/1000 [00:00<00:26, 38.23it/s]"
     ]
    },
    {
     "name": "stdout",
     "output_type": "stream",
     "text": [
      "downsampled to (200, 3)\n",
      "0039.obj\n"
     ]
    },
    {
     "name": "stderr",
     "output_type": "stream",
     "text": [
      "Finding Edges...: 100%|██████████| 1000/1000 [00:19<00:00, 50.75it/s]\n",
      "Calculating Features...: 100%|██████████| 3000/3000 [00:00<00:00, 4209.63it/s]\n",
      "Finding Edges...:   0%|          | 5/1000 [00:00<00:20, 47.88it/s]"
     ]
    },
    {
     "name": "stdout",
     "output_type": "stream",
     "text": [
      "downsampled to (200, 3)\n",
      "0307.obj\n"
     ]
    },
    {
     "name": "stderr",
     "output_type": "stream",
     "text": [
      "Finding Edges...: 100%|██████████| 1000/1000 [00:19<00:00, 51.21it/s]\n",
      "Calculating Features...: 100%|██████████| 3000/3000 [00:00<00:00, 4237.24it/s]\n",
      "Finding Edges...:   0%|          | 5/1000 [00:00<00:23, 42.16it/s]"
     ]
    },
    {
     "name": "stdout",
     "output_type": "stream",
     "text": [
      "downsampled to (200, 3)\n",
      "--------------------------------------------\n",
      "coseg_vases\n",
      "--------------------------------------------\n",
      "0127.obj\n"
     ]
    },
    {
     "name": "stderr",
     "output_type": "stream",
     "text": [
      "Finding Edges...: 100%|██████████| 1000/1000 [00:19<00:00, 50.10it/s]\n",
      "Calculating Features...: 100%|██████████| 3000/3000 [00:00<00:00, 3981.07it/s]\n",
      "Finding Edges...:   0%|          | 5/1000 [00:00<00:22, 43.41it/s]"
     ]
    },
    {
     "name": "stdout",
     "output_type": "stream",
     "text": [
      "downsampled to (200, 3)\n",
      "0212.obj\n"
     ]
    },
    {
     "name": "stderr",
     "output_type": "stream",
     "text": [
      "Finding Edges...: 100%|██████████| 1000/1000 [00:19<00:00, 51.43it/s]\n",
      "Calculating Features...: 100%|██████████| 3000/3000 [00:00<00:00, 3936.79it/s]\n",
      "Finding Edges...:   0%|          | 5/1000 [00:00<00:20, 47.69it/s]"
     ]
    },
    {
     "name": "stdout",
     "output_type": "stream",
     "text": [
      "downsampled to (200, 3)\n",
      "0220.obj\n"
     ]
    },
    {
     "name": "stderr",
     "output_type": "stream",
     "text": [
      "Finding Edges...: 100%|██████████| 1000/1000 [00:19<00:00, 51.14it/s]\n",
      "Calculating Features...: 100%|██████████| 3000/3000 [00:00<00:00, 4145.70it/s]\n",
      "Finding Edges...:   0%|          | 5/1000 [00:00<00:24, 41.34it/s]"
     ]
    },
    {
     "name": "stdout",
     "output_type": "stream",
     "text": [
      "downsampled to (200, 3)\n",
      "0218.obj\n"
     ]
    },
    {
     "name": "stderr",
     "output_type": "stream",
     "text": [
      "Finding Edges...: 100%|██████████| 1000/1000 [00:19<00:00, 51.49it/s]\n",
      "Calculating Features...: 100%|██████████| 3000/3000 [00:00<00:00, 4244.28it/s]\n",
      "Finding Edges...:   0%|          | 4/1000 [00:00<00:25, 39.48it/s]"
     ]
    },
    {
     "name": "stdout",
     "output_type": "stream",
     "text": [
      "downsampled to (200, 3)\n",
      "0283.obj\n"
     ]
    },
    {
     "name": "stderr",
     "output_type": "stream",
     "text": [
      "Finding Edges...: 100%|██████████| 1000/1000 [00:19<00:00, 50.90it/s]\n",
      "Calculating Features...: 100%|██████████| 3000/3000 [00:00<00:00, 4153.42it/s]\n",
      "Finding Edges...:   0%|          | 5/1000 [00:00<00:22, 45.02it/s]"
     ]
    },
    {
     "name": "stdout",
     "output_type": "stream",
     "text": [
      "downsampled to (200, 3)\n",
      "0281.obj\n"
     ]
    },
    {
     "name": "stderr",
     "output_type": "stream",
     "text": [
      "Finding Edges...: 100%|██████████| 1000/1000 [00:19<00:00, 51.58it/s]\n",
      "Calculating Features...: 100%|██████████| 3000/3000 [00:00<00:00, 4161.49it/s]\n",
      "Finding Edges...:   0%|          | 5/1000 [00:00<00:23, 43.08it/s]"
     ]
    },
    {
     "name": "stdout",
     "output_type": "stream",
     "text": [
      "downsampled to (200, 3)\n",
      "0090.obj\n"
     ]
    },
    {
     "name": "stderr",
     "output_type": "stream",
     "text": [
      "Finding Edges...: 100%|██████████| 1000/1000 [00:19<00:00, 50.16it/s]\n",
      "Calculating Features...: 100%|██████████| 3000/3000 [00:00<00:00, 4127.62it/s]\n",
      "Finding Edges...:   0%|          | 5/1000 [00:00<00:21, 45.65it/s]"
     ]
    },
    {
     "name": "stdout",
     "output_type": "stream",
     "text": [
      "downsampled to (200, 3)\n",
      "0165.obj\n"
     ]
    },
    {
     "name": "stderr",
     "output_type": "stream",
     "text": [
      "Finding Edges...: 100%|██████████| 1000/1000 [00:19<00:00, 50.97it/s]\n",
      "Calculating Features...: 100%|██████████| 3000/3000 [00:00<00:00, 4153.40it/s]\n",
      "Finding Edges...:   0%|          | 4/1000 [00:00<00:28, 35.01it/s]"
     ]
    },
    {
     "name": "stdout",
     "output_type": "stream",
     "text": [
      "downsampled to (200, 3)\n",
      "0064.obj\n"
     ]
    },
    {
     "name": "stderr",
     "output_type": "stream",
     "text": [
      "Finding Edges...: 100%|██████████| 1000/1000 [00:19<00:00, 51.24it/s]\n",
      "Calculating Features...: 100%|██████████| 3000/3000 [00:00<00:00, 4215.81it/s]\n",
      "Finding Edges...:   0%|          | 5/1000 [00:00<00:21, 47.12it/s]"
     ]
    },
    {
     "name": "stdout",
     "output_type": "stream",
     "text": [
      "downsampled to (200, 3)\n",
      "0182.obj\n"
     ]
    },
    {
     "name": "stderr",
     "output_type": "stream",
     "text": [
      "Finding Edges...: 100%|██████████| 1000/1000 [00:19<00:00, 50.94it/s]\n",
      "Calculating Features...: 100%|██████████| 3000/3000 [00:00<00:00, 4089.23it/s]\n",
      "Finding Edges...:   1%|          | 6/1000 [00:00<00:19, 51.03it/s]"
     ]
    },
    {
     "name": "stdout",
     "output_type": "stream",
     "text": [
      "downsampled to (200, 3)\n",
      "0128.obj\n"
     ]
    },
    {
     "name": "stderr",
     "output_type": "stream",
     "text": [
      "Finding Edges...: 100%|██████████| 1000/1000 [00:19<00:00, 50.70it/s]\n",
      "Calculating Features...: 100%|██████████| 3000/3000 [00:00<00:00, 4203.95it/s]\n",
      "Finding Edges...:   0%|          | 5/1000 [00:00<00:21, 45.82it/s]"
     ]
    },
    {
     "name": "stdout",
     "output_type": "stream",
     "text": [
      "downsampled to (200, 3)\n",
      "0209.obj\n"
     ]
    },
    {
     "name": "stderr",
     "output_type": "stream",
     "text": [
      "Finding Edges...: 100%|██████████| 1000/1000 [00:19<00:00, 51.00it/s]\n",
      "Calculating Features...: 100%|██████████| 3000/3000 [00:00<00:00, 4234.74it/s]\n",
      "Finding Edges...:   0%|          | 5/1000 [00:00<00:22, 43.92it/s]"
     ]
    },
    {
     "name": "stdout",
     "output_type": "stream",
     "text": [
      "downsampled to (200, 3)\n",
      "0037.obj\n"
     ]
    },
    {
     "name": "stderr",
     "output_type": "stream",
     "text": [
      "Finding Edges...: 100%|██████████| 1000/1000 [00:19<00:00, 50.59it/s]\n",
      "Calculating Features...: 100%|██████████| 3000/3000 [00:00<00:00, 4197.26it/s]\n",
      "Finding Edges...:   0%|          | 5/1000 [00:00<00:20, 48.06it/s]"
     ]
    },
    {
     "name": "stdout",
     "output_type": "stream",
     "text": [
      "downsampled to (200, 3)\n",
      "0279.obj\n"
     ]
    },
    {
     "name": "stderr",
     "output_type": "stream",
     "text": [
      "Finding Edges...: 100%|██████████| 1000/1000 [00:19<00:00, 51.41it/s]\n",
      "Calculating Features...: 100%|██████████| 3000/3000 [00:00<00:00, 4156.47it/s]\n",
      "Finding Edges...:   0%|          | 5/1000 [00:00<00:19, 49.93it/s]"
     ]
    },
    {
     "name": "stdout",
     "output_type": "stream",
     "text": [
      "downsampled to (200, 3)\n",
      "0025.obj\n"
     ]
    },
    {
     "name": "stderr",
     "output_type": "stream",
     "text": [
      "Finding Edges...: 100%|██████████| 1000/1000 [00:19<00:00, 51.72it/s]\n",
      "Calculating Features...: 100%|██████████| 3000/3000 [00:00<00:00, 4056.89it/s]\n",
      "Finding Edges...:   0%|          | 5/1000 [00:00<00:21, 45.94it/s]"
     ]
    },
    {
     "name": "stdout",
     "output_type": "stream",
     "text": [
      "downsampled to (200, 3)\n",
      "0083.obj\n"
     ]
    },
    {
     "name": "stderr",
     "output_type": "stream",
     "text": [
      "Finding Edges...: 100%|██████████| 1000/1000 [00:19<00:00, 51.28it/s]\n",
      "Calculating Features...: 100%|██████████| 3000/3000 [00:00<00:00, 4088.70it/s]\n",
      "Finding Edges...:   0%|          | 5/1000 [00:00<00:20, 48.98it/s]"
     ]
    },
    {
     "name": "stdout",
     "output_type": "stream",
     "text": [
      "downsampled to (200, 3)\n",
      "0130.obj\n"
     ]
    },
    {
     "name": "stderr",
     "output_type": "stream",
     "text": [
      "Finding Edges...: 100%|██████████| 1000/1000 [00:19<00:00, 51.67it/s]\n",
      "Calculating Features...: 100%|██████████| 3000/3000 [00:00<00:00, 4304.52it/s]\n",
      "Finding Edges...:   0%|          | 4/1000 [00:00<00:25, 38.61it/s]"
     ]
    },
    {
     "name": "stdout",
     "output_type": "stream",
     "text": [
      "downsampled to (200, 3)\n",
      "0079.obj\n"
     ]
    },
    {
     "name": "stderr",
     "output_type": "stream",
     "text": [
      "Finding Edges...: 100%|██████████| 1000/1000 [00:19<00:00, 51.41it/s]\n",
      "Calculating Features...: 100%|██████████| 3000/3000 [00:00<00:00, 4147.69it/s]\n",
      "Finding Edges...:   0%|          | 5/1000 [00:00<00:21, 45.80it/s]"
     ]
    },
    {
     "name": "stdout",
     "output_type": "stream",
     "text": [
      "downsampled to (200, 3)\n",
      "0237.obj\n"
     ]
    },
    {
     "name": "stderr",
     "output_type": "stream",
     "text": [
      "Finding Edges...: 100%|██████████| 1000/1000 [00:19<00:00, 51.46it/s]\n",
      "Calculating Features...: 100%|██████████| 3000/3000 [00:00<00:00, 4214.63it/s]\n",
      "Finding Edges...:   0%|          | 4/1000 [00:00<00:28, 35.45it/s]"
     ]
    },
    {
     "name": "stdout",
     "output_type": "stream",
     "text": [
      "downsampled to (200, 3)\n",
      "0210.obj\n"
     ]
    },
    {
     "name": "stderr",
     "output_type": "stream",
     "text": [
      "Finding Edges...: 100%|██████████| 1000/1000 [00:19<00:00, 50.77it/s]\n",
      "Calculating Features...: 100%|██████████| 3000/3000 [00:00<00:00, 4117.75it/s]\n",
      "Finding Edges...:   0%|          | 5/1000 [00:00<00:23, 41.89it/s]"
     ]
    },
    {
     "name": "stdout",
     "output_type": "stream",
     "text": [
      "downsampled to (200, 3)\n",
      "0262.obj\n"
     ]
    },
    {
     "name": "stderr",
     "output_type": "stream",
     "text": [
      "Finding Edges...: 100%|██████████| 1000/1000 [00:19<00:00, 51.57it/s]\n",
      "Calculating Features...: 100%|██████████| 3000/3000 [00:00<00:00, 4149.86it/s]\n",
      "Finding Edges...:   0%|          | 5/1000 [00:00<00:21, 45.86it/s]"
     ]
    },
    {
     "name": "stdout",
     "output_type": "stream",
     "text": [
      "downsampled to (200, 3)\n",
      "0126.obj\n"
     ]
    },
    {
     "name": "stderr",
     "output_type": "stream",
     "text": [
      "Finding Edges...: 100%|██████████| 1000/1000 [00:19<00:00, 50.73it/s]\n",
      "Calculating Features...: 100%|██████████| 3000/3000 [00:00<00:00, 4124.50it/s]\n",
      "Finding Edges...:   0%|          | 5/1000 [00:00<00:21, 46.15it/s]"
     ]
    },
    {
     "name": "stdout",
     "output_type": "stream",
     "text": [
      "downsampled to (200, 3)\n",
      "0263.obj\n"
     ]
    },
    {
     "name": "stderr",
     "output_type": "stream",
     "text": [
      "Finding Edges...: 100%|██████████| 1000/1000 [00:19<00:00, 50.80it/s]\n",
      "Calculating Features...: 100%|██████████| 3000/3000 [00:00<00:00, 4275.17it/s]\n",
      "Finding Edges...:   0%|          | 5/1000 [00:00<00:22, 44.70it/s]"
     ]
    },
    {
     "name": "stdout",
     "output_type": "stream",
     "text": [
      "downsampled to (200, 3)\n",
      "0160.obj\n"
     ]
    },
    {
     "name": "stderr",
     "output_type": "stream",
     "text": [
      "Finding Edges...: 100%|██████████| 1000/1000 [00:19<00:00, 51.18it/s]\n",
      "Calculating Features...: 100%|██████████| 3000/3000 [00:00<00:00, 4111.05it/s]\n",
      "Finding Edges...:   0%|          | 5/1000 [00:00<00:20, 47.93it/s]"
     ]
    },
    {
     "name": "stdout",
     "output_type": "stream",
     "text": [
      "downsampled to (200, 3)\n",
      "0290.obj\n"
     ]
    },
    {
     "name": "stderr",
     "output_type": "stream",
     "text": [
      "Finding Edges...: 100%|██████████| 1000/1000 [00:19<00:00, 50.89it/s]\n",
      "Calculating Features...: 100%|██████████| 3000/3000 [00:00<00:00, 4262.27it/s]\n",
      "Finding Edges...:   0%|          | 5/1000 [00:00<00:23, 42.54it/s]"
     ]
    },
    {
     "name": "stdout",
     "output_type": "stream",
     "text": [
      "downsampled to (200, 3)\n",
      "0091.obj\n"
     ]
    },
    {
     "name": "stderr",
     "output_type": "stream",
     "text": [
      "Finding Edges...: 100%|██████████| 1000/1000 [00:19<00:00, 51.11it/s]\n",
      "Calculating Features...: 100%|██████████| 3000/3000 [00:00<00:00, 4162.09it/s]\n",
      "Finding Edges...:   0%|          | 5/1000 [00:00<00:21, 46.47it/s]"
     ]
    },
    {
     "name": "stdout",
     "output_type": "stream",
     "text": [
      "downsampled to (200, 3)\n",
      "0070.obj\n"
     ]
    },
    {
     "name": "stderr",
     "output_type": "stream",
     "text": [
      "Finding Edges...: 100%|██████████| 1000/1000 [00:20<00:00, 49.97it/s]\n",
      "Calculating Features...: 100%|██████████| 3000/3000 [00:00<00:00, 4149.46it/s]\n",
      "Finding Edges...:   0%|          | 5/1000 [00:00<00:20, 48.92it/s]"
     ]
    },
    {
     "name": "stdout",
     "output_type": "stream",
     "text": [
      "downsampled to (200, 3)\n",
      "0065.obj\n"
     ]
    },
    {
     "name": "stderr",
     "output_type": "stream",
     "text": [
      "Finding Edges...: 100%|██████████| 1000/1000 [00:19<00:00, 51.40it/s]\n",
      "Calculating Features...: 100%|██████████| 3000/3000 [00:00<00:00, 4132.53it/s]\n",
      "Finding Edges...:   0%|          | 5/1000 [00:00<00:21, 45.44it/s]"
     ]
    },
    {
     "name": "stdout",
     "output_type": "stream",
     "text": [
      "downsampled to (200, 3)\n",
      "0259.obj\n"
     ]
    },
    {
     "name": "stderr",
     "output_type": "stream",
     "text": [
      "Finding Edges...: 100%|██████████| 1000/1000 [00:19<00:00, 50.47it/s]\n",
      "Calculating Features...: 100%|██████████| 3000/3000 [00:00<00:00, 4077.25it/s]\n",
      "Finding Edges...:   0%|          | 5/1000 [00:00<00:22, 44.19it/s]"
     ]
    },
    {
     "name": "stdout",
     "output_type": "stream",
     "text": [
      "downsampled to (200, 3)\n",
      "0228.obj\n"
     ]
    },
    {
     "name": "stderr",
     "output_type": "stream",
     "text": [
      "Finding Edges...: 100%|██████████| 1000/1000 [00:19<00:00, 51.24it/s]\n",
      "Calculating Features...: 100%|██████████| 3000/3000 [00:00<00:00, 4136.74it/s]\n",
      "Finding Edges...:   0%|          | 5/1000 [00:00<00:22, 43.64it/s]"
     ]
    },
    {
     "name": "stdout",
     "output_type": "stream",
     "text": [
      "downsampled to (200, 3)\n",
      "0257.obj\n"
     ]
    },
    {
     "name": "stderr",
     "output_type": "stream",
     "text": [
      "Finding Edges...: 100%|██████████| 1000/1000 [00:19<00:00, 50.51it/s]\n",
      "Calculating Features...: 100%|██████████| 3000/3000 [00:00<00:00, 4259.90it/s]\n",
      "Finding Edges...:   0%|          | 5/1000 [00:00<00:20, 47.42it/s]"
     ]
    },
    {
     "name": "stdout",
     "output_type": "stream",
     "text": [
      "downsampled to (200, 3)\n",
      "0033.obj\n"
     ]
    },
    {
     "name": "stderr",
     "output_type": "stream",
     "text": [
      "Finding Edges...: 100%|██████████| 1000/1000 [00:19<00:00, 51.51it/s]\n",
      "Calculating Features...: 100%|██████████| 3000/3000 [00:00<00:00, 4170.85it/s]\n",
      "Finding Edges...:   0%|          | 5/1000 [00:00<00:21, 45.33it/s]"
     ]
    },
    {
     "name": "stdout",
     "output_type": "stream",
     "text": [
      "downsampled to (200, 3)\n",
      "0085.obj\n"
     ]
    },
    {
     "name": "stderr",
     "output_type": "stream",
     "text": [
      "Finding Edges...: 100%|██████████| 1000/1000 [00:19<00:00, 50.78it/s]\n",
      "Calculating Features...: 100%|██████████| 3000/3000 [00:00<00:00, 4186.09it/s]\n",
      "Finding Edges...:   0%|          | 4/1000 [00:00<00:25, 38.58it/s]"
     ]
    },
    {
     "name": "stdout",
     "output_type": "stream",
     "text": [
      "downsampled to (200, 3)\n",
      "0298.obj\n"
     ]
    },
    {
     "name": "stderr",
     "output_type": "stream",
     "text": [
      "Finding Edges...: 100%|██████████| 1000/1000 [00:19<00:00, 51.35it/s]\n",
      "Calculating Features...: 100%|██████████| 3000/3000 [00:00<00:00, 4037.36it/s]\n",
      "Finding Edges...:   0%|          | 5/1000 [00:00<00:21, 46.03it/s]"
     ]
    },
    {
     "name": "stdout",
     "output_type": "stream",
     "text": [
      "downsampled to (200, 3)\n",
      "0052.obj\n"
     ]
    },
    {
     "name": "stderr",
     "output_type": "stream",
     "text": [
      "Finding Edges...: 100%|██████████| 1000/1000 [00:19<00:00, 50.63it/s]\n",
      "Calculating Features...: 100%|██████████| 3000/3000 [00:00<00:00, 4172.26it/s]\n",
      "Finding Edges...:   0%|          | 5/1000 [00:00<00:21, 47.23it/s]"
     ]
    },
    {
     "name": "stdout",
     "output_type": "stream",
     "text": [
      "downsampled to (200, 3)\n",
      "0193.obj\n"
     ]
    },
    {
     "name": "stderr",
     "output_type": "stream",
     "text": [
      "Finding Edges...: 100%|██████████| 1000/1000 [00:19<00:00, 50.98it/s]\n",
      "Calculating Features...: 100%|██████████| 3000/3000 [00:00<00:00, 4189.52it/s]\n",
      "Finding Edges...:   0%|          | 5/1000 [00:00<00:22, 44.71it/s]"
     ]
    },
    {
     "name": "stdout",
     "output_type": "stream",
     "text": [
      "downsampled to (200, 3)\n",
      "0280.obj\n"
     ]
    },
    {
     "name": "stderr",
     "output_type": "stream",
     "text": [
      "Finding Edges...: 100%|██████████| 1000/1000 [00:20<00:00, 49.83it/s]\n",
      "Calculating Features...: 100%|██████████| 3000/3000 [00:00<00:00, 4047.59it/s]\n",
      "Finding Edges...:   0%|          | 5/1000 [00:00<00:22, 43.41it/s]"
     ]
    },
    {
     "name": "stdout",
     "output_type": "stream",
     "text": [
      "downsampled to (200, 3)\n",
      "0058.obj\n"
     ]
    },
    {
     "name": "stderr",
     "output_type": "stream",
     "text": [
      "Finding Edges...: 100%|██████████| 1000/1000 [00:19<00:00, 51.23it/s]\n",
      "Calculating Features...: 100%|██████████| 3000/3000 [00:00<00:00, 4173.81it/s]\n",
      "Finding Edges...:   0%|          | 4/1000 [00:00<00:26, 37.15it/s]"
     ]
    },
    {
     "name": "stdout",
     "output_type": "stream",
     "text": [
      "downsampled to (200, 3)\n",
      "0264.obj\n"
     ]
    },
    {
     "name": "stderr",
     "output_type": "stream",
     "text": [
      "Finding Edges...: 100%|██████████| 1000/1000 [00:19<00:00, 50.64it/s]\n",
      "Calculating Features...: 100%|██████████| 3000/3000 [00:00<00:00, 4092.25it/s]\n",
      "Finding Edges...:   0%|          | 5/1000 [00:00<00:22, 44.66it/s]"
     ]
    },
    {
     "name": "stdout",
     "output_type": "stream",
     "text": [
      "downsampled to (200, 3)\n",
      "0166.obj\n"
     ]
    },
    {
     "name": "stderr",
     "output_type": "stream",
     "text": [
      "Finding Edges...: 100%|██████████| 1000/1000 [00:19<00:00, 51.18it/s]\n",
      "Calculating Features...: 100%|██████████| 3000/3000 [00:00<00:00, 4084.13it/s]\n",
      "Finding Edges...:   0%|          | 5/1000 [00:00<00:23, 42.75it/s]"
     ]
    },
    {
     "name": "stdout",
     "output_type": "stream",
     "text": [
      "downsampled to (200, 3)\n",
      "0099.obj\n"
     ]
    },
    {
     "name": "stderr",
     "output_type": "stream",
     "text": [
      "Finding Edges...: 100%|██████████| 1000/1000 [00:19<00:00, 50.23it/s]\n",
      "Calculating Features...: 100%|██████████| 3000/3000 [00:00<00:00, 4058.89it/s]\n",
      "Finding Edges...:   0%|          | 5/1000 [00:00<00:21, 46.74it/s]"
     ]
    },
    {
     "name": "stdout",
     "output_type": "stream",
     "text": [
      "downsampled to (200, 3)\n",
      "0005.obj\n"
     ]
    },
    {
     "name": "stderr",
     "output_type": "stream",
     "text": [
      "Finding Edges...: 100%|██████████| 1000/1000 [00:19<00:00, 51.36it/s]\n",
      "Calculating Features...: 100%|██████████| 3000/3000 [00:00<00:00, 4176.18it/s]\n",
      "Finding Edges...:   0%|          | 5/1000 [00:00<00:23, 43.26it/s]"
     ]
    },
    {
     "name": "stdout",
     "output_type": "stream",
     "text": [
      "downsampled to (200, 3)\n",
      "0074.obj\n"
     ]
    },
    {
     "name": "stderr",
     "output_type": "stream",
     "text": [
      "Finding Edges...: 100%|██████████| 1000/1000 [00:19<00:00, 50.25it/s]\n",
      "Calculating Features...: 100%|██████████| 3000/3000 [00:00<00:00, 4192.60it/s]\n",
      "Finding Edges...:   0%|          | 5/1000 [00:00<00:22, 44.64it/s]"
     ]
    },
    {
     "name": "stdout",
     "output_type": "stream",
     "text": [
      "downsampled to (200, 3)\n",
      "0251.obj\n"
     ]
    },
    {
     "name": "stderr",
     "output_type": "stream",
     "text": [
      "Finding Edges...: 100%|██████████| 1000/1000 [00:19<00:00, 51.32it/s]\n",
      "Calculating Features...: 100%|██████████| 3000/3000 [00:00<00:00, 4202.20it/s]\n",
      "Finding Edges...:   1%|          | 6/1000 [00:00<00:19, 50.68it/s]"
     ]
    },
    {
     "name": "stdout",
     "output_type": "stream",
     "text": [
      "downsampled to (200, 3)\n",
      "0199.obj\n"
     ]
    },
    {
     "name": "stderr",
     "output_type": "stream",
     "text": [
      "Finding Edges...: 100%|██████████| 1000/1000 [00:19<00:00, 50.94it/s]\n",
      "Calculating Features...: 100%|██████████| 3000/3000 [00:00<00:00, 4146.31it/s]\n",
      "Finding Edges...:   0%|          | 5/1000 [00:00<00:22, 44.33it/s]"
     ]
    },
    {
     "name": "stdout",
     "output_type": "stream",
     "text": [
      "downsampled to (200, 3)\n",
      "0067.obj\n"
     ]
    },
    {
     "name": "stderr",
     "output_type": "stream",
     "text": [
      "Finding Edges...: 100%|██████████| 1000/1000 [00:19<00:00, 51.44it/s]\n",
      "Calculating Features...: 100%|██████████| 3000/3000 [00:00<00:00, 4188.57it/s]\n",
      "Finding Edges...:   0%|          | 5/1000 [00:00<00:23, 42.80it/s]"
     ]
    },
    {
     "name": "stdout",
     "output_type": "stream",
     "text": [
      "downsampled to (200, 3)\n",
      "0282.obj\n"
     ]
    },
    {
     "name": "stderr",
     "output_type": "stream",
     "text": [
      "Finding Edges...: 100%|██████████| 1000/1000 [00:19<00:00, 51.02it/s]\n",
      "Calculating Features...: 100%|██████████| 3000/3000 [00:00<00:00, 4304.20it/s]\n",
      "Finding Edges...:   0%|          | 5/1000 [00:00<00:22, 44.06it/s]"
     ]
    },
    {
     "name": "stdout",
     "output_type": "stream",
     "text": [
      "downsampled to (200, 3)\n",
      "0075.obj\n"
     ]
    },
    {
     "name": "stderr",
     "output_type": "stream",
     "text": [
      "Finding Edges...: 100%|██████████| 1000/1000 [00:19<00:00, 50.93it/s]\n",
      "Calculating Features...: 100%|██████████| 3000/3000 [00:00<00:00, 4286.55it/s]\n",
      "Finding Edges...:   0%|          | 5/1000 [00:00<00:22, 45.10it/s]"
     ]
    },
    {
     "name": "stdout",
     "output_type": "stream",
     "text": [
      "downsampled to (200, 3)\n",
      "0159.obj\n"
     ]
    },
    {
     "name": "stderr",
     "output_type": "stream",
     "text": [
      "Finding Edges...: 100%|██████████| 1000/1000 [00:19<00:00, 50.42it/s]\n",
      "Calculating Features...: 100%|██████████| 3000/3000 [00:00<00:00, 4331.43it/s]\n",
      "Finding Edges...:   0%|          | 4/1000 [00:00<00:25, 38.96it/s]"
     ]
    },
    {
     "name": "stdout",
     "output_type": "stream",
     "text": [
      "downsampled to (200, 3)\n",
      "0275.obj\n"
     ]
    },
    {
     "name": "stderr",
     "output_type": "stream",
     "text": [
      "Finding Edges...: 100%|██████████| 1000/1000 [00:19<00:00, 51.22it/s]\n",
      "Calculating Features...: 100%|██████████| 3000/3000 [00:00<00:00, 4173.34it/s]\n",
      "Finding Edges...:   0%|          | 5/1000 [00:00<00:21, 45.64it/s]"
     ]
    },
    {
     "name": "stdout",
     "output_type": "stream",
     "text": [
      "downsampled to (200, 3)\n",
      "0113.obj\n"
     ]
    },
    {
     "name": "stderr",
     "output_type": "stream",
     "text": [
      "Finding Edges...: 100%|██████████| 1000/1000 [00:19<00:00, 50.74it/s]\n",
      "Calculating Features...: 100%|██████████| 3000/3000 [00:00<00:00, 4249.99it/s]\n",
      "Finding Edges...:   0%|          | 5/1000 [00:00<00:23, 42.40it/s]"
     ]
    },
    {
     "name": "stdout",
     "output_type": "stream",
     "text": [
      "downsampled to (200, 3)\n",
      "0031.obj\n"
     ]
    },
    {
     "name": "stderr",
     "output_type": "stream",
     "text": [
      "Finding Edges...: 100%|██████████| 1000/1000 [00:19<00:00, 50.31it/s]\n",
      "Calculating Features...: 100%|██████████| 3000/3000 [00:00<00:00, 4028.50it/s]\n",
      "Finding Edges...:   0%|          | 5/1000 [00:00<00:20, 48.21it/s]"
     ]
    },
    {
     "name": "stdout",
     "output_type": "stream",
     "text": [
      "downsampled to (200, 3)\n",
      "0094.obj\n"
     ]
    },
    {
     "name": "stderr",
     "output_type": "stream",
     "text": [
      "Finding Edges...: 100%|██████████| 1000/1000 [00:19<00:00, 50.17it/s]\n",
      "Calculating Features...: 100%|██████████| 3000/3000 [00:00<00:00, 4231.53it/s]\n",
      "Finding Edges...:   0%|          | 4/1000 [00:00<00:27, 36.80it/s]"
     ]
    },
    {
     "name": "stdout",
     "output_type": "stream",
     "text": [
      "downsampled to (200, 3)\n",
      "0066.obj\n"
     ]
    },
    {
     "name": "stderr",
     "output_type": "stream",
     "text": [
      "Finding Edges...: 100%|██████████| 1000/1000 [00:19<00:00, 51.51it/s]\n",
      "Calculating Features...: 100%|██████████| 3000/3000 [00:00<00:00, 4123.79it/s]\n",
      "Finding Edges...:   0%|          | 5/1000 [00:00<00:22, 44.71it/s]"
     ]
    },
    {
     "name": "stdout",
     "output_type": "stream",
     "text": [
      "downsampled to (200, 3)\n",
      "0155.obj\n"
     ]
    },
    {
     "name": "stderr",
     "output_type": "stream",
     "text": [
      "Finding Edges...: 100%|██████████| 1000/1000 [00:19<00:00, 50.07it/s]\n",
      "Calculating Features...: 100%|██████████| 3000/3000 [00:00<00:00, 4207.72it/s]\n",
      "Finding Edges...:   0%|          | 5/1000 [00:00<00:20, 48.56it/s]"
     ]
    },
    {
     "name": "stdout",
     "output_type": "stream",
     "text": [
      "downsampled to (200, 3)\n",
      "0098.obj\n"
     ]
    },
    {
     "name": "stderr",
     "output_type": "stream",
     "text": [
      "Finding Edges...: 100%|██████████| 1000/1000 [00:19<00:00, 51.36it/s]\n",
      "Calculating Features...: 100%|██████████| 3000/3000 [00:00<00:00, 4167.92it/s]\n",
      "Finding Edges...:   0%|          | 5/1000 [00:00<00:22, 43.35it/s]"
     ]
    },
    {
     "name": "stdout",
     "output_type": "stream",
     "text": [
      "downsampled to (200, 3)\n",
      "0118.obj\n"
     ]
    },
    {
     "name": "stderr",
     "output_type": "stream",
     "text": [
      "Finding Edges...: 100%|██████████| 1000/1000 [00:19<00:00, 50.40it/s]\n",
      "Calculating Features...: 100%|██████████| 3000/3000 [00:00<00:00, 4247.71it/s]\n",
      "Finding Edges...:   0%|          | 4/1000 [00:00<00:26, 38.15it/s]"
     ]
    },
    {
     "name": "stdout",
     "output_type": "stream",
     "text": [
      "downsampled to (200, 3)\n",
      "0082.obj\n"
     ]
    },
    {
     "name": "stderr",
     "output_type": "stream",
     "text": [
      "Finding Edges...: 100%|██████████| 1000/1000 [00:19<00:00, 50.87it/s]\n",
      "Calculating Features...: 100%|██████████| 3000/3000 [00:00<00:00, 4251.21it/s]\n",
      "Finding Edges...:   0%|          | 5/1000 [00:00<00:21, 45.31it/s]"
     ]
    },
    {
     "name": "stdout",
     "output_type": "stream",
     "text": [
      "downsampled to (200, 3)\n",
      "0261.obj\n"
     ]
    },
    {
     "name": "stderr",
     "output_type": "stream",
     "text": [
      "Finding Edges...: 100%|██████████| 1000/1000 [00:19<00:00, 50.56it/s]\n",
      "Calculating Features...: 100%|██████████| 3000/3000 [00:00<00:00, 4186.24it/s]\n",
      "Finding Edges...:   0%|          | 5/1000 [00:00<00:22, 44.87it/s]"
     ]
    },
    {
     "name": "stdout",
     "output_type": "stream",
     "text": [
      "downsampled to (200, 3)\n",
      "0201.obj\n"
     ]
    },
    {
     "name": "stderr",
     "output_type": "stream",
     "text": [
      "Finding Edges...: 100%|██████████| 1000/1000 [00:19<00:00, 51.30it/s]\n",
      "Calculating Features...: 100%|██████████| 3000/3000 [00:00<00:00, 4163.43it/s]\n",
      "Finding Edges...:   0%|          | 5/1000 [00:00<00:22, 44.77it/s]"
     ]
    },
    {
     "name": "stdout",
     "output_type": "stream",
     "text": [
      "downsampled to (200, 3)\n",
      "0231.obj\n"
     ]
    },
    {
     "name": "stderr",
     "output_type": "stream",
     "text": [
      "Finding Edges...: 100%|██████████| 1000/1000 [00:19<00:00, 50.54it/s]\n",
      "Calculating Features...: 100%|██████████| 3000/3000 [00:00<00:00, 4262.09it/s]\n",
      "Finding Edges...:   0%|          | 4/1000 [00:00<00:26, 37.69it/s]"
     ]
    },
    {
     "name": "stdout",
     "output_type": "stream",
     "text": [
      "downsampled to (200, 3)\n",
      "0023.obj\n"
     ]
    },
    {
     "name": "stderr",
     "output_type": "stream",
     "text": [
      "Finding Edges...: 100%|██████████| 1000/1000 [00:19<00:00, 51.04it/s]\n",
      "Calculating Features...: 100%|██████████| 3000/3000 [00:00<00:00, 4006.46it/s]\n",
      "Finding Edges...:   0%|          | 5/1000 [00:00<00:20, 48.74it/s]"
     ]
    },
    {
     "name": "stdout",
     "output_type": "stream",
     "text": [
      "downsampled to (200, 3)\n",
      "0172.obj\n"
     ]
    },
    {
     "name": "stderr",
     "output_type": "stream",
     "text": [
      "Finding Edges...: 100%|██████████| 1000/1000 [00:19<00:00, 50.32it/s]\n",
      "Calculating Features...: 100%|██████████| 3000/3000 [00:00<00:00, 4007.40it/s]\n",
      "Finding Edges...:   0%|          | 5/1000 [00:00<00:23, 42.37it/s]"
     ]
    },
    {
     "name": "stdout",
     "output_type": "stream",
     "text": [
      "downsampled to (200, 3)\n",
      "0044.obj\n"
     ]
    },
    {
     "name": "stderr",
     "output_type": "stream",
     "text": [
      "Finding Edges...: 100%|██████████| 1000/1000 [00:19<00:00, 50.71it/s]\n",
      "Calculating Features...: 100%|██████████| 3000/3000 [00:00<00:00, 4056.27it/s]\n",
      "Finding Edges...:   0%|          | 5/1000 [00:00<00:21, 45.97it/s]"
     ]
    },
    {
     "name": "stdout",
     "output_type": "stream",
     "text": [
      "downsampled to (200, 3)\n",
      "0181.obj\n"
     ]
    },
    {
     "name": "stderr",
     "output_type": "stream",
     "text": [
      "Finding Edges...: 100%|██████████| 1000/1000 [00:19<00:00, 50.43it/s]\n",
      "Calculating Features...: 100%|██████████| 3000/3000 [00:00<00:00, 4098.39it/s]\n",
      "Finding Edges...:   0%|          | 4/1000 [00:00<00:27, 35.90it/s]"
     ]
    },
    {
     "name": "stdout",
     "output_type": "stream",
     "text": [
      "downsampled to (200, 3)\n",
      "0041.obj\n"
     ]
    },
    {
     "name": "stderr",
     "output_type": "stream",
     "text": [
      "Finding Edges...: 100%|██████████| 1000/1000 [00:19<00:00, 50.72it/s]\n",
      "Calculating Features...: 100%|██████████| 3000/3000 [00:00<00:00, 4202.18it/s]\n",
      "Finding Edges...:   0%|          | 5/1000 [00:00<00:22, 45.06it/s]"
     ]
    },
    {
     "name": "stdout",
     "output_type": "stream",
     "text": [
      "downsampled to (200, 3)\n",
      "0207.obj\n"
     ]
    },
    {
     "name": "stderr",
     "output_type": "stream",
     "text": [
      "Finding Edges...: 100%|██████████| 1000/1000 [00:19<00:00, 50.24it/s]\n",
      "Calculating Features...: 100%|██████████| 3000/3000 [00:00<00:00, 4180.41it/s]\n",
      "Finding Edges...:   0%|          | 5/1000 [00:00<00:22, 43.98it/s]"
     ]
    },
    {
     "name": "stdout",
     "output_type": "stream",
     "text": [
      "downsampled to (200, 3)\n",
      "0077.obj\n"
     ]
    },
    {
     "name": "stderr",
     "output_type": "stream",
     "text": [
      "Finding Edges...: 100%|██████████| 1000/1000 [00:19<00:00, 51.39it/s]\n",
      "Calculating Features...: 100%|██████████| 3000/3000 [00:00<00:00, 4172.43it/s]\n",
      "Finding Edges...:   0%|          | 5/1000 [00:00<00:20, 48.64it/s]"
     ]
    },
    {
     "name": "stdout",
     "output_type": "stream",
     "text": [
      "downsampled to (200, 3)\n",
      "0119.obj\n"
     ]
    },
    {
     "name": "stderr",
     "output_type": "stream",
     "text": [
      "Finding Edges...: 100%|██████████| 1000/1000 [00:19<00:00, 50.63it/s]\n",
      "Calculating Features...: 100%|██████████| 3000/3000 [00:00<00:00, 4265.41it/s]\n",
      "Finding Edges...:   0%|          | 4/1000 [00:00<00:24, 39.92it/s]"
     ]
    },
    {
     "name": "stdout",
     "output_type": "stream",
     "text": [
      "downsampled to (200, 3)\n",
      "0111.obj\n"
     ]
    },
    {
     "name": "stderr",
     "output_type": "stream",
     "text": [
      "Finding Edges...: 100%|██████████| 1000/1000 [00:19<00:00, 50.90it/s]\n",
      "Calculating Features...: 100%|██████████| 3000/3000 [00:00<00:00, 4158.38it/s]\n",
      "Finding Edges...:   0%|          | 5/1000 [00:00<00:23, 42.84it/s]"
     ]
    },
    {
     "name": "stdout",
     "output_type": "stream",
     "text": [
      "downsampled to (200, 3)\n",
      "0054.obj\n"
     ]
    },
    {
     "name": "stderr",
     "output_type": "stream",
     "text": [
      "Finding Edges...: 100%|██████████| 1000/1000 [00:19<00:00, 50.32it/s]\n",
      "Calculating Features...: 100%|██████████| 3000/3000 [00:00<00:00, 3573.29it/s]\n",
      "Finding Edges...:   0%|          | 4/1000 [00:00<00:26, 37.41it/s]"
     ]
    },
    {
     "name": "stdout",
     "output_type": "stream",
     "text": [
      "downsampled to (200, 3)\n",
      "0180.obj\n"
     ]
    },
    {
     "name": "stderr",
     "output_type": "stream",
     "text": [
      "Finding Edges...: 100%|██████████| 1000/1000 [00:19<00:00, 50.46it/s]\n",
      "Calculating Features...: 100%|██████████| 3000/3000 [00:00<00:00, 4304.05it/s]\n",
      "Finding Edges...:   0%|          | 5/1000 [00:00<00:23, 42.00it/s]"
     ]
    },
    {
     "name": "stdout",
     "output_type": "stream",
     "text": [
      "downsampled to (200, 3)\n",
      "0195.obj\n"
     ]
    },
    {
     "name": "stderr",
     "output_type": "stream",
     "text": [
      "Finding Edges...: 100%|██████████| 1000/1000 [00:19<00:00, 50.73it/s]\n",
      "Calculating Features...: 100%|██████████| 3000/3000 [00:00<00:00, 4318.13it/s]\n",
      "Finding Edges...:   0%|          | 4/1000 [00:00<00:28, 35.45it/s]"
     ]
    },
    {
     "name": "stdout",
     "output_type": "stream",
     "text": [
      "downsampled to (200, 3)\n",
      "0038.obj\n"
     ]
    },
    {
     "name": "stderr",
     "output_type": "stream",
     "text": [
      "Finding Edges...: 100%|██████████| 1000/1000 [00:19<00:00, 50.74it/s]\n",
      "Calculating Features...: 100%|██████████| 3000/3000 [00:00<00:00, 4102.27it/s]\n",
      "Finding Edges...:   0%|          | 5/1000 [00:00<00:23, 42.42it/s]"
     ]
    },
    {
     "name": "stdout",
     "output_type": "stream",
     "text": [
      "downsampled to (200, 3)\n",
      "0173.obj\n"
     ]
    },
    {
     "name": "stderr",
     "output_type": "stream",
     "text": [
      "Finding Edges...: 100%|██████████| 1000/1000 [00:20<00:00, 49.94it/s]\n",
      "Calculating Features...: 100%|██████████| 3000/3000 [00:00<00:00, 4149.56it/s]\n",
      "Finding Edges...:   0%|          | 5/1000 [00:00<00:23, 42.35it/s]"
     ]
    },
    {
     "name": "stdout",
     "output_type": "stream",
     "text": [
      "downsampled to (200, 3)\n",
      "0266.obj\n"
     ]
    },
    {
     "name": "stderr",
     "output_type": "stream",
     "text": [
      "Finding Edges...: 100%|██████████| 1000/1000 [00:19<00:00, 51.43it/s]\n",
      "Calculating Features...: 100%|██████████| 3000/3000 [00:00<00:00, 4117.84it/s]\n",
      "Finding Edges...:   0%|          | 5/1000 [00:00<00:23, 41.81it/s]"
     ]
    },
    {
     "name": "stdout",
     "output_type": "stream",
     "text": [
      "downsampled to (200, 3)\n",
      "0174.obj\n"
     ]
    },
    {
     "name": "stderr",
     "output_type": "stream",
     "text": [
      "Finding Edges...: 100%|██████████| 1000/1000 [00:20<00:00, 49.09it/s]\n",
      "Calculating Features...: 100%|██████████| 3000/3000 [00:00<00:00, 3965.80it/s]\n",
      "Finding Edges...:   0%|          | 5/1000 [00:00<00:22, 43.77it/s]"
     ]
    },
    {
     "name": "stdout",
     "output_type": "stream",
     "text": [
      "downsampled to (200, 3)\n",
      "0109.obj\n"
     ]
    },
    {
     "name": "stderr",
     "output_type": "stream",
     "text": [
      "Finding Edges...: 100%|██████████| 1000/1000 [00:19<00:00, 50.79it/s]\n",
      "Calculating Features...: 100%|██████████| 3000/3000 [00:00<00:00, 4029.12it/s]\n",
      "Finding Edges...:   0%|          | 5/1000 [00:00<00:20, 47.44it/s]"
     ]
    },
    {
     "name": "stdout",
     "output_type": "stream",
     "text": [
      "downsampled to (200, 3)\n",
      "0008.obj\n"
     ]
    },
    {
     "name": "stderr",
     "output_type": "stream",
     "text": [
      "Finding Edges...: 100%|██████████| 1000/1000 [00:19<00:00, 50.53it/s]\n",
      "Calculating Features...: 100%|██████████| 3000/3000 [00:00<00:00, 4081.65it/s]\n",
      "Finding Edges...:   0%|          | 4/1000 [00:00<00:25, 39.02it/s]"
     ]
    },
    {
     "name": "stdout",
     "output_type": "stream",
     "text": [
      "downsampled to (200, 3)\n",
      "0095.obj\n"
     ]
    },
    {
     "name": "stderr",
     "output_type": "stream",
     "text": [
      "Finding Edges...: 100%|██████████| 1000/1000 [00:19<00:00, 50.48it/s]\n",
      "Calculating Features...: 100%|██████████| 3000/3000 [00:00<00:00, 4210.78it/s]\n",
      "Finding Edges...:   0%|          | 5/1000 [00:00<00:23, 43.20it/s]"
     ]
    },
    {
     "name": "stdout",
     "output_type": "stream",
     "text": [
      "downsampled to (200, 3)\n",
      "0200.obj\n"
     ]
    },
    {
     "name": "stderr",
     "output_type": "stream",
     "text": [
      "Finding Edges...: 100%|██████████| 1000/1000 [00:19<00:00, 50.24it/s]\n",
      "Calculating Features...: 100%|██████████| 3000/3000 [00:00<00:00, 3977.78it/s]\n",
      "Finding Edges...:   0%|          | 5/1000 [00:00<00:22, 44.48it/s]"
     ]
    },
    {
     "name": "stdout",
     "output_type": "stream",
     "text": [
      "downsampled to (200, 3)\n",
      "0030.obj\n"
     ]
    },
    {
     "name": "stderr",
     "output_type": "stream",
     "text": [
      "Finding Edges...: 100%|██████████| 1000/1000 [00:20<00:00, 49.89it/s]\n",
      "Calculating Features...: 100%|██████████| 3000/3000 [00:00<00:00, 4021.58it/s]\n",
      "Finding Edges...:   0%|          | 4/1000 [00:00<00:29, 33.24it/s]"
     ]
    },
    {
     "name": "stdout",
     "output_type": "stream",
     "text": [
      "downsampled to (200, 3)\n",
      "0144.obj\n"
     ]
    },
    {
     "name": "stderr",
     "output_type": "stream",
     "text": [
      "Finding Edges...: 100%|██████████| 1000/1000 [00:19<00:00, 50.40it/s]\n",
      "Calculating Features...: 100%|██████████| 3000/3000 [00:00<00:00, 4157.01it/s]\n",
      "Finding Edges...:   0%|          | 5/1000 [00:00<00:20, 49.35it/s]"
     ]
    },
    {
     "name": "stdout",
     "output_type": "stream",
     "text": [
      "downsampled to (200, 3)\n",
      "0147.obj\n"
     ]
    },
    {
     "name": "stderr",
     "output_type": "stream",
     "text": [
      "Finding Edges...: 100%|██████████| 1000/1000 [00:19<00:00, 50.67it/s]\n",
      "Calculating Features...: 100%|██████████| 3000/3000 [00:00<00:00, 4137.81it/s]\n",
      "Finding Edges...:   0%|          | 4/1000 [00:00<00:26, 37.99it/s]"
     ]
    },
    {
     "name": "stdout",
     "output_type": "stream",
     "text": [
      "downsampled to (200, 3)\n",
      "0252.obj\n"
     ]
    },
    {
     "name": "stderr",
     "output_type": "stream",
     "text": [
      "Finding Edges...: 100%|██████████| 1000/1000 [00:19<00:00, 50.28it/s]\n",
      "Calculating Features...: 100%|██████████| 3000/3000 [00:00<00:00, 4140.42it/s]\n",
      "Finding Edges...:   0%|          | 5/1000 [00:00<00:20, 48.43it/s]"
     ]
    },
    {
     "name": "stdout",
     "output_type": "stream",
     "text": [
      "downsampled to (200, 3)\n",
      "0225.obj\n"
     ]
    },
    {
     "name": "stderr",
     "output_type": "stream",
     "text": [
      "Finding Edges...: 100%|██████████| 1000/1000 [00:19<00:00, 50.92it/s]\n",
      "Calculating Features...: 100%|██████████| 3000/3000 [00:00<00:00, 4164.82it/s]\n",
      "Finding Edges...:   0%|          | 5/1000 [00:00<00:22, 44.59it/s]"
     ]
    },
    {
     "name": "stdout",
     "output_type": "stream",
     "text": [
      "downsampled to (200, 3)\n",
      "0076.obj\n"
     ]
    },
    {
     "name": "stderr",
     "output_type": "stream",
     "text": [
      "Finding Edges...: 100%|██████████| 1000/1000 [00:19<00:00, 51.14it/s]\n",
      "Calculating Features...: 100%|██████████| 3000/3000 [00:00<00:00, 4228.10it/s]\n",
      "Finding Edges...:   0%|          | 4/1000 [00:00<00:26, 37.75it/s]"
     ]
    },
    {
     "name": "stdout",
     "output_type": "stream",
     "text": [
      "downsampled to (200, 3)\n",
      "0061.obj\n"
     ]
    },
    {
     "name": "stderr",
     "output_type": "stream",
     "text": [
      "Finding Edges...: 100%|██████████| 1000/1000 [00:20<00:00, 49.75it/s]\n",
      "Calculating Features...: 100%|██████████| 3000/3000 [00:00<00:00, 4188.62it/s]\n",
      "Finding Edges...:   0%|          | 5/1000 [00:00<00:23, 42.88it/s]"
     ]
    },
    {
     "name": "stdout",
     "output_type": "stream",
     "text": [
      "downsampled to (200, 3)\n",
      "0250.obj\n"
     ]
    },
    {
     "name": "stderr",
     "output_type": "stream",
     "text": [
      "Finding Edges...: 100%|██████████| 1000/1000 [00:19<00:00, 50.65it/s]\n",
      "Calculating Features...: 100%|██████████| 3000/3000 [00:00<00:00, 3902.63it/s]\n",
      "Finding Edges...:   0%|          | 4/1000 [00:00<00:25, 38.48it/s]"
     ]
    },
    {
     "name": "stdout",
     "output_type": "stream",
     "text": [
      "downsampled to (200, 3)\n",
      "0063.obj\n"
     ]
    },
    {
     "name": "stderr",
     "output_type": "stream",
     "text": [
      "Finding Edges...: 100%|██████████| 1000/1000 [00:19<00:00, 50.48it/s]\n",
      "Calculating Features...: 100%|██████████| 3000/3000 [00:00<00:00, 4170.49it/s]\n",
      "Finding Edges...:   0%|          | 5/1000 [00:00<00:23, 42.45it/s]"
     ]
    },
    {
     "name": "stdout",
     "output_type": "stream",
     "text": [
      "downsampled to (200, 3)\n",
      "0238.obj\n"
     ]
    },
    {
     "name": "stderr",
     "output_type": "stream",
     "text": [
      "Finding Edges...: 100%|██████████| 1000/1000 [00:19<00:00, 51.11it/s]\n",
      "Calculating Features...: 100%|██████████| 3000/3000 [00:00<00:00, 4138.09it/s]\n",
      "Finding Edges...:   0%|          | 4/1000 [00:00<00:26, 37.07it/s]"
     ]
    },
    {
     "name": "stdout",
     "output_type": "stream",
     "text": [
      "downsampled to (200, 3)\n",
      "0176.obj\n"
     ]
    },
    {
     "name": "stderr",
     "output_type": "stream",
     "text": [
      "Finding Edges...: 100%|██████████| 1000/1000 [00:19<00:00, 50.09it/s]\n",
      "Calculating Features...: 100%|██████████| 3000/3000 [00:00<00:00, 4151.26it/s]\n",
      "Finding Edges...:   0%|          | 5/1000 [00:00<00:21, 47.18it/s]"
     ]
    },
    {
     "name": "stdout",
     "output_type": "stream",
     "text": [
      "downsampled to (200, 3)\n",
      "0017.obj\n"
     ]
    },
    {
     "name": "stderr",
     "output_type": "stream",
     "text": [
      "Finding Edges...: 100%|██████████| 1000/1000 [00:19<00:00, 50.51it/s]\n",
      "Calculating Features...: 100%|██████████| 3000/3000 [00:00<00:00, 4211.72it/s]\n",
      "Finding Edges...:   0%|          | 5/1000 [00:00<00:20, 47.79it/s]"
     ]
    },
    {
     "name": "stdout",
     "output_type": "stream",
     "text": [
      "downsampled to (200, 3)\n",
      "0010.obj\n"
     ]
    },
    {
     "name": "stderr",
     "output_type": "stream",
     "text": [
      "Finding Edges...: 100%|██████████| 1000/1000 [00:20<00:00, 49.20it/s]\n",
      "Calculating Features...: 100%|██████████| 3000/3000 [00:00<00:00, 4165.99it/s]\n",
      "Finding Edges...:   0%|          | 5/1000 [00:00<00:23, 43.03it/s]"
     ]
    },
    {
     "name": "stdout",
     "output_type": "stream",
     "text": [
      "downsampled to (200, 3)\n",
      "0002.obj\n"
     ]
    },
    {
     "name": "stderr",
     "output_type": "stream",
     "text": [
      "Finding Edges...: 100%|██████████| 1000/1000 [00:19<00:00, 50.09it/s]\n",
      "Calculating Features...: 100%|██████████| 3000/3000 [00:00<00:00, 4079.26it/s]\n",
      "Finding Edges...:   0%|          | 4/1000 [00:00<00:26, 37.58it/s]"
     ]
    },
    {
     "name": "stdout",
     "output_type": "stream",
     "text": [
      "downsampled to (200, 3)\n",
      "0069.obj\n"
     ]
    },
    {
     "name": "stderr",
     "output_type": "stream",
     "text": [
      "Finding Edges...: 100%|██████████| 1000/1000 [00:19<00:00, 50.06it/s]\n",
      "Calculating Features...: 100%|██████████| 3000/3000 [00:00<00:00, 4208.57it/s]\n",
      "Finding Edges...:   0%|          | 5/1000 [00:00<00:22, 43.58it/s]"
     ]
    },
    {
     "name": "stdout",
     "output_type": "stream",
     "text": [
      "downsampled to (200, 3)\n",
      "0040.obj\n"
     ]
    },
    {
     "name": "stderr",
     "output_type": "stream",
     "text": [
      "Finding Edges...: 100%|██████████| 1000/1000 [00:19<00:00, 50.53it/s]\n",
      "Calculating Features...: 100%|██████████| 3000/3000 [00:00<00:00, 4113.65it/s]\n",
      "Finding Edges...:   0%|          | 5/1000 [00:00<00:22, 44.08it/s]"
     ]
    },
    {
     "name": "stdout",
     "output_type": "stream",
     "text": [
      "downsampled to (200, 3)\n",
      "0056.obj\n"
     ]
    },
    {
     "name": "stderr",
     "output_type": "stream",
     "text": [
      "Finding Edges...: 100%|██████████| 1000/1000 [00:19<00:00, 50.00it/s]\n",
      "Calculating Features...: 100%|██████████| 3000/3000 [00:00<00:00, 3955.10it/s]\n",
      "Finding Edges...:   0%|          | 5/1000 [00:00<00:20, 48.29it/s]"
     ]
    },
    {
     "name": "stdout",
     "output_type": "stream",
     "text": [
      "downsampled to (200, 3)\n",
      "0274.obj\n"
     ]
    },
    {
     "name": "stderr",
     "output_type": "stream",
     "text": [
      "Finding Edges...: 100%|██████████| 1000/1000 [00:19<00:00, 51.05it/s]\n",
      "Calculating Features...: 100%|██████████| 3000/3000 [00:00<00:00, 4177.15it/s]\n",
      "Finding Edges...:   0%|          | 5/1000 [00:00<00:23, 41.68it/s]"
     ]
    },
    {
     "name": "stdout",
     "output_type": "stream",
     "text": [
      "downsampled to (200, 3)\n",
      "0234.obj\n"
     ]
    },
    {
     "name": "stderr",
     "output_type": "stream",
     "text": [
      "Finding Edges...: 100%|██████████| 1000/1000 [00:20<00:00, 49.89it/s]\n",
      "Calculating Features...: 100%|██████████| 3000/3000 [00:00<00:00, 4090.39it/s]\n",
      "Finding Edges...:   0%|          | 5/1000 [00:00<00:21, 46.52it/s]"
     ]
    },
    {
     "name": "stdout",
     "output_type": "stream",
     "text": [
      "downsampled to (200, 3)\n",
      "0139.obj\n"
     ]
    },
    {
     "name": "stderr",
     "output_type": "stream",
     "text": [
      "Finding Edges...: 100%|██████████| 1000/1000 [00:19<00:00, 50.47it/s]\n",
      "Calculating Features...: 100%|██████████| 3000/3000 [00:00<00:00, 4217.71it/s]\n",
      "Finding Edges...:   0%|          | 4/1000 [00:00<00:29, 33.35it/s]"
     ]
    },
    {
     "name": "stdout",
     "output_type": "stream",
     "text": [
      "downsampled to (200, 3)\n",
      "0112.obj\n"
     ]
    },
    {
     "name": "stderr",
     "output_type": "stream",
     "text": [
      "Finding Edges...: 100%|██████████| 1000/1000 [00:19<00:00, 50.23it/s]\n",
      "Calculating Features...: 100%|██████████| 3000/3000 [00:00<00:00, 4017.04it/s]\n",
      "Finding Edges...:   0%|          | 5/1000 [00:00<00:21, 46.43it/s]"
     ]
    },
    {
     "name": "stdout",
     "output_type": "stream",
     "text": [
      "downsampled to (200, 3)\n",
      "0027.obj\n"
     ]
    },
    {
     "name": "stderr",
     "output_type": "stream",
     "text": [
      "Finding Edges...: 100%|██████████| 1000/1000 [00:19<00:00, 50.87it/s]\n",
      "Calculating Features...: 100%|██████████| 3000/3000 [00:00<00:00, 4129.32it/s]\n",
      "Finding Edges...:   0%|          | 5/1000 [00:00<00:23, 42.82it/s]"
     ]
    },
    {
     "name": "stdout",
     "output_type": "stream",
     "text": [
      "downsampled to (200, 3)\n",
      "0202.obj\n"
     ]
    },
    {
     "name": "stderr",
     "output_type": "stream",
     "text": [
      "Finding Edges...: 100%|██████████| 1000/1000 [00:19<00:00, 50.01it/s]\n",
      "Calculating Features...: 100%|██████████| 3000/3000 [00:00<00:00, 4234.23it/s]\n",
      "Finding Edges...:   0%|          | 4/1000 [00:00<00:25, 38.46it/s]"
     ]
    },
    {
     "name": "stdout",
     "output_type": "stream",
     "text": [
      "downsampled to (200, 3)\n",
      "0062.obj\n"
     ]
    },
    {
     "name": "stderr",
     "output_type": "stream",
     "text": [
      "Finding Edges...: 100%|██████████| 1000/1000 [00:19<00:00, 50.60it/s]\n",
      "Calculating Features...: 100%|██████████| 3000/3000 [00:00<00:00, 4234.06it/s]\n",
      "Finding Edges...:   0%|          | 4/1000 [00:00<00:24, 39.91it/s]"
     ]
    },
    {
     "name": "stdout",
     "output_type": "stream",
     "text": [
      "downsampled to (200, 3)\n",
      "0276.obj\n"
     ]
    },
    {
     "name": "stderr",
     "output_type": "stream",
     "text": [
      "Finding Edges...: 100%|██████████| 1000/1000 [00:20<00:00, 49.91it/s]\n",
      "Calculating Features...: 100%|██████████| 3000/3000 [00:00<00:00, 4081.97it/s]\n",
      "Finding Edges...:   0%|          | 4/1000 [00:00<00:25, 39.81it/s]"
     ]
    },
    {
     "name": "stdout",
     "output_type": "stream",
     "text": [
      "downsampled to (200, 3)\n",
      "0267.obj\n"
     ]
    },
    {
     "name": "stderr",
     "output_type": "stream",
     "text": [
      "Finding Edges...: 100%|██████████| 1000/1000 [00:19<00:00, 50.65it/s]\n",
      "Calculating Features...: 100%|██████████| 3000/3000 [00:00<00:00, 4054.51it/s]\n",
      "Finding Edges...:   0%|          | 5/1000 [00:00<00:21, 46.84it/s]"
     ]
    },
    {
     "name": "stdout",
     "output_type": "stream",
     "text": [
      "downsampled to (200, 3)\n",
      "0194.obj\n"
     ]
    },
    {
     "name": "stderr",
     "output_type": "stream",
     "text": [
      "Finding Edges...: 100%|██████████| 1000/1000 [00:19<00:00, 50.28it/s]\n",
      "Calculating Features...: 100%|██████████| 3000/3000 [00:00<00:00, 4124.95it/s]\n",
      "Finding Edges...:   0%|          | 5/1000 [00:00<00:20, 47.50it/s]"
     ]
    },
    {
     "name": "stdout",
     "output_type": "stream",
     "text": [
      "downsampled to (200, 3)\n",
      "0015.obj\n"
     ]
    },
    {
     "name": "stderr",
     "output_type": "stream",
     "text": [
      "Finding Edges...: 100%|██████████| 1000/1000 [00:19<00:00, 50.08it/s]\n",
      "Calculating Features...: 100%|██████████| 3000/3000 [00:00<00:00, 4244.08it/s]\n",
      "Finding Edges...:   0%|          | 5/1000 [00:00<00:23, 42.34it/s]"
     ]
    },
    {
     "name": "stdout",
     "output_type": "stream",
     "text": [
      "downsampled to (200, 3)\n",
      "0260.obj\n"
     ]
    },
    {
     "name": "stderr",
     "output_type": "stream",
     "text": [
      "Finding Edges...: 100%|██████████| 1000/1000 [00:20<00:00, 49.91it/s]\n",
      "Calculating Features...: 100%|██████████| 3000/3000 [00:00<00:00, 3961.14it/s]\n",
      "Finding Edges...:   0%|          | 5/1000 [00:00<00:21, 46.01it/s]"
     ]
    },
    {
     "name": "stdout",
     "output_type": "stream",
     "text": [
      "downsampled to (200, 3)\n",
      "0232.obj\n"
     ]
    },
    {
     "name": "stderr",
     "output_type": "stream",
     "text": [
      "Finding Edges...: 100%|██████████| 1000/1000 [00:19<00:00, 50.80it/s]\n",
      "Calculating Features...: 100%|██████████| 3000/3000 [00:00<00:00, 4025.21it/s]\n",
      "Finding Edges...:   0%|          | 5/1000 [00:00<00:21, 45.74it/s]"
     ]
    },
    {
     "name": "stdout",
     "output_type": "stream",
     "text": [
      "downsampled to (200, 3)\n",
      "0254.obj\n"
     ]
    },
    {
     "name": "stderr",
     "output_type": "stream",
     "text": [
      "Finding Edges...: 100%|██████████| 1000/1000 [00:20<00:00, 49.99it/s]\n",
      "Calculating Features...: 100%|██████████| 3000/3000 [00:00<00:00, 4273.79it/s]\n",
      "Finding Edges...:   0%|          | 5/1000 [00:00<00:23, 43.26it/s]"
     ]
    },
    {
     "name": "stdout",
     "output_type": "stream",
     "text": [
      "downsampled to (200, 3)\n",
      "0084.obj\n"
     ]
    },
    {
     "name": "stderr",
     "output_type": "stream",
     "text": [
      "Finding Edges...: 100%|██████████| 1000/1000 [00:19<00:00, 51.15it/s]\n",
      "Calculating Features...: 100%|██████████| 3000/3000 [00:00<00:00, 4276.74it/s]\n",
      "Finding Edges...:   0%|          | 5/1000 [00:00<00:23, 42.79it/s]"
     ]
    },
    {
     "name": "stdout",
     "output_type": "stream",
     "text": [
      "downsampled to (200, 3)\n",
      "0137.obj\n"
     ]
    },
    {
     "name": "stderr",
     "output_type": "stream",
     "text": [
      "Finding Edges...: 100%|██████████| 1000/1000 [00:19<00:00, 50.38it/s]\n",
      "Calculating Features...: 100%|██████████| 3000/3000 [00:00<00:00, 4083.26it/s]\n",
      "Finding Edges...:   0%|          | 4/1000 [00:00<00:25, 39.37it/s]"
     ]
    },
    {
     "name": "stdout",
     "output_type": "stream",
     "text": [
      "downsampled to (200, 3)\n",
      "0133.obj\n"
     ]
    },
    {
     "name": "stderr",
     "output_type": "stream",
     "text": [
      "Finding Edges...: 100%|██████████| 1000/1000 [00:19<00:00, 50.56it/s]\n",
      "Calculating Features...: 100%|██████████| 3000/3000 [00:00<00:00, 4210.65it/s]\n",
      "Finding Edges...:   0%|          | 5/1000 [00:00<00:21, 46.76it/s]"
     ]
    },
    {
     "name": "stdout",
     "output_type": "stream",
     "text": [
      "downsampled to (200, 3)\n",
      "0154.obj\n"
     ]
    },
    {
     "name": "stderr",
     "output_type": "stream",
     "text": [
      "Finding Edges...: 100%|██████████| 1000/1000 [00:19<00:00, 50.31it/s]\n",
      "Calculating Features...: 100%|██████████| 3000/3000 [00:00<00:00, 4069.15it/s]\n",
      "Finding Edges...:   0%|          | 5/1000 [00:00<00:22, 43.49it/s]"
     ]
    },
    {
     "name": "stdout",
     "output_type": "stream",
     "text": [
      "downsampled to (200, 3)\n",
      "0034.obj\n"
     ]
    },
    {
     "name": "stderr",
     "output_type": "stream",
     "text": [
      "Finding Edges...: 100%|██████████| 1000/1000 [00:19<00:00, 50.01it/s]\n",
      "Calculating Features...: 100%|██████████| 3000/3000 [00:00<00:00, 4179.15it/s]\n",
      "Finding Edges...:   0%|          | 5/1000 [00:00<00:21, 47.34it/s]"
     ]
    },
    {
     "name": "stdout",
     "output_type": "stream",
     "text": [
      "downsampled to (200, 3)\n",
      "0068.obj\n"
     ]
    },
    {
     "name": "stderr",
     "output_type": "stream",
     "text": [
      "Finding Edges...: 100%|██████████| 1000/1000 [00:19<00:00, 50.56it/s]\n",
      "Calculating Features...: 100%|██████████| 3000/3000 [00:00<00:00, 4077.85it/s]\n",
      "Finding Edges...:   0%|          | 4/1000 [00:00<00:25, 39.48it/s]"
     ]
    },
    {
     "name": "stdout",
     "output_type": "stream",
     "text": [
      "downsampled to (200, 3)\n",
      "0018.obj\n"
     ]
    },
    {
     "name": "stderr",
     "output_type": "stream",
     "text": [
      "Finding Edges...: 100%|██████████| 1000/1000 [00:19<00:00, 50.84it/s]\n",
      "Calculating Features...: 100%|██████████| 3000/3000 [00:00<00:00, 4225.94it/s]\n",
      "Finding Edges...:   0%|          | 4/1000 [00:00<00:25, 39.33it/s]"
     ]
    },
    {
     "name": "stdout",
     "output_type": "stream",
     "text": [
      "downsampled to (200, 3)\n",
      "0233.obj\n"
     ]
    },
    {
     "name": "stderr",
     "output_type": "stream",
     "text": [
      "Finding Edges...: 100%|██████████| 1000/1000 [00:19<00:00, 50.43it/s]\n",
      "Calculating Features...: 100%|██████████| 3000/3000 [00:00<00:00, 4121.70it/s]\n",
      "Finding Edges...:   0%|          | 4/1000 [00:00<00:27, 35.71it/s]"
     ]
    },
    {
     "name": "stdout",
     "output_type": "stream",
     "text": [
      "downsampled to (200, 3)\n",
      "0045.obj\n"
     ]
    },
    {
     "name": "stderr",
     "output_type": "stream",
     "text": [
      "Finding Edges...: 100%|██████████| 1000/1000 [00:19<00:00, 50.86it/s]\n",
      "Calculating Features...: 100%|██████████| 3000/3000 [00:00<00:00, 4237.11it/s]\n",
      "Finding Edges...:   0%|          | 5/1000 [00:00<00:22, 45.11it/s]"
     ]
    },
    {
     "name": "stdout",
     "output_type": "stream",
     "text": [
      "downsampled to (200, 3)\n",
      "0278.obj\n"
     ]
    },
    {
     "name": "stderr",
     "output_type": "stream",
     "text": [
      "Finding Edges...: 100%|██████████| 1000/1000 [00:19<00:00, 50.29it/s]\n",
      "Calculating Features...: 100%|██████████| 3000/3000 [00:00<00:00, 4019.06it/s]\n",
      "Finding Edges...:   0%|          | 5/1000 [00:00<00:22, 43.68it/s]"
     ]
    },
    {
     "name": "stdout",
     "output_type": "stream",
     "text": [
      "downsampled to (200, 3)\n",
      "0116.obj\n"
     ]
    },
    {
     "name": "stderr",
     "output_type": "stream",
     "text": [
      "Finding Edges...: 100%|██████████| 1000/1000 [00:19<00:00, 50.62it/s]\n",
      "Calculating Features...: 100%|██████████| 3000/3000 [00:00<00:00, 4014.67it/s]\n",
      "Finding Edges...:   0%|          | 5/1000 [00:00<00:24, 41.12it/s]"
     ]
    },
    {
     "name": "stdout",
     "output_type": "stream",
     "text": [
      "downsampled to (200, 3)\n",
      "0287.obj\n"
     ]
    },
    {
     "name": "stderr",
     "output_type": "stream",
     "text": [
      "Finding Edges...: 100%|██████████| 1000/1000 [00:19<00:00, 50.09it/s]\n",
      "Calculating Features...: 100%|██████████| 3000/3000 [00:00<00:00, 3989.14it/s]\n",
      "Finding Edges...:   0%|          | 5/1000 [00:00<00:20, 49.41it/s]"
     ]
    },
    {
     "name": "stdout",
     "output_type": "stream",
     "text": [
      "downsampled to (200, 3)\n",
      "0265.obj\n"
     ]
    },
    {
     "name": "stderr",
     "output_type": "stream",
     "text": [
      "Finding Edges...: 100%|██████████| 1000/1000 [00:19<00:00, 50.69it/s]\n",
      "Calculating Features...: 100%|██████████| 3000/3000 [00:00<00:00, 4134.70it/s]\n",
      "Finding Edges...:   0%|          | 5/1000 [00:00<00:21, 45.87it/s]"
     ]
    },
    {
     "name": "stdout",
     "output_type": "stream",
     "text": [
      "downsampled to (200, 3)\n",
      "0293.obj\n"
     ]
    },
    {
     "name": "stderr",
     "output_type": "stream",
     "text": [
      "Finding Edges...: 100%|██████████| 1000/1000 [00:19<00:00, 50.23it/s]\n",
      "Calculating Features...: 100%|██████████| 3000/3000 [00:00<00:00, 4100.96it/s]\n",
      "Finding Edges...:   0%|          | 5/1000 [00:00<00:21, 45.74it/s]"
     ]
    },
    {
     "name": "stdout",
     "output_type": "stream",
     "text": [
      "downsampled to (200, 3)\n",
      "0016.obj\n"
     ]
    },
    {
     "name": "stderr",
     "output_type": "stream",
     "text": [
      "Finding Edges...: 100%|██████████| 1000/1000 [00:19<00:00, 50.55it/s]\n",
      "Calculating Features...: 100%|██████████| 3000/3000 [00:00<00:00, 3582.15it/s]\n",
      "Finding Edges...:   0%|          | 4/1000 [00:00<00:25, 39.43it/s]"
     ]
    },
    {
     "name": "stdout",
     "output_type": "stream",
     "text": [
      "downsampled to (200, 3)\n",
      "0235.obj\n"
     ]
    },
    {
     "name": "stderr",
     "output_type": "stream",
     "text": [
      "Finding Edges...: 100%|██████████| 1000/1000 [00:20<00:00, 49.90it/s]\n",
      "Calculating Features...: 100%|██████████| 3000/3000 [00:00<00:00, 4322.04it/s]\n",
      "Finding Edges...:   0%|          | 4/1000 [00:00<00:26, 38.09it/s]"
     ]
    },
    {
     "name": "stdout",
     "output_type": "stream",
     "text": [
      "downsampled to (200, 3)\n",
      "0230.obj\n"
     ]
    },
    {
     "name": "stderr",
     "output_type": "stream",
     "text": [
      "Finding Edges...: 100%|██████████| 1000/1000 [00:19<00:00, 50.95it/s]\n",
      "Calculating Features...: 100%|██████████| 3000/3000 [00:00<00:00, 3983.94it/s]\n",
      "Finding Edges...:   0%|          | 5/1000 [00:00<00:21, 46.17it/s]"
     ]
    },
    {
     "name": "stdout",
     "output_type": "stream",
     "text": [
      "downsampled to (200, 3)\n",
      "0004.obj\n"
     ]
    },
    {
     "name": "stderr",
     "output_type": "stream",
     "text": [
      "Finding Edges...: 100%|██████████| 1000/1000 [00:20<00:00, 49.98it/s]\n",
      "Calculating Features...: 100%|██████████| 3000/3000 [00:00<00:00, 4205.60it/s]\n",
      "Finding Edges...:   0%|          | 5/1000 [00:00<00:23, 42.29it/s]"
     ]
    },
    {
     "name": "stdout",
     "output_type": "stream",
     "text": [
      "downsampled to (200, 3)\n",
      "0078.obj\n"
     ]
    },
    {
     "name": "stderr",
     "output_type": "stream",
     "text": [
      "Finding Edges...: 100%|██████████| 1000/1000 [00:19<00:00, 50.84it/s]\n",
      "Calculating Features...: 100%|██████████| 3000/3000 [00:00<00:00, 4106.42it/s]\n",
      "Finding Edges...:   0%|          | 5/1000 [00:00<00:21, 46.21it/s]"
     ]
    },
    {
     "name": "stdout",
     "output_type": "stream",
     "text": [
      "downsampled to (200, 3)\n",
      "0007.obj\n"
     ]
    },
    {
     "name": "stderr",
     "output_type": "stream",
     "text": [
      "Finding Edges...: 100%|██████████| 1000/1000 [00:20<00:00, 49.86it/s]\n",
      "Calculating Features...: 100%|██████████| 3000/3000 [00:00<00:00, 4083.59it/s]\n",
      "Finding Edges...:   0%|          | 5/1000 [00:00<00:23, 43.02it/s]"
     ]
    },
    {
     "name": "stdout",
     "output_type": "stream",
     "text": [
      "downsampled to (200, 3)\n",
      "0003.obj\n"
     ]
    },
    {
     "name": "stderr",
     "output_type": "stream",
     "text": [
      "Finding Edges...: 100%|██████████| 1000/1000 [00:19<00:00, 50.70it/s]\n",
      "Calculating Features...: 100%|██████████| 3000/3000 [00:00<00:00, 4062.95it/s]\n",
      "Finding Edges...:   0%|          | 5/1000 [00:00<00:21, 45.30it/s]"
     ]
    },
    {
     "name": "stdout",
     "output_type": "stream",
     "text": [
      "downsampled to (200, 3)\n",
      "0191.obj\n"
     ]
    },
    {
     "name": "stderr",
     "output_type": "stream",
     "text": [
      "Finding Edges...: 100%|██████████| 1000/1000 [00:19<00:00, 51.29it/s]\n",
      "Calculating Features...: 100%|██████████| 3000/3000 [00:00<00:00, 4060.26it/s]\n",
      "Finding Edges...:   0%|          | 5/1000 [00:00<00:22, 45.02it/s]"
     ]
    },
    {
     "name": "stdout",
     "output_type": "stream",
     "text": [
      "downsampled to (200, 3)\n",
      "0198.obj\n"
     ]
    },
    {
     "name": "stderr",
     "output_type": "stream",
     "text": [
      "Finding Edges...: 100%|██████████| 1000/1000 [00:19<00:00, 50.92it/s]\n",
      "Calculating Features...: 100%|██████████| 3000/3000 [00:00<00:00, 4254.65it/s]\n",
      "Finding Edges...:   0%|          | 5/1000 [00:00<00:22, 43.91it/s]"
     ]
    },
    {
     "name": "stdout",
     "output_type": "stream",
     "text": [
      "downsampled to (200, 3)\n",
      "0186.obj\n"
     ]
    },
    {
     "name": "stderr",
     "output_type": "stream",
     "text": [
      "Finding Edges...: 100%|██████████| 1000/1000 [00:19<00:00, 50.46it/s]\n",
      "Calculating Features...: 100%|██████████| 3000/3000 [00:00<00:00, 4197.47it/s]\n",
      "Finding Edges...:   0%|          | 5/1000 [00:00<00:21, 46.98it/s]"
     ]
    },
    {
     "name": "stdout",
     "output_type": "stream",
     "text": [
      "downsampled to (200, 3)\n",
      "0243.obj\n"
     ]
    },
    {
     "name": "stderr",
     "output_type": "stream",
     "text": [
      "Finding Edges...: 100%|██████████| 1000/1000 [00:19<00:00, 50.82it/s]\n",
      "Calculating Features...: 100%|██████████| 3000/3000 [00:00<00:00, 4039.51it/s]\n",
      "Finding Edges...:   0%|          | 5/1000 [00:00<00:21, 46.50it/s]"
     ]
    },
    {
     "name": "stdout",
     "output_type": "stream",
     "text": [
      "downsampled to (200, 3)\n",
      "0032.obj\n"
     ]
    },
    {
     "name": "stderr",
     "output_type": "stream",
     "text": [
      "Finding Edges...: 100%|██████████| 1000/1000 [00:19<00:00, 50.44it/s]\n",
      "Calculating Features...: 100%|██████████| 3000/3000 [00:00<00:00, 4158.58it/s]\n",
      "Finding Edges...:   0%|          | 5/1000 [00:00<00:23, 42.10it/s]"
     ]
    },
    {
     "name": "stdout",
     "output_type": "stream",
     "text": [
      "downsampled to (200, 3)\n",
      "0141.obj\n"
     ]
    },
    {
     "name": "stderr",
     "output_type": "stream",
     "text": [
      "Finding Edges...: 100%|██████████| 1000/1000 [00:19<00:00, 50.27it/s]\n",
      "Calculating Features...: 100%|██████████| 3000/3000 [00:00<00:00, 4174.22it/s]\n",
      "Finding Edges...:   0%|          | 5/1000 [00:00<00:22, 44.72it/s]"
     ]
    },
    {
     "name": "stdout",
     "output_type": "stream",
     "text": [
      "downsampled to (200, 3)\n",
      "0285.obj\n"
     ]
    },
    {
     "name": "stderr",
     "output_type": "stream",
     "text": [
      "Finding Edges...: 100%|██████████| 1000/1000 [00:19<00:00, 51.04it/s]\n",
      "Calculating Features...: 100%|██████████| 3000/3000 [00:00<00:00, 4278.67it/s]\n",
      "Finding Edges...:   0%|          | 4/1000 [00:00<00:25, 38.53it/s]"
     ]
    },
    {
     "name": "stdout",
     "output_type": "stream",
     "text": [
      "downsampled to (200, 3)\n",
      "0246.obj\n"
     ]
    },
    {
     "name": "stderr",
     "output_type": "stream",
     "text": [
      "Finding Edges...: 100%|██████████| 1000/1000 [00:19<00:00, 50.73it/s]\n",
      "Calculating Features...: 100%|██████████| 3000/3000 [00:00<00:00, 4070.04it/s]\n",
      "Finding Edges...:   0%|          | 5/1000 [00:00<00:23, 41.93it/s]"
     ]
    },
    {
     "name": "stdout",
     "output_type": "stream",
     "text": [
      "downsampled to (200, 3)\n",
      "0196.obj\n"
     ]
    },
    {
     "name": "stderr",
     "output_type": "stream",
     "text": [
      "Finding Edges...: 100%|██████████| 1000/1000 [00:19<00:00, 50.91it/s]\n",
      "Calculating Features...: 100%|██████████| 3000/3000 [00:00<00:00, 4093.81it/s]\n",
      "Finding Edges...:   0%|          | 5/1000 [00:00<00:22, 44.04it/s]"
     ]
    },
    {
     "name": "stdout",
     "output_type": "stream",
     "text": [
      "downsampled to (200, 3)\n",
      "0121.obj\n"
     ]
    },
    {
     "name": "stderr",
     "output_type": "stream",
     "text": [
      "Finding Edges...: 100%|██████████| 1000/1000 [00:19<00:00, 51.07it/s]\n",
      "Calculating Features...: 100%|██████████| 3000/3000 [00:00<00:00, 4083.95it/s]\n",
      "Finding Edges...:   0%|          | 5/1000 [00:00<00:21, 45.98it/s]"
     ]
    },
    {
     "name": "stdout",
     "output_type": "stream",
     "text": [
      "downsampled to (200, 3)\n",
      "0134.obj\n"
     ]
    },
    {
     "name": "stderr",
     "output_type": "stream",
     "text": [
      "Finding Edges...: 100%|██████████| 1000/1000 [00:19<00:00, 50.90it/s]\n",
      "Calculating Features...: 100%|██████████| 3000/3000 [00:00<00:00, 4070.41it/s]\n",
      "Finding Edges...:   0%|          | 5/1000 [00:00<00:21, 46.28it/s]"
     ]
    },
    {
     "name": "stdout",
     "output_type": "stream",
     "text": [
      "downsampled to (200, 3)\n",
      "0013.obj\n"
     ]
    },
    {
     "name": "stderr",
     "output_type": "stream",
     "text": [
      "Finding Edges...: 100%|██████████| 1000/1000 [00:20<00:00, 49.55it/s]\n",
      "Calculating Features...: 100%|██████████| 3000/3000 [00:00<00:00, 4062.83it/s]\n",
      "Finding Edges...:   0%|          | 5/1000 [00:00<00:21, 47.08it/s]"
     ]
    },
    {
     "name": "stdout",
     "output_type": "stream",
     "text": [
      "downsampled to (200, 3)\n",
      "0289.obj\n"
     ]
    },
    {
     "name": "stderr",
     "output_type": "stream",
     "text": [
      "Finding Edges...: 100%|██████████| 1000/1000 [00:19<00:00, 51.49it/s]\n",
      "Calculating Features...: 100%|██████████| 3000/3000 [00:00<00:00, 4149.04it/s]\n",
      "Finding Edges...:   0%|          | 4/1000 [00:00<00:26, 37.59it/s]"
     ]
    },
    {
     "name": "stdout",
     "output_type": "stream",
     "text": [
      "downsampled to (200, 3)\n",
      "0241.obj\n"
     ]
    },
    {
     "name": "stderr",
     "output_type": "stream",
     "text": [
      "Finding Edges...: 100%|██████████| 1000/1000 [00:19<00:00, 50.24it/s]\n",
      "Calculating Features...: 100%|██████████| 3000/3000 [00:00<00:00, 3941.04it/s]\n",
      "Finding Edges...:   0%|          | 5/1000 [00:00<00:21, 45.59it/s]"
     ]
    },
    {
     "name": "stdout",
     "output_type": "stream",
     "text": [
      "downsampled to (200, 3)\n",
      "0026.obj\n"
     ]
    },
    {
     "name": "stderr",
     "output_type": "stream",
     "text": [
      "Finding Edges...: 100%|██████████| 1000/1000 [00:19<00:00, 50.96it/s]\n",
      "Calculating Features...: 100%|██████████| 3000/3000 [00:00<00:00, 4181.08it/s]\n",
      "Finding Edges...:   0%|          | 5/1000 [00:00<00:23, 42.35it/s]"
     ]
    },
    {
     "name": "stdout",
     "output_type": "stream",
     "text": [
      "downsampled to (200, 3)\n",
      "0216.obj\n"
     ]
    },
    {
     "name": "stderr",
     "output_type": "stream",
     "text": [
      "Finding Edges...: 100%|██████████| 1000/1000 [00:20<00:00, 49.81it/s]\n",
      "Calculating Features...: 100%|██████████| 3000/3000 [00:00<00:00, 3955.02it/s]\n",
      "Finding Edges...:   0%|          | 5/1000 [00:00<00:20, 48.87it/s]"
     ]
    },
    {
     "name": "stdout",
     "output_type": "stream",
     "text": [
      "downsampled to (200, 3)\n",
      "0060.obj\n"
     ]
    },
    {
     "name": "stderr",
     "output_type": "stream",
     "text": [
      "Finding Edges...: 100%|██████████| 1000/1000 [00:19<00:00, 50.79it/s]\n",
      "Calculating Features...: 100%|██████████| 3000/3000 [00:00<00:00, 4112.53it/s]\n",
      "Finding Edges...:   0%|          | 5/1000 [00:00<00:20, 47.72it/s]"
     ]
    },
    {
     "name": "stdout",
     "output_type": "stream",
     "text": [
      "downsampled to (200, 3)\n",
      "0047.obj\n"
     ]
    },
    {
     "name": "stderr",
     "output_type": "stream",
     "text": [
      "Finding Edges...: 100%|██████████| 1000/1000 [00:19<00:00, 50.15it/s]\n",
      "Calculating Features...: 100%|██████████| 3000/3000 [00:00<00:00, 4153.26it/s]\n",
      "Finding Edges...:   0%|          | 5/1000 [00:00<00:20, 47.78it/s]"
     ]
    },
    {
     "name": "stdout",
     "output_type": "stream",
     "text": [
      "downsampled to (200, 3)\n",
      "0185.obj\n"
     ]
    },
    {
     "name": "stderr",
     "output_type": "stream",
     "text": [
      "Finding Edges...: 100%|██████████| 1000/1000 [00:19<00:00, 51.19it/s]\n",
      "Calculating Features...: 100%|██████████| 3000/3000 [00:00<00:00, 4181.15it/s]\n",
      "Finding Edges...:   0%|          | 5/1000 [00:00<00:22, 44.96it/s]"
     ]
    },
    {
     "name": "stdout",
     "output_type": "stream",
     "text": [
      "downsampled to (200, 3)\n",
      "0157.obj\n"
     ]
    },
    {
     "name": "stderr",
     "output_type": "stream",
     "text": [
      "Finding Edges...: 100%|██████████| 1000/1000 [00:20<00:00, 49.93it/s]\n",
      "Calculating Features...: 100%|██████████| 3000/3000 [00:00<00:00, 4143.50it/s]\n",
      "Finding Edges...:   0%|          | 4/1000 [00:00<00:25, 38.68it/s]"
     ]
    },
    {
     "name": "stdout",
     "output_type": "stream",
     "text": [
      "downsampled to (200, 3)\n",
      "0125.obj\n"
     ]
    },
    {
     "name": "stderr",
     "output_type": "stream",
     "text": [
      "Finding Edges...: 100%|██████████| 1000/1000 [00:19<00:00, 51.20it/s]\n",
      "Calculating Features...: 100%|██████████| 3000/3000 [00:00<00:00, 4179.27it/s]\n",
      "Finding Edges...:   0%|          | 5/1000 [00:00<00:22, 44.02it/s]"
     ]
    },
    {
     "name": "stdout",
     "output_type": "stream",
     "text": [
      "downsampled to (200, 3)\n",
      "0153.obj\n"
     ]
    },
    {
     "name": "stderr",
     "output_type": "stream",
     "text": [
      "Finding Edges...: 100%|██████████| 1000/1000 [00:19<00:00, 50.70it/s]\n",
      "Calculating Features...: 100%|██████████| 3000/3000 [00:00<00:00, 4187.68it/s]\n",
      "Finding Edges...:   0%|          | 5/1000 [00:00<00:23, 41.80it/s]"
     ]
    },
    {
     "name": "stdout",
     "output_type": "stream",
     "text": [
      "downsampled to (200, 3)\n",
      "0213.obj\n"
     ]
    },
    {
     "name": "stderr",
     "output_type": "stream",
     "text": [
      "Finding Edges...: 100%|██████████| 1000/1000 [00:19<00:00, 51.24it/s]\n",
      "Calculating Features...: 100%|██████████| 3000/3000 [00:00<00:00, 4198.82it/s]\n",
      "Finding Edges...:   0%|          | 5/1000 [00:00<00:21, 46.44it/s]"
     ]
    },
    {
     "name": "stdout",
     "output_type": "stream",
     "text": [
      "downsampled to (200, 3)\n",
      "0162.obj\n"
     ]
    },
    {
     "name": "stderr",
     "output_type": "stream",
     "text": [
      "Finding Edges...: 100%|██████████| 1000/1000 [00:19<00:00, 50.24it/s]\n",
      "Calculating Features...: 100%|██████████| 3000/3000 [00:00<00:00, 4225.12it/s]\n",
      "Finding Edges...:   0%|          | 4/1000 [00:00<00:25, 39.27it/s]"
     ]
    },
    {
     "name": "stdout",
     "output_type": "stream",
     "text": [
      "downsampled to (200, 3)\n",
      "0080.obj\n"
     ]
    },
    {
     "name": "stderr",
     "output_type": "stream",
     "text": [
      "Finding Edges...: 100%|██████████| 1000/1000 [00:19<00:00, 50.75it/s]\n",
      "Calculating Features...: 100%|██████████| 3000/3000 [00:00<00:00, 4157.66it/s]\n",
      "Finding Edges...:   0%|          | 5/1000 [00:00<00:21, 45.37it/s]"
     ]
    },
    {
     "name": "stdout",
     "output_type": "stream",
     "text": [
      "downsampled to (200, 3)\n",
      "0105.obj\n"
     ]
    },
    {
     "name": "stderr",
     "output_type": "stream",
     "text": [
      "Finding Edges...: 100%|██████████| 1000/1000 [00:19<00:00, 50.42it/s]\n",
      "Calculating Features...: 100%|██████████| 3000/3000 [00:00<00:00, 4085.74it/s]\n",
      "Finding Edges...:   0%|          | 5/1000 [00:00<00:23, 43.26it/s]"
     ]
    },
    {
     "name": "stdout",
     "output_type": "stream",
     "text": [
      "downsampled to (200, 3)\n",
      "0229.obj\n"
     ]
    },
    {
     "name": "stderr",
     "output_type": "stream",
     "text": [
      "Finding Edges...: 100%|██████████| 1000/1000 [00:19<00:00, 51.12it/s]\n",
      "Calculating Features...: 100%|██████████| 3000/3000 [00:00<00:00, 4284.87it/s]\n",
      "Finding Edges...:   0%|          | 5/1000 [00:00<00:24, 40.73it/s]"
     ]
    },
    {
     "name": "stdout",
     "output_type": "stream",
     "text": [
      "downsampled to (200, 3)\n",
      "0117.obj\n"
     ]
    },
    {
     "name": "stderr",
     "output_type": "stream",
     "text": [
      "Finding Edges...: 100%|██████████| 1000/1000 [00:19<00:00, 50.88it/s]\n",
      "Calculating Features...: 100%|██████████| 3000/3000 [00:00<00:00, 4016.47it/s]\n",
      "Finding Edges...:   0%|          | 5/1000 [00:00<00:21, 45.55it/s]"
     ]
    },
    {
     "name": "stdout",
     "output_type": "stream",
     "text": [
      "downsampled to (200, 3)\n",
      "0073.obj\n"
     ]
    },
    {
     "name": "stderr",
     "output_type": "stream",
     "text": [
      "Finding Edges...: 100%|██████████| 1000/1000 [00:19<00:00, 50.54it/s]\n",
      "Calculating Features...: 100%|██████████| 3000/3000 [00:00<00:00, 4073.58it/s]\n",
      "Finding Edges...:   0%|          | 5/1000 [00:00<00:21, 45.38it/s]"
     ]
    },
    {
     "name": "stdout",
     "output_type": "stream",
     "text": [
      "downsampled to (200, 3)\n",
      "0043.obj\n"
     ]
    },
    {
     "name": "stderr",
     "output_type": "stream",
     "text": [
      "Finding Edges...: 100%|██████████| 1000/1000 [00:19<00:00, 50.13it/s]\n",
      "Calculating Features...: 100%|██████████| 3000/3000 [00:00<00:00, 4168.99it/s]\n",
      "Finding Edges...:   0%|          | 5/1000 [00:00<00:23, 42.48it/s]"
     ]
    },
    {
     "name": "stdout",
     "output_type": "stream",
     "text": [
      "downsampled to (200, 3)\n",
      "0046.obj\n"
     ]
    },
    {
     "name": "stderr",
     "output_type": "stream",
     "text": [
      "Finding Edges...: 100%|██████████| 1000/1000 [00:19<00:00, 50.69it/s]\n",
      "Calculating Features...: 100%|██████████| 3000/3000 [00:00<00:00, 4175.87it/s]\n",
      "Finding Edges...:   0%|          | 4/1000 [00:00<00:25, 39.81it/s]"
     ]
    },
    {
     "name": "stdout",
     "output_type": "stream",
     "text": [
      "downsampled to (200, 3)\n",
      "0296.obj\n"
     ]
    },
    {
     "name": "stderr",
     "output_type": "stream",
     "text": [
      "Finding Edges...: 100%|██████████| 1000/1000 [00:20<00:00, 49.51it/s]\n",
      "Calculating Features...: 100%|██████████| 3000/3000 [00:00<00:00, 4112.24it/s]\n",
      "Finding Edges...:   0%|          | 5/1000 [00:00<00:22, 43.48it/s]"
     ]
    },
    {
     "name": "stdout",
     "output_type": "stream",
     "text": [
      "downsampled to (200, 3)\n",
      "0255.obj\n"
     ]
    },
    {
     "name": "stderr",
     "output_type": "stream",
     "text": [
      "Finding Edges...: 100%|██████████| 1000/1000 [00:19<00:00, 50.81it/s]\n",
      "Calculating Features...: 100%|██████████| 3000/3000 [00:00<00:00, 4036.35it/s]\n",
      "Finding Edges...:   0%|          | 4/1000 [00:00<00:25, 38.45it/s]"
     ]
    },
    {
     "name": "stdout",
     "output_type": "stream",
     "text": [
      "downsampled to (200, 3)\n",
      "0097.obj\n"
     ]
    },
    {
     "name": "stderr",
     "output_type": "stream",
     "text": [
      "Finding Edges...: 100%|██████████| 1000/1000 [00:19<00:00, 50.57it/s]\n",
      "Calculating Features...: 100%|██████████| 3000/3000 [00:00<00:00, 4153.12it/s]\n",
      "Finding Edges...:   0%|          | 4/1000 [00:00<00:25, 39.60it/s]"
     ]
    },
    {
     "name": "stdout",
     "output_type": "stream",
     "text": [
      "downsampled to (200, 3)\n",
      "0143.obj\n"
     ]
    },
    {
     "name": "stderr",
     "output_type": "stream",
     "text": [
      "Finding Edges...: 100%|██████████| 1000/1000 [00:19<00:00, 50.49it/s]\n",
      "Calculating Features...: 100%|██████████| 3000/3000 [00:00<00:00, 4127.20it/s]\n",
      "Finding Edges...:   0%|          | 5/1000 [00:00<00:21, 47.35it/s]"
     ]
    },
    {
     "name": "stdout",
     "output_type": "stream",
     "text": [
      "downsampled to (200, 3)\n",
      "0163.obj\n"
     ]
    },
    {
     "name": "stderr",
     "output_type": "stream",
     "text": [
      "Finding Edges...: 100%|██████████| 1000/1000 [00:19<00:00, 50.32it/s]\n",
      "Calculating Features...: 100%|██████████| 3000/3000 [00:00<00:00, 4116.63it/s]\n",
      "Finding Edges...:   0%|          | 5/1000 [00:00<00:20, 47.51it/s]"
     ]
    },
    {
     "name": "stdout",
     "output_type": "stream",
     "text": [
      "downsampled to (200, 3)\n",
      "0087.obj\n"
     ]
    },
    {
     "name": "stderr",
     "output_type": "stream",
     "text": [
      "Finding Edges...: 100%|██████████| 1000/1000 [00:19<00:00, 50.67it/s]\n",
      "Calculating Features...: 100%|██████████| 3000/3000 [00:00<00:00, 4112.89it/s]\n",
      "Finding Edges...:   0%|          | 5/1000 [00:00<00:24, 40.86it/s]"
     ]
    },
    {
     "name": "stdout",
     "output_type": "stream",
     "text": [
      "downsampled to (200, 3)\n",
      "0269.obj\n"
     ]
    },
    {
     "name": "stderr",
     "output_type": "stream",
     "text": [
      "Finding Edges...: 100%|██████████| 1000/1000 [00:19<00:00, 50.38it/s]\n",
      "Calculating Features...: 100%|██████████| 3000/3000 [00:00<00:00, 4162.02it/s]\n",
      "Finding Edges...:   0%|          | 5/1000 [00:00<00:23, 42.88it/s]"
     ]
    },
    {
     "name": "stdout",
     "output_type": "stream",
     "text": [
      "downsampled to (200, 3)\n",
      "0219.obj\n"
     ]
    },
    {
     "name": "stderr",
     "output_type": "stream",
     "text": [
      "Finding Edges...: 100%|██████████| 1000/1000 [00:19<00:00, 50.87it/s]\n",
      "Calculating Features...: 100%|██████████| 3000/3000 [00:00<00:00, 4197.01it/s]\n",
      "Finding Edges...:   0%|          | 5/1000 [00:00<00:23, 42.61it/s]"
     ]
    },
    {
     "name": "stdout",
     "output_type": "stream",
     "text": [
      "downsampled to (200, 3)\n",
      "0020.obj\n"
     ]
    },
    {
     "name": "stderr",
     "output_type": "stream",
     "text": [
      "Finding Edges...: 100%|██████████| 1000/1000 [00:19<00:00, 50.53it/s]\n",
      "Calculating Features...: 100%|██████████| 3000/3000 [00:00<00:00, 4054.58it/s]\n",
      "Finding Edges...:   0%|          | 5/1000 [00:00<00:20, 48.30it/s]"
     ]
    },
    {
     "name": "stdout",
     "output_type": "stream",
     "text": [
      "downsampled to (200, 3)\n",
      "0136.obj\n"
     ]
    },
    {
     "name": "stderr",
     "output_type": "stream",
     "text": [
      "Finding Edges...: 100%|██████████| 1000/1000 [00:19<00:00, 50.76it/s]\n",
      "Calculating Features...: 100%|██████████| 3000/3000 [00:00<00:00, 4331.53it/s]\n",
      "Finding Edges...:   0%|          | 5/1000 [00:00<00:23, 42.56it/s]"
     ]
    },
    {
     "name": "stdout",
     "output_type": "stream",
     "text": [
      "downsampled to (200, 3)\n",
      "0169.obj\n"
     ]
    },
    {
     "name": "stderr",
     "output_type": "stream",
     "text": [
      "Finding Edges...: 100%|██████████| 1000/1000 [00:19<00:00, 50.78it/s]\n",
      "Calculating Features...: 100%|██████████| 3000/3000 [00:00<00:00, 3948.90it/s]\n",
      "Finding Edges...:   0%|          | 5/1000 [00:00<00:20, 48.00it/s]"
     ]
    },
    {
     "name": "stdout",
     "output_type": "stream",
     "text": [
      "downsampled to (200, 3)\n",
      "0101.obj\n"
     ]
    },
    {
     "name": "stderr",
     "output_type": "stream",
     "text": [
      "Finding Edges...: 100%|██████████| 1000/1000 [00:19<00:00, 51.22it/s]\n",
      "Calculating Features...: 100%|██████████| 3000/3000 [00:00<00:00, 4179.76it/s]\n",
      "Finding Edges...:   0%|          | 5/1000 [00:00<00:21, 46.24it/s]"
     ]
    },
    {
     "name": "stdout",
     "output_type": "stream",
     "text": [
      "downsampled to (200, 3)\n",
      "0221.obj\n"
     ]
    },
    {
     "name": "stderr",
     "output_type": "stream",
     "text": [
      "Finding Edges...: 100%|██████████| 1000/1000 [00:19<00:00, 50.13it/s]\n",
      "Calculating Features...: 100%|██████████| 3000/3000 [00:00<00:00, 3892.80it/s]\n",
      "Finding Edges...:   0%|          | 4/1000 [00:00<00:25, 39.44it/s]"
     ]
    },
    {
     "name": "stdout",
     "output_type": "stream",
     "text": [
      "downsampled to (200, 3)\n",
      "0114.obj\n"
     ]
    },
    {
     "name": "stderr",
     "output_type": "stream",
     "text": [
      "Finding Edges...: 100%|██████████| 1000/1000 [00:19<00:00, 50.78it/s]\n",
      "Calculating Features...: 100%|██████████| 3000/3000 [00:00<00:00, 4329.50it/s]\n",
      "Finding Edges...:   0%|          | 5/1000 [00:00<00:23, 42.14it/s]"
     ]
    },
    {
     "name": "stdout",
     "output_type": "stream",
     "text": [
      "downsampled to (200, 3)\n",
      "0071.obj\n"
     ]
    },
    {
     "name": "stderr",
     "output_type": "stream",
     "text": [
      "Finding Edges...: 100%|██████████| 1000/1000 [00:20<00:00, 50.00it/s]\n",
      "Calculating Features...: 100%|██████████| 3000/3000 [00:00<00:00, 4525.86it/s]\n",
      "Finding Edges...:   0%|          | 5/1000 [00:00<00:20, 47.84it/s]"
     ]
    },
    {
     "name": "stdout",
     "output_type": "stream",
     "text": [
      "downsampled to (200, 3)\n",
      "0106.obj\n"
     ]
    },
    {
     "name": "stderr",
     "output_type": "stream",
     "text": [
      "Finding Edges...: 100%|██████████| 1000/1000 [00:18<00:00, 54.69it/s]\n",
      "Calculating Features...: 100%|██████████| 3000/3000 [00:00<00:00, 4577.28it/s]\n",
      "Finding Edges...:   0%|          | 4/1000 [00:00<00:26, 38.12it/s]"
     ]
    },
    {
     "name": "stdout",
     "output_type": "stream",
     "text": [
      "downsampled to (200, 3)\n",
      "0009.obj\n"
     ]
    },
    {
     "name": "stderr",
     "output_type": "stream",
     "text": [
      "Finding Edges...: 100%|██████████| 1000/1000 [00:18<00:00, 54.92it/s]\n",
      "Calculating Features...: 100%|██████████| 3000/3000 [00:00<00:00, 4515.47it/s]\n",
      "Finding Edges...:   0%|          | 5/1000 [00:00<00:23, 43.16it/s]"
     ]
    },
    {
     "name": "stdout",
     "output_type": "stream",
     "text": [
      "downsampled to (200, 3)\n",
      "0256.obj\n"
     ]
    },
    {
     "name": "stderr",
     "output_type": "stream",
     "text": [
      "Finding Edges...: 100%|██████████| 1000/1000 [00:18<00:00, 54.55it/s]\n",
      "Calculating Features...: 100%|██████████| 3000/3000 [00:00<00:00, 4020.69it/s]\n",
      "Finding Edges...:   0%|          | 5/1000 [00:00<00:20, 48.78it/s]"
     ]
    },
    {
     "name": "stdout",
     "output_type": "stream",
     "text": [
      "downsampled to (200, 3)\n",
      "0129.obj\n"
     ]
    },
    {
     "name": "stderr",
     "output_type": "stream",
     "text": [
      "Finding Edges...: 100%|██████████| 1000/1000 [00:18<00:00, 54.97it/s]\n",
      "Calculating Features...: 100%|██████████| 3000/3000 [00:00<00:00, 4550.59it/s]\n",
      "Finding Edges...:   0%|          | 5/1000 [00:00<00:22, 43.45it/s]"
     ]
    },
    {
     "name": "stdout",
     "output_type": "stream",
     "text": [
      "downsampled to (200, 3)\n",
      "0217.obj\n"
     ]
    },
    {
     "name": "stderr",
     "output_type": "stream",
     "text": [
      "Finding Edges...: 100%|██████████| 1000/1000 [00:18<00:00, 55.35it/s]\n",
      "Calculating Features...: 100%|██████████| 3000/3000 [00:00<00:00, 4419.30it/s]\n",
      "Finding Edges...:   0%|          | 5/1000 [00:00<00:21, 45.41it/s]"
     ]
    },
    {
     "name": "stdout",
     "output_type": "stream",
     "text": [
      "downsampled to (200, 3)\n",
      "0036.obj\n"
     ]
    },
    {
     "name": "stderr",
     "output_type": "stream",
     "text": [
      "Finding Edges...: 100%|██████████| 1000/1000 [00:18<00:00, 54.81it/s]\n",
      "Calculating Features...: 100%|██████████| 3000/3000 [00:00<00:00, 4361.42it/s]\n",
      "Finding Edges...:   0%|          | 5/1000 [00:00<00:21, 45.47it/s]"
     ]
    },
    {
     "name": "stdout",
     "output_type": "stream",
     "text": [
      "downsampled to (200, 3)\n",
      "0096.obj\n"
     ]
    },
    {
     "name": "stderr",
     "output_type": "stream",
     "text": [
      "Finding Edges...: 100%|██████████| 1000/1000 [00:18<00:00, 54.71it/s]\n",
      "Calculating Features...: 100%|██████████| 3000/3000 [00:00<00:00, 4506.05it/s]\n",
      "Finding Edges...:   0%|          | 5/1000 [00:00<00:21, 46.12it/s]"
     ]
    },
    {
     "name": "stdout",
     "output_type": "stream",
     "text": [
      "downsampled to (200, 3)\n",
      "0227.obj\n"
     ]
    },
    {
     "name": "stderr",
     "output_type": "stream",
     "text": [
      "Finding Edges...: 100%|██████████| 1000/1000 [00:18<00:00, 54.94it/s]\n",
      "Calculating Features...: 100%|██████████| 3000/3000 [00:00<00:00, 4525.76it/s]\n",
      "Finding Edges...:   0%|          | 5/1000 [00:00<00:22, 44.42it/s]"
     ]
    },
    {
     "name": "stdout",
     "output_type": "stream",
     "text": [
      "downsampled to (200, 3)\n",
      "0177.obj\n"
     ]
    },
    {
     "name": "stderr",
     "output_type": "stream",
     "text": [
      "Finding Edges...: 100%|██████████| 1000/1000 [00:18<00:00, 55.10it/s]\n",
      "Calculating Features...: 100%|██████████| 3000/3000 [00:00<00:00, 4434.09it/s]\n",
      "Finding Edges...:   0%|          | 5/1000 [00:00<00:20, 48.52it/s]"
     ]
    },
    {
     "name": "stdout",
     "output_type": "stream",
     "text": [
      "downsampled to (200, 3)\n",
      "0286.obj\n"
     ]
    },
    {
     "name": "stderr",
     "output_type": "stream",
     "text": [
      "Finding Edges...: 100%|██████████| 1000/1000 [00:18<00:00, 53.11it/s]\n",
      "Calculating Features...: 100%|██████████| 3000/3000 [00:00<00:00, 4534.83it/s]\n",
      "Finding Edges...:   0%|          | 4/1000 [00:00<00:25, 38.57it/s]"
     ]
    },
    {
     "name": "stdout",
     "output_type": "stream",
     "text": [
      "downsampled to (200, 3)\n",
      "0140.obj\n"
     ]
    },
    {
     "name": "stderr",
     "output_type": "stream",
     "text": [
      "Finding Edges...: 100%|██████████| 1000/1000 [00:18<00:00, 53.56it/s]\n",
      "Calculating Features...: 100%|██████████| 3000/3000 [00:00<00:00, 4539.70it/s]\n",
      "Finding Edges...:   0%|          | 5/1000 [00:00<00:21, 46.93it/s]"
     ]
    },
    {
     "name": "stdout",
     "output_type": "stream",
     "text": [
      "downsampled to (200, 3)\n",
      "0291.obj\n"
     ]
    },
    {
     "name": "stderr",
     "output_type": "stream",
     "text": [
      "Finding Edges...: 100%|██████████| 1000/1000 [00:18<00:00, 54.55it/s]\n",
      "Calculating Features...: 100%|██████████| 3000/3000 [00:00<00:00, 4750.81it/s]\n",
      "Finding Edges...:   0%|          | 5/1000 [00:00<00:22, 43.73it/s]"
     ]
    },
    {
     "name": "stdout",
     "output_type": "stream",
     "text": [
      "downsampled to (200, 3)\n",
      "0187.obj\n"
     ]
    },
    {
     "name": "stderr",
     "output_type": "stream",
     "text": [
      "Finding Edges...: 100%|██████████| 1000/1000 [00:18<00:00, 53.10it/s]\n",
      "Calculating Features...: 100%|██████████| 3000/3000 [00:00<00:00, 4358.80it/s]\n",
      "Finding Edges...:   0%|          | 5/1000 [00:00<00:21, 45.32it/s]"
     ]
    },
    {
     "name": "stdout",
     "output_type": "stream",
     "text": [
      "downsampled to (200, 3)\n",
      "0197.obj\n"
     ]
    },
    {
     "name": "stderr",
     "output_type": "stream",
     "text": [
      "Finding Edges...: 100%|██████████| 1000/1000 [00:18<00:00, 54.93it/s]\n",
      "Calculating Features...: 100%|██████████| 3000/3000 [00:00<00:00, 4482.90it/s]\n",
      "Finding Edges...:   0%|          | 5/1000 [00:00<00:21, 45.92it/s]"
     ]
    },
    {
     "name": "stdout",
     "output_type": "stream",
     "text": [
      "downsampled to (200, 3)\n",
      "0222.obj\n"
     ]
    },
    {
     "name": "stderr",
     "output_type": "stream",
     "text": [
      "Finding Edges...: 100%|██████████| 1000/1000 [00:18<00:00, 54.17it/s]\n",
      "Calculating Features...: 100%|██████████| 3000/3000 [00:00<00:00, 4441.59it/s]\n",
      "Finding Edges...:   0%|          | 5/1000 [00:00<00:23, 42.67it/s]"
     ]
    },
    {
     "name": "stdout",
     "output_type": "stream",
     "text": [
      "downsampled to (200, 3)\n",
      "0011.obj\n"
     ]
    },
    {
     "name": "stderr",
     "output_type": "stream",
     "text": [
      "Finding Edges...: 100%|██████████| 1000/1000 [00:18<00:00, 54.26it/s]\n",
      "Calculating Features...: 100%|██████████| 3000/3000 [00:00<00:00, 4342.16it/s]\n",
      "Finding Edges...:   0%|          | 4/1000 [00:00<00:26, 37.77it/s]"
     ]
    },
    {
     "name": "stdout",
     "output_type": "stream",
     "text": [
      "downsampled to (200, 3)\n",
      "0142.obj\n"
     ]
    },
    {
     "name": "stderr",
     "output_type": "stream",
     "text": [
      "Finding Edges...: 100%|██████████| 1000/1000 [00:18<00:00, 52.68it/s]\n",
      "Calculating Features...: 100%|██████████| 3000/3000 [00:00<00:00, 4562.77it/s]\n",
      "Finding Edges...:   0%|          | 5/1000 [00:00<00:20, 48.19it/s]"
     ]
    },
    {
     "name": "stdout",
     "output_type": "stream",
     "text": [
      "downsampled to (200, 3)\n",
      "0132.obj\n"
     ]
    },
    {
     "name": "stderr",
     "output_type": "stream",
     "text": [
      "Finding Edges...: 100%|██████████| 1000/1000 [00:18<00:00, 55.21it/s]\n",
      "Calculating Features...: 100%|██████████| 3000/3000 [00:00<00:00, 4211.14it/s]\n",
      "Finding Edges...:   0%|          | 5/1000 [00:00<00:23, 41.99it/s]"
     ]
    },
    {
     "name": "stdout",
     "output_type": "stream",
     "text": [
      "downsampled to (200, 3)\n",
      "0273.obj\n"
     ]
    },
    {
     "name": "stderr",
     "output_type": "stream",
     "text": [
      "Finding Edges...: 100%|██████████| 1000/1000 [00:18<00:00, 53.75it/s]\n",
      "Calculating Features...: 100%|██████████| 3000/3000 [00:00<00:00, 4433.03it/s]\n",
      "Finding Edges...:   0%|          | 5/1000 [00:00<00:23, 42.93it/s]"
     ]
    },
    {
     "name": "stdout",
     "output_type": "stream",
     "text": [
      "downsampled to (200, 3)\n",
      "0006.obj\n"
     ]
    },
    {
     "name": "stderr",
     "output_type": "stream",
     "text": [
      "Finding Edges...: 100%|██████████| 1000/1000 [00:18<00:00, 54.40it/s]\n",
      "Calculating Features...: 100%|██████████| 3000/3000 [00:00<00:00, 4340.89it/s]\n",
      "Finding Edges...:   0%|          | 5/1000 [00:00<00:21, 46.77it/s]"
     ]
    },
    {
     "name": "stdout",
     "output_type": "stream",
     "text": [
      "downsampled to (200, 3)\n",
      "0024.obj\n"
     ]
    },
    {
     "name": "stderr",
     "output_type": "stream",
     "text": [
      "Finding Edges...: 100%|██████████| 1000/1000 [00:18<00:00, 53.68it/s]\n",
      "Calculating Features...: 100%|██████████| 3000/3000 [00:00<00:00, 4584.01it/s]\n",
      "Finding Edges...:   0%|          | 5/1000 [00:00<00:21, 45.54it/s]"
     ]
    },
    {
     "name": "stdout",
     "output_type": "stream",
     "text": [
      "downsampled to (200, 3)\n",
      "0158.obj\n"
     ]
    },
    {
     "name": "stderr",
     "output_type": "stream",
     "text": [
      "Finding Edges...: 100%|██████████| 1000/1000 [00:18<00:00, 54.23it/s]\n",
      "Calculating Features...: 100%|██████████| 3000/3000 [00:00<00:00, 4740.60it/s]\n",
      "Finding Edges...:   0%|          | 5/1000 [00:00<00:20, 48.56it/s]"
     ]
    },
    {
     "name": "stdout",
     "output_type": "stream",
     "text": [
      "downsampled to (200, 3)\n",
      "0204.obj\n"
     ]
    },
    {
     "name": "stderr",
     "output_type": "stream",
     "text": [
      "Finding Edges...: 100%|██████████| 1000/1000 [00:18<00:00, 54.49it/s]\n",
      "Calculating Features...: 100%|██████████| 3000/3000 [00:00<00:00, 4440.04it/s]\n",
      "Finding Edges...:   0%|          | 5/1000 [00:00<00:20, 47.72it/s]"
     ]
    },
    {
     "name": "stdout",
     "output_type": "stream",
     "text": [
      "downsampled to (200, 3)\n",
      "0171.obj\n"
     ]
    },
    {
     "name": "stderr",
     "output_type": "stream",
     "text": [
      "Finding Edges...: 100%|██████████| 1000/1000 [00:18<00:00, 55.08it/s]\n",
      "Calculating Features...: 100%|██████████| 3000/3000 [00:00<00:00, 4620.18it/s]\n",
      "Finding Edges...:   0%|          | 5/1000 [00:00<00:22, 43.31it/s]"
     ]
    },
    {
     "name": "stdout",
     "output_type": "stream",
     "text": [
      "downsampled to (200, 3)\n",
      "0108.obj\n"
     ]
    },
    {
     "name": "stderr",
     "output_type": "stream",
     "text": [
      "Finding Edges...: 100%|██████████| 1000/1000 [00:18<00:00, 54.86it/s]\n",
      "Calculating Features...: 100%|██████████| 3000/3000 [00:00<00:00, 4496.27it/s]\n",
      "Finding Edges...:   0%|          | 5/1000 [00:00<00:20, 49.25it/s]"
     ]
    },
    {
     "name": "stdout",
     "output_type": "stream",
     "text": [
      "downsampled to (200, 3)\n",
      "0012.obj\n"
     ]
    },
    {
     "name": "stderr",
     "output_type": "stream",
     "text": [
      "Finding Edges...: 100%|██████████| 1000/1000 [00:18<00:00, 54.24it/s]\n",
      "Calculating Features...: 100%|██████████| 3000/3000 [00:00<00:00, 4536.15it/s]\n",
      "Finding Edges...:   0%|          | 5/1000 [00:00<00:20, 47.78it/s]"
     ]
    },
    {
     "name": "stdout",
     "output_type": "stream",
     "text": [
      "downsampled to (200, 3)\n",
      "0029.obj\n"
     ]
    },
    {
     "name": "stderr",
     "output_type": "stream",
     "text": [
      "Finding Edges...: 100%|██████████| 1000/1000 [00:19<00:00, 52.55it/s]\n",
      "Calculating Features...: 100%|██████████| 3000/3000 [00:00<00:00, 4280.87it/s]\n",
      "Finding Edges...:   0%|          | 5/1000 [00:00<00:21, 45.69it/s]"
     ]
    },
    {
     "name": "stdout",
     "output_type": "stream",
     "text": [
      "downsampled to (200, 3)\n",
      "0270.obj\n"
     ]
    },
    {
     "name": "stderr",
     "output_type": "stream",
     "text": [
      "Finding Edges...: 100%|██████████| 1000/1000 [00:18<00:00, 52.78it/s]\n",
      "Calculating Features...: 100%|██████████| 3000/3000 [00:00<00:00, 4323.79it/s]\n",
      "Finding Edges...:   0%|          | 4/1000 [00:00<00:25, 39.26it/s]"
     ]
    },
    {
     "name": "stdout",
     "output_type": "stream",
     "text": [
      "downsampled to (200, 3)\n",
      "0249.obj\n"
     ]
    },
    {
     "name": "stderr",
     "output_type": "stream",
     "text": [
      "Finding Edges...: 100%|██████████| 1000/1000 [00:19<00:00, 52.47it/s]\n",
      "Calculating Features...: 100%|██████████| 3000/3000 [00:00<00:00, 4465.71it/s]\n",
      "Finding Edges...:   0%|          | 4/1000 [00:00<00:25, 39.46it/s]"
     ]
    },
    {
     "name": "stdout",
     "output_type": "stream",
     "text": [
      "downsampled to (200, 3)\n",
      "0168.obj\n"
     ]
    },
    {
     "name": "stderr",
     "output_type": "stream",
     "text": [
      "Finding Edges...: 100%|██████████| 1000/1000 [00:19<00:00, 52.57it/s]\n",
      "Calculating Features...: 100%|██████████| 3000/3000 [00:00<00:00, 4544.98it/s]\n",
      "Finding Edges...:   0%|          | 5/1000 [00:00<00:20, 47.57it/s]"
     ]
    },
    {
     "name": "stdout",
     "output_type": "stream",
     "text": [
      "downsampled to (200, 3)\n",
      "0057.obj\n"
     ]
    },
    {
     "name": "stderr",
     "output_type": "stream",
     "text": [
      "Finding Edges...: 100%|██████████| 1000/1000 [00:19<00:00, 52.61it/s]\n",
      "Calculating Features...: 100%|██████████| 3000/3000 [00:00<00:00, 4567.00it/s]\n",
      "Finding Edges...:   0%|          | 5/1000 [00:00<00:22, 43.27it/s]"
     ]
    },
    {
     "name": "stdout",
     "output_type": "stream",
     "text": [
      "downsampled to (200, 3)\n",
      "0123.obj\n"
     ]
    },
    {
     "name": "stderr",
     "output_type": "stream",
     "text": [
      "Finding Edges...: 100%|██████████| 1000/1000 [00:18<00:00, 52.92it/s]\n",
      "Calculating Features...: 100%|██████████| 3000/3000 [00:00<00:00, 4578.57it/s]\n",
      "Finding Edges...:   0%|          | 5/1000 [00:00<00:23, 42.38it/s]"
     ]
    },
    {
     "name": "stdout",
     "output_type": "stream",
     "text": [
      "downsampled to (200, 3)\n",
      "0178.obj\n"
     ]
    },
    {
     "name": "stderr",
     "output_type": "stream",
     "text": [
      "Finding Edges...: 100%|██████████| 1000/1000 [00:18<00:00, 53.30it/s]\n",
      "Calculating Features...: 100%|██████████| 3000/3000 [00:00<00:00, 4390.82it/s]\n",
      "Finding Edges...:   0%|          | 4/1000 [00:00<00:26, 36.97it/s]"
     ]
    },
    {
     "name": "stdout",
     "output_type": "stream",
     "text": [
      "downsampled to (200, 3)\n",
      "0145.obj\n"
     ]
    },
    {
     "name": "stderr",
     "output_type": "stream",
     "text": [
      "Finding Edges...: 100%|██████████| 1000/1000 [00:18<00:00, 52.87it/s]\n",
      "Calculating Features...: 100%|██████████| 3000/3000 [00:00<00:00, 4528.97it/s]\n",
      "Finding Edges...:   0%|          | 4/1000 [00:00<00:25, 38.58it/s]"
     ]
    },
    {
     "name": "stdout",
     "output_type": "stream",
     "text": [
      "downsampled to (200, 3)\n",
      "0120.obj\n"
     ]
    },
    {
     "name": "stderr",
     "output_type": "stream",
     "text": [
      "Finding Edges...: 100%|██████████| 1000/1000 [00:19<00:00, 51.36it/s]\n",
      "Calculating Features...: 100%|██████████| 3000/3000 [00:00<00:00, 4350.96it/s]\n",
      "Finding Edges...:   0%|          | 4/1000 [00:00<00:25, 39.51it/s]"
     ]
    },
    {
     "name": "stdout",
     "output_type": "stream",
     "text": [
      "downsampled to (200, 3)\n",
      "0156.obj\n"
     ]
    },
    {
     "name": "stderr",
     "output_type": "stream",
     "text": [
      "Finding Edges...: 100%|██████████| 1000/1000 [00:18<00:00, 53.15it/s]\n",
      "Calculating Features...: 100%|██████████| 3000/3000 [00:00<00:00, 4324.15it/s]\n",
      "Finding Edges...:   0%|          | 4/1000 [00:00<00:25, 39.38it/s]"
     ]
    },
    {
     "name": "stdout",
     "output_type": "stream",
     "text": [
      "downsampled to (200, 3)\n",
      "0102.obj\n"
     ]
    },
    {
     "name": "stderr",
     "output_type": "stream",
     "text": [
      "Finding Edges...: 100%|██████████| 1000/1000 [00:19<00:00, 52.60it/s]\n",
      "Calculating Features...: 100%|██████████| 3000/3000 [00:00<00:00, 4132.16it/s]\n",
      "Finding Edges...:   0%|          | 4/1000 [00:00<00:26, 37.65it/s]"
     ]
    },
    {
     "name": "stdout",
     "output_type": "stream",
     "text": [
      "downsampled to (200, 3)\n",
      "0223.obj\n"
     ]
    },
    {
     "name": "stderr",
     "output_type": "stream",
     "text": [
      "Finding Edges...: 100%|██████████| 1000/1000 [00:18<00:00, 52.74it/s]\n",
      "Calculating Features...: 100%|██████████| 3000/3000 [00:00<00:00, 4346.10it/s]\n",
      "Finding Edges...:   0%|          | 5/1000 [00:00<00:22, 44.91it/s]"
     ]
    },
    {
     "name": "stdout",
     "output_type": "stream",
     "text": [
      "downsampled to (200, 3)\n",
      "0138.obj\n"
     ]
    },
    {
     "name": "stderr",
     "output_type": "stream",
     "text": [
      "Finding Edges...: 100%|██████████| 1000/1000 [00:19<00:00, 52.24it/s]\n",
      "Calculating Features...: 100%|██████████| 3000/3000 [00:00<00:00, 4548.63it/s]\n",
      "Finding Edges...:   0%|          | 5/1000 [00:00<00:21, 45.31it/s]"
     ]
    },
    {
     "name": "stdout",
     "output_type": "stream",
     "text": [
      "downsampled to (200, 3)\n",
      "0048.obj\n"
     ]
    },
    {
     "name": "stderr",
     "output_type": "stream",
     "text": [
      "Finding Edges...: 100%|██████████| 1000/1000 [00:19<00:00, 52.03it/s]\n",
      "Calculating Features...: 100%|██████████| 3000/3000 [00:00<00:00, 4367.62it/s]\n",
      "Finding Edges...:   0%|          | 4/1000 [00:00<00:26, 37.49it/s]"
     ]
    },
    {
     "name": "stdout",
     "output_type": "stream",
     "text": [
      "downsampled to (200, 3)\n",
      "0203.obj\n"
     ]
    },
    {
     "name": "stderr",
     "output_type": "stream",
     "text": [
      "Finding Edges...: 100%|██████████| 1000/1000 [00:19<00:00, 52.17it/s]\n",
      "Calculating Features...: 100%|██████████| 3000/3000 [00:00<00:00, 4308.33it/s]\n",
      "Finding Edges...:   0%|          | 5/1000 [00:00<00:23, 41.67it/s]"
     ]
    },
    {
     "name": "stdout",
     "output_type": "stream",
     "text": [
      "downsampled to (200, 3)\n",
      "0151.obj\n"
     ]
    },
    {
     "name": "stderr",
     "output_type": "stream",
     "text": [
      "Finding Edges...: 100%|██████████| 1000/1000 [00:18<00:00, 52.79it/s]\n",
      "Calculating Features...: 100%|██████████| 3000/3000 [00:00<00:00, 4425.87it/s]\n",
      "Finding Edges...:   0%|          | 4/1000 [00:00<00:25, 39.79it/s]"
     ]
    },
    {
     "name": "stdout",
     "output_type": "stream",
     "text": [
      "downsampled to (200, 3)\n",
      "0297.obj\n"
     ]
    },
    {
     "name": "stderr",
     "output_type": "stream",
     "text": [
      "Finding Edges...: 100%|██████████| 1000/1000 [00:19<00:00, 52.12it/s]\n",
      "Calculating Features...: 100%|██████████| 3000/3000 [00:00<00:00, 4254.33it/s]\n",
      "Finding Edges...:   0%|          | 4/1000 [00:00<00:25, 39.54it/s]"
     ]
    },
    {
     "name": "stdout",
     "output_type": "stream",
     "text": [
      "downsampled to (200, 3)\n",
      "0110.obj\n"
     ]
    },
    {
     "name": "stderr",
     "output_type": "stream",
     "text": [
      "Finding Edges...: 100%|██████████| 1000/1000 [00:19<00:00, 52.05it/s]\n",
      "Calculating Features...: 100%|██████████| 3000/3000 [00:00<00:00, 4117.72it/s]\n",
      "Finding Edges...:   0%|          | 5/1000 [00:00<00:22, 45.06it/s]"
     ]
    },
    {
     "name": "stdout",
     "output_type": "stream",
     "text": [
      "downsampled to (200, 3)\n",
      "0148.obj\n"
     ]
    },
    {
     "name": "stderr",
     "output_type": "stream",
     "text": [
      "Finding Edges...: 100%|██████████| 1000/1000 [00:19<00:00, 51.71it/s]\n",
      "Calculating Features...: 100%|██████████| 3000/3000 [00:00<00:00, 4440.16it/s]\n",
      "Finding Edges...:   0%|          | 5/1000 [00:00<00:21, 45.98it/s]"
     ]
    },
    {
     "name": "stdout",
     "output_type": "stream",
     "text": [
      "downsampled to (200, 3)\n",
      "0149.obj\n"
     ]
    },
    {
     "name": "stderr",
     "output_type": "stream",
     "text": [
      "Finding Edges...: 100%|██████████| 1000/1000 [00:18<00:00, 53.29it/s]\n",
      "Calculating Features...: 100%|██████████| 3000/3000 [00:00<00:00, 4484.09it/s]\n",
      "Finding Edges...:   0%|          | 5/1000 [00:00<00:23, 42.43it/s]"
     ]
    },
    {
     "name": "stdout",
     "output_type": "stream",
     "text": [
      "downsampled to (200, 3)\n",
      "0245.obj\n"
     ]
    },
    {
     "name": "stderr",
     "output_type": "stream",
     "text": [
      "Finding Edges...: 100%|██████████| 1000/1000 [00:19<00:00, 52.15it/s]\n",
      "Calculating Features...: 100%|██████████| 3000/3000 [00:00<00:00, 4552.75it/s]\n",
      "Finding Edges...:   0%|          | 5/1000 [00:00<00:21, 45.99it/s]"
     ]
    },
    {
     "name": "stdout",
     "output_type": "stream",
     "text": [
      "downsampled to (200, 3)\n",
      "0115.obj\n"
     ]
    },
    {
     "name": "stderr",
     "output_type": "stream",
     "text": [
      "Finding Edges...: 100%|██████████| 1000/1000 [00:18<00:00, 54.09it/s]\n",
      "Calculating Features...: 100%|██████████| 3000/3000 [00:00<00:00, 4165.33it/s]\n",
      "Finding Edges...:   0%|          | 5/1000 [00:00<00:22, 43.47it/s]"
     ]
    },
    {
     "name": "stdout",
     "output_type": "stream",
     "text": [
      "downsampled to (200, 3)\n",
      "0284.obj\n"
     ]
    },
    {
     "name": "stderr",
     "output_type": "stream",
     "text": [
      "Finding Edges...: 100%|██████████| 1000/1000 [00:19<00:00, 52.20it/s]\n",
      "Calculating Features...: 100%|██████████| 3000/3000 [00:00<00:00, 4378.76it/s]\n",
      "Finding Edges...:   0%|          | 4/1000 [00:00<00:25, 38.73it/s]"
     ]
    },
    {
     "name": "stdout",
     "output_type": "stream",
     "text": [
      "downsampled to (200, 3)\n",
      "0042.obj\n"
     ]
    },
    {
     "name": "stderr",
     "output_type": "stream",
     "text": [
      "Finding Edges...: 100%|██████████| 1000/1000 [00:18<00:00, 53.00it/s]\n",
      "Calculating Features...: 100%|██████████| 3000/3000 [00:00<00:00, 4450.33it/s]\n",
      "Finding Edges...:   0%|          | 5/1000 [00:00<00:23, 41.58it/s]"
     ]
    },
    {
     "name": "stdout",
     "output_type": "stream",
     "text": [
      "downsampled to (200, 3)\n",
      "0211.obj\n"
     ]
    },
    {
     "name": "stderr",
     "output_type": "stream",
     "text": [
      "Finding Edges...: 100%|██████████| 1000/1000 [00:19<00:00, 52.16it/s]\n",
      "Calculating Features...: 100%|██████████| 3000/3000 [00:00<00:00, 4105.72it/s]\n",
      "Finding Edges...:   0%|          | 5/1000 [00:00<00:22, 44.82it/s]"
     ]
    },
    {
     "name": "stdout",
     "output_type": "stream",
     "text": [
      "downsampled to (200, 3)\n",
      "0146.obj\n"
     ]
    },
    {
     "name": "stderr",
     "output_type": "stream",
     "text": [
      "Finding Edges...: 100%|██████████| 1000/1000 [00:18<00:00, 53.20it/s]\n",
      "Calculating Features...: 100%|██████████| 3000/3000 [00:00<00:00, 4159.59it/s]\n",
      "Finding Edges...:   0%|          | 4/1000 [00:00<00:25, 39.79it/s]"
     ]
    },
    {
     "name": "stdout",
     "output_type": "stream",
     "text": [
      "downsampled to (200, 3)\n",
      "0179.obj\n"
     ]
    },
    {
     "name": "stderr",
     "output_type": "stream",
     "text": [
      "Finding Edges...: 100%|██████████| 1000/1000 [00:18<00:00, 53.06it/s]\n",
      "Calculating Features...: 100%|██████████| 3000/3000 [00:00<00:00, 4396.82it/s]\n",
      "Finding Edges...:   0%|          | 5/1000 [00:00<00:21, 45.26it/s]"
     ]
    },
    {
     "name": "stdout",
     "output_type": "stream",
     "text": [
      "downsampled to (200, 3)\n",
      "0205.obj\n"
     ]
    },
    {
     "name": "stderr",
     "output_type": "stream",
     "text": [
      "Finding Edges...: 100%|██████████| 1000/1000 [00:18<00:00, 53.67it/s]\n",
      "Calculating Features...: 100%|██████████| 3000/3000 [00:00<00:00, 4456.87it/s]\n",
      "Finding Edges...:   0%|          | 5/1000 [00:00<00:22, 43.40it/s]"
     ]
    },
    {
     "name": "stdout",
     "output_type": "stream",
     "text": [
      "downsampled to (200, 3)\n",
      "0239.obj\n"
     ]
    },
    {
     "name": "stderr",
     "output_type": "stream",
     "text": [
      "Finding Edges...: 100%|██████████| 1000/1000 [00:19<00:00, 52.49it/s]\n",
      "Calculating Features...: 100%|██████████| 3000/3000 [00:00<00:00, 4464.52it/s]\n",
      "Finding Edges...:   0%|          | 4/1000 [00:00<00:26, 37.74it/s]"
     ]
    },
    {
     "name": "stdout",
     "output_type": "stream",
     "text": [
      "downsampled to (200, 3)\n",
      "0292.obj\n"
     ]
    },
    {
     "name": "stderr",
     "output_type": "stream",
     "text": [
      "Finding Edges...: 100%|██████████| 1000/1000 [00:19<00:00, 52.32it/s]\n",
      "Calculating Features...: 100%|██████████| 3000/3000 [00:00<00:00, 4430.45it/s]\n",
      "Finding Edges...:   0%|          | 5/1000 [00:00<00:21, 46.32it/s]"
     ]
    },
    {
     "name": "stdout",
     "output_type": "stream",
     "text": [
      "downsampled to (200, 3)\n",
      "0001.obj\n"
     ]
    },
    {
     "name": "stderr",
     "output_type": "stream",
     "text": [
      "Finding Edges...: 100%|██████████| 1000/1000 [00:18<00:00, 53.04it/s]\n",
      "Calculating Features...: 100%|██████████| 3000/3000 [00:00<00:00, 4358.73it/s]\n",
      "Finding Edges...:   0%|          | 5/1000 [00:00<00:23, 42.10it/s]"
     ]
    },
    {
     "name": "stdout",
     "output_type": "stream",
     "text": [
      "downsampled to (200, 3)\n",
      "0019.obj\n"
     ]
    },
    {
     "name": "stderr",
     "output_type": "stream",
     "text": [
      "Finding Edges...: 100%|██████████| 1000/1000 [00:18<00:00, 52.64it/s]\n",
      "Calculating Features...: 100%|██████████| 3000/3000 [00:00<00:00, 4375.51it/s]\n",
      "Finding Edges...:   0%|          | 5/1000 [00:00<00:23, 43.17it/s]"
     ]
    },
    {
     "name": "stdout",
     "output_type": "stream",
     "text": [
      "downsampled to (200, 3)\n",
      "0240.obj\n"
     ]
    },
    {
     "name": "stderr",
     "output_type": "stream",
     "text": [
      "Finding Edges...: 100%|██████████| 1000/1000 [00:19<00:00, 52.21it/s]\n",
      "Calculating Features...: 100%|██████████| 3000/3000 [00:00<00:00, 4409.58it/s]\n",
      "Finding Edges...:   0%|          | 5/1000 [00:00<00:22, 44.02it/s]"
     ]
    },
    {
     "name": "stdout",
     "output_type": "stream",
     "text": [
      "downsampled to (200, 3)\n",
      "0248.obj\n"
     ]
    },
    {
     "name": "stderr",
     "output_type": "stream",
     "text": [
      "Finding Edges...: 100%|██████████| 1000/1000 [00:18<00:00, 53.39it/s]\n",
      "Calculating Features...: 100%|██████████| 3000/3000 [00:00<00:00, 4344.80it/s]\n",
      "Finding Edges...:   0%|          | 4/1000 [00:00<00:27, 35.93it/s]"
     ]
    },
    {
     "name": "stdout",
     "output_type": "stream",
     "text": [
      "downsampled to (200, 3)\n",
      "0208.obj\n"
     ]
    },
    {
     "name": "stderr",
     "output_type": "stream",
     "text": [
      "Finding Edges...: 100%|██████████| 1000/1000 [00:18<00:00, 53.39it/s]\n",
      "Calculating Features...: 100%|██████████| 3000/3000 [00:00<00:00, 4427.31it/s]\n",
      "Finding Edges...:   0%|          | 5/1000 [00:00<00:23, 42.03it/s]"
     ]
    },
    {
     "name": "stdout",
     "output_type": "stream",
     "text": [
      "downsampled to (200, 3)\n",
      "0226.obj\n"
     ]
    },
    {
     "name": "stderr",
     "output_type": "stream",
     "text": [
      "Finding Edges...: 100%|██████████| 1000/1000 [00:18<00:00, 53.09it/s]\n",
      "Calculating Features...: 100%|██████████| 3000/3000 [00:00<00:00, 4333.43it/s]\n",
      "Finding Edges...:   0%|          | 5/1000 [00:00<00:21, 45.76it/s]"
     ]
    },
    {
     "name": "stdout",
     "output_type": "stream",
     "text": [
      "downsampled to (200, 3)\n",
      "0268.obj\n"
     ]
    },
    {
     "name": "stderr",
     "output_type": "stream",
     "text": [
      "Finding Edges...: 100%|██████████| 1000/1000 [00:19<00:00, 52.25it/s]\n",
      "Calculating Features...: 100%|██████████| 3000/3000 [00:00<00:00, 4322.68it/s]\n",
      "Finding Edges...:   0%|          | 5/1000 [00:00<00:23, 41.81it/s]"
     ]
    },
    {
     "name": "stdout",
     "output_type": "stream",
     "text": [
      "downsampled to (200, 3)\n",
      "0224.obj\n"
     ]
    },
    {
     "name": "stderr",
     "output_type": "stream",
     "text": [
      "Finding Edges...: 100%|██████████| 1000/1000 [00:18<00:00, 53.34it/s]\n",
      "Calculating Features...: 100%|██████████| 3000/3000 [00:00<00:00, 4278.34it/s]\n",
      "Finding Edges...:   0%|          | 4/1000 [00:00<00:27, 36.51it/s]"
     ]
    },
    {
     "name": "stdout",
     "output_type": "stream",
     "text": [
      "downsampled to (200, 3)\n",
      "0028.obj\n"
     ]
    },
    {
     "name": "stderr",
     "output_type": "stream",
     "text": [
      "Finding Edges...: 100%|██████████| 1000/1000 [00:19<00:00, 52.10it/s]\n",
      "Calculating Features...: 100%|██████████| 3000/3000 [00:00<00:00, 4389.22it/s]\n",
      "Finding Edges...:   0%|          | 5/1000 [00:00<00:21, 45.54it/s]"
     ]
    },
    {
     "name": "stdout",
     "output_type": "stream",
     "text": [
      "downsampled to (200, 3)\n",
      "0124.obj\n"
     ]
    },
    {
     "name": "stderr",
     "output_type": "stream",
     "text": [
      "Finding Edges...: 100%|██████████| 1000/1000 [00:18<00:00, 53.87it/s]\n",
      "Calculating Features...: 100%|██████████| 3000/3000 [00:00<00:00, 4269.59it/s]\n",
      "Finding Edges...:   0%|          | 4/1000 [00:00<00:25, 39.84it/s]"
     ]
    },
    {
     "name": "stdout",
     "output_type": "stream",
     "text": [
      "downsampled to (200, 3)\n",
      "0272.obj\n"
     ]
    },
    {
     "name": "stderr",
     "output_type": "stream",
     "text": [
      "Finding Edges...: 100%|██████████| 1000/1000 [00:18<00:00, 52.76it/s]\n",
      "Calculating Features...: 100%|██████████| 3000/3000 [00:00<00:00, 4370.84it/s]\n",
      "Finding Edges...:   0%|          | 5/1000 [00:00<00:22, 44.62it/s]"
     ]
    },
    {
     "name": "stdout",
     "output_type": "stream",
     "text": [
      "downsampled to (200, 3)\n",
      "0247.obj\n"
     ]
    },
    {
     "name": "stderr",
     "output_type": "stream",
     "text": [
      "Finding Edges...: 100%|██████████| 1000/1000 [00:18<00:00, 52.73it/s]\n",
      "Calculating Features...: 100%|██████████| 3000/3000 [00:00<00:00, 4244.88it/s]\n",
      "Finding Edges...:   0%|          | 5/1000 [00:00<00:22, 43.43it/s]"
     ]
    },
    {
     "name": "stdout",
     "output_type": "stream",
     "text": [
      "downsampled to (200, 3)\n",
      "0214.obj\n"
     ]
    },
    {
     "name": "stderr",
     "output_type": "stream",
     "text": [
      "Finding Edges...: 100%|██████████| 1000/1000 [00:19<00:00, 51.40it/s]\n",
      "Calculating Features...: 100%|██████████| 3000/3000 [00:00<00:00, 4445.49it/s]\n",
      "Finding Edges...:   0%|          | 5/1000 [00:00<00:23, 43.09it/s]"
     ]
    },
    {
     "name": "stdout",
     "output_type": "stream",
     "text": [
      "downsampled to (200, 3)\n",
      "0093.obj\n"
     ]
    },
    {
     "name": "stderr",
     "output_type": "stream",
     "text": [
      "Finding Edges...: 100%|██████████| 1000/1000 [00:18<00:00, 53.06it/s]\n",
      "Calculating Features...: 100%|██████████| 3000/3000 [00:00<00:00, 4416.25it/s]\n",
      "Finding Edges...:   0%|          | 5/1000 [00:00<00:22, 45.08it/s]"
     ]
    },
    {
     "name": "stdout",
     "output_type": "stream",
     "text": [
      "downsampled to (200, 3)\n",
      "0164.obj\n"
     ]
    },
    {
     "name": "stderr",
     "output_type": "stream",
     "text": [
      "Finding Edges...: 100%|██████████| 1000/1000 [00:19<00:00, 51.74it/s]\n",
      "Calculating Features...: 100%|██████████| 3000/3000 [00:00<00:00, 4458.20it/s]\n",
      "Finding Edges...:   0%|          | 5/1000 [00:00<00:21, 45.87it/s]"
     ]
    },
    {
     "name": "stdout",
     "output_type": "stream",
     "text": [
      "downsampled to (200, 3)\n",
      "0294.obj\n"
     ]
    },
    {
     "name": "stderr",
     "output_type": "stream",
     "text": [
      "Finding Edges...: 100%|██████████| 1000/1000 [00:18<00:00, 52.94it/s]\n",
      "Calculating Features...: 100%|██████████| 3000/3000 [00:00<00:00, 4435.22it/s]\n",
      "Finding Edges...:   0%|          | 5/1000 [00:00<00:23, 41.91it/s]"
     ]
    },
    {
     "name": "stdout",
     "output_type": "stream",
     "text": [
      "downsampled to (200, 3)\n",
      "0039.obj\n"
     ]
    },
    {
     "name": "stderr",
     "output_type": "stream",
     "text": [
      "Finding Edges...: 100%|██████████| 1000/1000 [00:18<00:00, 53.06it/s]\n",
      "Calculating Features...: 100%|██████████| 3000/3000 [00:00<00:00, 4287.61it/s]\n",
      "Finding Edges...:   0%|          | 3/1500 [00:00<00:54, 27.50it/s]"
     ]
    },
    {
     "name": "stdout",
     "output_type": "stream",
     "text": [
      "downsampled to (200, 3)\n",
      "--------------------------------------------\n",
      "Generating Test Data\n",
      "--------------------------------------------\n",
      "--------------------------------------------\n",
      "coseg_aliens\n",
      "--------------------------------------------\n",
      "178.obj\n"
     ]
    },
    {
     "name": "stderr",
     "output_type": "stream",
     "text": [
      "Finding Edges...: 100%|██████████| 1500/1500 [00:42<00:00, 35.64it/s]\n",
      "Calculating Features...: 100%|██████████| 4500/4500 [00:01<00:00, 4353.04it/s]\n",
      "Finding Edges...:   0%|          | 4/1500 [00:00<00:42, 35.09it/s]"
     ]
    },
    {
     "name": "stdout",
     "output_type": "stream",
     "text": [
      "downsampled to (200, 3)\n",
      "60.obj\n"
     ]
    },
    {
     "name": "stderr",
     "output_type": "stream",
     "text": [
      "Finding Edges...: 100%|██████████| 1500/1500 [00:41<00:00, 35.85it/s]\n",
      "Calculating Features...: 100%|██████████| 4500/4500 [00:01<00:00, 4386.03it/s]\n",
      "Finding Edges...:   0%|          | 4/1500 [00:00<00:42, 35.39it/s]"
     ]
    },
    {
     "name": "stdout",
     "output_type": "stream",
     "text": [
      "downsampled to (200, 3)\n",
      "89.obj\n"
     ]
    },
    {
     "name": "stderr",
     "output_type": "stream",
     "text": [
      "Finding Edges...: 100%|██████████| 1500/1500 [00:41<00:00, 36.19it/s]\n",
      "Calculating Features...: 100%|██████████| 4500/4500 [00:01<00:00, 4170.75it/s]\n",
      "Finding Edges...:   0%|          | 4/1500 [00:00<00:43, 34.11it/s]"
     ]
    },
    {
     "name": "stdout",
     "output_type": "stream",
     "text": [
      "downsampled to (200, 3)\n",
      "53.obj\n"
     ]
    },
    {
     "name": "stderr",
     "output_type": "stream",
     "text": [
      "Finding Edges...: 100%|██████████| 1500/1500 [00:40<00:00, 37.20it/s]\n",
      "Calculating Features...: 100%|██████████| 4500/4500 [00:00<00:00, 4698.52it/s]\n",
      "Finding Edges...:   0%|          | 4/1500 [00:00<00:43, 34.40it/s]"
     ]
    },
    {
     "name": "stdout",
     "output_type": "stream",
     "text": [
      "downsampled to (200, 3)\n",
      "146.obj\n"
     ]
    },
    {
     "name": "stderr",
     "output_type": "stream",
     "text": [
      "Finding Edges...: 100%|██████████| 1500/1500 [00:40<00:00, 37.21it/s]\n",
      "Calculating Features...: 100%|██████████| 4500/4500 [00:01<00:00, 4322.89it/s]\n",
      "Finding Edges...:   0%|          | 4/1500 [00:00<00:39, 37.94it/s]"
     ]
    },
    {
     "name": "stdout",
     "output_type": "stream",
     "text": [
      "downsampled to (200, 3)\n",
      "132.obj\n"
     ]
    },
    {
     "name": "stderr",
     "output_type": "stream",
     "text": [
      "Finding Edges...: 100%|██████████| 1500/1500 [00:41<00:00, 36.59it/s]\n",
      "Calculating Features...: 100%|██████████| 4500/4500 [00:01<00:00, 4432.81it/s]\n",
      "Finding Edges...:   0%|          | 4/1500 [00:00<00:42, 35.11it/s]"
     ]
    },
    {
     "name": "stdout",
     "output_type": "stream",
     "text": [
      "downsampled to (200, 3)\n",
      "93.obj\n"
     ]
    },
    {
     "name": "stderr",
     "output_type": "stream",
     "text": [
      "Finding Edges...: 100%|██████████| 1500/1500 [00:41<00:00, 36.15it/s]\n",
      "Calculating Features...: 100%|██████████| 4500/4500 [00:01<00:00, 4355.26it/s]\n",
      "Finding Edges...:   0%|          | 4/1500 [00:00<00:46, 32.29it/s]"
     ]
    },
    {
     "name": "stdout",
     "output_type": "stream",
     "text": [
      "downsampled to (200, 3)\n",
      "118.obj\n"
     ]
    },
    {
     "name": "stderr",
     "output_type": "stream",
     "text": [
      "Finding Edges...: 100%|██████████| 1500/1500 [00:40<00:00, 36.61it/s]\n",
      "Calculating Features...: 100%|██████████| 4500/4500 [00:01<00:00, 4436.62it/s]\n",
      "Finding Edges...:   0%|          | 4/1500 [00:00<00:45, 32.82it/s]"
     ]
    },
    {
     "name": "stdout",
     "output_type": "stream",
     "text": [
      "downsampled to (200, 3)\n",
      "55.obj\n"
     ]
    },
    {
     "name": "stderr",
     "output_type": "stream",
     "text": [
      "Finding Edges...: 100%|██████████| 1500/1500 [00:41<00:00, 36.07it/s]\n",
      "Calculating Features...: 100%|██████████| 4500/4500 [00:00<00:00, 4508.59it/s]\n",
      "Finding Edges...:   0%|          | 4/1500 [00:00<00:40, 36.59it/s]"
     ]
    },
    {
     "name": "stdout",
     "output_type": "stream",
     "text": [
      "downsampled to (200, 3)\n",
      "35.obj\n"
     ]
    },
    {
     "name": "stderr",
     "output_type": "stream",
     "text": [
      "Finding Edges...: 100%|██████████| 1500/1500 [00:41<00:00, 36.28it/s]\n",
      "Calculating Features...: 100%|██████████| 4500/4500 [00:01<00:00, 4487.94it/s]\n",
      "Finding Edges...:   0%|          | 4/1500 [00:00<00:41, 36.24it/s]"
     ]
    },
    {
     "name": "stdout",
     "output_type": "stream",
     "text": [
      "downsampled to (200, 3)\n",
      "23.obj\n"
     ]
    },
    {
     "name": "stderr",
     "output_type": "stream",
     "text": [
      "Finding Edges...: 100%|██████████| 1500/1500 [00:40<00:00, 36.60it/s]\n",
      "Calculating Features...: 100%|██████████| 4500/4500 [00:00<00:00, 4525.30it/s]\n",
      "Finding Edges...:   0%|          | 4/1500 [00:00<00:41, 35.96it/s]"
     ]
    },
    {
     "name": "stdout",
     "output_type": "stream",
     "text": [
      "downsampled to (200, 3)\n",
      "92.obj\n"
     ]
    },
    {
     "name": "stderr",
     "output_type": "stream",
     "text": [
      "Finding Edges...: 100%|██████████| 1500/1500 [00:41<00:00, 36.18it/s]\n",
      "Calculating Features...: 100%|██████████| 4500/4500 [00:01<00:00, 4474.58it/s]\n",
      "Finding Edges...:   0%|          | 4/1500 [00:00<00:41, 35.86it/s]"
     ]
    },
    {
     "name": "stdout",
     "output_type": "stream",
     "text": [
      "downsampled to (200, 3)\n",
      "111.obj\n"
     ]
    },
    {
     "name": "stderr",
     "output_type": "stream",
     "text": [
      "Finding Edges...: 100%|██████████| 1500/1500 [00:41<00:00, 36.31it/s]\n",
      "Calculating Features...: 100%|██████████| 4500/4500 [00:01<00:00, 4358.13it/s]\n",
      "Finding Edges...:   0%|          | 4/1500 [00:00<00:41, 36.02it/s]"
     ]
    },
    {
     "name": "stdout",
     "output_type": "stream",
     "text": [
      "downsampled to (200, 3)\n",
      "99.obj\n"
     ]
    },
    {
     "name": "stderr",
     "output_type": "stream",
     "text": [
      "Finding Edges...: 100%|██████████| 1500/1500 [00:41<00:00, 36.14it/s]\n",
      "Calculating Features...: 100%|██████████| 4500/4500 [00:01<00:00, 4469.33it/s]\n",
      "Finding Edges...:   0%|          | 4/1500 [00:00<00:41, 35.93it/s]"
     ]
    },
    {
     "name": "stdout",
     "output_type": "stream",
     "text": [
      "downsampled to (200, 3)\n",
      "63.obj\n"
     ]
    },
    {
     "name": "stderr",
     "output_type": "stream",
     "text": [
      "Finding Edges...: 100%|██████████| 1500/1500 [00:41<00:00, 36.21it/s]\n",
      "Calculating Features...: 100%|██████████| 4500/4500 [00:01<00:00, 4434.28it/s]\n",
      "Finding Edges...:   0%|          | 4/1500 [00:00<00:40, 37.15it/s]"
     ]
    },
    {
     "name": "stdout",
     "output_type": "stream",
     "text": [
      "downsampled to (200, 3)\n",
      "36.obj\n"
     ]
    },
    {
     "name": "stderr",
     "output_type": "stream",
     "text": [
      "Finding Edges...: 100%|██████████| 1500/1500 [00:41<00:00, 36.47it/s]\n",
      "Calculating Features...: 100%|██████████| 4500/4500 [00:01<00:00, 4396.66it/s]\n",
      "Finding Edges...:   0%|          | 4/1500 [00:00<00:45, 33.01it/s]"
     ]
    },
    {
     "name": "stdout",
     "output_type": "stream",
     "text": [
      "downsampled to (200, 3)\n",
      "10.obj\n"
     ]
    },
    {
     "name": "stderr",
     "output_type": "stream",
     "text": [
      "Finding Edges...: 100%|██████████| 1500/1500 [00:40<00:00, 36.60it/s]\n",
      "Calculating Features...: 100%|██████████| 4500/4500 [00:01<00:00, 4496.30it/s]\n",
      "Finding Edges...:   0%|          | 4/1500 [00:00<00:39, 37.57it/s]"
     ]
    },
    {
     "name": "stdout",
     "output_type": "stream",
     "text": [
      "downsampled to (200, 3)\n",
      "192.obj\n"
     ]
    },
    {
     "name": "stderr",
     "output_type": "stream",
     "text": [
      "Finding Edges...: 100%|██████████| 1500/1500 [00:41<00:00, 36.44it/s]\n",
      "Calculating Features...: 100%|██████████| 4500/4500 [00:01<00:00, 4120.13it/s]\n",
      "Finding Edges...:   0%|          | 4/1500 [00:00<00:40, 36.52it/s]"
     ]
    },
    {
     "name": "stdout",
     "output_type": "stream",
     "text": [
      "downsampled to (200, 3)\n",
      "163.obj\n"
     ]
    },
    {
     "name": "stderr",
     "output_type": "stream",
     "text": [
      "Finding Edges...: 100%|██████████| 1500/1500 [00:41<00:00, 36.49it/s]\n",
      "Calculating Features...: 100%|██████████| 4500/4500 [00:00<00:00, 4631.79it/s]\n",
      "Finding Edges...:   0%|          | 4/1500 [00:00<00:45, 33.05it/s]"
     ]
    },
    {
     "name": "stdout",
     "output_type": "stream",
     "text": [
      "downsampled to (200, 3)\n",
      "28.obj\n"
     ]
    },
    {
     "name": "stderr",
     "output_type": "stream",
     "text": [
      "Finding Edges...: 100%|██████████| 1500/1500 [00:41<00:00, 36.28it/s]\n",
      "Calculating Features...: 100%|██████████| 4500/4500 [00:01<00:00, 4324.96it/s]\n",
      "Finding Edges...:   0%|          | 4/1500 [00:00<00:42, 35.53it/s]"
     ]
    },
    {
     "name": "stdout",
     "output_type": "stream",
     "text": [
      "downsampled to (200, 3)\n",
      "142.obj\n"
     ]
    },
    {
     "name": "stderr",
     "output_type": "stream",
     "text": [
      "Finding Edges...: 100%|██████████| 1500/1500 [00:41<00:00, 36.39it/s]\n",
      "Calculating Features...: 100%|██████████| 4500/4500 [00:01<00:00, 4455.50it/s]\n",
      "Finding Edges...:   0%|          | 4/1500 [00:00<00:41, 35.69it/s]"
     ]
    },
    {
     "name": "stdout",
     "output_type": "stream",
     "text": [
      "downsampled to (200, 3)\n",
      "182.obj\n"
     ]
    },
    {
     "name": "stderr",
     "output_type": "stream",
     "text": [
      "Finding Edges...: 100%|██████████| 1500/1500 [00:41<00:00, 36.43it/s]\n",
      "Calculating Features...: 100%|██████████| 4500/4500 [00:01<00:00, 4302.09it/s]\n",
      "Finding Edges...:   0%|          | 4/1500 [00:00<00:42, 35.43it/s]"
     ]
    },
    {
     "name": "stdout",
     "output_type": "stream",
     "text": [
      "downsampled to (200, 3)\n",
      "189.obj\n"
     ]
    },
    {
     "name": "stderr",
     "output_type": "stream",
     "text": [
      "Finding Edges...: 100%|██████████| 1500/1500 [00:41<00:00, 36.12it/s]\n",
      "Calculating Features...: 100%|██████████| 4500/4500 [00:01<00:00, 4442.38it/s]\n",
      "Finding Edges...:   0%|          | 4/1500 [00:00<00:42, 34.94it/s]"
     ]
    },
    {
     "name": "stdout",
     "output_type": "stream",
     "text": [
      "downsampled to (200, 3)\n",
      "150.obj\n"
     ]
    },
    {
     "name": "stderr",
     "output_type": "stream",
     "text": [
      "Finding Edges...: 100%|██████████| 1500/1500 [00:41<00:00, 36.57it/s]\n",
      "Calculating Features...: 100%|██████████| 4500/4500 [00:00<00:00, 4534.86it/s]\n",
      "Finding Edges...:   0%|          | 4/1500 [00:00<00:39, 37.57it/s]"
     ]
    },
    {
     "name": "stdout",
     "output_type": "stream",
     "text": [
      "downsampled to (200, 3)\n",
      "166.obj\n"
     ]
    },
    {
     "name": "stderr",
     "output_type": "stream",
     "text": [
      "Finding Edges...: 100%|██████████| 1500/1500 [00:41<00:00, 36.49it/s]\n",
      "Calculating Features...: 100%|██████████| 4500/4500 [00:01<00:00, 4433.25it/s]\n",
      "Finding Edges...:   0%|          | 4/1500 [00:00<00:44, 33.94it/s]"
     ]
    },
    {
     "name": "stdout",
     "output_type": "stream",
     "text": [
      "downsampled to (200, 3)\n",
      "179.obj\n"
     ]
    },
    {
     "name": "stderr",
     "output_type": "stream",
     "text": [
      "Finding Edges...: 100%|██████████| 1500/1500 [00:41<00:00, 36.56it/s]\n",
      "Calculating Features...: 100%|██████████| 4500/4500 [00:01<00:00, 4406.23it/s]\n",
      "Finding Edges...:   0%|          | 4/1499 [00:00<00:47, 31.37it/s]"
     ]
    },
    {
     "name": "stdout",
     "output_type": "stream",
     "text": [
      "downsampled to (200, 3)\n",
      "117.obj\n"
     ]
    },
    {
     "name": "stderr",
     "output_type": "stream",
     "text": [
      "Finding Edges...: 100%|██████████| 1499/1499 [00:41<00:00, 36.30it/s]\n",
      "Calculating Features...: 100%|██████████| 4494/4494 [00:00<00:00, 4519.08it/s]\n",
      "Finding Edges...:   0%|          | 4/1500 [00:00<00:41, 36.25it/s]"
     ]
    },
    {
     "name": "stdout",
     "output_type": "stream",
     "text": [
      "downsampled to (200, 3)\n",
      "191.obj\n"
     ]
    },
    {
     "name": "stderr",
     "output_type": "stream",
     "text": [
      "Finding Edges...: 100%|██████████| 1500/1500 [00:41<00:00, 36.01it/s]\n",
      "Calculating Features...: 100%|██████████| 4500/4500 [00:01<00:00, 4039.30it/s]\n",
      "Finding Edges...:   0%|          | 4/1500 [00:00<00:39, 37.50it/s]"
     ]
    },
    {
     "name": "stdout",
     "output_type": "stream",
     "text": [
      "downsampled to (200, 3)\n",
      "195.obj\n"
     ]
    },
    {
     "name": "stderr",
     "output_type": "stream",
     "text": [
      "Finding Edges...: 100%|██████████| 1500/1500 [00:41<00:00, 36.42it/s]\n",
      "Calculating Features...: 100%|██████████| 4500/4500 [00:00<00:00, 4530.39it/s]\n",
      "Finding Edges...:   1%|          | 6/1000 [00:00<00:18, 55.15it/s]"
     ]
    },
    {
     "name": "stdout",
     "output_type": "stream",
     "text": [
      "downsampled to (200, 3)\n",
      "--------------------------------------------\n",
      "coseg_chairs\n",
      "--------------------------------------------\n",
      "0332.obj\n"
     ]
    },
    {
     "name": "stderr",
     "output_type": "stream",
     "text": [
      "Finding Edges...: 100%|██████████| 1000/1000 [00:17<00:00, 55.56it/s]\n",
      "Calculating Features...: 100%|██████████| 3000/3000 [00:00<00:00, 4515.97it/s]\n",
      "Finding Edges...:   1%|          | 6/1000 [00:00<00:18, 53.05it/s]"
     ]
    },
    {
     "name": "stdout",
     "output_type": "stream",
     "text": [
      "downsampled to (200, 3)\n",
      "0090.obj\n"
     ]
    },
    {
     "name": "stderr",
     "output_type": "stream",
     "text": [
      "Finding Edges...: 100%|██████████| 1000/1000 [00:18<00:00, 55.32it/s]\n",
      "Calculating Features...: 100%|██████████| 3000/3000 [00:00<00:00, 4297.67it/s]\n",
      "Finding Edges...:   1%|          | 6/1000 [00:00<00:18, 53.48it/s]"
     ]
    },
    {
     "name": "stdout",
     "output_type": "stream",
     "text": [
      "downsampled to (200, 3)\n",
      "0400.obj\n"
     ]
    },
    {
     "name": "stderr",
     "output_type": "stream",
     "text": [
      "Finding Edges...: 100%|██████████| 1000/1000 [00:18<00:00, 54.88it/s]\n",
      "Calculating Features...: 100%|██████████| 3000/3000 [00:00<00:00, 4456.28it/s]\n",
      "Finding Edges...:   1%|          | 6/1000 [00:00<00:18, 54.37it/s]"
     ]
    },
    {
     "name": "stdout",
     "output_type": "stream",
     "text": [
      "downsampled to (200, 3)\n",
      "0237.obj\n"
     ]
    },
    {
     "name": "stderr",
     "output_type": "stream",
     "text": [
      "Finding Edges...: 100%|██████████| 1000/1000 [00:18<00:00, 55.43it/s]\n",
      "Calculating Features...: 100%|██████████| 3000/3000 [00:00<00:00, 4580.38it/s]\n",
      "Finding Edges...:   1%|          | 6/1000 [00:00<00:18, 55.22it/s]"
     ]
    },
    {
     "name": "stdout",
     "output_type": "stream",
     "text": [
      "downsampled to (200, 3)\n",
      "0347.obj\n"
     ]
    },
    {
     "name": "stderr",
     "output_type": "stream",
     "text": [
      "Finding Edges...: 100%|██████████| 1000/1000 [00:18<00:00, 54.34it/s]\n",
      "Calculating Features...: 100%|██████████| 3000/3000 [00:00<00:00, 4394.93it/s]\n",
      "Finding Edges...:   1%|          | 6/1000 [00:00<00:18, 54.19it/s]"
     ]
    },
    {
     "name": "stdout",
     "output_type": "stream",
     "text": [
      "downsampled to (200, 3)\n",
      "0310.obj\n"
     ]
    },
    {
     "name": "stderr",
     "output_type": "stream",
     "text": [
      "Finding Edges...: 100%|██████████| 1000/1000 [00:18<00:00, 54.17it/s]\n",
      "Calculating Features...: 100%|██████████| 3000/3000 [00:00<00:00, 4454.50it/s]\n",
      "Finding Edges...:   1%|          | 6/1000 [00:00<00:18, 52.81it/s]"
     ]
    },
    {
     "name": "stdout",
     "output_type": "stream",
     "text": [
      "downsampled to (200, 3)\n",
      "0350.obj\n"
     ]
    },
    {
     "name": "stderr",
     "output_type": "stream",
     "text": [
      "Finding Edges...: 100%|██████████| 1000/1000 [00:18<00:00, 55.48it/s]\n",
      "Calculating Features...: 100%|██████████| 3000/3000 [00:00<00:00, 4672.60it/s]\n",
      "Finding Edges...:   1%|          | 6/1000 [00:00<00:18, 54.53it/s]"
     ]
    },
    {
     "name": "stdout",
     "output_type": "stream",
     "text": [
      "downsampled to (200, 3)\n",
      "0317.obj\n"
     ]
    },
    {
     "name": "stderr",
     "output_type": "stream",
     "text": [
      "Finding Edges...: 100%|██████████| 1000/1000 [00:17<00:00, 56.24it/s]\n",
      "Calculating Features...: 100%|██████████| 3000/3000 [00:00<00:00, 4557.84it/s]\n",
      "Finding Edges...:   1%|          | 6/1000 [00:00<00:18, 54.17it/s]"
     ]
    },
    {
     "name": "stdout",
     "output_type": "stream",
     "text": [
      "downsampled to (200, 3)\n",
      "0259.obj\n"
     ]
    },
    {
     "name": "stderr",
     "output_type": "stream",
     "text": [
      "Finding Edges...: 100%|██████████| 1000/1000 [00:18<00:00, 54.61it/s]\n",
      "Calculating Features...: 100%|██████████| 3000/3000 [00:00<00:00, 4718.82it/s]\n",
      "Finding Edges...:   1%|          | 6/1000 [00:00<00:17, 56.16it/s]"
     ]
    },
    {
     "name": "stdout",
     "output_type": "stream",
     "text": [
      "downsampled to (200, 3)\n",
      "0059.obj\n"
     ]
    },
    {
     "name": "stderr",
     "output_type": "stream",
     "text": [
      "Finding Edges...: 100%|██████████| 1000/1000 [00:17<00:00, 56.95it/s]\n",
      "Calculating Features...: 100%|██████████| 3000/3000 [00:00<00:00, 4569.80it/s]\n",
      "Finding Edges...:   1%|          | 6/1000 [00:00<00:18, 54.98it/s]"
     ]
    },
    {
     "name": "stdout",
     "output_type": "stream",
     "text": [
      "downsampled to (200, 3)\n",
      "0341.obj\n"
     ]
    },
    {
     "name": "stderr",
     "output_type": "stream",
     "text": [
      "Finding Edges...: 100%|██████████| 1000/1000 [00:17<00:00, 56.07it/s]\n",
      "Calculating Features...: 100%|██████████| 3000/3000 [00:00<00:00, 4388.05it/s]\n",
      "Finding Edges...:   1%|          | 6/1000 [00:00<00:18, 53.21it/s]"
     ]
    },
    {
     "name": "stdout",
     "output_type": "stream",
     "text": [
      "downsampled to (200, 3)\n",
      "0193.obj\n"
     ]
    },
    {
     "name": "stderr",
     "output_type": "stream",
     "text": [
      "Finding Edges...: 100%|██████████| 1000/1000 [00:17<00:00, 55.61it/s]\n",
      "Calculating Features...: 100%|██████████| 3000/3000 [00:00<00:00, 4717.94it/s]\n",
      "Finding Edges...:   1%|          | 6/1000 [00:00<00:18, 55.12it/s]"
     ]
    },
    {
     "name": "stdout",
     "output_type": "stream",
     "text": [
      "downsampled to (200, 3)\n",
      "0361.obj\n"
     ]
    },
    {
     "name": "stderr",
     "output_type": "stream",
     "text": [
      "Finding Edges...: 100%|██████████| 1000/1000 [00:18<00:00, 55.46it/s]\n",
      "Calculating Features...: 100%|██████████| 3000/3000 [00:00<00:00, 4510.88it/s]\n",
      "Finding Edges...:   1%|          | 6/996 [00:00<00:18, 53.97it/s]"
     ]
    },
    {
     "name": "stdout",
     "output_type": "stream",
     "text": [
      "downsampled to (200, 3)\n",
      "0089.obj\n"
     ]
    },
    {
     "name": "stderr",
     "output_type": "stream",
     "text": [
      "Finding Edges...: 100%|██████████| 996/996 [00:17<00:00, 56.80it/s]\n",
      "Calculating Features...: 100%|██████████| 2988/2988 [00:00<00:00, 4408.52it/s]\n",
      "Finding Edges...:   0%|          | 5/1000 [00:00<00:21, 47.30it/s]"
     ]
    },
    {
     "name": "stdout",
     "output_type": "stream",
     "text": [
      "downsampled to (200, 3)\n",
      "0275.obj\n"
     ]
    },
    {
     "name": "stderr",
     "output_type": "stream",
     "text": [
      "Finding Edges...: 100%|██████████| 1000/1000 [00:18<00:00, 54.90it/s]\n",
      "Calculating Features...: 100%|██████████| 3000/3000 [00:00<00:00, 4750.14it/s]\n",
      "Finding Edges...:   1%|          | 6/1000 [00:00<00:18, 54.45it/s]"
     ]
    },
    {
     "name": "stdout",
     "output_type": "stream",
     "text": [
      "downsampled to (200, 3)\n",
      "0021.obj\n"
     ]
    },
    {
     "name": "stderr",
     "output_type": "stream",
     "text": [
      "Finding Edges...: 100%|██████████| 1000/1000 [00:18<00:00, 55.41it/s]\n",
      "Calculating Features...: 100%|██████████| 3000/3000 [00:00<00:00, 4148.97it/s]\n",
      "Finding Edges...:   0%|          | 5/1000 [00:00<00:20, 48.50it/s]"
     ]
    },
    {
     "name": "stdout",
     "output_type": "stream",
     "text": [
      "downsampled to (200, 3)\n",
      "0051.obj\n"
     ]
    },
    {
     "name": "stderr",
     "output_type": "stream",
     "text": [
      "Finding Edges...: 100%|██████████| 1000/1000 [00:17<00:00, 55.58it/s]\n",
      "Calculating Features...: 100%|██████████| 3000/3000 [00:00<00:00, 4665.42it/s]\n",
      "Finding Edges...:   1%|          | 6/1000 [00:00<00:18, 54.44it/s]"
     ]
    },
    {
     "name": "stdout",
     "output_type": "stream",
     "text": [
      "downsampled to (200, 3)\n",
      "0072.obj\n"
     ]
    },
    {
     "name": "stderr",
     "output_type": "stream",
     "text": [
      "Finding Edges...: 100%|██████████| 1000/1000 [00:17<00:00, 56.14it/s]\n",
      "Calculating Features...: 100%|██████████| 3000/3000 [00:00<00:00, 4548.47it/s]\n",
      "Finding Edges...:   1%|          | 6/1000 [00:00<00:18, 53.60it/s]"
     ]
    },
    {
     "name": "stdout",
     "output_type": "stream",
     "text": [
      "downsampled to (200, 3)\n",
      "0207.obj\n"
     ]
    },
    {
     "name": "stderr",
     "output_type": "stream",
     "text": [
      "Finding Edges...: 100%|██████████| 1000/1000 [00:18<00:00, 54.51it/s]\n",
      "Calculating Features...: 100%|██████████| 3000/3000 [00:00<00:00, 4551.96it/s]\n",
      "Finding Edges...:   1%|          | 6/1000 [00:00<00:18, 53.09it/s]"
     ]
    },
    {
     "name": "stdout",
     "output_type": "stream",
     "text": [
      "downsampled to (200, 3)\n",
      "0266.obj\n"
     ]
    },
    {
     "name": "stderr",
     "output_type": "stream",
     "text": [
      "Finding Edges...: 100%|██████████| 1000/1000 [00:17<00:00, 55.83it/s]\n",
      "Calculating Features...: 100%|██████████| 3000/3000 [00:00<00:00, 4526.54it/s]\n",
      "Finding Edges...:   0%|          | 5/1000 [00:00<00:20, 48.57it/s]"
     ]
    },
    {
     "name": "stdout",
     "output_type": "stream",
     "text": [
      "downsampled to (200, 3)\n",
      "0049.obj\n"
     ]
    },
    {
     "name": "stderr",
     "output_type": "stream",
     "text": [
      "Finding Edges...: 100%|██████████| 1000/1000 [00:18<00:00, 54.56it/s]\n",
      "Calculating Features...: 100%|██████████| 3000/3000 [00:00<00:00, 4692.54it/s]\n",
      "Finding Edges...:   1%|          | 6/1000 [00:00<00:18, 54.80it/s]"
     ]
    },
    {
     "name": "stdout",
     "output_type": "stream",
     "text": [
      "downsampled to (200, 3)\n",
      "0053.obj\n"
     ]
    },
    {
     "name": "stderr",
     "output_type": "stream",
     "text": [
      "Finding Edges...: 100%|██████████| 1000/1000 [00:18<00:00, 55.21it/s]\n",
      "Calculating Features...: 100%|██████████| 3000/3000 [00:00<00:00, 4515.30it/s]\n",
      "Finding Edges...:   1%|          | 6/1000 [00:00<00:17, 55.49it/s]"
     ]
    },
    {
     "name": "stdout",
     "output_type": "stream",
     "text": [
      "downsampled to (200, 3)\n",
      "0176.obj\n"
     ]
    },
    {
     "name": "stderr",
     "output_type": "stream",
     "text": [
      "Finding Edges...: 100%|██████████| 1000/1000 [00:18<00:00, 54.65it/s]\n",
      "Calculating Features...: 100%|██████████| 3000/3000 [00:00<00:00, 4095.15it/s]\n",
      "Finding Edges...:   1%|          | 6/1000 [00:00<00:18, 53.87it/s]"
     ]
    },
    {
     "name": "stdout",
     "output_type": "stream",
     "text": [
      "downsampled to (200, 3)\n",
      "0189.obj\n"
     ]
    },
    {
     "name": "stderr",
     "output_type": "stream",
     "text": [
      "Finding Edges...: 100%|██████████| 1000/1000 [00:17<00:00, 56.56it/s]\n",
      "Calculating Features...: 100%|██████████| 3000/3000 [00:00<00:00, 4472.44it/s]\n",
      "Finding Edges...:   1%|          | 6/1000 [00:00<00:17, 55.43it/s]"
     ]
    },
    {
     "name": "stdout",
     "output_type": "stream",
     "text": [
      "downsampled to (200, 3)\n",
      "0022.obj\n"
     ]
    },
    {
     "name": "stderr",
     "output_type": "stream",
     "text": [
      "Finding Edges...: 100%|██████████| 1000/1000 [00:18<00:00, 55.48it/s]\n",
      "Calculating Features...: 100%|██████████| 3000/3000 [00:00<00:00, 4620.60it/s]\n",
      "Finding Edges...:   1%|          | 6/1000 [00:00<00:17, 57.13it/s]"
     ]
    },
    {
     "name": "stdout",
     "output_type": "stream",
     "text": [
      "downsampled to (200, 3)\n",
      "0254.obj\n"
     ]
    },
    {
     "name": "stderr",
     "output_type": "stream",
     "text": [
      "Finding Edges...: 100%|██████████| 1000/1000 [00:17<00:00, 55.78it/s]\n",
      "Calculating Features...: 100%|██████████| 3000/3000 [00:00<00:00, 4532.93it/s]\n",
      "Finding Edges...:   1%|          | 6/1000 [00:00<00:17, 56.38it/s]"
     ]
    },
    {
     "name": "stdout",
     "output_type": "stream",
     "text": [
      "downsampled to (200, 3)\n",
      "0374.obj\n"
     ]
    },
    {
     "name": "stderr",
     "output_type": "stream",
     "text": [
      "Finding Edges...: 100%|██████████| 1000/1000 [00:17<00:00, 56.60it/s]\n",
      "Calculating Features...: 100%|██████████| 3000/3000 [00:00<00:00, 4268.28it/s]\n",
      "Finding Edges...:   1%|          | 6/1000 [00:00<00:18, 52.99it/s]"
     ]
    },
    {
     "name": "stdout",
     "output_type": "stream",
     "text": [
      "downsampled to (200, 3)\n",
      "0014.obj\n"
     ]
    },
    {
     "name": "stderr",
     "output_type": "stream",
     "text": [
      "Finding Edges...: 100%|██████████| 1000/1000 [00:17<00:00, 55.79it/s]\n",
      "Calculating Features...: 100%|██████████| 3000/3000 [00:00<00:00, 4417.13it/s]\n",
      "Finding Edges...:   1%|          | 6/1000 [00:00<00:18, 54.48it/s]"
     ]
    },
    {
     "name": "stdout",
     "output_type": "stream",
     "text": [
      "downsampled to (200, 3)\n",
      "0278.obj\n"
     ]
    },
    {
     "name": "stderr",
     "output_type": "stream",
     "text": [
      "Finding Edges...: 100%|██████████| 1000/1000 [00:18<00:00, 55.18it/s]\n",
      "Calculating Features...: 100%|██████████| 3000/3000 [00:00<00:00, 4454.39it/s]\n",
      "Finding Edges...:   1%|          | 6/1000 [00:00<00:18, 53.17it/s]"
     ]
    },
    {
     "name": "stdout",
     "output_type": "stream",
     "text": [
      "downsampled to (200, 3)\n",
      "0308.obj\n"
     ]
    },
    {
     "name": "stderr",
     "output_type": "stream",
     "text": [
      "Finding Edges...: 100%|██████████| 1000/1000 [00:18<00:00, 55.04it/s]\n",
      "Calculating Features...: 100%|██████████| 3000/3000 [00:00<00:00, 4523.44it/s]\n",
      "Finding Edges...:   0%|          | 5/1000 [00:00<00:20, 48.71it/s]"
     ]
    },
    {
     "name": "stdout",
     "output_type": "stream",
     "text": [
      "downsampled to (200, 3)\n",
      "0265.obj\n"
     ]
    },
    {
     "name": "stderr",
     "output_type": "stream",
     "text": [
      "Finding Edges...: 100%|██████████| 1000/1000 [00:18<00:00, 53.92it/s]\n",
      "Calculating Features...: 100%|██████████| 3000/3000 [00:00<00:00, 4566.92it/s]\n",
      "Finding Edges...:   1%|          | 6/1000 [00:00<00:19, 49.88it/s]"
     ]
    },
    {
     "name": "stdout",
     "output_type": "stream",
     "text": [
      "downsampled to (200, 3)\n",
      "0191.obj\n"
     ]
    },
    {
     "name": "stderr",
     "output_type": "stream",
     "text": [
      "Finding Edges...: 100%|██████████| 1000/1000 [00:18<00:00, 54.56it/s]\n",
      "Calculating Features...: 100%|██████████| 3000/3000 [00:00<00:00, 4495.50it/s]\n",
      "Finding Edges...:   1%|          | 6/1000 [00:00<00:18, 54.58it/s]"
     ]
    },
    {
     "name": "stdout",
     "output_type": "stream",
     "text": [
      "downsampled to (200, 3)\n",
      "0243.obj\n"
     ]
    },
    {
     "name": "stderr",
     "output_type": "stream",
     "text": [
      "Finding Edges...: 100%|██████████| 1000/1000 [00:18<00:00, 54.96it/s]\n",
      "Calculating Features...: 100%|██████████| 3000/3000 [00:00<00:00, 4401.94it/s]\n",
      "Finding Edges...:   1%|          | 6/1000 [00:00<00:18, 53.65it/s]"
     ]
    },
    {
     "name": "stdout",
     "output_type": "stream",
     "text": [
      "downsampled to (200, 3)\n",
      "0295.obj\n"
     ]
    },
    {
     "name": "stderr",
     "output_type": "stream",
     "text": [
      "Finding Edges...: 100%|██████████| 1000/1000 [00:18<00:00, 55.29it/s]\n",
      "Calculating Features...: 100%|██████████| 3000/3000 [00:00<00:00, 4397.06it/s]\n",
      "Finding Edges...:   1%|          | 6/1000 [00:00<00:18, 54.81it/s]"
     ]
    },
    {
     "name": "stdout",
     "output_type": "stream",
     "text": [
      "downsampled to (200, 3)\n",
      "0055.obj\n"
     ]
    },
    {
     "name": "stderr",
     "output_type": "stream",
     "text": [
      "Finding Edges...: 100%|██████████| 1000/1000 [00:18<00:00, 55.03it/s]\n",
      "Calculating Features...: 100%|██████████| 3000/3000 [00:00<00:00, 4253.71it/s]\n",
      "Finding Edges...:   1%|          | 6/1000 [00:00<00:17, 56.25it/s]"
     ]
    },
    {
     "name": "stdout",
     "output_type": "stream",
     "text": [
      "downsampled to (200, 3)\n",
      "0398.obj\n"
     ]
    },
    {
     "name": "stderr",
     "output_type": "stream",
     "text": [
      "Finding Edges...: 100%|██████████| 1000/1000 [00:18<00:00, 54.44it/s]\n",
      "Calculating Features...: 100%|██████████| 3000/3000 [00:00<00:00, 4564.40it/s]\n",
      "Finding Edges...:   0%|          | 5/1000 [00:00<00:20, 48.30it/s]"
     ]
    },
    {
     "name": "stdout",
     "output_type": "stream",
     "text": [
      "downsampled to (200, 3)\n",
      "0216.obj\n"
     ]
    },
    {
     "name": "stderr",
     "output_type": "stream",
     "text": [
      "Finding Edges...: 100%|██████████| 1000/1000 [00:18<00:00, 54.69it/s]\n",
      "Calculating Features...: 100%|██████████| 3000/3000 [00:00<00:00, 4220.16it/s]\n",
      "Finding Edges...:   0%|          | 5/1000 [00:00<00:20, 48.09it/s]"
     ]
    },
    {
     "name": "stdout",
     "output_type": "stream",
     "text": [
      "downsampled to (200, 3)\n",
      "0153.obj\n"
     ]
    },
    {
     "name": "stderr",
     "output_type": "stream",
     "text": [
      "Finding Edges...: 100%|██████████| 1000/1000 [00:18<00:00, 53.18it/s]\n",
      "Calculating Features...: 100%|██████████| 3000/3000 [00:00<00:00, 4358.00it/s]\n",
      "Finding Edges...:   0%|          | 5/1000 [00:00<00:19, 49.98it/s]"
     ]
    },
    {
     "name": "stdout",
     "output_type": "stream",
     "text": [
      "downsampled to (200, 3)\n",
      "0162.obj\n"
     ]
    },
    {
     "name": "stderr",
     "output_type": "stream",
     "text": [
      "Finding Edges...: 100%|██████████| 1000/1000 [00:18<00:00, 53.95it/s]\n",
      "Calculating Features...: 100%|██████████| 3000/3000 [00:00<00:00, 4414.99it/s]\n",
      "Finding Edges...:   1%|          | 6/1000 [00:00<00:18, 54.77it/s]"
     ]
    },
    {
     "name": "stdout",
     "output_type": "stream",
     "text": [
      "downsampled to (200, 3)\n",
      "0384.obj\n"
     ]
    },
    {
     "name": "stderr",
     "output_type": "stream",
     "text": [
      "Finding Edges...: 100%|██████████| 1000/1000 [00:18<00:00, 53.82it/s]\n",
      "Calculating Features...: 100%|██████████| 3000/3000 [00:00<00:00, 4563.88it/s]\n",
      "Finding Edges...:   1%|          | 6/1000 [00:00<00:17, 56.89it/s]"
     ]
    },
    {
     "name": "stdout",
     "output_type": "stream",
     "text": [
      "downsampled to (200, 3)\n",
      "0315.obj\n"
     ]
    },
    {
     "name": "stderr",
     "output_type": "stream",
     "text": [
      "Finding Edges...: 100%|██████████| 1000/1000 [00:18<00:00, 54.41it/s]\n",
      "Calculating Features...: 100%|██████████| 3000/3000 [00:00<00:00, 4185.29it/s]\n",
      "Finding Edges...:   1%|          | 6/1000 [00:00<00:18, 53.44it/s]"
     ]
    },
    {
     "name": "stdout",
     "output_type": "stream",
     "text": [
      "downsampled to (200, 3)\n",
      "0136.obj\n"
     ]
    },
    {
     "name": "stderr",
     "output_type": "stream",
     "text": [
      "Finding Edges...: 100%|██████████| 1000/1000 [00:18<00:00, 53.85it/s]\n",
      "Calculating Features...: 100%|██████████| 3000/3000 [00:00<00:00, 4382.89it/s]\n",
      "Finding Edges...:   0%|          | 5/1000 [00:00<00:21, 47.03it/s]"
     ]
    },
    {
     "name": "stdout",
     "output_type": "stream",
     "text": [
      "downsampled to (200, 3)\n",
      "0101.obj\n"
     ]
    },
    {
     "name": "stderr",
     "output_type": "stream",
     "text": [
      "Finding Edges...: 100%|██████████| 1000/1000 [00:18<00:00, 54.13it/s]\n",
      "Calculating Features...: 100%|██████████| 3000/3000 [00:00<00:00, 4353.61it/s]\n",
      "Finding Edges...:   1%|          | 6/1000 [00:00<00:19, 52.27it/s]"
     ]
    },
    {
     "name": "stdout",
     "output_type": "stream",
     "text": [
      "downsampled to (200, 3)\n",
      "0345.obj\n"
     ]
    },
    {
     "name": "stderr",
     "output_type": "stream",
     "text": [
      "Finding Edges...: 100%|██████████| 1000/1000 [00:18<00:00, 54.75it/s]\n",
      "Calculating Features...: 100%|██████████| 3000/3000 [00:00<00:00, 4383.28it/s]\n",
      "Finding Edges...:   1%|          | 6/1000 [00:00<00:18, 53.33it/s]"
     ]
    },
    {
     "name": "stdout",
     "output_type": "stream",
     "text": [
      "downsampled to (200, 3)\n",
      "0104.obj\n"
     ]
    },
    {
     "name": "stderr",
     "output_type": "stream",
     "text": [
      "Finding Edges...: 100%|██████████| 1000/1000 [00:18<00:00, 54.39it/s]\n",
      "Calculating Features...: 100%|██████████| 3000/3000 [00:00<00:00, 4379.51it/s]\n",
      "Finding Edges...:   1%|          | 6/1000 [00:00<00:18, 52.80it/s]"
     ]
    },
    {
     "name": "stdout",
     "output_type": "stream",
     "text": [
      "downsampled to (200, 3)\n",
      "0394.obj\n"
     ]
    },
    {
     "name": "stderr",
     "output_type": "stream",
     "text": [
      "Finding Edges...: 100%|██████████| 1000/1000 [00:18<00:00, 53.96it/s]\n",
      "Calculating Features...: 100%|██████████| 3000/3000 [00:00<00:00, 4602.51it/s]\n",
      "Finding Edges...:   1%|          | 6/1000 [00:00<00:19, 52.27it/s]"
     ]
    },
    {
     "name": "stdout",
     "output_type": "stream",
     "text": [
      "downsampled to (200, 3)\n",
      "0132.obj\n"
     ]
    },
    {
     "name": "stderr",
     "output_type": "stream",
     "text": [
      "Finding Edges...: 100%|██████████| 1000/1000 [00:18<00:00, 53.88it/s]\n",
      "Calculating Features...: 100%|██████████| 3000/3000 [00:00<00:00, 4465.71it/s]\n",
      "Finding Edges...:   1%|          | 5/999 [00:00<00:20, 47.63it/s]"
     ]
    },
    {
     "name": "stdout",
     "output_type": "stream",
     "text": [
      "downsampled to (200, 3)\n",
      "0171.obj\n"
     ]
    },
    {
     "name": "stderr",
     "output_type": "stream",
     "text": [
      "Finding Edges...: 100%|██████████| 999/999 [00:18<00:00, 54.03it/s]\n",
      "Calculating Features...: 100%|██████████| 2994/2994 [00:00<00:00, 4496.84it/s]\n",
      "Finding Edges...:   1%|          | 6/1000 [00:00<00:18, 53.16it/s]"
     ]
    },
    {
     "name": "stdout",
     "output_type": "stream",
     "text": [
      "downsampled to (200, 3)\n",
      "0108.obj\n"
     ]
    },
    {
     "name": "stderr",
     "output_type": "stream",
     "text": [
      "Finding Edges...: 100%|██████████| 1000/1000 [00:18<00:00, 54.18it/s]\n",
      "Calculating Features...: 100%|██████████| 3000/3000 [00:00<00:00, 4343.52it/s]\n",
      "Finding Edges...:   1%|          | 6/1000 [00:00<00:18, 54.99it/s]"
     ]
    },
    {
     "name": "stdout",
     "output_type": "stream",
     "text": [
      "downsampled to (200, 3)\n",
      "0168.obj\n"
     ]
    },
    {
     "name": "stderr",
     "output_type": "stream",
     "text": [
      "Finding Edges...: 100%|██████████| 1000/1000 [00:18<00:00, 53.66it/s]\n",
      "Calculating Features...: 100%|██████████| 3000/3000 [00:00<00:00, 4357.69it/s]\n",
      "Finding Edges...:   1%|          | 6/1000 [00:00<00:18, 53.68it/s]"
     ]
    },
    {
     "name": "stdout",
     "output_type": "stream",
     "text": [
      "downsampled to (200, 3)\n",
      "0123.obj\n"
     ]
    },
    {
     "name": "stderr",
     "output_type": "stream",
     "text": [
      "Finding Edges...: 100%|██████████| 1000/1000 [00:18<00:00, 54.86it/s]\n",
      "Calculating Features...: 100%|██████████| 3000/3000 [00:00<00:00, 4329.78it/s]\n",
      "Finding Edges...:   1%|          | 6/1000 [00:00<00:18, 54.81it/s]"
     ]
    },
    {
     "name": "stdout",
     "output_type": "stream",
     "text": [
      "downsampled to (200, 3)\n",
      "0151.obj\n"
     ]
    },
    {
     "name": "stderr",
     "output_type": "stream",
     "text": [
      "Finding Edges...: 100%|██████████| 1000/1000 [00:18<00:00, 54.68it/s]\n",
      "Calculating Features...: 100%|██████████| 3000/3000 [00:00<00:00, 4388.23it/s]\n",
      "Finding Edges...:   1%|          | 6/1000 [00:00<00:19, 51.80it/s]"
     ]
    },
    {
     "name": "stdout",
     "output_type": "stream",
     "text": [
      "downsampled to (200, 3)\n",
      "0035.obj\n"
     ]
    },
    {
     "name": "stderr",
     "output_type": "stream",
     "text": [
      "Finding Edges...: 100%|██████████| 1000/1000 [00:18<00:00, 53.77it/s]\n",
      "Calculating Features...: 100%|██████████| 3000/3000 [00:00<00:00, 4479.39it/s]\n",
      "Finding Edges...:   1%|          | 6/1000 [00:00<00:18, 54.07it/s]"
     ]
    },
    {
     "name": "stdout",
     "output_type": "stream",
     "text": [
      "downsampled to (200, 3)\n",
      "0330.obj\n"
     ]
    },
    {
     "name": "stderr",
     "output_type": "stream",
     "text": [
      "Finding Edges...: 100%|██████████| 1000/1000 [00:18<00:00, 54.08it/s]\n",
      "Calculating Features...: 100%|██████████| 3000/3000 [00:00<00:00, 4667.60it/s]\n",
      "Finding Edges...:   1%|          | 6/1000 [00:00<00:17, 56.56it/s]"
     ]
    },
    {
     "name": "stdout",
     "output_type": "stream",
     "text": [
      "downsampled to (200, 3)\n",
      "0245.obj\n"
     ]
    },
    {
     "name": "stderr",
     "output_type": "stream",
     "text": [
      "Finding Edges...: 100%|██████████| 1000/1000 [00:18<00:00, 55.08it/s]\n",
      "Calculating Features...: 100%|██████████| 3000/3000 [00:00<00:00, 4508.96it/s]\n",
      "Finding Edges...:   0%|          | 5/1000 [00:00<00:20, 47.87it/s]"
     ]
    },
    {
     "name": "stdout",
     "output_type": "stream",
     "text": [
      "downsampled to (200, 3)\n",
      "0190.obj\n"
     ]
    },
    {
     "name": "stderr",
     "output_type": "stream",
     "text": [
      "Finding Edges...: 100%|██████████| 1000/1000 [00:18<00:00, 55.01it/s]\n",
      "Calculating Features...: 100%|██████████| 3000/3000 [00:00<00:00, 4521.84it/s]\n",
      "Finding Edges...:   1%|          | 6/1000 [00:00<00:18, 53.95it/s]"
     ]
    },
    {
     "name": "stdout",
     "output_type": "stream",
     "text": [
      "downsampled to (200, 3)\n",
      "0321.obj\n"
     ]
    },
    {
     "name": "stderr",
     "output_type": "stream",
     "text": [
      "Finding Edges...: 100%|██████████| 1000/1000 [00:18<00:00, 54.52it/s]\n",
      "Calculating Features...: 100%|██████████| 3000/3000 [00:00<00:00, 4344.57it/s]\n",
      "Finding Edges...:   1%|          | 6/1000 [00:00<00:19, 51.11it/s]"
     ]
    },
    {
     "name": "stdout",
     "output_type": "stream",
     "text": [
      "downsampled to (200, 3)\n",
      "0272.obj\n"
     ]
    },
    {
     "name": "stderr",
     "output_type": "stream",
     "text": [
      "Finding Edges...: 100%|██████████| 1000/1000 [00:18<00:00, 54.88it/s]\n",
      "Calculating Features...: 100%|██████████| 3000/3000 [00:00<00:00, 4562.43it/s]\n",
      "Finding Edges...:   1%|          | 6/1000 [00:00<00:17, 56.07it/s]"
     ]
    },
    {
     "name": "stdout",
     "output_type": "stream",
     "text": [
      "downsampled to (200, 3)\n",
      "0346.obj\n"
     ]
    },
    {
     "name": "stderr",
     "output_type": "stream",
     "text": [
      "Finding Edges...: 100%|██████████| 1000/1000 [00:18<00:00, 54.22it/s]\n",
      "Calculating Features...: 100%|██████████| 3000/3000 [00:00<00:00, 4553.68it/s]\n",
      "Finding Edges...:   1%|          | 6/996 [00:00<00:17, 56.51it/s]"
     ]
    },
    {
     "name": "stdout",
     "output_type": "stream",
     "text": [
      "downsampled to (200, 3)\n",
      "0093.obj\n"
     ]
    },
    {
     "name": "stderr",
     "output_type": "stream",
     "text": [
      "Finding Edges...: 100%|██████████| 996/996 [00:18<00:00, 55.07it/s]\n",
      "Calculating Features...: 100%|██████████| 2988/2988 [00:00<00:00, 4497.16it/s]\n",
      "Finding Edges...:   1%|          | 6/1000 [00:00<00:18, 53.88it/s]"
     ]
    },
    {
     "name": "stdout",
     "output_type": "stream",
     "text": [
      "downsampled to (200, 3)\n",
      "--------------------------------------------\n",
      "coseg_vases\n",
      "--------------------------------------------\n",
      "0300.obj\n"
     ]
    },
    {
     "name": "stderr",
     "output_type": "stream",
     "text": [
      "Finding Edges...: 100%|██████████| 1000/1000 [00:18<00:00, 54.62it/s]\n",
      "Calculating Features...: 100%|██████████| 3000/3000 [00:00<00:00, 4237.21it/s]\n",
      "Finding Edges...:   0%|          | 5/1000 [00:00<00:20, 49.42it/s]"
     ]
    },
    {
     "name": "stdout",
     "output_type": "stream",
     "text": [
      "downsampled to (200, 3)\n",
      "0081.obj\n"
     ]
    },
    {
     "name": "stderr",
     "output_type": "stream",
     "text": [
      "Finding Edges...: 100%|██████████| 1000/1000 [00:18<00:00, 54.69it/s]\n",
      "Calculating Features...: 100%|██████████| 3000/3000 [00:00<00:00, 4426.21it/s]\n",
      "Finding Edges...:   1%|          | 6/1000 [00:00<00:18, 52.90it/s]"
     ]
    },
    {
     "name": "stdout",
     "output_type": "stream",
     "text": [
      "downsampled to (200, 3)\n",
      "0175.obj\n"
     ]
    },
    {
     "name": "stderr",
     "output_type": "stream",
     "text": [
      "Finding Edges...: 100%|██████████| 1000/1000 [00:18<00:00, 54.41it/s]\n",
      "Calculating Features...: 100%|██████████| 3000/3000 [00:00<00:00, 4611.79it/s]\n",
      "Finding Edges...:   0%|          | 5/1000 [00:00<00:20, 49.51it/s]"
     ]
    },
    {
     "name": "stdout",
     "output_type": "stream",
     "text": [
      "downsampled to (200, 3)\n",
      "0206.obj\n"
     ]
    },
    {
     "name": "stderr",
     "output_type": "stream",
     "text": [
      "Finding Edges...: 100%|██████████| 1000/1000 [00:18<00:00, 55.21it/s]\n",
      "Calculating Features...: 100%|██████████| 3000/3000 [00:00<00:00, 4462.28it/s]\n",
      "Finding Edges...:   1%|          | 6/1000 [00:00<00:19, 51.68it/s]"
     ]
    },
    {
     "name": "stdout",
     "output_type": "stream",
     "text": [
      "downsampled to (200, 3)\n",
      "0059.obj\n"
     ]
    },
    {
     "name": "stderr",
     "output_type": "stream",
     "text": [
      "Finding Edges...: 100%|██████████| 1000/1000 [00:18<00:00, 54.07it/s]\n",
      "Calculating Features...: 100%|██████████| 3000/3000 [00:00<00:00, 4431.52it/s]\n",
      "Finding Edges...:   1%|          | 6/1000 [00:00<00:18, 54.69it/s]"
     ]
    },
    {
     "name": "stdout",
     "output_type": "stream",
     "text": [
      "downsampled to (200, 3)\n",
      "0299.obj\n"
     ]
    },
    {
     "name": "stderr",
     "output_type": "stream",
     "text": [
      "Finding Edges...: 100%|██████████| 1000/1000 [00:18<00:00, 54.32it/s]\n",
      "Calculating Features...: 100%|██████████| 3000/3000 [00:00<00:00, 4436.54it/s]\n",
      "Finding Edges...:   0%|          | 5/1000 [00:00<00:20, 48.64it/s]"
     ]
    },
    {
     "name": "stdout",
     "output_type": "stream",
     "text": [
      "downsampled to (200, 3)\n",
      "0107.obj\n"
     ]
    },
    {
     "name": "stderr",
     "output_type": "stream",
     "text": [
      "Finding Edges...: 100%|██████████| 1000/1000 [00:18<00:00, 54.51it/s]\n",
      "Calculating Features...: 100%|██████████| 3000/3000 [00:00<00:00, 4233.83it/s]\n",
      "Finding Edges...:   0%|          | 5/1000 [00:00<00:21, 46.26it/s]"
     ]
    },
    {
     "name": "stdout",
     "output_type": "stream",
     "text": [
      "downsampled to (200, 3)\n",
      "0192.obj\n"
     ]
    },
    {
     "name": "stderr",
     "output_type": "stream",
     "text": [
      "Finding Edges...: 100%|██████████| 1000/1000 [00:18<00:00, 54.89it/s]\n",
      "Calculating Features...: 100%|██████████| 3000/3000 [00:00<00:00, 4439.48it/s]\n",
      "Finding Edges...:   1%|          | 6/1000 [00:00<00:19, 51.95it/s]"
     ]
    },
    {
     "name": "stdout",
     "output_type": "stream",
     "text": [
      "downsampled to (200, 3)\n",
      "0242.obj\n"
     ]
    },
    {
     "name": "stderr",
     "output_type": "stream",
     "text": [
      "Finding Edges...: 100%|██████████| 1000/1000 [00:18<00:00, 54.66it/s]\n",
      "Calculating Features...: 100%|██████████| 3000/3000 [00:00<00:00, 4694.49it/s]\n",
      "Finding Edges...:   1%|          | 6/1000 [00:00<00:17, 55.58it/s]"
     ]
    },
    {
     "name": "stdout",
     "output_type": "stream",
     "text": [
      "downsampled to (200, 3)\n",
      "0089.obj\n"
     ]
    },
    {
     "name": "stderr",
     "output_type": "stream",
     "text": [
      "Finding Edges...: 100%|██████████| 1000/1000 [00:18<00:00, 53.73it/s]\n",
      "Calculating Features...: 100%|██████████| 3000/3000 [00:00<00:00, 4611.61it/s]\n",
      "Finding Edges...:   1%|          | 6/1000 [00:00<00:18, 55.18it/s]"
     ]
    },
    {
     "name": "stdout",
     "output_type": "stream",
     "text": [
      "downsampled to (200, 3)\n",
      "0188.obj\n"
     ]
    },
    {
     "name": "stderr",
     "output_type": "stream",
     "text": [
      "Finding Edges...: 100%|██████████| 1000/1000 [00:18<00:00, 54.35it/s]\n",
      "Calculating Features...: 100%|██████████| 3000/3000 [00:00<00:00, 4525.52it/s]\n",
      "Finding Edges...:   1%|          | 6/1000 [00:00<00:18, 53.67it/s]"
     ]
    },
    {
     "name": "stdout",
     "output_type": "stream",
     "text": [
      "downsampled to (200, 3)\n",
      "0122.obj\n"
     ]
    },
    {
     "name": "stderr",
     "output_type": "stream",
     "text": [
      "Finding Edges...: 100%|██████████| 1000/1000 [00:18<00:00, 54.59it/s]\n",
      "Calculating Features...: 100%|██████████| 3000/3000 [00:00<00:00, 4402.12it/s]\n",
      "Finding Edges...:   1%|          | 6/1000 [00:00<00:17, 56.01it/s]"
     ]
    },
    {
     "name": "stdout",
     "output_type": "stream",
     "text": [
      "downsampled to (200, 3)\n",
      "0021.obj\n"
     ]
    },
    {
     "name": "stderr",
     "output_type": "stream",
     "text": [
      "Finding Edges...: 100%|██████████| 1000/1000 [00:18<00:00, 54.85it/s]\n",
      "Calculating Features...: 100%|██████████| 3000/3000 [00:00<00:00, 4512.07it/s]\n",
      "Finding Edges...:   1%|          | 6/1000 [00:00<00:18, 54.06it/s]"
     ]
    },
    {
     "name": "stdout",
     "output_type": "stream",
     "text": [
      "downsampled to (200, 3)\n",
      "0215.obj\n"
     ]
    },
    {
     "name": "stderr",
     "output_type": "stream",
     "text": [
      "Finding Edges...: 100%|██████████| 1000/1000 [00:18<00:00, 54.88it/s]\n",
      "Calculating Features...: 100%|██████████| 3000/3000 [00:00<00:00, 4420.67it/s]\n",
      "Finding Edges...:   1%|          | 6/1000 [00:00<00:18, 53.89it/s]"
     ]
    },
    {
     "name": "stdout",
     "output_type": "stream",
     "text": [
      "downsampled to (200, 3)\n",
      "0288.obj\n"
     ]
    },
    {
     "name": "stderr",
     "output_type": "stream",
     "text": [
      "Finding Edges...: 100%|██████████| 1000/1000 [00:18<00:00, 54.47it/s]\n",
      "Calculating Features...: 100%|██████████| 3000/3000 [00:00<00:00, 4480.20it/s]\n",
      "Finding Edges...:   1%|          | 6/1000 [00:00<00:18, 53.92it/s]"
     ]
    },
    {
     "name": "stdout",
     "output_type": "stream",
     "text": [
      "downsampled to (200, 3)\n",
      "0051.obj\n"
     ]
    },
    {
     "name": "stderr",
     "output_type": "stream",
     "text": [
      "Finding Edges...: 100%|██████████| 1000/1000 [00:18<00:00, 53.79it/s]\n",
      "Calculating Features...: 100%|██████████| 3000/3000 [00:00<00:00, 4436.18it/s]\n",
      "Finding Edges...:   1%|          | 6/1000 [00:00<00:19, 51.45it/s]"
     ]
    },
    {
     "name": "stdout",
     "output_type": "stream",
     "text": [
      "downsampled to (200, 3)\n",
      "0072.obj\n"
     ]
    },
    {
     "name": "stderr",
     "output_type": "stream",
     "text": [
      "Finding Edges...: 100%|██████████| 1000/1000 [00:18<00:00, 54.54it/s]\n",
      "Calculating Features...: 100%|██████████| 3000/3000 [00:00<00:00, 4504.81it/s]\n",
      "Finding Edges...:   1%|          | 6/1000 [00:00<00:18, 52.40it/s]"
     ]
    },
    {
     "name": "stdout",
     "output_type": "stream",
     "text": [
      "downsampled to (200, 3)\n",
      "0092.obj\n"
     ]
    },
    {
     "name": "stderr",
     "output_type": "stream",
     "text": [
      "Finding Edges...: 100%|██████████| 1000/1000 [00:18<00:00, 54.58it/s]\n",
      "Calculating Features...: 100%|██████████| 3000/3000 [00:00<00:00, 4204.90it/s]\n",
      "Finding Edges...:   1%|          | 6/1000 [00:00<00:19, 51.80it/s]"
     ]
    },
    {
     "name": "stdout",
     "output_type": "stream",
     "text": [
      "downsampled to (200, 3)\n",
      "0170.obj\n"
     ]
    },
    {
     "name": "stderr",
     "output_type": "stream",
     "text": [
      "Finding Edges...: 100%|██████████| 1000/1000 [00:18<00:00, 53.53it/s]\n",
      "Calculating Features...: 100%|██████████| 3000/3000 [00:00<00:00, 4591.36it/s]\n",
      "Finding Edges...:   1%|          | 6/1000 [00:00<00:18, 53.08it/s]"
     ]
    },
    {
     "name": "stdout",
     "output_type": "stream",
     "text": [
      "downsampled to (200, 3)\n",
      "0103.obj\n"
     ]
    },
    {
     "name": "stderr",
     "output_type": "stream",
     "text": [
      "Finding Edges...: 100%|██████████| 1000/1000 [00:18<00:00, 54.10it/s]\n",
      "Calculating Features...: 100%|██████████| 3000/3000 [00:00<00:00, 4644.96it/s]\n",
      "Finding Edges...:   1%|          | 6/1000 [00:00<00:17, 55.64it/s]"
     ]
    },
    {
     "name": "stdout",
     "output_type": "stream",
     "text": [
      "downsampled to (200, 3)\n",
      "0049.obj\n"
     ]
    },
    {
     "name": "stderr",
     "output_type": "stream",
     "text": [
      "Finding Edges...: 100%|██████████| 1000/1000 [00:18<00:00, 54.25it/s]\n",
      "Calculating Features...: 100%|██████████| 3000/3000 [00:00<00:00, 4477.52it/s]\n",
      "Finding Edges...:   1%|          | 6/1000 [00:00<00:18, 52.99it/s]"
     ]
    },
    {
     "name": "stdout",
     "output_type": "stream",
     "text": [
      "downsampled to (200, 3)\n",
      "0053.obj\n"
     ]
    },
    {
     "name": "stderr",
     "output_type": "stream",
     "text": [
      "Finding Edges...: 100%|██████████| 1000/1000 [00:18<00:00, 54.03it/s]\n",
      "Calculating Features...: 100%|██████████| 3000/3000 [00:00<00:00, 4406.32it/s]\n",
      "Finding Edges...:   1%|          | 6/1000 [00:00<00:18, 54.56it/s]"
     ]
    },
    {
     "name": "stdout",
     "output_type": "stream",
     "text": [
      "downsampled to (200, 3)\n",
      "0150.obj\n"
     ]
    },
    {
     "name": "stderr",
     "output_type": "stream",
     "text": [
      "Finding Edges...: 100%|██████████| 1000/1000 [00:18<00:00, 55.54it/s]\n",
      "Calculating Features...: 100%|██████████| 3000/3000 [00:00<00:00, 4499.18it/s]\n",
      "Finding Edges...:   0%|          | 5/1000 [00:00<00:20, 49.51it/s]"
     ]
    },
    {
     "name": "stdout",
     "output_type": "stream",
     "text": [
      "downsampled to (200, 3)\n",
      "0189.obj\n"
     ]
    },
    {
     "name": "stderr",
     "output_type": "stream",
     "text": [
      "Finding Edges...: 100%|██████████| 1000/1000 [00:18<00:00, 54.15it/s]\n",
      "Calculating Features...: 100%|██████████| 3000/3000 [00:00<00:00, 3664.28it/s]\n",
      "Finding Edges...:   0%|          | 5/1000 [00:00<00:20, 48.33it/s]"
     ]
    },
    {
     "name": "stdout",
     "output_type": "stream",
     "text": [
      "downsampled to (200, 3)\n",
      "0022.obj\n"
     ]
    },
    {
     "name": "stderr",
     "output_type": "stream",
     "text": [
      "Finding Edges...: 100%|██████████| 1000/1000 [00:18<00:00, 54.03it/s]\n",
      "Calculating Features...: 100%|██████████| 3000/3000 [00:00<00:00, 4417.74it/s]\n",
      "Finding Edges...:   1%|          | 6/1000 [00:00<00:18, 52.77it/s]"
     ]
    },
    {
     "name": "stdout",
     "output_type": "stream",
     "text": [
      "downsampled to (200, 3)\n",
      "0161.obj\n"
     ]
    },
    {
     "name": "stderr",
     "output_type": "stream",
     "text": [
      "Finding Edges...: 100%|██████████| 1000/1000 [00:18<00:00, 54.22it/s]\n",
      "Calculating Features...: 100%|██████████| 3000/3000 [00:00<00:00, 4420.10it/s]\n",
      "Finding Edges...:   1%|          | 6/1000 [00:00<00:18, 52.90it/s]"
     ]
    },
    {
     "name": "stdout",
     "output_type": "stream",
     "text": [
      "downsampled to (200, 3)\n",
      "0014.obj\n"
     ]
    },
    {
     "name": "stderr",
     "output_type": "stream",
     "text": [
      "Finding Edges...: 100%|██████████| 1000/1000 [00:18<00:00, 54.07it/s]\n",
      "Calculating Features...: 100%|██████████| 3000/3000 [00:00<00:00, 4270.03it/s]\n",
      "Finding Edges...:   1%|          | 6/1000 [00:00<00:18, 52.38it/s]"
     ]
    },
    {
     "name": "stdout",
     "output_type": "stream",
     "text": [
      "downsampled to (200, 3)\n",
      "0295.obj\n"
     ]
    },
    {
     "name": "stderr",
     "output_type": "stream",
     "text": [
      "Finding Edges...: 100%|██████████| 1000/1000 [00:18<00:00, 54.88it/s]\n",
      "Calculating Features...: 100%|██████████| 3000/3000 [00:00<00:00, 4367.54it/s]\n",
      "Finding Edges...:   1%|          | 6/1000 [00:00<00:17, 55.26it/s]"
     ]
    },
    {
     "name": "stdout",
     "output_type": "stream",
     "text": [
      "downsampled to (200, 3)\n",
      "0055.obj\n"
     ]
    },
    {
     "name": "stderr",
     "output_type": "stream",
     "text": [
      "Finding Edges...: 100%|██████████| 1000/1000 [00:18<00:00, 54.75it/s]\n",
      "Calculating Features...: 100%|██████████| 3000/3000 [00:00<00:00, 4465.08it/s]\n",
      "Finding Edges...:   1%|          | 6/1000 [00:00<00:18, 54.15it/s]"
     ]
    },
    {
     "name": "stdout",
     "output_type": "stream",
     "text": [
      "downsampled to (200, 3)\n",
      "0135.obj\n"
     ]
    },
    {
     "name": "stderr",
     "output_type": "stream",
     "text": [
      "Finding Edges...: 100%|██████████| 1000/1000 [00:18<00:00, 54.83it/s]\n",
      "Calculating Features...: 100%|██████████| 3000/3000 [00:00<00:00, 4214.59it/s]\n",
      "Finding Edges...:   1%|          | 6/1000 [00:00<00:18, 53.66it/s]"
     ]
    },
    {
     "name": "stdout",
     "output_type": "stream",
     "text": [
      "downsampled to (200, 3)\n",
      "0253.obj\n"
     ]
    },
    {
     "name": "stderr",
     "output_type": "stream",
     "text": [
      "Finding Edges...: 100%|██████████| 1000/1000 [00:18<00:00, 54.57it/s]\n",
      "Calculating Features...: 100%|██████████| 3000/3000 [00:00<00:00, 4619.31it/s]\n",
      "Finding Edges...:   1%|          | 6/1000 [00:00<00:18, 54.19it/s]"
     ]
    },
    {
     "name": "stdout",
     "output_type": "stream",
     "text": [
      "downsampled to (200, 3)\n",
      "0131.obj\n"
     ]
    },
    {
     "name": "stderr",
     "output_type": "stream",
     "text": [
      "Finding Edges...: 100%|██████████| 1000/1000 [00:18<00:00, 53.67it/s]\n",
      "Calculating Features...: 100%|██████████| 3000/3000 [00:00<00:00, 4386.36it/s]\n",
      "Finding Edges...:   0%|          | 5/1000 [00:00<00:22, 45.16it/s]"
     ]
    },
    {
     "name": "stdout",
     "output_type": "stream",
     "text": [
      "downsampled to (200, 3)\n",
      "0271.obj\n"
     ]
    },
    {
     "name": "stderr",
     "output_type": "stream",
     "text": [
      "Finding Edges...: 100%|██████████| 1000/1000 [00:18<00:00, 54.61it/s]\n",
      "Calculating Features...: 100%|██████████| 3000/3000 [00:00<00:00, 4527.87it/s]\n",
      "Finding Edges...:   0%|          | 5/1000 [00:00<00:19, 49.98it/s]"
     ]
    },
    {
     "name": "stdout",
     "output_type": "stream",
     "text": [
      "downsampled to (200, 3)\n",
      "0104.obj\n"
     ]
    },
    {
     "name": "stderr",
     "output_type": "stream",
     "text": [
      "Finding Edges...: 100%|██████████| 1000/1000 [00:18<00:00, 54.08it/s]\n",
      "Calculating Features...: 100%|██████████| 3000/3000 [00:00<00:00, 4604.03it/s]\n",
      "Finding Edges...:   1%|          | 6/1000 [00:00<00:18, 53.04it/s]"
     ]
    },
    {
     "name": "stdout",
     "output_type": "stream",
     "text": [
      "downsampled to (200, 3)\n",
      "0100.obj\n"
     ]
    },
    {
     "name": "stderr",
     "output_type": "stream",
     "text": [
      "Finding Edges...: 100%|██████████| 1000/1000 [00:18<00:00, 53.97it/s]\n",
      "Calculating Features...: 100%|██████████| 3000/3000 [00:00<00:00, 4424.46it/s]\n",
      "Finding Edges...:   1%|          | 6/1000 [00:00<00:18, 53.62it/s]"
     ]
    },
    {
     "name": "stdout",
     "output_type": "stream",
     "text": [
      "downsampled to (200, 3)\n",
      "0152.obj\n"
     ]
    },
    {
     "name": "stderr",
     "output_type": "stream",
     "text": [
      "Finding Edges...: 100%|██████████| 1000/1000 [00:18<00:00, 55.09it/s]\n",
      "Calculating Features...: 100%|██████████| 3000/3000 [00:00<00:00, 4546.54it/s]\n",
      "Finding Edges...:   1%|          | 6/1000 [00:00<00:18, 54.78it/s]"
     ]
    },
    {
     "name": "stdout",
     "output_type": "stream",
     "text": [
      "downsampled to (200, 3)\n",
      "0244.obj\n"
     ]
    },
    {
     "name": "stderr",
     "output_type": "stream",
     "text": [
      "Finding Edges...: 100%|██████████| 1000/1000 [00:18<00:00, 53.56it/s]\n",
      "Calculating Features...: 100%|██████████| 3000/3000 [00:00<00:00, 4440.22it/s]\n",
      "Finding Edges...:   1%|          | 6/1000 [00:00<00:18, 55.05it/s]"
     ]
    },
    {
     "name": "stdout",
     "output_type": "stream",
     "text": [
      "downsampled to (200, 3)\n",
      "0035.obj\n"
     ]
    },
    {
     "name": "stderr",
     "output_type": "stream",
     "text": [
      "Finding Edges...: 100%|██████████| 1000/1000 [00:18<00:00, 54.26it/s]\n",
      "Calculating Features...: 100%|██████████| 3000/3000 [00:00<00:00, 4505.48it/s]\n",
      "Finding Edges...:   1%|          | 6/1000 [00:00<00:18, 53.87it/s]"
     ]
    },
    {
     "name": "stdout",
     "output_type": "stream",
     "text": [
      "downsampled to (200, 3)\n",
      "0277.obj\n"
     ]
    },
    {
     "name": "stderr",
     "output_type": "stream",
     "text": [
      "Finding Edges...: 100%|██████████| 1000/1000 [00:18<00:00, 54.70it/s]\n",
      "Calculating Features...: 100%|██████████| 3000/3000 [00:00<00:00, 4446.00it/s]\n",
      "Finding Edges...:   1%|          | 6/1000 [00:00<00:18, 53.04it/s]"
     ]
    },
    {
     "name": "stdout",
     "output_type": "stream",
     "text": [
      "downsampled to (200, 3)\n",
      "0190.obj\n"
     ]
    },
    {
     "name": "stderr",
     "output_type": "stream",
     "text": [
      "Finding Edges...: 100%|██████████| 1000/1000 [00:18<00:00, 54.49it/s]\n",
      "Calculating Features...: 100%|██████████| 3000/3000 [00:00<00:00, 4602.99it/s]\n",
      "Finding Edges...:   1%|          | 6/1000 [00:00<00:18, 54.07it/s]"
     ]
    },
    {
     "name": "stdout",
     "output_type": "stream",
     "text": [
      "downsampled to (200, 3)\n",
      "0050.obj\n"
     ]
    },
    {
     "name": "stderr",
     "output_type": "stream",
     "text": [
      "Finding Edges...: 100%|██████████| 1000/1000 [00:18<00:00, 53.84it/s]\n",
      "Calculating Features...: 100%|██████████| 3000/3000 [00:00<00:00, 4377.94it/s]\n",
      "Finding Edges...:   1%|          | 6/1000 [00:00<00:18, 54.08it/s]"
     ]
    },
    {
     "name": "stdout",
     "output_type": "stream",
     "text": [
      "downsampled to (200, 3)\n",
      "0088.obj\n"
     ]
    },
    {
     "name": "stderr",
     "output_type": "stream",
     "text": [
      "Finding Edges...: 100%|██████████| 1000/1000 [00:18<00:00, 54.03it/s]\n",
      "Calculating Features...: 100%|██████████| 3000/3000 [00:00<00:00, 4496.13it/s]\n",
      "Finding Edges...:   1%|          | 6/1000 [00:00<00:18, 52.76it/s]"
     ]
    },
    {
     "name": "stdout",
     "output_type": "stream",
     "text": [
      "downsampled to (200, 3)\n",
      "0258.obj\n"
     ]
    },
    {
     "name": "stderr",
     "output_type": "stream",
     "text": [
      "Finding Edges...: 100%|██████████| 1000/1000 [00:18<00:00, 54.07it/s]\n",
      "Calculating Features...: 100%|██████████| 3000/3000 [00:00<00:00, 4302.64it/s]\n",
      "Finding Edges...:   1%|          | 6/1000 [00:00<00:18, 53.23it/s]"
     ]
    },
    {
     "name": "stdout",
     "output_type": "stream",
     "text": [
      "downsampled to (200, 3)\n",
      "0167.obj\n"
     ]
    },
    {
     "name": "stderr",
     "output_type": "stream",
     "text": [
      "Finding Edges...: 100%|██████████| 1000/1000 [00:18<00:00, 54.82it/s]\n",
      "Calculating Features...: 100%|██████████| 3000/3000 [00:00<00:00, 4475.31it/s]\n",
      "Finding Edges...:   0%|          | 5/1000 [00:00<00:23, 41.92it/s]"
     ]
    },
    {
     "name": "stdout",
     "output_type": "stream",
     "text": [
      "downsampled to (200, 3)\n",
      "0236.obj\n"
     ]
    },
    {
     "name": "stderr",
     "output_type": "stream",
     "text": [
      "Finding Edges...: 100%|██████████| 1000/1000 [00:18<00:00, 54.77it/s]\n",
      "Calculating Features...: 100%|██████████| 3000/3000 [00:00<00:00, 4458.46it/s]\n"
     ]
    },
    {
     "name": "stdout",
     "output_type": "stream",
     "text": [
      "downsampled to (200, 3)\n"
     ]
    }
   ],
   "source": [
    "\n",
    "aliensTrainDir = os.path.join(os.getcwd(), 'data', 'coseg', 'coseg_aliens', 'train')\n",
    "chairsTrainDir = os.path.join(os.getcwd(), 'data', 'coseg', 'coseg_chairs', 'train')\n",
    "vasesTrainDir = os.path.join(os.getcwd(), 'data', 'coseg', 'coseg_vases', 'train')\n",
    "\n",
    "\n",
    "\n",
    "trainDir = os.path.join(os.getcwd(), 'data', 'train')\n",
    "\n",
    "\n",
    "# featuresDir = os.path.join(os.getcwd(), 'data', 'coseg', 'coseg_aliens', 'train', 'features')\n",
    "\n",
    "trainDirs = [chairsTrainDir, vasesTrainDir]\n",
    "print('--------------------------------------------')\n",
    "print('Generating Train Data')\n",
    "print('--------------------------------------------')\n",
    "# trainDirs[0].split('/')[6]\n",
    "# trainDirs\n",
    "for directory in trainDirs:\n",
    "    dataset = directory.split('/')[6]\n",
    "    print('--------------------------------------------')\n",
    "    print(dataset)\n",
    "    print('--------------------------------------------')\n",
    "    for filename in os.listdir(directory):\n",
    "        if isObj(filename):\n",
    "            print(filename)\n",
    "            fileId = filename.split('.')[0]\n",
    "            filePath = os.path.join(directory, filename)\n",
    "\n",
    "            #Caclucate features and save as input data\n",
    "            o2v = Obj2verts()\n",
    "            geometry = o2v.readFile(filePath)\n",
    "            features = geometry.calculateFeatures() #Calculate mesh features we want to learn on\n",
    "            trainFile = os.path.join(trainDir, 'data', fileId+'_'+dataset+'.npy')\n",
    "            np.save(trainFile, features)\n",
    "\n",
    "            #Slice mesh and save as label\n",
    "            cutting_plane_norm = (0, 0, 1)\n",
    "            P = osl.singleSlice(filePath, cutting_plane_norm)\n",
    "            if len(P) > 0:\n",
    "                p = P[0] #Only keep one out of several polylines\n",
    "                n = p.shape[0]\n",
    "                #Upsample\n",
    "                ps = cv2.resize(p, (3, 10000), interpolation=cv2.INTER_NEAREST)\n",
    "                n = ps.shape[0]\n",
    "                ps = ps[::int(n/200)]\n",
    "                print(f'downsampled to {ps.shape}')\n",
    "                labelFile = os.path.join(trainDir, 'labels', fileId+'_'+dataset+'.npy')\n",
    "                np.save(labelFile, ps)\n",
    "\n",
    "print('--------------------------------------------')\n",
    "print('Generating Test Data')\n",
    "print('--------------------------------------------')\n",
    "\n",
    "aliensTestDir = os.path.join(\n",
    "    os.getcwd(), 'data', 'coseg', 'coseg_aliens', 'test')\n",
    "chairsTestDir = os.path.join(\n",
    "    os.getcwd(), 'data', 'coseg', 'coseg_chairs', 'test')\n",
    "vasesTestDir = os.path.join(\n",
    "    os.getcwd(), 'data', 'coseg', 'coseg_vases', 'test')\n",
    "\n",
    "testDir = os.path.join(os.getcwd(), 'data', 'test')\n",
    "\n",
    "testDirs = [aliensTestDir, chairsTestDir, vasesTestDir]\n",
    "\n",
    "for directory in testDirs:\n",
    "    dataset = directory.split('/')[6]\n",
    "    print('--------------------------------------------')\n",
    "    print(dataset)\n",
    "    print('--------------------------------------------')\n",
    "    for filename in os.listdir(directory):\n",
    "        if isObj(filename):\n",
    "            print(filename)\n",
    "            fileId = filename.split('.')[0]\n",
    "            filePath = os.path.join(directory, filename)\n",
    "\n",
    "            #Caclucate features and save as input data\n",
    "            o2v = Obj2verts()\n",
    "            geometry = o2v.readFile(filePath)\n",
    "            # Calculate mesh features we want to learn on\n",
    "            features = geometry.calculateFeatures()\n",
    "            trainFile = os.path.join(\n",
    "                testDir, 'data', fileId+'_'+dataset+'.npy')\n",
    "            np.save(trainFile, features)\n",
    "\n",
    "            #Slice mesh and save as label\n",
    "            cutting_plane_norm = (0, 0, 1)\n",
    "            P = osl.singleSlice(filePath, cutting_plane_norm)\n",
    "\n",
    "            if len(P) > 0:\n",
    "                p = P[0]  # Only keep one out of several polylines\n",
    "                n = p.shape[0]\n",
    "                #Upsample\n",
    "                ps = cv2.resize(p, (3, 10000), interpolation=cv2.INTER_NEAREST)\n",
    "                n = ps.shape[0]\n",
    "                ps = ps[::int(n/200)]\n",
    "                print(f'downsampled to {ps.shape}')\n",
    "                labelFile = os.path.join(\n",
    "                    testDir, 'labels', fileId+'_'+dataset+'.npy')\n",
    "                np.save(labelFile, ps)\n"
   ]
  },
  {
   "cell_type": "code",
   "execution_count": 79,
   "metadata": {},
   "outputs": [
    {
     "data": {
      "text/plain": [
       "2"
      ]
     },
     "execution_count": 79,
     "metadata": {},
     "output_type": "execute_result"
    }
   ],
   "source": [
    "# np.load('/home/pascal/3D_slAIcer/data/coseg/coseg_aliens/train/features/1.npy')\n",
    "int(2.22)\n"
   ]
  }
 ],
 "metadata": {
  "interpreter": {
   "hash": "31f2aee4e71d21fbe5cf8b01ff0e069b9275f58929596ceb00d14d90e3e16cd6"
  },
  "kernelspec": {
   "display_name": "Python 3.8.10 64-bit",
   "name": "python3"
  },
  "language_info": {
   "codemirror_mode": {
    "name": "ipython",
    "version": 3
   },
   "file_extension": ".py",
   "mimetype": "text/x-python",
   "name": "python",
   "nbconvert_exporter": "python",
   "pygments_lexer": "ipython3",
   "version": "3.8.10"
  },
  "orig_nbformat": 4
 },
 "nbformat": 4,
 "nbformat_minor": 2
}
